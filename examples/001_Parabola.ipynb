{
 "cells": [
  {
   "cell_type": "code",
   "execution_count": 1,
   "id": "12715488",
   "metadata": {},
   "outputs": [],
   "source": [
    "import matplotlib.pyplot as plt\n",
    "import numpy as np"
   ]
  },
  {
   "cell_type": "code",
   "execution_count": 2,
   "id": "fb943db9",
   "metadata": {},
   "outputs": [],
   "source": [
    "from pypoptim.algorythm import Solution\n",
    "from pypoptim.algorythm.ga import GA"
   ]
  },
  {
   "cell_type": "markdown",
   "id": "1270b588",
   "metadata": {},
   "source": [
    "# Simple example"
   ]
  },
  {
   "cell_type": "code",
   "execution_count": 3,
   "id": "45488bf5",
   "metadata": {},
   "outputs": [],
   "source": [
    "def error(x):\n",
    "    return np.sum(x**2)\n",
    "\n",
    "class Sol(Solution):\n",
    "    \n",
    "    def update(self):\n",
    "        self._y = error(self.x)\n",
    "        \n",
    "    def is_valid(self):\n",
    "        return self.is_updated()"
   ]
  },
  {
   "cell_type": "code",
   "execution_count": 4,
   "id": "18c68d4c",
   "metadata": {},
   "outputs": [
    {
     "data": {
      "text/plain": [
       "Solution = {\n",
       "    x    = 2,\n",
       "    y    = 4,\n",
       "    data = {}\n",
       "}"
      ]
     },
     "execution_count": 4,
     "metadata": {},
     "output_type": "execute_result"
    }
   ],
   "source": [
    "sol = Sol(2)\n",
    "sol.update()\n",
    "sol"
   ]
  },
  {
   "cell_type": "code",
   "execution_count": 5,
   "id": "59d768f7",
   "metadata": {},
   "outputs": [
    {
     "data": {
      "text/plain": [
       "GA:\n",
       "    bounds = [[-4  2]\n",
       " [-1  5]]\n",
       "    gammas = [1 1]\n",
       "    mask_log10_scale = [False False]\n",
       "    mutation_rate   = 1.0\n",
       "    crossover_rate  = 1.0\n",
       "    selection_force = 2\n",
       "    keys_data_transmit = []"
      ]
     },
     "execution_count": 5,
     "metadata": {},
     "output_type": "execute_result"
    }
   ],
   "source": [
    "bounds = np.array([[-4, 2],\n",
    "                   [-1, 5]])\n",
    "\n",
    "ga_optim = GA(Sol, bounds)\n",
    "ga_optim"
   ]
  },
  {
   "cell_type": "code",
   "execution_count": 6,
   "id": "21d97393",
   "metadata": {},
   "outputs": [
    {
     "data": {
      "image/png": "[encoded data removed]",
      "text/plain": [
       "<Figure size 432x288 with 1 Axes>"
      ]
     },
     "metadata": {
      "needs_background": "light"
     },
     "output_type": "display_data"
    }
   ],
   "source": [
    "n_solutions = 25\n",
    "n_elites = 5\n",
    "n_epochs = 100\n",
    "\n",
    "for _ in range(10):\n",
    "    \n",
    "    population = ga_optim.generate_population(n_solutions)\n",
    "\n",
    "    loss = []\n",
    "\n",
    "    for i in range(n_epochs):\n",
    "        \n",
    "        ga_optim.update_population(population)\n",
    "            \n",
    "        loss.append(min(population).y)\n",
    "            \n",
    "        elites  = ga_optim.get_elites(population, n_elites)\n",
    "        mutants = ga_optim.get_mutants(population, n_solutions - n_elites)\n",
    "        \n",
    "        population = elites + mutants\n",
    "\n",
    "    plt.semilogy(loss)"
   ]
  },
  {
   "cell_type": "code",
   "execution_count": 7,
   "id": "bc994840",
   "metadata": {},
   "outputs": [],
   "source": [
    "ga_optim.update_population(population)\n",
    "x = np.array([sol.x for sol in sorted(population)])"
   ]
  },
  {
   "cell_type": "code",
   "execution_count": 8,
   "id": "a399878b",
   "metadata": {},
   "outputs": [
    {
     "data": {
      "text/plain": [
       "[<matplotlib.lines.Line2D at 0x7f2d0e686250>]"
      ]
     },
     "execution_count": 8,
     "metadata": {},
     "output_type": "execute_result"
    },
    {
     "data": {
      "image/png": "[encoded data removed]",
      "text/plain": [
       "<Figure size 432x288 with 1 Axes>"
      ]
     },
     "metadata": {
      "needs_background": "light"
     },
     "output_type": "display_data"
    }
   ],
   "source": [
    "plt.plot(x[:, 0], x[:, 1], '.')\n",
    "plt.plot(x[0, 0], x[0, 1], 'o')"
   ]
  },
  {
   "cell_type": "markdown",
   "id": "f87afbd3",
   "metadata": {},
   "source": [
    "# All at once"
   ]
  },
  {
   "cell_type": "code",
   "execution_count": 9,
   "id": "981d1abe",
   "metadata": {},
   "outputs": [
    {
     "data": {
      "text/plain": [
       "[Solution = {\n",
       "     x    = [0.0201816  0.01588679],\n",
       "     y    = 0.0006596873265606999,\n",
       "     data = {}\n",
       " },\n",
       " Solution = {\n",
       "     x    = [0.87346428 3.65238448],\n",
       "     y    = None,\n",
       "     data = {}\n",
       " },\n",
       " Solution = {\n",
       "     x    = [0.30326341 0.59791315],\n",
       "     y    = None,\n",
       "     data = {}\n",
       " },\n",
       " Solution = {\n",
       "     x    = [-0.44460783 -0.88508495],\n",
       "     y    = None,\n",
       "     data = {}\n",
       " },\n",
       " Solution = {\n",
       "     x    = [ 0.9732333  -0.65300945],\n",
       "     y    = None,\n",
       "     data = {}\n",
       " }]"
      ]
     },
     "execution_count": 9,
     "metadata": {},
     "output_type": "execute_result"
    }
   ],
   "source": [
    "n_solutions = 5\n",
    "n_elites = 1\n",
    "n_epochs = 100\n",
    "\n",
    "population = ga_optim.run(n_solutions, n_epochs, n_elites)\n",
    "population"
   ]
  },
  {
   "cell_type": "code",
   "execution_count": null,
   "id": "4eb4409a",
   "metadata": {},
   "outputs": [],
   "source": []
  }
 ],
 "metadata": {
  "kernelspec": {
   "display_name": "pypoptim",
   "language": "python",
   "name": "pypoptim"
  },
  "language_info": {
   "codemirror_mode": {
    "name": "ipython",
    "version": 3
   },
   "file_extension": ".py",
   "mimetype": "text/x-python",
   "name": "python",
   "nbconvert_exporter": "python",
   "pygments_lexer": "ipython3",
   "version": "3.8.10"
  }
 },
 "nbformat": 4,
 "nbformat_minor": 5
}
