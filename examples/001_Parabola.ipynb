{
 "cells": [
  {
   "cell_type": "code",
   "execution_count": 1,
   "id": "686cc454",
   "metadata": {},
   "outputs": [],
   "source": [
    "import matplotlib.pyplot as plt\n",
    "import numpy as np\n",
    "from tqdm.auto import tqdm"
   ]
  },
  {
   "cell_type": "code",
   "execution_count": 2,
   "id": "6dddcab3",
   "metadata": {},
   "outputs": [],
   "source": [
    "from pypoptim.algorythm import Solution\n",
    "from pypoptim.algorythm.ga import GA"
   ]
  },
  {
   "cell_type": "markdown",
   "id": "e0e5b894",
   "metadata": {},
   "source": [
    "# Simple example"
   ]
  },
  {
   "cell_type": "code",
   "execution_count": 3,
   "id": "4cd074e4",
   "metadata": {},
   "outputs": [],
   "source": [
    "def error(x):\n",
    "    return np.sum(x**2)\n",
    "\n",
    "class Sol(Solution):\n",
    "    \n",
    "    def update(self):\n",
    "        self._y = error(self.x)\n",
    "        \n",
    "    def is_valid(self):\n",
    "        return self.is_updated()"
   ]
  },
  {
   "cell_type": "code",
   "execution_count": 4,
   "id": "42af7580",
   "metadata": {},
   "outputs": [
    {
     "data": {
      "text/plain": [
       "Solution = {\n",
       "    x    = [2.],\n",
       "    y    = 4.0,\n",
       "    data = {}\n",
       "}"
      ]
     },
     "execution_count": 4,
     "metadata": {},
     "output_type": "execute_result"
    }
   ],
   "source": [
    "sol = Sol([2])\n",
    "sol.update()\n",
    "sol"
   ]
  },
  {
   "cell_type": "code",
   "execution_count": 5,
   "id": "0f4d7af8",
   "metadata": {},
   "outputs": [
    {
     "data": {
      "text/plain": [
       "GA:\n",
       "[bounds_lower bounds_upper gammas mask_log_10_scale]\n",
       "[[-4.  2.  1.  0.]\n",
       " [-1.  5.  1.  0.]]\n",
       "mutation_rate: 1.0\n",
       "crossover_rate: 1.0\n",
       "selection_force: 2\n",
       "keys_data_transmit: []"
      ]
     },
     "execution_count": 5,
     "metadata": {},
     "output_type": "execute_result"
    }
   ],
   "source": [
    "bounds = np.array([[-4, 2],\n",
    "                   [-1, 5]])\n",
    "\n",
    "ga_optim = GA(Sol, bounds)\n",
    "ga_optim"
   ]
  },
  {
   "cell_type": "code",
   "execution_count": 6,
   "id": "b39ef489",
   "metadata": {},
   "outputs": [
    {
     "data": {
      "application/vnd.jupyter.widget-view+json": {
       "model_id": "59c0c503fc12441ba0549f86072172f8",
       "version_major": 2,
       "version_minor": 0
      },
      "text/plain": [
       "  0%|          | 0/10 [00:00<?, ?it/s]"
      ]
     },
     "metadata": {},
     "output_type": "display_data"
    },
    {
     "data": {
      "image/png": "[encoded data removed]",
      "text/plain": [
       "<Figure size 432x288 with 1 Axes>"
      ]
     },
     "metadata": {
      "needs_background": "light"
     },
     "output_type": "display_data"
    }
   ],
   "source": [
    "n_solutions = 25\n",
    "n_elites = 5\n",
    "n_epochs = 100\n",
    "\n",
    "for _ in tqdm(range(10)):\n",
    "    \n",
    "    population = ga_optim.generate_population(n_solutions)\n",
    "\n",
    "    loss = []\n",
    "\n",
    "    for i in range(n_epochs):\n",
    "        \n",
    "        ga_optim.update_population(population)\n",
    "            \n",
    "        loss.append(min(population).y)\n",
    "            \n",
    "        elites  = ga_optim.get_elites(population, n_elites)\n",
    "        mutants = ga_optim.get_mutants(population, n_solutions - n_elites)\n",
    "        \n",
    "        population = elites + mutants\n",
    "\n",
    "    plt.semilogy(loss)"
   ]
  },
  {
   "cell_type": "code",
   "execution_count": 7,
   "id": "81af2ea4",
   "metadata": {},
   "outputs": [],
   "source": [
    "ga_optim.update_population(population)\n",
    "X = np.array([sol.x for sol in sorted(population)])\n",
    "Y = np.array([sol.y for sol in sorted(population)])"
   ]
  },
  {
   "cell_type": "code",
   "execution_count": 8,
   "id": "d80bd0af",
   "metadata": {},
   "outputs": [
    {
     "data": {
      "text/plain": [
       "array([0.00127293, 0.00648514])"
      ]
     },
     "execution_count": 8,
     "metadata": {},
     "output_type": "execute_result"
    }
   ],
   "source": [
    "X[0]"
   ]
  },
  {
   "cell_type": "code",
   "execution_count": 9,
   "id": "c7ba4a42",
   "metadata": {},
   "outputs": [
    {
     "data": {
      "text/plain": [
       "[<matplotlib.lines.Line2D at 0x7f0664f32f70>]"
      ]
     },
     "execution_count": 9,
     "metadata": {},
     "output_type": "execute_result"
    },
    {
     "data": {
      "image/png": "[encoded data removed]",
      "text/plain": [
       "<Figure size 432x288 with 1 Axes>"
      ]
     },
     "metadata": {
      "needs_background": "light"
     },
     "output_type": "display_data"
    }
   ],
   "source": [
    "plt.scatter(X[:, 0], X[:, 1], c=Y)\n",
    "plt.plot(X[0, 0], X[0, 1], 'or')"
   ]
  },
  {
   "cell_type": "markdown",
   "id": "6e7a7f32",
   "metadata": {},
   "source": [
    "# All at once"
   ]
  },
  {
   "cell_type": "code",
   "execution_count": 10,
   "id": "5b945259",
   "metadata": {},
   "outputs": [
    {
     "data": {
      "text/plain": [
       "[Solution = {\n",
       "     x    = [ 0.04558162 -0.08111481],\n",
       "     y    = 0.008657295681152751,\n",
       "     data = {}\n",
       " },\n",
       " Solution = {\n",
       "     x    = [ 0.9397779  -0.95531284],\n",
       "     y    = None,\n",
       "     data = {}\n",
       " },\n",
       " Solution = {\n",
       "     x    = [ 0.68895838 -0.40308835],\n",
       "     y    = None,\n",
       "     data = {}\n",
       " },\n",
       " Solution = {\n",
       "     x    = [1.66759433 0.32633004],\n",
       "     y    = None,\n",
       "     data = {}\n",
       " },\n",
       " Solution = {\n",
       "     x    = [0.23693628 0.13283873],\n",
       "     y    = None,\n",
       "     data = {}\n",
       " },\n",
       " Solution = {\n",
       "     x    = [ 1.17729221 -0.17431006],\n",
       "     y    = None,\n",
       "     data = {}\n",
       " },\n",
       " Solution = {\n",
       "     x    = [-0.47231318  0.51632085],\n",
       "     y    = None,\n",
       "     data = {}\n",
       " },\n",
       " Solution = {\n",
       "     x    = [-0.64449676  0.92592258],\n",
       "     y    = None,\n",
       "     data = {}\n",
       " },\n",
       " Solution = {\n",
       "     x    = [ 0.8640742  -0.29969043],\n",
       "     y    = None,\n",
       "     data = {}\n",
       " },\n",
       " Solution = {\n",
       "     x    = [1.27856651 0.65930897],\n",
       "     y    = None,\n",
       "     data = {}\n",
       " }]"
      ]
     },
     "execution_count": 10,
     "metadata": {},
     "output_type": "execute_result"
    }
   ],
   "source": [
    "n_solutions = 10\n",
    "n_elites = 1\n",
    "n_epochs = 10\n",
    "\n",
    "population = ga_optim.run(n_solutions, n_epochs, n_elites)\n",
    "population"
   ]
  },
  {
   "cell_type": "code",
   "execution_count": null,
   "id": "029cbe4c",
   "metadata": {},
   "outputs": [],
   "source": []
  }
 ],
 "metadata": {
  "kernelspec": {
   "display_name": "pypoptim",
   "language": "python",
   "name": "pypoptim"
  },
  "language_info": {
   "codemirror_mode": {
    "name": "ipython",
    "version": 3
   },
   "file_extension": ".py",
   "mimetype": "text/x-python",
   "name": "python",
   "nbconvert_exporter": "python",
   "pygments_lexer": "ipython3",
   "version": "3.8.10"
  }
 },
 "nbformat": 4,
 "nbformat_minor": 5
}
