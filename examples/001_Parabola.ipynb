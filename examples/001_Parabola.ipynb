{
 "cells": [
  {
   "cell_type": "code",
   "execution_count": 1,
   "id": "24369c02",
   "metadata": {},
   "outputs": [],
   "source": [
    "import pypoptim\n",
    "import matplotlib.pyplot as plt\n",
    "import numpy as np"
   ]
  },
  {
   "cell_type": "code",
   "execution_count": 2,
   "id": "846a7a48",
   "metadata": {},
   "outputs": [],
   "source": [
    "from pypoptim.algorythm import Solution\n",
    "from pypoptim.algorythm.ga import GA"
   ]
  },
  {
   "cell_type": "markdown",
   "id": "99a3005d",
   "metadata": {},
   "source": [
    "# Simple example"
   ]
  },
  {
   "cell_type": "code",
   "execution_count": 3,
   "id": "7c747bb4",
   "metadata": {},
   "outputs": [
    {
     "data": {
      "text/plain": [
       "Solution = {\n",
       "    x    = 2,\n",
       "    y    = 4,\n",
       "    data = {}\n",
       "}"
      ]
     },
     "execution_count": 3,
     "metadata": {},
     "output_type": "execute_result"
    }
   ],
   "source": [
    "def error(x):\n",
    "    return np.sum(x**2)\n",
    "\n",
    "class Sol(Solution):\n",
    "    \n",
    "    def update(self):\n",
    "        self._y = error(self.x)\n",
    "        \n",
    "    def is_valid(self):\n",
    "        return self._y is not None\n",
    "    \n",
    "sol = Sol(2)\n",
    "sol.update()\n",
    "sol"
   ]
  },
  {
   "cell_type": "code",
   "execution_count": 4,
   "id": "56d029e6",
   "metadata": {},
   "outputs": [
    {
     "data": {
      "text/plain": [
       "GA:\n",
       "    bounds = [[-4  2]\n",
       " [-1  5]]\n",
       "    gammas = [1 1]\n",
       "    mutation_rate   = 1.0\n",
       "    crossover_rate  = 1.0\n",
       "    selection_force = 2\n",
       "    keys_data_transmit = []"
      ]
     },
     "execution_count": 4,
     "metadata": {},
     "output_type": "execute_result"
    }
   ],
   "source": [
    "bounds = np.array([[-4, 2],\n",
    "                   [-1, 5]])\n",
    "\n",
    "ga_optim = GA(Sol, bounds)\n",
    "ga_optim"
   ]
  },
  {
   "cell_type": "code",
   "execution_count": 5,
   "id": "cec45100",
   "metadata": {},
   "outputs": [
    {
     "data": {
      "image/png": "[encoded data removed]",
      "text/plain": [
       "<Figure size 432x288 with 1 Axes>"
      ]
     },
     "metadata": {
      "needs_background": "light"
     },
     "output_type": "display_data"
    }
   ],
   "source": [
    "OUTER_UPDATE = True  # Use for MPI stuff\n",
    "\n",
    "n_solutions = 25\n",
    "n_elites = 5\n",
    "n_epochs = 100\n",
    "\n",
    "for _ in range(10):\n",
    "    \n",
    "    population = ga_optim.generate_population(n_solutions)\n",
    "\n",
    "    loss = []\n",
    "\n",
    "    for i in range(n_epochs):\n",
    "        \n",
    "        if OUTER_UPDATE:\n",
    "            for sol in population:\n",
    "                sol.update()\n",
    "        else:\n",
    "            ga_optim.update_population(population)\n",
    "            \n",
    "        loss.append(min(population).y)\n",
    "            \n",
    "        elites  = ga_optim.get_elites(population, n_elites)\n",
    "        mutants = ga_optim.get_mutants(population, n_solutions - n_elites)\n",
    "        \n",
    "        population = elites + mutants\n",
    "\n",
    "    plt.semilogy(loss)"
   ]
  },
  {
   "cell_type": "code",
   "execution_count": 6,
   "id": "c1c6830e",
   "metadata": {},
   "outputs": [],
   "source": [
    "x = np.array([sol.x for sol in population])"
   ]
  },
  {
   "cell_type": "code",
   "execution_count": 7,
   "id": "b08a3a7a",
   "metadata": {},
   "outputs": [
    {
     "data": {
      "text/plain": [
       "[<matplotlib.lines.Line2D at 0x7f01e136b5e0>]"
      ]
     },
     "execution_count": 7,
     "metadata": {},
     "output_type": "execute_result"
    },
    {
     "data": {
      "image/png": "[encoded data removed]",
      "text/plain": [
       "<Figure size 432x288 with 1 Axes>"
      ]
     },
     "metadata": {
      "needs_background": "light"
     },
     "output_type": "display_data"
    }
   ],
   "source": [
    "plt.plot(x[:, 0], x[:, 1], '.')"
   ]
  },
  {
   "cell_type": "markdown",
   "id": "8db86752",
   "metadata": {},
   "source": [
    "# All at once"
   ]
  },
  {
   "cell_type": "code",
   "execution_count": 13,
   "id": "8ab59c09",
   "metadata": {},
   "outputs": [
    {
     "data": {
      "text/plain": [
       "[Solution = {\n",
       "     x    = [-0.00114277  0.01190195],\n",
       "     y    = 0.00014296243330273322,\n",
       "     data = {}\n",
       " },\n",
       " Solution = {\n",
       "     x    = [ 1.14408008 -0.29043413],\n",
       "     y    = None,\n",
       "     data = {}\n",
       " },\n",
       " Solution = {\n",
       "     x    = [-0.23389385 -0.41836515],\n",
       "     y    = None,\n",
       "     data = {}\n",
       " },\n",
       " Solution = {\n",
       "     x    = [0.33596717 0.49361275],\n",
       "     y    = None,\n",
       "     data = {}\n",
       " },\n",
       " Solution = {\n",
       "     x    = [0.02627978 1.3565266 ],\n",
       "     y    = None,\n",
       "     data = {}\n",
       " }]"
      ]
     },
     "execution_count": 13,
     "metadata": {},
     "output_type": "execute_result"
    }
   ],
   "source": [
    "n_solutions = 5\n",
    "n_elites = 1\n",
    "n_epochs = 100\n",
    "\n",
    "population = ga_optim.run(n_solutions, n_epochs, n_elites)\n",
    "population"
   ]
  },
  {
   "cell_type": "code",
   "execution_count": null,
   "id": "00067448",
   "metadata": {},
   "outputs": [],
   "source": []
  }
 ],
 "metadata": {
  "kernelspec": {
   "display_name": "pypoptim",
   "language": "python",
   "name": "pypoptim"
  },
  "language_info": {
   "codemirror_mode": {
    "name": "ipython",
    "version": 3
   },
   "file_extension": ".py",
   "mimetype": "text/x-python",
   "name": "python",
   "nbconvert_exporter": "python",
   "pygments_lexer": "ipython3",
   "version": "3.8.10"
  }
 },
 "nbformat": 4,
 "nbformat_minor": 5
}
