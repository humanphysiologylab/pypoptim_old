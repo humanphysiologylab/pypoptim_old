{
 "cells": [
  {
   "cell_type": "code",
   "execution_count": 1,
   "id": "0856e2da",
   "metadata": {},
   "outputs": [],
   "source": [
    "import matplotlib.pyplot as plt\n",
    "import numpy as np\n",
    "from tqdm.auto import tqdm"
   ]
  },
  {
   "cell_type": "code",
   "execution_count": 2,
   "id": "672fdedc",
   "metadata": {},
   "outputs": [],
   "source": [
    "from pypoptim.algorythm import Solution\n",
    "from pypoptim.algorythm.ga import GA"
   ]
  },
  {
   "cell_type": "markdown",
   "id": "8d835c1d",
   "metadata": {},
   "source": [
    "# Simple example"
   ]
  },
  {
   "cell_type": "code",
   "execution_count": 3,
   "id": "64b0deff",
   "metadata": {},
   "outputs": [],
   "source": [
    "def error(x):\n",
    "    return np.sum(x**2)\n",
    "\n",
    "class Sol(Solution):\n",
    "    \n",
    "    def update(self):\n",
    "        self._y = error(self.x)\n",
    "        \n",
    "    def is_valid(self):\n",
    "        return self.is_updated()"
   ]
  },
  {
   "cell_type": "code",
   "execution_count": 4,
   "id": "8d54c34a",
   "metadata": {},
   "outputs": [
    {
     "data": {
      "text/plain": [
       "Solution = {\n",
       "    x    = [2.],\n",
       "    y    = 4.0,\n",
       "    data = {}\n",
       "}"
      ]
     },
     "execution_count": 4,
     "metadata": {},
     "output_type": "execute_result"
    }
   ],
   "source": [
    "sol = Sol([2])\n",
    "sol.update()\n",
    "sol"
   ]
  },
  {
   "cell_type": "code",
   "execution_count": 5,
   "id": "96836194",
   "metadata": {},
   "outputs": [
    {
     "data": {
      "text/plain": [
       "GA:\n",
       "[bounds_lower bounds_upper gammas mask_log_10_scale]\n",
       "[[-4  2  1  0]\n",
       " [-1  5  1  0]]\n",
       "mutation_rate: 1.0\n",
       "crossover_rate: 1.0\n",
       "selection_force: 2\n",
       "keys_data_transmit: []"
      ]
     },
     "execution_count": 5,
     "metadata": {},
     "output_type": "execute_result"
    }
   ],
   "source": [
    "bounds = np.array([[-4, 2],\n",
    "                   [-1, 5]])\n",
    "\n",
    "ga_optim = GA(Sol, bounds)\n",
    "ga_optim"
   ]
  },
  {
   "cell_type": "code",
   "execution_count": 6,
   "id": "a5930db6",
   "metadata": {},
   "outputs": [
    {
     "data": {
      "application/vnd.jupyter.widget-view+json": {
       "model_id": "7d9214eb73d7460da3728f1ed5372ca8",
       "version_major": 2,
       "version_minor": 0
      },
      "text/plain": [
       "  0%|          | 0/10 [00:00<?, ?it/s]"
      ]
     },
     "metadata": {},
     "output_type": "display_data"
    },
    {
     "name": "stderr",
     "output_type": "stream",
     "text": [
      "/home/andrey/WORK/HPL/Code/pypoptim/src/pypoptim/algorythm/ga/selection.py:7: VisibleDeprecationWarning: Creating an ndarray from ragged nested sequences (which is a list-or-tuple of lists-or-tuples-or ndarrays with different lengths or shapes) is deprecated. If you meant to do this, you must specify 'dtype=object' when creating the ndarray.\n",
      "  return min(rng.choice(p, k, replace=False))\n",
      "/home/andrey/WORK/HPL/Code/pypoptim/src/pypoptim/algorythm/ga/selection.py:7: VisibleDeprecationWarning: Creating an ndarray from ragged nested sequences (which is a list-or-tuple of lists-or-tuples-or ndarrays with different lengths or shapes) is deprecated. If you meant to do this, you must specify 'dtype=object' when creating the ndarray.\n",
      "  return min(rng.choice(p, k, replace=False))\n"
     ]
    },
    {
     "data": {
      "image/png": "[encoded data removed]",
      "text/plain": [
       "<Figure size 432x288 with 1 Axes>"
      ]
     },
     "metadata": {
      "needs_background": "light"
     },
     "output_type": "display_data"
    }
   ],
   "source": [
    "n_solutions = 100\n",
    "n_elites = 5\n",
    "n_epochs = 20\n",
    "\n",
    "for _ in tqdm(range(10)):\n",
    "    \n",
    "    population = ga_optim.generate_population(n_solutions)\n",
    "\n",
    "    loss = []\n",
    "\n",
    "    for i in range(n_epochs):\n",
    "        \n",
    "        ga_optim.update_population(population)\n",
    "            \n",
    "        loss.append(min(population).y)\n",
    "            \n",
    "        elites  = ga_optim.get_elites(population, n_elites)\n",
    "        mutants = ga_optim.get_mutants(population, n_solutions - n_elites)\n",
    "        \n",
    "        population = elites + mutants\n",
    "\n",
    "    plt.semilogy(loss)"
   ]
  },
  {
   "cell_type": "code",
   "execution_count": 7,
   "id": "962ca801",
   "metadata": {},
   "outputs": [],
   "source": [
    "ga_optim.update_population(population)\n",
    "X = np.array([sol.x for sol in sorted(population)])\n",
    "Y = np.array([sol.y for sol in sorted(population)])"
   ]
  },
  {
   "cell_type": "code",
   "execution_count": 8,
   "id": "e5e6b18c",
   "metadata": {},
   "outputs": [
    {
     "data": {
      "text/plain": [
       "array([0.00275454, 0.00215743])"
      ]
     },
     "execution_count": 8,
     "metadata": {},
     "output_type": "execute_result"
    }
   ],
   "source": [
    "X[0]"
   ]
  },
  {
   "cell_type": "code",
   "execution_count": 9,
   "id": "eb05cb71",
   "metadata": {},
   "outputs": [
    {
     "data": {
      "text/plain": [
       "[<matplotlib.lines.Line2D at 0x7f53704464c0>]"
      ]
     },
     "execution_count": 9,
     "metadata": {},
     "output_type": "execute_result"
    },
    {
     "data": {
      "image/png": "[encoded data removed]",
      "text/plain": [
       "<Figure size 432x288 with 1 Axes>"
      ]
     },
     "metadata": {
      "needs_background": "light"
     },
     "output_type": "display_data"
    }
   ],
   "source": [
    "plt.scatter(X[:, 0], X[:, 1], c=Y)\n",
    "plt.plot(X[0, 0], X[0, 1], 'or')"
   ]
  },
  {
   "cell_type": "markdown",
   "id": "df9be714",
   "metadata": {},
   "source": [
    "# All at once"
   ]
  },
  {
   "cell_type": "code",
   "execution_count": 10,
   "id": "b6022753",
   "metadata": {},
   "outputs": [
    {
     "data": {
      "text/plain": [
       "[Solution = {\n",
       "     x    = [-0.01025645  0.0369022 ],\n",
       "     y    = 0.001466967441883371,\n",
       "     data = {}\n",
       " },\n",
       " Solution = {\n",
       "     x    = [ 1.64775169 -0.18451993],\n",
       "     y    = None,\n",
       "     data = {}\n",
       " },\n",
       " Solution = {\n",
       "     x    = [-0.53775321  0.15443115],\n",
       "     y    = None,\n",
       "     data = {}\n",
       " },\n",
       " Solution = {\n",
       "     x    = [-0.06466178  0.32018624],\n",
       "     y    = None,\n",
       "     data = {}\n",
       " },\n",
       " Solution = {\n",
       "     x    = [ 1.08234097 -0.82022266],\n",
       "     y    = None,\n",
       "     data = {}\n",
       " },\n",
       " Solution = {\n",
       "     x    = [1.15511198 1.01674001],\n",
       "     y    = None,\n",
       "     data = {}\n",
       " },\n",
       " Solution = {\n",
       "     x    = [-1.74771712 -0.28850727],\n",
       "     y    = None,\n",
       "     data = {}\n",
       " },\n",
       " Solution = {\n",
       "     x    = [0.09849678 2.17101182],\n",
       "     y    = None,\n",
       "     data = {}\n",
       " },\n",
       " Solution = {\n",
       "     x    = [-0.1049952   0.58274994],\n",
       "     y    = None,\n",
       "     data = {}\n",
       " },\n",
       " Solution = {\n",
       "     x    = [-0.50913067  0.02870353],\n",
       "     y    = None,\n",
       "     data = {}\n",
       " }]"
      ]
     },
     "execution_count": 10,
     "metadata": {},
     "output_type": "execute_result"
    }
   ],
   "source": [
    "n_solutions = 10\n",
    "n_elites = 1\n",
    "n_epochs = 10\n",
    "\n",
    "population = ga_optim.run(n_solutions, n_epochs, n_elites)\n",
    "population"
   ]
  },
  {
   "cell_type": "code",
   "execution_count": null,
   "id": "654ea2a1",
   "metadata": {},
   "outputs": [],
   "source": []
  }
 ],
 "metadata": {
  "kernelspec": {
   "display_name": "pypoptim",
   "language": "python",
   "name": "pypoptim"
  },
  "language_info": {
   "codemirror_mode": {
    "name": "ipython",
    "version": 3
   },
   "file_extension": ".py",
   "mimetype": "text/x-python",
   "name": "python",
   "nbconvert_exporter": "python",
   "pygments_lexer": "ipython3",
   "version": "3.8.10"
  }
 },
 "nbformat": 4,
 "nbformat_minor": 5
}
