{
 "cells": [
  {
   "cell_type": "code",
   "execution_count": null,
   "id": "33bacbd0",
   "metadata": {},
   "outputs": [],
   "source": [
    "import os\n",
    "import pandas as pd\n",
    "import numpy as np\n",
    "\n",
    "import matplotlib.pyplot as plt"
   ]
  },
  {
   "cell_type": "markdown",
   "id": "abe465e2",
   "metadata": {},
   "source": [
    "# Create model"
   ]
  },
  {
   "cell_type": "code",
   "execution_count": null,
   "id": "38afb93e",
   "metadata": {},
   "outputs": [],
   "source": [
    "from pypoptim.model import CardiacModel"
   ]
  },
  {
   "cell_type": "code",
   "execution_count": null,
   "id": "bff165bf",
   "metadata": {},
   "outputs": [],
   "source": [
    "dirname = '/home/andrey/WORK/HPL/Code/pypoptim/src/model_ctypes/_koivumaki'\n",
    "filename_so = os.path.join(dirname, 'koivumaki.so')\n",
    "\n",
    "koivumaki = CardiacModel(filename_so)\n",
    "\n",
    "legend_constants = pd.read_csv(os.path.join(dirname, \"legend_constants.csv\"), index_col='name')['value']\n",
    "legend_states = pd.read_csv(os.path.join(dirname, \"legend_states.csv\"), index_col='name')['value']\n",
    "legend_algebraic = pd.read_csv(os.path.join(dirname, \"legend_algebraic.csv\"), index_col='name')['value']\n",
    "\n",
    "S = legend_states.copy()\n",
    "R = S * 0\n",
    "C = legend_constants.copy()\n",
    "A = legend_algebraic.copy()"
   ]
  },
  {
   "cell_type": "code",
   "execution_count": null,
   "id": "4abbbe4a",
   "metadata": {},
   "outputs": [],
   "source": [
    "kwargs_model = dict(stim_period_legend_name='STIM_PERIOD',\n",
    "                    t_sampling=0.0001, n_beats=1, n_beats_save=4,\n",
    "                    stim_protocol=None)"
   ]
  },
  {
   "cell_type": "code",
   "execution_count": null,
   "id": "9ccb1c88",
   "metadata": {},
   "outputs": [],
   "source": [
    "result = koivumaki.run(S, C, **kwargs_model)\n",
    "koivumaki._status"
   ]
  },
  {
   "cell_type": "code",
   "execution_count": null,
   "id": "9113c3e9",
   "metadata": {},
   "outputs": [],
   "source": [
    "plt.plot(result.V)"
   ]
  },
  {
   "cell_type": "markdown",
   "id": "c70bfde1",
   "metadata": {},
   "source": [
    "# Parse config"
   ]
  },
  {
   "cell_type": "code",
   "execution_count": null,
   "id": "895b3c40",
   "metadata": {},
   "outputs": [],
   "source": [
    "from pypoptim.helpers import strip_comments, random_value_from_bounds\n",
    "import json"
   ]
  },
  {
   "cell_type": "code",
   "execution_count": null,
   "id": "bdab93c5",
   "metadata": {},
   "outputs": [],
   "source": [
    "from pypoptim.cardio import create_genes_dict_from_config, \\\n",
    "                            create_constants_dict_from_config, \\\n",
    "                            generate_bounds_gammas_mask_multipliers"
   ]
  },
  {
   "cell_type": "code",
   "execution_count": null,
   "id": "dad3251a",
   "metadata": {
    "jupyter": {
     "source_hidden": true
    }
   },
   "outputs": [],
   "source": [
    "def prepare_config(config_filename):\n",
    "    \n",
    "    config_path = os.path.dirname(os.path.realpath(config_filename))\n",
    "\n",
    "    with open(config_filename) as f:\n",
    "        text = f.read()\n",
    "        text = strip_comments(text)\n",
    "        config = json.loads(text)\n",
    "        \n",
    "    config['runtime'] = dict()\n",
    "\n",
    "    config['runtime']['genes_dict'] = create_genes_dict_from_config(config)\n",
    "    config['runtime']['constants_dict'] = create_constants_dict_from_config(config)\n",
    "\n",
    "    m_index_tuples = [(exp_cond_name, gene_name) for exp_cond_name, gene in config['runtime']['genes_dict'].items() for gene_name in gene]\n",
    "    m_index = pd.MultiIndex.from_tuples(m_index_tuples)\n",
    "    m_index.names = ['ec_name', 'g_name']\n",
    "\n",
    "    config['runtime']['m_index'] = m_index\n",
    "    \n",
    "    legend = dict()\n",
    "    legend['states'] = pd.read_csv(os.path.join(config_path, config[\"filename_legend_states\"]),\n",
    "                                   usecols=['name', 'value'], index_col='name')['value']  # Series\n",
    "    legend['constants'] = pd.read_csv(os.path.join(config_path, config[\"filename_legend_constants\"]),\n",
    "                                      usecols=['name', 'value'], index_col='name')['value']  # Series\n",
    "    config['runtime']['legend'] = legend\n",
    "\n",
    "    config['runtime']['n_organisms'] = config['n_organisms']\n",
    "\n",
    "    for exp_cond_name, exp_cond in config['experimental_conditions'].items():\n",
    "\n",
    "        if exp_cond_name == 'common':\n",
    "            continue\n",
    "\n",
    "        filename_phenotype = os.path.normpath(os.path.join(config_path, exp_cond['filename_phenotype']))\n",
    "        exp_cond['phenotype'] = pd.read_csv(filename_phenotype)\n",
    "        exp_cond['filename_phenotype'] = filename_phenotype\n",
    "\n",
    "        filename_state = os.path.normpath(os.path.join(config_path, exp_cond['filename_state']))\n",
    "        exp_cond['initial_state'] = pd.Series(np.loadtxt(filename_state), index=legend['states'].index)\n",
    "        exp_cond['filename_state'] = filename_state\n",
    "\n",
    "        column_stim_protocol = config.get('column_stim_protocol', None)\n",
    "        if column_stim_protocol is not None:\n",
    "            filename_stim_protocol = os.path.normpath(os.path.join(config_path, exp_cond['filename_stim_protocol']))\n",
    "            exp_cond['stim_protocol'] = pd.read_csv(filename_stim_protocol)\n",
    "            exp_cond['filename_stim_protocol'] = filename_stim_protocol\n",
    "        else:\n",
    "            exp_cond['stim_protocol'] = None\n",
    "\n",
    "    states_initial = pd.DataFrame(data={exp_cond_name: exp_cond['initial_state'].copy()\n",
    "                                        for exp_cond_name, exp_cond in config['experimental_conditions'].items()\n",
    "                                        if exp_cond_name != 'common'})\n",
    "\n",
    "    config['runtime']['states_initial'] = states_initial\n",
    "\n",
    "    bounds, gammas, mask_multipliers = generate_bounds_gammas_mask_multipliers(config['runtime']['genes_dict'])\n",
    "    config['runtime']['bounds'] = bounds\n",
    "    config['runtime']['gammas'] = gammas\n",
    "    config['runtime']['mask_multipliers'] = mask_multipliers\n",
    "    \n",
    "    return config"
   ]
  },
  {
   "cell_type": "code",
   "execution_count": null,
   "id": "fb02ad03",
   "metadata": {},
   "outputs": [],
   "source": [
    "config_filename = \"../configs/koivumaki/10kHz_gKb/config_G2C1_test.json\"\n",
    "\n",
    "config = prepare_config(config_filename)"
   ]
  },
  {
   "cell_type": "code",
   "execution_count": null,
   "id": "f69ac23a",
   "metadata": {},
   "outputs": [],
   "source": [
    "genes_dict = create_genes_dict_from_config(config)\n",
    "state = config['runtime']['states_initial']\n",
    "genes_m_index = config['runtime']['m_index']\n",
    "    \n",
    "genes = [random_value_from_bounds(gene_params['bounds'], log_scale=gene_params['is_multiplier'])\n",
    "         if gene_name not in state.index else state[exp_cond_name][gene_name]\n",
    "         for exp_cond_name, exp_cond in genes_dict.items() for gene_name, gene_params in exp_cond.items()]\n",
    "\n",
    "genes = pd.Series(data=genes, index=genes_m_index)\n",
    "genes['common'] = 1."
   ]
  },
  {
   "cell_type": "code",
   "execution_count": null,
   "id": "fd7454e8",
   "metadata": {},
   "outputs": [],
   "source": [
    "from pypoptim.cardio import update_S_C_from_genes_current, update_genes_from_state, calculate_n_samples_per_stim"
   ]
  },
  {
   "cell_type": "code",
   "execution_count": null,
   "id": "b76e2eb7",
   "metadata": {},
   "outputs": [],
   "source": [
    "def calculate_loss(pred, config):\n",
    "    \n",
    "    loss = 0\n",
    "\n",
    "    columns_control = ['V']\n",
    "    columns_model = ['V']\n",
    "    \n",
    "    for exp_cond_name, exp_cond in config['experimental_conditions'].items():\n",
    "\n",
    "        if exp_cond_name == 'common':\n",
    "            continue\n",
    "\n",
    "        n_samples_per_stim = calculate_n_samples_per_stim(exp_cond_name, config)\n",
    "\n",
    "        phenotype_control = exp_cond['phenotype'][columns_control][-n_samples_per_stim - 1:]\n",
    "        phenotype_model   = pred['phenotype'][exp_cond_name][columns_model][-n_samples_per_stim - 1:]\n",
    "\n",
    "        phenotype_model   = phenotype_model[:len(phenotype_control)]\n",
    "\n",
    "        loss += float(np.sqrt(np.mean((phenotype_control - phenotype_model)**2)))\n",
    "\n",
    "    return loss"
   ]
  },
  {
   "cell_type": "code",
   "execution_count": null,
   "id": "73d7db06",
   "metadata": {},
   "outputs": [],
   "source": [
    "from pypoptim.algorythm import Solution\n",
    "\n",
    "\n",
    "class SolModel(Solution):\n",
    "    \n",
    "    def __init__(self, x, **kwargs_data):\n",
    "        super().__init__(x, **kwargs_data)\n",
    "        self._model = koivumaki\n",
    "        self['kwargs_model'] = kwargs_model\n",
    "    \n",
    "    \n",
    "    def update(self):\n",
    "        \n",
    "        model = self._model\n",
    "        \n",
    "        self['phenotype'] = {}\n",
    "\n",
    "        legend = config['runtime']['legend']\n",
    "\n",
    "        for exp_cond_name in config['experimental_conditions']:\n",
    "\n",
    "            if exp_cond_name == 'common':\n",
    "                continue\n",
    "        \n",
    "            C = legend['constants'].copy()\n",
    "            S = self['state'][exp_cond_name].copy()\n",
    "        \n",
    "            genes = pd.Series(self.x, index=genes_m_index)\n",
    "            update_S_C_from_genes_current(S, C, genes, exp_cond_name, config)\n",
    "            \n",
    "            column_stim_protocol = config['column_stim_protocol']\n",
    "            stim_protocol = config['experimental_conditions'][exp_cond_name]['stim_protocol']\n",
    "            pred = model.run(S, C, stim_protocol=stim_protocol,\n",
    "                             column_stim_protocol=column_stim_protocol,\n",
    "                             **self['kwargs_model'])        \n",
    "        \n",
    "            update_genes_from_state(genes=genes, state=self['state'],\n",
    "                                    config=config, exp_cond_name=exp_cond_name)\n",
    "            self.x = genes.values\n",
    "            \n",
    "            self['phenotype'][exp_cond_name] = pred.copy()\n",
    "            self['state'][exp_cond_name] = self['phenotype'][exp_cond_name].iloc[-1]\n",
    "        \n",
    "        self._y = calculate_loss(self, config)\n",
    "                \n",
    "        \n",
    "    def is_valid(self):\n",
    "        flag_valid = True\n",
    "        flag_valid &= self._model._status == 2\n",
    "        flag_valid &= all(not np.any(np.isnan(p)) for p in sol['phenotype'].values())\n",
    "        return flag_valid"
   ]
  },
  {
   "cell_type": "code",
   "execution_count": null,
   "id": "0f06755d",
   "metadata": {},
   "outputs": [],
   "source": [
    "kwargs_model = dict(stim_period_legend_name='STIM_PERIOD',\n",
    "                    t_sampling=0.0001, n_beats=1, n_beats_save=4)"
   ]
  },
  {
   "cell_type": "code",
   "execution_count": null,
   "id": "50606ac8",
   "metadata": {},
   "outputs": [],
   "source": [
    "genes"
   ]
  },
  {
   "cell_type": "code",
   "execution_count": null,
   "id": "57a8ba67",
   "metadata": {},
   "outputs": [],
   "source": [
    "x0 = genes.values.copy()\n",
    "x0[1] = 1\n",
    "sol = SolModel(x0, state=state.copy())\n",
    "# sol"
   ]
  },
  {
   "cell_type": "code",
   "execution_count": null,
   "id": "c36b0756",
   "metadata": {},
   "outputs": [],
   "source": [
    "sol.update()\n",
    "sol.y"
   ]
  },
  {
   "cell_type": "code",
   "execution_count": null,
   "id": "2005dd58",
   "metadata": {},
   "outputs": [],
   "source": [
    "sol.is_valid()"
   ]
  },
  {
   "cell_type": "code",
   "execution_count": null,
   "id": "178bb323",
   "metadata": {},
   "outputs": [],
   "source": [
    "plt.plot(sol['phenotype']['1032'].V)\n",
    "plt.plot(config['experimental_conditions']['1032']['phenotype'].V)"
   ]
  },
  {
   "cell_type": "code",
   "execution_count": null,
   "id": "d58c5f02",
   "metadata": {},
   "outputs": [],
   "source": [
    "from pypoptim.algorythm.ga import GA"
   ]
  },
  {
   "cell_type": "code",
   "execution_count": null,
   "id": "e8f0a42b",
   "metadata": {},
   "outputs": [],
   "source": [
    "bounds = config['runtime']['bounds']\n",
    "\n",
    "ga_optim = GA(SolModel, bounds,\n",
    "              keys_data_transmit=['state'])"
   ]
  },
  {
   "cell_type": "code",
   "execution_count": null,
   "id": "0eda5f29",
   "metadata": {},
   "outputs": [],
   "source": [
    "population = ga_optim.generate_population(10)\n",
    "for sol in population:\n",
    "    sol['state'] = state.copy()"
   ]
  },
  {
   "cell_type": "code",
   "execution_count": null,
   "id": "0dc63881",
   "metadata": {},
   "outputs": [],
   "source": [
    "ga_optim.update_population(population)"
   ]
  },
  {
   "cell_type": "code",
   "execution_count": null,
   "id": "8c350889",
   "metadata": {},
   "outputs": [],
   "source": [
    "len(population)"
   ]
  },
  {
   "cell_type": "code",
   "execution_count": null,
   "id": "c6282db7",
   "metadata": {},
   "outputs": [],
   "source": [
    "population[0].x[0] = 1000"
   ]
  },
  {
   "cell_type": "code",
   "execution_count": null,
   "id": "ee1c379a",
   "metadata": {},
   "outputs": [],
   "source": [
    "ga_optim._is_solution_inside_bounds(population[0])"
   ]
  },
  {
   "cell_type": "code",
   "execution_count": null,
   "id": "dc279867",
   "metadata": {},
   "outputs": [],
   "source": [
    "ga_optim._is_solution_inside_bounds(sol)"
   ]
  },
  {
   "cell_type": "code",
   "execution_count": null,
   "id": "14929ebc",
   "metadata": {},
   "outputs": [],
   "source": [
    "population = ga_optim.filter_population(population)\n",
    "len(population)"
   ]
  },
  {
   "cell_type": "code",
   "execution_count": null,
   "id": "c3f14c93",
   "metadata": {},
   "outputs": [],
   "source": [
    "from tqdm.auto import tqdm"
   ]
  },
  {
   "cell_type": "code",
   "execution_count": null,
   "id": "1ce593ef",
   "metadata": {},
   "outputs": [],
   "source": [
    "parallel = True\n",
    "\n",
    "n_solutions = 24\n",
    "n_elites = 2\n",
    "n_epochs = 10\n",
    "\n",
    "population = ga_optim.generate_population(n_solutions)\n",
    "\n",
    "for sol in population:\n",
    "    sol['state'] = state.copy()\n",
    "\n",
    "loss = []\n",
    "\n",
    "for i in tqdm(range(n_epochs)):\n",
    "\n",
    "    if parallel:\n",
    "        for sol in population:\n",
    "            sol.update()\n",
    "    else:\n",
    "        ga_optim.update_population(population)\n",
    "        \n",
    "    population = ga_optim.filter_population(population)\n",
    "\n",
    "    loss.append(min(population).y)\n",
    "\n",
    "    elites  = ga_optim.get_elites(population, n_elites)\n",
    "    mutants = ga_optim.get_mutants(population, n_solutions - n_elites)\n",
    "\n",
    "    population = elites + mutants"
   ]
  },
  {
   "cell_type": "code",
   "execution_count": null,
   "id": "119f174c",
   "metadata": {},
   "outputs": [],
   "source": [
    "for sol in population:\n",
    "    print(sol.y)"
   ]
  },
  {
   "cell_type": "code",
   "execution_count": null,
   "id": "ea528f37",
   "metadata": {},
   "outputs": [],
   "source": [
    "len(population)"
   ]
  },
  {
   "cell_type": "code",
   "execution_count": null,
   "id": "a839f3eb",
   "metadata": {},
   "outputs": [],
   "source": [
    "plt.semilogy(loss)"
   ]
  },
  {
   "cell_type": "code",
   "execution_count": null,
   "id": "ba0559bc",
   "metadata": {},
   "outputs": [],
   "source": []
  }
 ],
 "metadata": {
  "kernelspec": {
   "display_name": "pypoptim",
   "language": "python",
   "name": "pypoptim"
  },
  "language_info": {
   "codemirror_mode": {
    "name": "ipython",
    "version": 3
   },
   "file_extension": ".py",
   "mimetype": "text/x-python",
   "name": "python",
   "nbconvert_exporter": "python",
   "pygments_lexer": "ipython3",
   "version": "3.8.10"
  }
 },
 "nbformat": 4,
 "nbformat_minor": 5
}
