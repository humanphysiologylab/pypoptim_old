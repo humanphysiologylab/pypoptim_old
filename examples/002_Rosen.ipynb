{
 "cells": [
  {
   "cell_type": "code",
   "execution_count": 1,
   "id": "8941f323",
   "metadata": {},
   "outputs": [],
   "source": [
    "import matplotlib.pyplot as plt\n",
    "import numpy as np\n",
    "from tqdm.auto import tqdm\n",
    "from scipy.optimize import rosen"
   ]
  },
  {
   "cell_type": "code",
   "execution_count": 2,
   "id": "ce0a6511",
   "metadata": {},
   "outputs": [],
   "source": [
    "from pypoptim.algorythm import Solution\n",
    "from pypoptim.algorythm.ga import GA"
   ]
  },
  {
   "cell_type": "markdown",
   "id": "c7d1869c",
   "metadata": {},
   "source": [
    "# Rosenbrock"
   ]
  },
  {
   "cell_type": "code",
   "execution_count": 3,
   "id": "0d7b2af6",
   "metadata": {},
   "outputs": [],
   "source": [
    "def error(x):\n",
    "    return rosen(x)\n",
    "\n",
    "class Sol(Solution):\n",
    "    \n",
    "    def update(self):\n",
    "        self._y = error(self.x)\n",
    "        \n",
    "    def is_valid(self):\n",
    "        return self.is_updated()"
   ]
  },
  {
   "cell_type": "code",
   "execution_count": 4,
   "id": "f4188341",
   "metadata": {},
   "outputs": [],
   "source": [
    "ndim = 10\n",
    "bounds = np.tile([-5, 5], (ndim, 1))\n",
    "\n",
    "ga_optim = GA(Sol, bounds)"
   ]
  },
  {
   "cell_type": "code",
   "execution_count": 5,
   "id": "e59dc3f9",
   "metadata": {},
   "outputs": [
    {
     "data": {
      "text/plain": [
       "GA:\n",
       "[bounds_lower bounds_upper gammas mask_log_10_scale]\n",
       "[[-5.  5.  1.  0.]\n",
       " [-5.  5.  1.  0.]\n",
       " [-5.  5.  1.  0.]\n",
       " [-5.  5.  1.  0.]\n",
       " [-5.  5.  1.  0.]\n",
       " [-5.  5.  1.  0.]\n",
       " [-5.  5.  1.  0.]\n",
       " [-5.  5.  1.  0.]\n",
       " [-5.  5.  1.  0.]\n",
       " [-5.  5.  1.  0.]]\n",
       "mutation_rate: 1.0\n",
       "crossover_rate: 1.0\n",
       "selection_force: 2\n",
       "keys_data_transmit: []"
      ]
     },
     "execution_count": 5,
     "metadata": {},
     "output_type": "execute_result"
    }
   ],
   "source": [
    "ga_optim"
   ]
  },
  {
   "cell_type": "code",
   "execution_count": 6,
   "id": "a0c3151b",
   "metadata": {},
   "outputs": [
    {
     "data": {
      "application/vnd.jupyter.widget-view+json": {
       "model_id": "e5ee90d2118046d7a9e11e0bffe78e6e",
       "version_major": 2,
       "version_minor": 0
      },
      "text/plain": [
       "  0%|          | 0/3 [00:00<?, ?it/s]"
      ]
     },
     "metadata": {},
     "output_type": "display_data"
    },
    {
     "data": {
      "image/png": "[encoded data removed]",
      "text/plain": [
       "<Figure size 432x288 with 1 Axes>"
      ]
     },
     "metadata": {
      "needs_background": "light"
     },
     "output_type": "display_data"
    }
   ],
   "source": [
    "n_solutions = 100\n",
    "n_elites = 5\n",
    "n_epochs = 100\n",
    "\n",
    "for _ in tqdm(range(3)):\n",
    "    \n",
    "    population = ga_optim.generate_population(n_solutions)\n",
    "\n",
    "    loss = []\n",
    "\n",
    "    for i in range(n_epochs):\n",
    "        \n",
    "        ga_optim.update_population(population)\n",
    "            \n",
    "        loss.append(min(population).y)\n",
    "            \n",
    "        elites  = ga_optim.get_elites(population, n_elites)\n",
    "        mutants = ga_optim.get_mutants(population, n_solutions - n_elites)\n",
    "        \n",
    "        population = elites + mutants\n",
    "\n",
    "    plt.semilogy(loss)"
   ]
  },
  {
   "cell_type": "code",
   "execution_count": 7,
   "id": "32eb9068",
   "metadata": {},
   "outputs": [],
   "source": [
    "ga_optim.update_population(population)\n",
    "X = np.array([sol.x for sol in sorted(population)])\n",
    "Y = np.array([sol.y for sol in sorted(population)])"
   ]
  },
  {
   "cell_type": "code",
   "execution_count": 8,
   "id": "b2e3fd4c",
   "metadata": {},
   "outputs": [
    {
     "data": {
      "text/plain": [
       "array([ 0.50935447,  0.15555885, -0.11640079,  0.1546385 ,  0.04338783,\n",
       "        0.07440766,  0.08721002,  0.17859059,  0.24367916,  0.02934279])"
      ]
     },
     "execution_count": 8,
     "metadata": {},
     "output_type": "execute_result"
    }
   ],
   "source": [
    "X[0]"
   ]
  },
  {
   "cell_type": "code",
   "execution_count": 9,
   "id": "008cc6f0",
   "metadata": {},
   "outputs": [
    {
     "data": {
      "text/plain": [
       "[<matplotlib.lines.Line2D at 0x7f988fe7e430>]"
      ]
     },
     "execution_count": 9,
     "metadata": {},
     "output_type": "execute_result"
    },
    {
     "data": {
      "image/png": "[encoded data removed]",
      "text/plain": [
       "<Figure size 432x288 with 1 Axes>"
      ]
     },
     "metadata": {
      "needs_background": "light"
     },
     "output_type": "display_data"
    }
   ],
   "source": [
    "plt.scatter(X[:, 0], X[:, 1], c=Y)\n",
    "plt.plot(X[0, 0], X[0, 1], 'or')"
   ]
  },
  {
   "cell_type": "code",
   "execution_count": null,
   "id": "848f7ce9",
   "metadata": {},
   "outputs": [],
   "source": []
  }
 ],
 "metadata": {
  "kernelspec": {
   "display_name": "pypoptim",
   "language": "python",
   "name": "pypoptim"
  },
  "language_info": {
   "codemirror_mode": {
    "name": "ipython",
    "version": 3
   },
   "file_extension": ".py",
   "mimetype": "text/x-python",
   "name": "python",
   "nbconvert_exporter": "python",
   "pygments_lexer": "ipython3",
   "version": "3.8.10"
  }
 },
 "nbformat": 4,
 "nbformat_minor": 5
}
