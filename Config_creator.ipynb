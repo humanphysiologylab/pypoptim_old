{
 "cells": [
  {
   "cell_type": "code",
   "execution_count": 1,
   "metadata": {},
   "outputs": [],
   "source": [
    "import os\n",
    "import json"
   ]
  },
  {
   "cell_type": "code",
   "execution_count": 2,
   "metadata": {},
   "outputs": [],
   "source": [
    "n_organisms = 64\n",
    "n_elites = max(1, n_organisms // 16)\n",
    "n_generations = 100\n",
    "n_beats = 3\n",
    "t_sampling = 1e-3\n",
    "\n",
    "multipliers_names = ['P_Na', 'g_Ca_L',\n",
    "                  'g_t', 'g_kur', 'g_K1', 'g_Ks', 'g_Kr',\n",
    "                  'g_B_Na', 'g_B_Ca',\n",
    "                  'i_NaK_max', 'i_CaP_max', 'K_NaCa',\n",
    "                  'I_up_max', 'alpha_rel']\n",
    "multipliers_bounds = [0.2, 5]\n",
    "multipliers_gamma = 0.001\n",
    "\n",
    "multipliers = []\n",
    "for name in multipliers_names:\n",
    "    multipliers.append(dict(name=name,\n",
    "                            bounds=multipliers_bounds,\n",
    "                            gamma=multipliers_gamma))\n",
    "    \n",
    "    \n",
    "experimental_conditions = []\n",
    "\n",
    "params_names = ['Na_i', 'Ca_rel', 'K_i']\n",
    "params_bounds = [[6, 12], [0.01, 2], [125, 135]]\n",
    "params_gamma = [0.001, 0.001, 0.001]\n",
    "\n",
    "CL_list = [2000, 1000, 500, 333, 250]\n",
    "for CL in CL_list:\n",
    "    exp_cond = dict(CL=CL,\n",
    "                    filename_phenotype = f\"./baselines/baseline_{CL}.txt\",\n",
    "                    filename_state = f\"./states_start/state_{CL}.txt\")\n",
    "    experimental_conditions.append(exp_cond)\n",
    "    params = []\n",
    "    for name, bounds, gamma in zip(params_names, params_bounds, params_gamma):\n",
    "        params.append(dict(name=name,\n",
    "                      bounds=bounds,\n",
    "                      gamma=gamma))\n",
    "    exp_cond['params'] = params"
   ]
  },
  {
   "cell_type": "code",
   "execution_count": 3,
   "metadata": {},
   "outputs": [
    {
     "data": {
      "text/plain": [
       "[{'name': 'P_Na', 'bounds': [0.2, 5], 'gamma': 0.001},\n",
       " {'name': 'g_Ca_L', 'bounds': [0.2, 5], 'gamma': 0.001},\n",
       " {'name': 'g_t', 'bounds': [0.2, 5], 'gamma': 0.001},\n",
       " {'name': 'g_kur', 'bounds': [0.2, 5], 'gamma': 0.001},\n",
       " {'name': 'g_K1', 'bounds': [0.2, 5], 'gamma': 0.001},\n",
       " {'name': 'g_Ks', 'bounds': [0.2, 5], 'gamma': 0.001},\n",
       " {'name': 'g_Kr', 'bounds': [0.2, 5], 'gamma': 0.001},\n",
       " {'name': 'g_B_Na', 'bounds': [0.2, 5], 'gamma': 0.001},\n",
       " {'name': 'g_B_Ca', 'bounds': [0.2, 5], 'gamma': 0.001},\n",
       " {'name': 'i_NaK_max', 'bounds': [0.2, 5], 'gamma': 0.001},\n",
       " {'name': 'i_CaP_max', 'bounds': [0.2, 5], 'gamma': 0.001},\n",
       " {'name': 'K_NaCa', 'bounds': [0.2, 5], 'gamma': 0.001},\n",
       " {'name': 'I_up_max', 'bounds': [0.2, 5], 'gamma': 0.001},\n",
       " {'name': 'alpha_rel', 'bounds': [0.2, 5], 'gamma': 0.001}]"
      ]
     },
     "execution_count": 3,
     "metadata": {},
     "output_type": "execute_result"
    }
   ],
   "source": [
    "multipliers"
   ]
  },
  {
   "cell_type": "code",
   "execution_count": 4,
   "metadata": {},
   "outputs": [],
   "source": [
    "config = dict(n_organisms=n_organisms,\n",
    "              n_elites=n_elites,\n",
    "              n_generations=n_generations,\n",
    "              n_beats=n_beats,\n",
    "              t_sampling=t_sampling,\n",
    "              multipliers=multipliers,\n",
    "              experimental_conditions=experimental_conditions)"
   ]
  },
  {
   "cell_type": "code",
   "execution_count": 5,
   "metadata": {},
   "outputs": [
    {
     "data": {
      "text/plain": [
       "{'n_organisms': 64,\n",
       " 'n_elites': 4,\n",
       " 'n_generations': 100,\n",
       " 'n_beats': 3,\n",
       " 't_sampling': 0.001,\n",
       " 'multipliers': [{'name': 'P_Na', 'bounds': [0.2, 5], 'gamma': 0.001},\n",
       "  {'name': 'g_Ca_L', 'bounds': [0.2, 5], 'gamma': 0.001},\n",
       "  {'name': 'g_t', 'bounds': [0.2, 5], 'gamma': 0.001},\n",
       "  {'name': 'g_kur', 'bounds': [0.2, 5], 'gamma': 0.001},\n",
       "  {'name': 'g_K1', 'bounds': [0.2, 5], 'gamma': 0.001},\n",
       "  {'name': 'g_Ks', 'bounds': [0.2, 5], 'gamma': 0.001},\n",
       "  {'name': 'g_Kr', 'bounds': [0.2, 5], 'gamma': 0.001},\n",
       "  {'name': 'g_B_Na', 'bounds': [0.2, 5], 'gamma': 0.001},\n",
       "  {'name': 'g_B_Ca', 'bounds': [0.2, 5], 'gamma': 0.001},\n",
       "  {'name': 'i_NaK_max', 'bounds': [0.2, 5], 'gamma': 0.001},\n",
       "  {'name': 'i_CaP_max', 'bounds': [0.2, 5], 'gamma': 0.001},\n",
       "  {'name': 'K_NaCa', 'bounds': [0.2, 5], 'gamma': 0.001},\n",
       "  {'name': 'I_up_max', 'bounds': [0.2, 5], 'gamma': 0.001},\n",
       "  {'name': 'alpha_rel', 'bounds': [0.2, 5], 'gamma': 0.001}],\n",
       " 'experimental_conditions': [{'CL': 2000,\n",
       "   'filename_phenotype': './baselines/baseline_2000.txt',\n",
       "   'filename_state': './states_start/state_2000.txt',\n",
       "   'params': [{'name': 'Na_i', 'bounds': [6, 12], 'gamma': 0.001},\n",
       "    {'name': 'Ca_rel', 'bounds': [0.01, 2], 'gamma': 0.001},\n",
       "    {'name': 'K_i', 'bounds': [125, 135], 'gamma': 0.001}]},\n",
       "  {'CL': 1000,\n",
       "   'filename_phenotype': './baselines/baseline_1000.txt',\n",
       "   'filename_state': './states_start/state_1000.txt',\n",
       "   'params': [{'name': 'Na_i', 'bounds': [6, 12], 'gamma': 0.001},\n",
       "    {'name': 'Ca_rel', 'bounds': [0.01, 2], 'gamma': 0.001},\n",
       "    {'name': 'K_i', 'bounds': [125, 135], 'gamma': 0.001}]},\n",
       "  {'CL': 500,\n",
       "   'filename_phenotype': './baselines/baseline_500.txt',\n",
       "   'filename_state': './states_start/state_500.txt',\n",
       "   'params': [{'name': 'Na_i', 'bounds': [6, 12], 'gamma': 0.001},\n",
       "    {'name': 'Ca_rel', 'bounds': [0.01, 2], 'gamma': 0.001},\n",
       "    {'name': 'K_i', 'bounds': [125, 135], 'gamma': 0.001}]},\n",
       "  {'CL': 333,\n",
       "   'filename_phenotype': './baselines/baseline_333.txt',\n",
       "   'filename_state': './states_start/state_333.txt',\n",
       "   'params': [{'name': 'Na_i', 'bounds': [6, 12], 'gamma': 0.001},\n",
       "    {'name': 'Ca_rel', 'bounds': [0.01, 2], 'gamma': 0.001},\n",
       "    {'name': 'K_i', 'bounds': [125, 135], 'gamma': 0.001}]},\n",
       "  {'CL': 250,\n",
       "   'filename_phenotype': './baselines/baseline_250.txt',\n",
       "   'filename_state': './states_start/state_250.txt',\n",
       "   'params': [{'name': 'Na_i', 'bounds': [6, 12], 'gamma': 0.001},\n",
       "    {'name': 'Ca_rel', 'bounds': [0.01, 2], 'gamma': 0.001},\n",
       "    {'name': 'K_i', 'bounds': [125, 135], 'gamma': 0.001}]}]}"
      ]
     },
     "execution_count": 5,
     "metadata": {},
     "output_type": "execute_result"
    }
   ],
   "source": [
    "config"
   ]
  },
  {
   "cell_type": "code",
   "execution_count": 6,
   "metadata": {},
   "outputs": [],
   "source": [
    "config_filaname = \"cases/maleckar/v0/config.json\"\n",
    "with open(config_filaname, 'w') as f:\n",
    "    json.dump(config, f, indent = 2)"
   ]
  }
 ],
 "metadata": {
  "kernelspec": {
   "display_name": "Python 3",
   "language": "python",
   "name": "python3"
  },
  "language_info": {
   "codemirror_mode": {
    "name": "ipython",
    "version": 3
   },
   "file_extension": ".py",
   "mimetype": "text/x-python",
   "name": "python",
   "nbconvert_exporter": "python",
   "pygments_lexer": "ipython3",
   "version": "3.7.7"
  }
 },
 "nbformat": 4,
 "nbformat_minor": 4
}
