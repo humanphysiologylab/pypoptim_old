{
 "cells": [
  {
   "cell_type": "markdown",
   "metadata": {},
   "source": [
    "# Legends"
   ]
  },
  {
   "cell_type": "code",
   "execution_count": 19,
   "metadata": {
    "jupyter": {
     "source_hidden": true
    }
   },
   "outputs": [],
   "source": [
    "legend_constants = [None] * 91\n",
    "legend_states = [None] * 25\n",
    "legend_rates = [None] * 25\n",
    "legend_algebraic = [None] * 20\n",
    "\n",
    "legend_states[0] = \"V in component membrane (millivolt)\";\n",
    "\n",
    "# //Ionic Flux\n",
    "legend_states[1] = \"Ca_SR (millimolar)\";\n",
    "legend_states[2] = \"Cai (millimolar)\";\n",
    "legend_states[3] = \"Nai (millimolar)\";\n",
    "legend_states[4] = \"Ki (millimolar)\";\n",
    "legend_states[5] = \"Ca_ligand (millimolar)\"; # //see .cpp ????????????????????????????????????????????????????????????????????\n",
    "\n",
    "# //Current Gating (dimensionless)\n",
    "legend_states[6] = \"d (activation in i_CaL)\";\n",
    "legend_states[7] = \"f1 (inactivation in i_CaL)\";\n",
    "legend_states[8] = \"fCa (calcium-dependent inactivation in i_CaL)\";\n",
    "legend_states[9] = \"Xr1 (activation in i_Kr)\";\n",
    "legend_states[10] = \"Xr2 (inactivation in i_Kr)\";\n",
    "legend_states[11] = \"Xs (activation in i_Ks)\";\n",
    "legend_states[12] = \"h (inactivation in i_Na)\";\n",
    "legend_states[13] = \"j (slow inactivation in i_Na)\";\n",
    "legend_states[14] = \"m (activation in i_Na)\";\n",
    "legend_states[15] = \"Xf (inactivation in i_f)\";\n",
    "legend_states[16] = \"s (inactivation in i_to)\";\n",
    "legend_states[17] = \"r (activation in i_to)\";\n",
    "legend_states[18] = \"dCaT (activation in i_CaT)\";\n",
    "legend_states[19] = \"fCaT (inactivation in i_CaT)\";\n",
    "legend_states[20] = \"R (in Irel)\";\n",
    "legend_states[21] = \"O (in Irel)\";\n",
    "legend_states[22] = \"I (in Irel)\";\n",
    "legend_states[23] = \"a_ur (ultra_rapid_K_current_aur_gate)\";\n",
    "legend_states[24] = \"i_ur (ultra_rapid_K_current_iur_gate)\";\n",
    "\n",
    "legend_rates[0] = \"d/dt V in component membrane (millivolt)\";\n",
    "# //Ionic Flux\n",
    "legend_rates[1] = \"d/dt Ca_SR (millimolar)\";\n",
    "legend_rates[2] = \"d/dt Cai (millimolar)\";\n",
    "legend_rates[3] = \"d/dt Nai (millimolar)\";\n",
    "legend_rates[4] = \"d/dt Ki (millimolar)\";\n",
    "legend_rates[5] = \"d/dt Ca_ligand (millimolar)\";# //see .cpp ????????????????????????????????????????????????????????????????????\n",
    "\n",
    "# //Current Gating (dimensionless)\n",
    "legend_rates[6] = \"d/dt d (activation in i_CaL)\";\n",
    "legend_rates[7] = \"d/dt f1 (inactivation in i_CaL)\";\n",
    "legend_rates[8] = \"d/dt fCa (calcium-dependent inactivation in i_CaL)\";\n",
    "legend_rates[9] = \"d/dt Xr1 (activation in i_Kr)\";\n",
    "legend_rates[10] = \"d/dt Xr2 (inactivation in i_Kr)\";\n",
    "legend_rates[11] = \"d/dt Xs (activation in i_Ks)\";\n",
    "legend_rates[12] = \"d/dt h (inactivation in i_Na)\";\n",
    "legend_rates[13] = \"d/dt j (slow inactivation in i_Na)\";\n",
    "legend_rates[14] = \"d/dt m (activation in i_Na)\";\n",
    "legend_rates[15] = \"d/dt Xf (inactivation in i_f)\";\n",
    "legend_rates[16] = \"d/dt s (inactivation in i_to)\";\n",
    "legend_rates[17] = \"d/dt r (activation in i_to)\";\n",
    "legend_rates[18] = \"d/dt dCaT (activation in i_CaT)\";\n",
    "legend_rates[19] = \"d/dt fCaT (inactivation in i_CaT)\";\n",
    "legend_rates[20] = \"d/dt R (in Irel)\";\n",
    "legend_rates[21] = \"d/dt O (in Irel)\";\n",
    "legend_rates[22] = \"d/dt I (in Irel)\";\n",
    "legend_rates[23] = \"d/dt a_ur (ultra_rapid_K_current_aur_gate)\";\n",
    "legend_rates[24] = \"d/dt i_ur (ultra_rapid_K_current_iur_gate)\";\n",
    "\n",
    "\n",
    "\n",
    "legend_constants[0] = \"g_K1_scaler (dimensionless)\";\n",
    "legend_constants[1] = \"g_Kr_scaler (dimensionless)\";\n",
    "legend_constants[2] = \"g_Ks_scaler (dimensionless)\";\n",
    "legend_constants[3] = \"g_to_scaler (dimensionless)\";\n",
    "legend_constants[4] = \"g_CaL_scaler (dimensionless)\";\n",
    "legend_constants[5] = \"g_CaT_scaler (dimensionless)\";\n",
    "legend_constants[6] = \"g_Na_scaler (dimensionless)\";\n",
    "legend_constants[7] = \"g_f_scaler (dimensionless)\";\n",
    "legend_constants[8] = \"kNaCa_scaler (dimensionless)\";\n",
    "legend_constants[9] = \"VmaxUp_scaler (dimensionless)\";\n",
    "legend_constants[10] = \"ks_scaler (dimensionless)\";\n",
    "legend_constants[11] = \"V_leak_scaler (dimensionless)\";\n",
    "legend_constants[12] = \"PNaK_scaler (dimensionless)\";\n",
    "legend_constants[13] = \"g_b_Na_scaler (dimensionless)\";\n",
    "legend_constants[14] = \"g_b_Ca_scaler (dimensionless)\";\n",
    "legend_constants[15] = \"g_PCa_scaler (dimensionless)\";\n",
    "\n",
    "legend_constants[16] = \"g_K1 (nS_per_pF)\";\n",
    "for i in range(17, 22):\n",
    "    legend_constants[i] = \"x_K1_\" + str(i - 17) + \" \";\n",
    "\n",
    "for i in range(22, 33):\n",
    "    legend_constants[i] = \"x_KR_\" + str(i - 22) + \" \";\n",
    "\n",
    "for i in range(33, 39):\n",
    "    legend_constants[i] = \"x_IKS_\" + str(i - 33) + \" \";\n",
    "\n",
    "for i in range(39, 50):\n",
    "    legend_constants[i] = \"xTO_\" + str(i - 39) + \" \";\n",
    "\n",
    "for i in range(50, 61):\n",
    "    legend_constants[i] = \"x_cal_\" + str(i - 50) + \" \";\n",
    "\n",
    "legend_constants[61] = \"x_cat \";\n",
    "\n",
    "legend_constants[62] = \"g_Na (nS_per_pF)\";\n",
    "for i in range(63, 76):\n",
    "    legend_constants[i] = \"x_NA_\" + str(i - 63) + \" \";\n",
    "\n",
    "for i in range(76, 82):\n",
    "    legend_constants[i] = \"x_F_\" + str(i - 76) + \" \";\n",
    "\n",
    "legend_constants[82] = \"stim_flag (int)\";# //0 -- no stim, 1 -- rectangular pulse, 2 -- biphasic pulse\n",
    "legend_constants[83] = \"stim_shift (ms)\";\n",
    "legend_constants[84] = \"voltageclamp \";\n",
    "\n",
    "legend_constants[85] = \"g_kur_scaler (dimensionless)\";\n",
    "legend_constants[86] = \"g_kur (nS_per_pF)\";\n",
    "legend_constants[87] = \"stim_period (ms)\";\n",
    "legend_constants[88] = \"i_stim_Amplitude (pA/pF)\";\n",
    "legend_constants[89] = \"Na_fixed (boolean)\";\n",
    "legend_constants[90] = \"K_fixed (boolean)\";\n",
    "\n",
    "\n",
    "legend_algebraic[0] = \"i_K1 (pA/pF)\";\n",
    "legend_algebraic[1] = \"i_to (pA/pF)\";\n",
    "legend_algebraic[2] = \"i_Kr (pA/pF)\";\n",
    "legend_algebraic[3] = \"i_Ks (pA/pF)\";\n",
    "legend_algebraic[4] = \"i_CaL (pA/pF)\";\n",
    "legend_algebraic[5] = \"i_NaK (pA/pF)\";\n",
    "legend_algebraic[6] = \"i_Na (pA/pF)\";\n",
    "legend_algebraic[7] = \"i_NaCa (pA/pF)\";\n",
    "legend_algebraic[8] = \"i_PCa (pA/pF)\";\n",
    "legend_algebraic[9] = \"i_f (pA/pF)\";\n",
    "legend_algebraic[10] = \"i_b_Na (pA/pF)\";\n",
    "legend_algebraic[11] = \"i_b_Ca (pA/pF)\";\n",
    "legend_algebraic[12] = \"i_rel (pA/pF)\";\n",
    "legend_algebraic[13] = \"i_up (pA/pF)\";\n",
    "legend_algebraic[14] = \"i_leak (pA/pF)\";\n",
    "legend_algebraic[15] = \"i_stim (pA/pF)\";\n",
    "legend_algebraic[16] = \"i_CaT (pA/pF)\";\n",
    "legend_algebraic[17] = \"i_Kur (pA/pF)\";\n",
    "legend_algebraic[18] = \"i_voltageclamp (pA/pF)\";\n",
    "legend_algebraic[19] = \"time (ms)\";"
   ]
  },
  {
   "cell_type": "code",
   "execution_count": 20,
   "metadata": {
    "jupyter": {
     "source_hidden": true
    }
   },
   "outputs": [],
   "source": [
    "import pandas as pd"
   ]
  },
  {
   "cell_type": "code",
   "execution_count": 21,
   "metadata": {
    "jupyter": {
     "source_hidden": true
    }
   },
   "outputs": [],
   "source": [
    "legend_states = pd.DataFrame(index=[x.split()[0] for x in legend_states], columns=['value'])\n",
    "legend_constants = pd.DataFrame(index=[x.split()[0] for x in legend_constants], columns=['value'])\n",
    "legend_algebraic = pd.DataFrame(index=[x.split()[0] for x in legend_algebraic], columns=['value'])"
   ]
  },
  {
   "cell_type": "code",
   "execution_count": 51,
   "metadata": {
    "jupyter": {
     "source_hidden": true
    }
   },
   "outputs": [],
   "source": [
    "legend_algebraic.index.name = 'name'"
   ]
  },
  {
   "cell_type": "code",
   "execution_count": 52,
   "metadata": {
    "jupyter": {
     "source_hidden": true
    }
   },
   "outputs": [],
   "source": [
    "legend_algebraic.reset_index(inplace=True)"
   ]
  },
  {
   "cell_type": "code",
   "execution_count": 55,
   "metadata": {
    "jupyter": {
     "source_hidden": true
    }
   },
   "outputs": [],
   "source": [
    "legend_algebraic.value = 0"
   ]
  },
  {
   "cell_type": "code",
   "execution_count": 35,
   "metadata": {
    "jupyter": {
     "source_hidden": true
    }
   },
   "outputs": [],
   "source": [
    "initial_state = [-7.5596602e+01,\n",
    "                 3.3508680e-01,\n",
    "                 2.1919164e-04,\n",
    "                 7.1692809e+00,\n",
    "    1.0474882e+02,\n",
    "    0.0000000e+00,\n",
    "    3.9492534e-04,\n",
    "    1.7099011e-01,\n",
    "    8.7779895e-01,\n",
    "    3.0976749e-01,\n",
    "    4.5057719e-01,\n",
    "    1.5378828e-01,\n",
    "    7.3954361e-01,\n",
    "    1.2451598e-01,\n",
    "    2.9754996e-02,\n",
    "    6.4033850e-03,\n",
    "    7.4680281e-01,\n",
    "    2.6759783e-04,\n",
    "    2.7019557e-04,\n",
    "    7.5603290e-01,\n",
    "    1.1312036e-02,\n",
    "    1.6504511e-04,\n",
    "    1.4215362e-02,\n",
    "    0.000367,\n",
    "    0.96729]"
   ]
  },
  {
   "cell_type": "code",
   "execution_count": 46,
   "metadata": {
    "jupyter": {
     "source_hidden": true
    }
   },
   "outputs": [],
   "source": [
    "constants = [1.0000000e+00,\n",
    "   1.0000000e+00,\n",
    "   1.0000000e+00,\n",
    "   1.0000000e+00,\n",
    "   1.0000000e+00,\n",
    "   1.0000000e+00,\n",
    "   1.0000000e+00,\n",
    "   1.0000000e+00,\n",
    "   1.0000000e+00,\n",
    "   1.0000000e+00,\n",
    "   1.0000000e+00,\n",
    "   1.0000000e+00,\n",
    "   1.0000000e+00,\n",
    "   1.0000000e+00,\n",
    "   1.0000000e+00,\n",
    "   1.0000000e+00,\n",
    "   1.3378578e-01,\n",
    "   4.7799497e-01,\n",
    "   2.7242756e+01,\n",
    "   4.9250233e+00,\n",
    "   8.7222376e+00,\n",
    "   5.6636197e+01,\n",
    "   2.1802500e-01,\n",
    "   5.7488524e-03,\n",
    "   1.3623493e+01,\n",
    "   4.7630571e-02,\n",
    "  -7.0680874e+00,\n",
    "   1.2456641e-02,\n",
    "  -2.5994458e+01,\n",
    "   3.7342633e+01,\n",
    "   2.2091964e+01,\n",
    "   5.0000000e+01,\n",
    "   0.0000000e+00,\n",
    "   7.7000000e-03,\n",
    "   1.1655845e-03,\n",
    "   6.6726839e+04,\n",
    "   2.8045891e-01,\n",
    "  -1.8866972e+01,\n",
    "   4.7411500e-06,\n",
    "   1.1783333e-01,\n",
    "   5.5361418e-02,\n",
    "   1.1684202e+01,\n",
    "   3.9891811e+00,\n",
    "  -1.1047139e+01,\n",
    "   3.4423094e-04,\n",
    "  -1.7634472e+01,\n",
    "   1.8676054e+02,\n",
    "   8.1809339e+00,\n",
    "   6.9675842e-01,\n",
    "   1.1224458e+01,\n",
    "   3.0802769e-01,\n",
    "   1.2966294e+01,\n",
    "   7.0791460e+00,\n",
    "   4.4909416e-02,\n",
    "  -6.9098804e+00,\n",
    "   5.1258983e-04,\n",
    "  -4.9505712e+01,\n",
    "   1.9312112e+03,\n",
    "   5.7300275e+00,\n",
    "   1.6582469e+00,\n",
    "   1.0046256e+02,\n",
    "   1.8500000e-01,\n",
    "   9.7206134e+00,\n",
    "   1.0804585e+02,\n",
    "   1.3107016e+01,\n",
    "   2.3269144e-03,\n",
    "  -7.9177263e+00,\n",
    "   3.6265989e-03,\n",
    "  -1.9839359e+01,\n",
    "   9.6632950e+03,\n",
    "   7.3955036e+00,\n",
    "   5.1225718e-04,\n",
    "  -6.6583756e+01,\n",
    "   3.1977580e-02,\n",
    "   1.6733150e-01,\n",
    "   9.5108872e-01,\n",
    "   4.3500000e-02,\n",
    "   5.7897000e-07,\n",
    "  -1.4589712e+01,\n",
    "   2.0086650e+04,\n",
    "   1.0202353e+01,\n",
    "   2.3945291e+01,\n",
    "   0.0000000e+00,#//stim_flag\n",
    "   50,#//stim_shift (ms) was 100\n",
    "   0.0000000e+00,\n",
    "   1,\n",
    "   0.0000000e+00,\n",
    "   1000,\n",
    "   3,\n",
    "   0,\n",
    "   0]"
   ]
  },
  {
   "cell_type": "code",
   "execution_count": 47,
   "metadata": {
    "jupyter": {
     "source_hidden": true
    }
   },
   "outputs": [],
   "source": [
    "legend_constants['value'] = constants"
   ]
  },
  {
   "cell_type": "code",
   "execution_count": 57,
   "metadata": {
    "jupyter": {
     "source_hidden": true
    }
   },
   "outputs": [],
   "source": [
    "legend_algebraic.to_csv(\"../src/model_ctypes/_kernik_clancy/legend_algebraic.csv\", index=False)"
   ]
  },
  {
   "cell_type": "code",
   "execution_count": 49,
   "metadata": {
    "jupyter": {
     "source_hidden": true
    }
   },
   "outputs": [
    {
     "data": {
      "text/plain": [
       "name     False\n",
       "value    False\n",
       "dtype: bool"
      ]
     },
     "execution_count": 49,
     "metadata": {},
     "output_type": "execute_result"
    }
   ],
   "source": [
    "legend_constants.isna().any()"
   ]
  },
  {
   "cell_type": "code",
   "execution_count": 59,
   "metadata": {},
   "outputs": [
    {
     "data": {
      "text/plain": [
       "(25, 91, 20)"
      ]
     },
     "execution_count": 59,
     "metadata": {},
     "output_type": "execute_result"
    }
   ],
   "source": [
    "len(legend_states), len(legend_constants), len(legend_algebraic)"
   ]
  },
  {
   "cell_type": "markdown",
   "metadata": {},
   "source": [
    "# Run"
   ]
  },
  {
   "cell_type": "code",
   "execution_count": 9,
   "metadata": {},
   "outputs": [],
   "source": [
    "import numpy as np\n",
    "import pandas as pd\n",
    "import ctypes\n",
    "import matplotlib.pyplot as plt\n",
    "\n",
    "import time\n",
    "import os\n",
    "\n",
    "import sys\n",
    "sys.path.append(\"../\")\n",
    "\n",
    "from src.helpers import update_array_from_kwargs, get_value_by_key\n",
    "\n",
    "dirname = '../src/model_ctypes/_kernik_clancy/'\n",
    "filename_so = os.path.join(dirname, 'model.so')\n",
    "\n",
    "filename_so_abs = os.path.abspath(filename_so)\n",
    "\n",
    "model = ctypes.CDLL(filename_so_abs)\n",
    "\n",
    "model.compute_rates_algebraic.argtypes = [\n",
    "    ctypes.c_double,\n",
    "    np.ctypeslib.ndpointer(dtype=np.float64, ndim=1, flags='C_CONTIGUOUS'),\n",
    "    np.ctypeslib.ndpointer(dtype=np.float64, ndim=1, flags='C_CONTIGUOUS'),\n",
    "    np.ctypeslib.ndpointer(dtype=np.float64, ndim=1, flags='C_CONTIGUOUS'),\n",
    "    np.ctypeslib.ndpointer(dtype=np.float64, ndim=1, flags='C_CONTIGUOUS')\n",
    "]\n",
    "model.compute_rates_algebraic.restype = ctypes.c_void_p\n",
    "\n",
    "model.run.argtypes = [\n",
    "    np.ctypeslib.ndpointer(dtype=np.float64, ndim=1, flags='C_CONTIGUOUS'),\n",
    "    np.ctypeslib.ndpointer(dtype=np.float64, ndim=1, flags='C_CONTIGUOUS'),\n",
    "    ctypes.c_int,\n",
    "    ctypes.c_double,\n",
    "    ctypes.c_double,\n",
    "    np.ctypeslib.ndpointer(dtype=np.float64, ndim=2, flags='C_CONTIGUOUS')#,\n",
    "    #np.ctypeslib.ndpointer(dtype=np.float64, ndim=2, flags='C_CONTIGUOUS'),\n",
    "    #np.ctypeslib.ndpointer(dtype=np.float64, ndim=1, flags='C_CONTIGUOUS')\n",
    "]\n",
    "model.run.restype = ctypes.c_int\n",
    "\n",
    "\n",
    "# legend_algebraic = pd.read_csv(os.path.join(dirname, \"legend_algebraic.csv\"), index_col='name')\n",
    "# legend_algebraic = legend_algebraic.iloc[:, :0]\n",
    "# legend_algebraic['value'] = 0.0\n",
    "\n",
    "legend_constants = pd.read_csv(os.path.join(dirname, \"legend_constants.csv\"), index_col='name')['value']\n",
    "legend_states = pd.read_csv(os.path.join(dirname, \"legend_states.csv\"), index_col='name')['value']"
   ]
  },
  {
   "cell_type": "code",
   "execution_count": 159,
   "metadata": {},
   "outputs": [
    {
     "data": {
      "text/plain": [
       "8192"
      ]
     },
     "execution_count": 159,
     "metadata": {},
     "output_type": "execute_result"
    }
   ],
   "source": [
    "2**13"
   ]
  },
  {
   "cell_type": "code",
   "execution_count": 141,
   "metadata": {},
   "outputs": [],
   "source": [
    "legend_constants['stim_flag'] = 2\n",
    "legend_constants['g_K1_scaler'] = 2\n",
    "legend_constants['i_stim_Amplitude'] = 30\n",
    "\n",
    "CL = 500\n",
    "legend_constants['stim_period'] = CL\n",
    "legend_constants['stim_shift'] = 0\n",
    "\n",
    "# mature\n",
    "# legend_constants['g_K1_scaler'] = 2\n",
    "# legend_constants['g_Na_scaler'] = 1.45"
   ]
  },
  {
   "cell_type": "code",
   "execution_count": 142,
   "metadata": {},
   "outputs": [
    {
     "data": {
      "text/plain": [
       "name\n",
       "x_F_5                23.945291\n",
       "stim_flag             2.000000\n",
       "stim_shift            0.000000\n",
       "voltageclamp          0.000000\n",
       "g_kur_scaler          1.000000\n",
       "g_kur                 0.000000\n",
       "stim_period         500.000000\n",
       "i_stim_Amplitude     30.000000\n",
       "Na_fixed              0.000000\n",
       "K_fixed               0.000000\n",
       "Name: value, dtype: float64"
      ]
     },
     "execution_count": 142,
     "metadata": {},
     "output_type": "execute_result"
    }
   ],
   "source": [
    "legend_constants[-10:]"
   ]
  },
  {
   "cell_type": "code",
   "execution_count": 143,
   "metadata": {},
   "outputs": [],
   "source": [
    "S, C = legend_states.values, legend_constants.values\n",
    "R = np.zeros_like(S)\n",
    "A = np.zeros(20)"
   ]
  },
  {
   "cell_type": "code",
   "execution_count": 144,
   "metadata": {},
   "outputs": [],
   "source": [
    "#model.compute_rates_algebraic(0, S, C, A, R)\n",
    "#R"
   ]
  },
  {
   "cell_type": "code",
   "execution_count": 145,
   "metadata": {},
   "outputs": [],
   "source": [
    "t_sampling = 1 # 0.001\n",
    "stim_period = legend_constants['stim_period']\n",
    "\n",
    "#stim_period = C['stim_period'] # C[config['stim_period_legend_name']]\n",
    "# stim_period = C[config['stim_period_legend_name']] # C[config['stim_period_legend_name']]\n",
    "#stim_period = get_value_by_key(C, legend_constants, 'stim_period')\n",
    "n_samples_per_stim = int(stim_period / t_sampling)\n",
    "\n",
    "n_beats = 2000\n",
    "tol = 1e-3\n",
    "\n",
    "# chain_length = 200\n",
    "# v_threshold = 1e-1\n",
    "# t_safe = 5e-2\n",
    "\n",
    "output = np.zeros((n_samples_per_stim * n_beats + 1, len(S)))\n",
    "#output_A = np.zeros((n_samples_per_stim * n_beats + 1, 107))\n",
    "#output_t = np.zeros((n_samples_per_stim * n_beats + 1))"
   ]
  },
  {
   "cell_type": "code",
   "execution_count": 146,
   "metadata": {},
   "outputs": [
    {
     "name": "stdout",
     "output_type": "stream",
     "text": [
      "2\n"
     ]
    },
    {
     "data": {
      "text/html": [
       "<div>\n",
       "<style scoped>\n",
       "    .dataframe tbody tr th:only-of-type {\n",
       "        vertical-align: middle;\n",
       "    }\n",
       "\n",
       "    .dataframe tbody tr th {\n",
       "        vertical-align: top;\n",
       "    }\n",
       "\n",
       "    .dataframe thead th {\n",
       "        text-align: right;\n",
       "    }\n",
       "</style>\n",
       "<table border=\"1\" class=\"dataframe\">\n",
       "  <thead>\n",
       "    <tr style=\"text-align: right;\">\n",
       "      <th>name</th>\n",
       "      <th>V</th>\n",
       "      <th>Ca_SR</th>\n",
       "      <th>Cai</th>\n",
       "      <th>Nai</th>\n",
       "      <th>Ki</th>\n",
       "      <th>Ca_ligand</th>\n",
       "      <th>d</th>\n",
       "      <th>f1</th>\n",
       "      <th>fCa</th>\n",
       "      <th>Xr1</th>\n",
       "      <th>...</th>\n",
       "      <th>Xf</th>\n",
       "      <th>s</th>\n",
       "      <th>r</th>\n",
       "      <th>dCaT</th>\n",
       "      <th>fCaT</th>\n",
       "      <th>R</th>\n",
       "      <th>O</th>\n",
       "      <th>I</th>\n",
       "      <th>a_ur</th>\n",
       "      <th>i_ur</th>\n",
       "    </tr>\n",
       "  </thead>\n",
       "  <tbody>\n",
       "    <tr>\n",
       "      <th>0</th>\n",
       "      <td>-75.596602</td>\n",
       "      <td>0.335087</td>\n",
       "      <td>0.000219</td>\n",
       "      <td>7.169281</td>\n",
       "      <td>104.748820</td>\n",
       "      <td>0.0</td>\n",
       "      <td>0.000395</td>\n",
       "      <td>0.170990</td>\n",
       "      <td>0.877799</td>\n",
       "      <td>0.309767</td>\n",
       "      <td>...</td>\n",
       "      <td>0.006403</td>\n",
       "      <td>0.746803</td>\n",
       "      <td>0.000268</td>\n",
       "      <td>0.000270</td>\n",
       "      <td>0.756033</td>\n",
       "      <td>0.011312</td>\n",
       "      <td>0.000165</td>\n",
       "      <td>0.014215</td>\n",
       "      <td>0.000367</td>\n",
       "      <td>0.967290</td>\n",
       "    </tr>\n",
       "    <tr>\n",
       "      <th>1</th>\n",
       "      <td>-69.839933</td>\n",
       "      <td>0.335118</td>\n",
       "      <td>0.000218</td>\n",
       "      <td>7.169355</td>\n",
       "      <td>104.748802</td>\n",
       "      <td>0.0</td>\n",
       "      <td>0.000439</td>\n",
       "      <td>0.172519</td>\n",
       "      <td>0.882485</td>\n",
       "      <td>0.305633</td>\n",
       "      <td>...</td>\n",
       "      <td>0.006483</td>\n",
       "      <td>0.750986</td>\n",
       "      <td>0.000281</td>\n",
       "      <td>0.000533</td>\n",
       "      <td>0.759291</td>\n",
       "      <td>0.011377</td>\n",
       "      <td>0.000164</td>\n",
       "      <td>0.014047</td>\n",
       "      <td>0.000370</td>\n",
       "      <td>0.967299</td>\n",
       "    </tr>\n",
       "    <tr>\n",
       "      <th>2</th>\n",
       "      <td>-52.201314</td>\n",
       "      <td>0.335149</td>\n",
       "      <td>0.000217</td>\n",
       "      <td>7.169457</td>\n",
       "      <td>104.748720</td>\n",
       "      <td>0.0</td>\n",
       "      <td>0.001410</td>\n",
       "      <td>0.173758</td>\n",
       "      <td>0.885419</td>\n",
       "      <td>0.302713</td>\n",
       "      <td>...</td>\n",
       "      <td>0.006512</td>\n",
       "      <td>0.752814</td>\n",
       "      <td>0.000447</td>\n",
       "      <td>0.006188</td>\n",
       "      <td>0.751020</td>\n",
       "      <td>0.011442</td>\n",
       "      <td>0.000163</td>\n",
       "      <td>0.013883</td>\n",
       "      <td>0.000513</td>\n",
       "      <td>0.967307</td>\n",
       "    </tr>\n",
       "    <tr>\n",
       "      <th>3</th>\n",
       "      <td>-37.605194</td>\n",
       "      <td>0.335181</td>\n",
       "      <td>0.000218</td>\n",
       "      <td>7.171843</td>\n",
       "      <td>104.748614</td>\n",
       "      <td>0.0</td>\n",
       "      <td>0.022411</td>\n",
       "      <td>0.174173</td>\n",
       "      <td>0.885419</td>\n",
       "      <td>0.301797</td>\n",
       "      <td>...</td>\n",
       "      <td>0.006500</td>\n",
       "      <td>0.750338</td>\n",
       "      <td>0.001818</td>\n",
       "      <td>0.120488</td>\n",
       "      <td>0.698727</td>\n",
       "      <td>0.011504</td>\n",
       "      <td>0.000162</td>\n",
       "      <td>0.013743</td>\n",
       "      <td>0.002688</td>\n",
       "      <td>0.967305</td>\n",
       "    </tr>\n",
       "    <tr>\n",
       "      <th>4</th>\n",
       "      <td>-44.967583</td>\n",
       "      <td>0.335213</td>\n",
       "      <td>0.000221</td>\n",
       "      <td>7.173341</td>\n",
       "      <td>104.748539</td>\n",
       "      <td>0.0</td>\n",
       "      <td>0.031500</td>\n",
       "      <td>0.174683</td>\n",
       "      <td>0.885033</td>\n",
       "      <td>0.300851</td>\n",
       "      <td>...</td>\n",
       "      <td>0.006488</td>\n",
       "      <td>0.748161</td>\n",
       "      <td>0.002676</td>\n",
       "      <td>0.068923</td>\n",
       "      <td>0.653590</td>\n",
       "      <td>0.011558</td>\n",
       "      <td>0.000162</td>\n",
       "      <td>0.013691</td>\n",
       "      <td>0.004165</td>\n",
       "      <td>0.967304</td>\n",
       "    </tr>\n",
       "    <tr>\n",
       "      <th>...</th>\n",
       "      <td>...</td>\n",
       "      <td>...</td>\n",
       "      <td>...</td>\n",
       "      <td>...</td>\n",
       "      <td>...</td>\n",
       "      <td>...</td>\n",
       "      <td>...</td>\n",
       "      <td>...</td>\n",
       "      <td>...</td>\n",
       "      <td>...</td>\n",
       "      <td>...</td>\n",
       "      <td>...</td>\n",
       "      <td>...</td>\n",
       "      <td>...</td>\n",
       "      <td>...</td>\n",
       "      <td>...</td>\n",
       "      <td>...</td>\n",
       "      <td>...</td>\n",
       "      <td>...</td>\n",
       "      <td>...</td>\n",
       "      <td>...</td>\n",
       "    </tr>\n",
       "    <tr>\n",
       "      <th>999996</th>\n",
       "      <td>-76.901112</td>\n",
       "      <td>0.340207</td>\n",
       "      <td>0.000146</td>\n",
       "      <td>8.765426</td>\n",
       "      <td>103.155360</td>\n",
       "      <td>0.0</td>\n",
       "      <td>0.000327</td>\n",
       "      <td>0.315875</td>\n",
       "      <td>0.995021</td>\n",
       "      <td>0.068607</td>\n",
       "      <td>...</td>\n",
       "      <td>0.016171</td>\n",
       "      <td>0.954308</td>\n",
       "      <td>0.000238</td>\n",
       "      <td>0.000217</td>\n",
       "      <td>0.919359</td>\n",
       "      <td>0.016803</td>\n",
       "      <td>0.000109</td>\n",
       "      <td>0.006344</td>\n",
       "      <td>0.000264</td>\n",
       "      <td>0.551870</td>\n",
       "    </tr>\n",
       "    <tr>\n",
       "      <th>999997</th>\n",
       "      <td>-76.905182</td>\n",
       "      <td>0.340228</td>\n",
       "      <td>0.000146</td>\n",
       "      <td>8.765439</td>\n",
       "      <td>103.155405</td>\n",
       "      <td>0.0</td>\n",
       "      <td>0.000327</td>\n",
       "      <td>0.317203</td>\n",
       "      <td>0.995259</td>\n",
       "      <td>0.067640</td>\n",
       "      <td>...</td>\n",
       "      <td>0.016259</td>\n",
       "      <td>0.954933</td>\n",
       "      <td>0.000238</td>\n",
       "      <td>0.000217</td>\n",
       "      <td>0.919793</td>\n",
       "      <td>0.016878</td>\n",
       "      <td>0.000109</td>\n",
       "      <td>0.006286</td>\n",
       "      <td>0.000264</td>\n",
       "      <td>0.551996</td>\n",
       "    </tr>\n",
       "    <tr>\n",
       "      <th>999998</th>\n",
       "      <td>-76.909235</td>\n",
       "      <td>0.340249</td>\n",
       "      <td>0.000145</td>\n",
       "      <td>8.765452</td>\n",
       "      <td>103.155451</td>\n",
       "      <td>0.0</td>\n",
       "      <td>0.000327</td>\n",
       "      <td>0.318530</td>\n",
       "      <td>0.995493</td>\n",
       "      <td>0.066678</td>\n",
       "      <td>...</td>\n",
       "      <td>0.016347</td>\n",
       "      <td>0.955552</td>\n",
       "      <td>0.000238</td>\n",
       "      <td>0.000217</td>\n",
       "      <td>0.920222</td>\n",
       "      <td>0.016952</td>\n",
       "      <td>0.000108</td>\n",
       "      <td>0.006228</td>\n",
       "      <td>0.000264</td>\n",
       "      <td>0.552122</td>\n",
       "    </tr>\n",
       "    <tr>\n",
       "      <th>999999</th>\n",
       "      <td>-76.913255</td>\n",
       "      <td>0.340270</td>\n",
       "      <td>0.000144</td>\n",
       "      <td>8.765464</td>\n",
       "      <td>103.155497</td>\n",
       "      <td>0.0</td>\n",
       "      <td>0.000327</td>\n",
       "      <td>0.319855</td>\n",
       "      <td>0.995720</td>\n",
       "      <td>0.065730</td>\n",
       "      <td>...</td>\n",
       "      <td>0.016436</td>\n",
       "      <td>0.956159</td>\n",
       "      <td>0.000238</td>\n",
       "      <td>0.000217</td>\n",
       "      <td>0.920643</td>\n",
       "      <td>0.017026</td>\n",
       "      <td>0.000108</td>\n",
       "      <td>0.006171</td>\n",
       "      <td>0.000264</td>\n",
       "      <td>0.552248</td>\n",
       "    </tr>\n",
       "    <tr>\n",
       "      <th>1000000</th>\n",
       "      <td>-76.916253</td>\n",
       "      <td>0.340291</td>\n",
       "      <td>0.000144</td>\n",
       "      <td>8.765476</td>\n",
       "      <td>103.155543</td>\n",
       "      <td>0.0</td>\n",
       "      <td>0.000327</td>\n",
       "      <td>0.321177</td>\n",
       "      <td>0.995939</td>\n",
       "      <td>0.064796</td>\n",
       "      <td>...</td>\n",
       "      <td>0.016524</td>\n",
       "      <td>0.956753</td>\n",
       "      <td>0.000238</td>\n",
       "      <td>0.000217</td>\n",
       "      <td>0.921054</td>\n",
       "      <td>0.017101</td>\n",
       "      <td>0.000107</td>\n",
       "      <td>0.006115</td>\n",
       "      <td>0.000263</td>\n",
       "      <td>0.552374</td>\n",
       "    </tr>\n",
       "  </tbody>\n",
       "</table>\n",
       "<p>1000001 rows × 25 columns</p>\n",
       "</div>"
      ],
      "text/plain": [
       "name             V     Ca_SR       Cai       Nai          Ki  Ca_ligand  \\\n",
       "0       -75.596602  0.335087  0.000219  7.169281  104.748820        0.0   \n",
       "1       -69.839933  0.335118  0.000218  7.169355  104.748802        0.0   \n",
       "2       -52.201314  0.335149  0.000217  7.169457  104.748720        0.0   \n",
       "3       -37.605194  0.335181  0.000218  7.171843  104.748614        0.0   \n",
       "4       -44.967583  0.335213  0.000221  7.173341  104.748539        0.0   \n",
       "...            ...       ...       ...       ...         ...        ...   \n",
       "999996  -76.901112  0.340207  0.000146  8.765426  103.155360        0.0   \n",
       "999997  -76.905182  0.340228  0.000146  8.765439  103.155405        0.0   \n",
       "999998  -76.909235  0.340249  0.000145  8.765452  103.155451        0.0   \n",
       "999999  -76.913255  0.340270  0.000144  8.765464  103.155497        0.0   \n",
       "1000000 -76.916253  0.340291  0.000144  8.765476  103.155543        0.0   \n",
       "\n",
       "name            d        f1       fCa       Xr1  ...        Xf         s  \\\n",
       "0        0.000395  0.170990  0.877799  0.309767  ...  0.006403  0.746803   \n",
       "1        0.000439  0.172519  0.882485  0.305633  ...  0.006483  0.750986   \n",
       "2        0.001410  0.173758  0.885419  0.302713  ...  0.006512  0.752814   \n",
       "3        0.022411  0.174173  0.885419  0.301797  ...  0.006500  0.750338   \n",
       "4        0.031500  0.174683  0.885033  0.300851  ...  0.006488  0.748161   \n",
       "...           ...       ...       ...       ...  ...       ...       ...   \n",
       "999996   0.000327  0.315875  0.995021  0.068607  ...  0.016171  0.954308   \n",
       "999997   0.000327  0.317203  0.995259  0.067640  ...  0.016259  0.954933   \n",
       "999998   0.000327  0.318530  0.995493  0.066678  ...  0.016347  0.955552   \n",
       "999999   0.000327  0.319855  0.995720  0.065730  ...  0.016436  0.956159   \n",
       "1000000  0.000327  0.321177  0.995939  0.064796  ...  0.016524  0.956753   \n",
       "\n",
       "name            r      dCaT      fCaT         R         O         I      a_ur  \\\n",
       "0        0.000268  0.000270  0.756033  0.011312  0.000165  0.014215  0.000367   \n",
       "1        0.000281  0.000533  0.759291  0.011377  0.000164  0.014047  0.000370   \n",
       "2        0.000447  0.006188  0.751020  0.011442  0.000163  0.013883  0.000513   \n",
       "3        0.001818  0.120488  0.698727  0.011504  0.000162  0.013743  0.002688   \n",
       "4        0.002676  0.068923  0.653590  0.011558  0.000162  0.013691  0.004165   \n",
       "...           ...       ...       ...       ...       ...       ...       ...   \n",
       "999996   0.000238  0.000217  0.919359  0.016803  0.000109  0.006344  0.000264   \n",
       "999997   0.000238  0.000217  0.919793  0.016878  0.000109  0.006286  0.000264   \n",
       "999998   0.000238  0.000217  0.920222  0.016952  0.000108  0.006228  0.000264   \n",
       "999999   0.000238  0.000217  0.920643  0.017026  0.000108  0.006171  0.000264   \n",
       "1000000  0.000238  0.000217  0.921054  0.017101  0.000107  0.006115  0.000263   \n",
       "\n",
       "name         i_ur  \n",
       "0        0.967290  \n",
       "1        0.967299  \n",
       "2        0.967307  \n",
       "3        0.967305  \n",
       "4        0.967304  \n",
       "...           ...  \n",
       "999996   0.551870  \n",
       "999997   0.551996  \n",
       "999998   0.552122  \n",
       "999999   0.552248  \n",
       "1000000  0.552374  \n",
       "\n",
       "[1000001 rows x 25 columns]"
      ]
     },
     "execution_count": 146,
     "metadata": {},
     "output_type": "execute_result"
    }
   ],
   "source": [
    "status = model.run(S.copy(), C.copy(), n_beats, t_sampling, tol, output)\n",
    "print(status)\n",
    "output = pd.DataFrame(output, columns=legend_states.index)\n",
    "output"
   ]
  },
  {
   "cell_type": "code",
   "execution_count": null,
   "metadata": {},
   "outputs": [],
   "source": [
    "list(enumerate(legend_constants.index))"
   ]
  },
  {
   "cell_type": "code",
   "execution_count": null,
   "metadata": {},
   "outputs": [],
   "source": [
    "output.max().sort_values()"
   ]
  },
  {
   "cell_type": "code",
   "execution_count": 112,
   "metadata": {},
   "outputs": [],
   "source": [
    "#%matplotlib inline"
   ]
  },
  {
   "cell_type": "code",
   "execution_count": 147,
   "metadata": {},
   "outputs": [
    {
     "data": {
      "text/plain": [
       "[<matplotlib.lines.Line2D at 0x7fc2e17036d0>]"
      ]
     },
     "execution_count": 147,
     "metadata": {},
     "output_type": "execute_result"
    },
    {
     "data": {
      "image/png": "[encoded data removed]",
      "text/plain": [
       "<Figure size 432x288 with 1 Axes>"
      ]
     },
     "metadata": {
      "needs_background": "light"
     },
     "output_type": "display_data"
    }
   ],
   "source": [
    "plt.plot(output.V)"
   ]
  },
  {
   "cell_type": "code",
   "execution_count": 148,
   "metadata": {},
   "outputs": [
    {
     "data": {
      "text/plain": [
       "[<matplotlib.lines.Line2D at 0x7fc2e147ca00>]"
      ]
     },
     "execution_count": 148,
     "metadata": {},
     "output_type": "execute_result"
    },
    {
     "data": {
      "image/png": "[encoded data removed]",
      "text/plain": [
       "<Figure size 432x288 with 1 Axes>"
      ]
     },
     "metadata": {
      "needs_background": "light"
     },
     "output_type": "display_data"
    }
   ],
   "source": [
    "plt.plot(output.Nai)"
   ]
  },
  {
   "cell_type": "code",
   "execution_count": 149,
   "metadata": {},
   "outputs": [
    {
     "data": {
      "text/plain": [
       "[<matplotlib.lines.Line2D at 0x7fc2e145f220>]"
      ]
     },
     "execution_count": 149,
     "metadata": {},
     "output_type": "execute_result"
    },
    {
     "data": {
      "image/png": "[encoded data removed]",
      "text/plain": [
       "<Figure size 432x288 with 1 Axes>"
      ]
     },
     "metadata": {
      "needs_background": "light"
     },
     "output_type": "display_data"
    }
   ],
   "source": [
    "plt.plot(output.Ki)"
   ]
  },
  {
   "cell_type": "code",
   "execution_count": 150,
   "metadata": {},
   "outputs": [
    {
     "data": {
      "text/plain": [
       "[<matplotlib.lines.Line2D at 0x7fc2e1374be0>]"
      ]
     },
     "execution_count": 150,
     "metadata": {},
     "output_type": "execute_result"
    },
    {
     "data": {
      "image/png": "[encoded data removed]",
      "text/plain": [
       "<Figure size 432x288 with 1 Axes>"
      ]
     },
     "metadata": {
      "needs_background": "light"
     },
     "output_type": "display_data"
    }
   ],
   "source": [
    "plt.plot(output.O)"
   ]
  },
  {
   "cell_type": "code",
   "execution_count": 154,
   "metadata": {},
   "outputs": [],
   "source": [
    "AP = output[-CL - 1:].reset_index(drop=True)\n",
    "state = output.values[-1]"
   ]
  },
  {
   "cell_type": "code",
   "execution_count": 155,
   "metadata": {},
   "outputs": [
    {
     "data": {
      "text/html": [
       "<div>\n",
       "<style scoped>\n",
       "    .dataframe tbody tr th:only-of-type {\n",
       "        vertical-align: middle;\n",
       "    }\n",
       "\n",
       "    .dataframe tbody tr th {\n",
       "        vertical-align: top;\n",
       "    }\n",
       "\n",
       "    .dataframe thead th {\n",
       "        text-align: right;\n",
       "    }\n",
       "</style>\n",
       "<table border=\"1\" class=\"dataframe\">\n",
       "  <thead>\n",
       "    <tr style=\"text-align: right;\">\n",
       "      <th>name</th>\n",
       "      <th>V</th>\n",
       "      <th>Ca_SR</th>\n",
       "      <th>Cai</th>\n",
       "      <th>Nai</th>\n",
       "      <th>Ki</th>\n",
       "      <th>Ca_ligand</th>\n",
       "      <th>d</th>\n",
       "      <th>f1</th>\n",
       "      <th>fCa</th>\n",
       "      <th>Xr1</th>\n",
       "      <th>...</th>\n",
       "      <th>Xf</th>\n",
       "      <th>s</th>\n",
       "      <th>r</th>\n",
       "      <th>dCaT</th>\n",
       "      <th>fCaT</th>\n",
       "      <th>R</th>\n",
       "      <th>O</th>\n",
       "      <th>I</th>\n",
       "      <th>a_ur</th>\n",
       "      <th>i_ur</th>\n",
       "    </tr>\n",
       "  </thead>\n",
       "  <tbody>\n",
       "    <tr>\n",
       "      <th>0</th>\n",
       "      <td>-76.916795</td>\n",
       "      <td>0.340291</td>\n",
       "      <td>0.000144</td>\n",
       "      <td>8.765478</td>\n",
       "      <td>103.155554</td>\n",
       "      <td>0.0</td>\n",
       "      <td>0.000327</td>\n",
       "      <td>0.321386</td>\n",
       "      <td>0.996090</td>\n",
       "      <td>0.064386</td>\n",
       "      <td>...</td>\n",
       "      <td>0.016537</td>\n",
       "      <td>0.957253</td>\n",
       "      <td>0.000238</td>\n",
       "      <td>0.000217</td>\n",
       "      <td>0.921515</td>\n",
       "      <td>0.017113</td>\n",
       "      <td>0.000107</td>\n",
       "      <td>0.006098</td>\n",
       "      <td>0.000263</td>\n",
       "      <td>0.552385</td>\n",
       "    </tr>\n",
       "    <tr>\n",
       "      <th>1</th>\n",
       "      <td>-70.993276</td>\n",
       "      <td>0.340312</td>\n",
       "      <td>0.000143</td>\n",
       "      <td>8.765484</td>\n",
       "      <td>103.155583</td>\n",
       "      <td>0.0</td>\n",
       "      <td>0.000365</td>\n",
       "      <td>0.322661</td>\n",
       "      <td>0.996262</td>\n",
       "      <td>0.063509</td>\n",
       "      <td>...</td>\n",
       "      <td>0.016610</td>\n",
       "      <td>0.957697</td>\n",
       "      <td>0.000250</td>\n",
       "      <td>0.000441</td>\n",
       "      <td>0.921225</td>\n",
       "      <td>0.017188</td>\n",
       "      <td>0.000106</td>\n",
       "      <td>0.006043</td>\n",
       "      <td>0.000271</td>\n",
       "      <td>0.552512</td>\n",
       "    </tr>\n",
       "    <tr>\n",
       "      <th>2</th>\n",
       "      <td>-52.848208</td>\n",
       "      <td>0.340332</td>\n",
       "      <td>0.000142</td>\n",
       "      <td>8.765552</td>\n",
       "      <td>103.155578</td>\n",
       "      <td>0.0</td>\n",
       "      <td>0.001228</td>\n",
       "      <td>0.323683</td>\n",
       "      <td>0.996382</td>\n",
       "      <td>0.062907</td>\n",
       "      <td>...</td>\n",
       "      <td>0.016625</td>\n",
       "      <td>0.957246</td>\n",
       "      <td>0.000405</td>\n",
       "      <td>0.005470</td>\n",
       "      <td>0.909426</td>\n",
       "      <td>0.017262</td>\n",
       "      <td>0.000106</td>\n",
       "      <td>0.005990</td>\n",
       "      <td>0.000407</td>\n",
       "      <td>0.552643</td>\n",
       "    </tr>\n",
       "    <tr>\n",
       "      <th>3</th>\n",
       "      <td>-20.842706</td>\n",
       "      <td>0.340353</td>\n",
       "      <td>0.000146</td>\n",
       "      <td>8.770349</td>\n",
       "      <td>103.155607</td>\n",
       "      <td>0.0</td>\n",
       "      <td>0.071439</td>\n",
       "      <td>0.322905</td>\n",
       "      <td>0.996333</td>\n",
       "      <td>0.063194</td>\n",
       "      <td>...</td>\n",
       "      <td>0.016567</td>\n",
       "      <td>0.950609</td>\n",
       "      <td>0.003459</td>\n",
       "      <td>0.394996</td>\n",
       "      <td>0.810544</td>\n",
       "      <td>0.017332</td>\n",
       "      <td>0.000106</td>\n",
       "      <td>0.005958</td>\n",
       "      <td>0.007091</td>\n",
       "      <td>0.552758</td>\n",
       "    </tr>\n",
       "    <tr>\n",
       "      <th>4</th>\n",
       "      <td>-16.965776</td>\n",
       "      <td>0.340380</td>\n",
       "      <td>0.000166</td>\n",
       "      <td>8.771448</td>\n",
       "      <td>103.155645</td>\n",
       "      <td>0.0</td>\n",
       "      <td>0.257726</td>\n",
       "      <td>0.320306</td>\n",
       "      <td>0.994304</td>\n",
       "      <td>0.064354</td>\n",
       "      <td>...</td>\n",
       "      <td>0.016474</td>\n",
       "      <td>0.936103</td>\n",
       "      <td>0.011376</td>\n",
       "      <td>0.749160</td>\n",
       "      <td>0.628378</td>\n",
       "      <td>0.017358</td>\n",
       "      <td>0.000109</td>\n",
       "      <td>0.006134</td>\n",
       "      <td>0.030034</td>\n",
       "      <td>0.552824</td>\n",
       "    </tr>\n",
       "    <tr>\n",
       "      <th>...</th>\n",
       "      <td>...</td>\n",
       "      <td>...</td>\n",
       "      <td>...</td>\n",
       "      <td>...</td>\n",
       "      <td>...</td>\n",
       "      <td>...</td>\n",
       "      <td>...</td>\n",
       "      <td>...</td>\n",
       "      <td>...</td>\n",
       "      <td>...</td>\n",
       "      <td>...</td>\n",
       "      <td>...</td>\n",
       "      <td>...</td>\n",
       "      <td>...</td>\n",
       "      <td>...</td>\n",
       "      <td>...</td>\n",
       "      <td>...</td>\n",
       "      <td>...</td>\n",
       "      <td>...</td>\n",
       "      <td>...</td>\n",
       "      <td>...</td>\n",
       "    </tr>\n",
       "    <tr>\n",
       "      <th>496</th>\n",
       "      <td>-76.901112</td>\n",
       "      <td>0.340207</td>\n",
       "      <td>0.000146</td>\n",
       "      <td>8.765426</td>\n",
       "      <td>103.155360</td>\n",
       "      <td>0.0</td>\n",
       "      <td>0.000327</td>\n",
       "      <td>0.315875</td>\n",
       "      <td>0.995021</td>\n",
       "      <td>0.068607</td>\n",
       "      <td>...</td>\n",
       "      <td>0.016171</td>\n",
       "      <td>0.954308</td>\n",
       "      <td>0.000238</td>\n",
       "      <td>0.000217</td>\n",
       "      <td>0.919359</td>\n",
       "      <td>0.016803</td>\n",
       "      <td>0.000109</td>\n",
       "      <td>0.006344</td>\n",
       "      <td>0.000264</td>\n",
       "      <td>0.551870</td>\n",
       "    </tr>\n",
       "    <tr>\n",
       "      <th>497</th>\n",
       "      <td>-76.905182</td>\n",
       "      <td>0.340228</td>\n",
       "      <td>0.000146</td>\n",
       "      <td>8.765439</td>\n",
       "      <td>103.155405</td>\n",
       "      <td>0.0</td>\n",
       "      <td>0.000327</td>\n",
       "      <td>0.317203</td>\n",
       "      <td>0.995259</td>\n",
       "      <td>0.067640</td>\n",
       "      <td>...</td>\n",
       "      <td>0.016259</td>\n",
       "      <td>0.954933</td>\n",
       "      <td>0.000238</td>\n",
       "      <td>0.000217</td>\n",
       "      <td>0.919793</td>\n",
       "      <td>0.016878</td>\n",
       "      <td>0.000109</td>\n",
       "      <td>0.006286</td>\n",
       "      <td>0.000264</td>\n",
       "      <td>0.551996</td>\n",
       "    </tr>\n",
       "    <tr>\n",
       "      <th>498</th>\n",
       "      <td>-76.909235</td>\n",
       "      <td>0.340249</td>\n",
       "      <td>0.000145</td>\n",
       "      <td>8.765452</td>\n",
       "      <td>103.155451</td>\n",
       "      <td>0.0</td>\n",
       "      <td>0.000327</td>\n",
       "      <td>0.318530</td>\n",
       "      <td>0.995493</td>\n",
       "      <td>0.066678</td>\n",
       "      <td>...</td>\n",
       "      <td>0.016347</td>\n",
       "      <td>0.955552</td>\n",
       "      <td>0.000238</td>\n",
       "      <td>0.000217</td>\n",
       "      <td>0.920222</td>\n",
       "      <td>0.016952</td>\n",
       "      <td>0.000108</td>\n",
       "      <td>0.006228</td>\n",
       "      <td>0.000264</td>\n",
       "      <td>0.552122</td>\n",
       "    </tr>\n",
       "    <tr>\n",
       "      <th>499</th>\n",
       "      <td>-76.913255</td>\n",
       "      <td>0.340270</td>\n",
       "      <td>0.000144</td>\n",
       "      <td>8.765464</td>\n",
       "      <td>103.155497</td>\n",
       "      <td>0.0</td>\n",
       "      <td>0.000327</td>\n",
       "      <td>0.319855</td>\n",
       "      <td>0.995720</td>\n",
       "      <td>0.065730</td>\n",
       "      <td>...</td>\n",
       "      <td>0.016436</td>\n",
       "      <td>0.956159</td>\n",
       "      <td>0.000238</td>\n",
       "      <td>0.000217</td>\n",
       "      <td>0.920643</td>\n",
       "      <td>0.017026</td>\n",
       "      <td>0.000108</td>\n",
       "      <td>0.006171</td>\n",
       "      <td>0.000264</td>\n",
       "      <td>0.552248</td>\n",
       "    </tr>\n",
       "    <tr>\n",
       "      <th>500</th>\n",
       "      <td>-76.916253</td>\n",
       "      <td>0.340291</td>\n",
       "      <td>0.000144</td>\n",
       "      <td>8.765476</td>\n",
       "      <td>103.155543</td>\n",
       "      <td>0.0</td>\n",
       "      <td>0.000327</td>\n",
       "      <td>0.321177</td>\n",
       "      <td>0.995939</td>\n",
       "      <td>0.064796</td>\n",
       "      <td>...</td>\n",
       "      <td>0.016524</td>\n",
       "      <td>0.956753</td>\n",
       "      <td>0.000238</td>\n",
       "      <td>0.000217</td>\n",
       "      <td>0.921054</td>\n",
       "      <td>0.017101</td>\n",
       "      <td>0.000107</td>\n",
       "      <td>0.006115</td>\n",
       "      <td>0.000263</td>\n",
       "      <td>0.552374</td>\n",
       "    </tr>\n",
       "  </tbody>\n",
       "</table>\n",
       "<p>501 rows × 25 columns</p>\n",
       "</div>"
      ],
      "text/plain": [
       "name          V     Ca_SR       Cai       Nai          Ki  Ca_ligand  \\\n",
       "0    -76.916795  0.340291  0.000144  8.765478  103.155554        0.0   \n",
       "1    -70.993276  0.340312  0.000143  8.765484  103.155583        0.0   \n",
       "2    -52.848208  0.340332  0.000142  8.765552  103.155578        0.0   \n",
       "3    -20.842706  0.340353  0.000146  8.770349  103.155607        0.0   \n",
       "4    -16.965776  0.340380  0.000166  8.771448  103.155645        0.0   \n",
       "..          ...       ...       ...       ...         ...        ...   \n",
       "496  -76.901112  0.340207  0.000146  8.765426  103.155360        0.0   \n",
       "497  -76.905182  0.340228  0.000146  8.765439  103.155405        0.0   \n",
       "498  -76.909235  0.340249  0.000145  8.765452  103.155451        0.0   \n",
       "499  -76.913255  0.340270  0.000144  8.765464  103.155497        0.0   \n",
       "500  -76.916253  0.340291  0.000144  8.765476  103.155543        0.0   \n",
       "\n",
       "name         d        f1       fCa       Xr1  ...        Xf         s  \\\n",
       "0     0.000327  0.321386  0.996090  0.064386  ...  0.016537  0.957253   \n",
       "1     0.000365  0.322661  0.996262  0.063509  ...  0.016610  0.957697   \n",
       "2     0.001228  0.323683  0.996382  0.062907  ...  0.016625  0.957246   \n",
       "3     0.071439  0.322905  0.996333  0.063194  ...  0.016567  0.950609   \n",
       "4     0.257726  0.320306  0.994304  0.064354  ...  0.016474  0.936103   \n",
       "..         ...       ...       ...       ...  ...       ...       ...   \n",
       "496   0.000327  0.315875  0.995021  0.068607  ...  0.016171  0.954308   \n",
       "497   0.000327  0.317203  0.995259  0.067640  ...  0.016259  0.954933   \n",
       "498   0.000327  0.318530  0.995493  0.066678  ...  0.016347  0.955552   \n",
       "499   0.000327  0.319855  0.995720  0.065730  ...  0.016436  0.956159   \n",
       "500   0.000327  0.321177  0.995939  0.064796  ...  0.016524  0.956753   \n",
       "\n",
       "name         r      dCaT      fCaT         R         O         I      a_ur  \\\n",
       "0     0.000238  0.000217  0.921515  0.017113  0.000107  0.006098  0.000263   \n",
       "1     0.000250  0.000441  0.921225  0.017188  0.000106  0.006043  0.000271   \n",
       "2     0.000405  0.005470  0.909426  0.017262  0.000106  0.005990  0.000407   \n",
       "3     0.003459  0.394996  0.810544  0.017332  0.000106  0.005958  0.007091   \n",
       "4     0.011376  0.749160  0.628378  0.017358  0.000109  0.006134  0.030034   \n",
       "..         ...       ...       ...       ...       ...       ...       ...   \n",
       "496   0.000238  0.000217  0.919359  0.016803  0.000109  0.006344  0.000264   \n",
       "497   0.000238  0.000217  0.919793  0.016878  0.000109  0.006286  0.000264   \n",
       "498   0.000238  0.000217  0.920222  0.016952  0.000108  0.006228  0.000264   \n",
       "499   0.000238  0.000217  0.920643  0.017026  0.000108  0.006171  0.000264   \n",
       "500   0.000238  0.000217  0.921054  0.017101  0.000107  0.006115  0.000263   \n",
       "\n",
       "name      i_ur  \n",
       "0     0.552385  \n",
       "1     0.552512  \n",
       "2     0.552643  \n",
       "3     0.552758  \n",
       "4     0.552824  \n",
       "..         ...  \n",
       "496   0.551870  \n",
       "497   0.551996  \n",
       "498   0.552122  \n",
       "499   0.552248  \n",
       "500   0.552374  \n",
       "\n",
       "[501 rows x 25 columns]"
      ]
     },
     "execution_count": 155,
     "metadata": {},
     "output_type": "execute_result"
    }
   ],
   "source": [
    "AP"
   ]
  },
  {
   "cell_type": "code",
   "execution_count": 156,
   "metadata": {},
   "outputs": [
    {
     "data": {
      "text/plain": [
       "[<matplotlib.lines.Line2D at 0x7fc2e1323790>]"
      ]
     },
     "execution_count": 156,
     "metadata": {},
     "output_type": "execute_result"
    },
    {
     "data": {
      "image/png": "[encoded data removed]",
      "text/plain": [
       "<Figure size 432x288 with 1 Axes>"
      ]
     },
     "metadata": {
      "needs_background": "light"
     },
     "output_type": "display_data"
    }
   ],
   "source": [
    "plt.plot(AP.V)"
   ]
  },
  {
   "cell_type": "code",
   "execution_count": 157,
   "metadata": {},
   "outputs": [],
   "source": [
    "dirname_states = \"../data/kernik_clancy/IK1_x2_biphasic/states\"\n",
    "dirname_waveforms = \"../data/kernik_clancy/IK1_x2_biphasic/phenotypes\"\n",
    "\n",
    "AP.to_csv(os.path.join(dirname_waveforms, f'phenotype_{CL}.csv'), index=False)\n",
    "np.savetxt(os.path.join(dirname_states, f'state_{CL}.txt'), state)"
   ]
  },
  {
   "cell_type": "code",
   "execution_count": null,
   "metadata": {},
   "outputs": [],
   "source": []
  },
  {
   "cell_type": "code",
   "execution_count": null,
   "metadata": {},
   "outputs": [],
   "source": []
  }
 ],
 "metadata": {
  "kernelspec": {
   "display_name": "py3.8_hpl",
   "language": "python",
   "name": "py3.8_hpl"
  },
  "language_info": {
   "codemirror_mode": {
    "name": "ipython",
    "version": 3
   },
   "file_extension": ".py",
   "mimetype": "text/x-python",
   "name": "python",
   "nbconvert_exporter": "python",
   "pygments_lexer": "ipython3",
   "version": "3.8.6"
  }
 },
 "nbformat": 4,
 "nbformat_minor": 4
}
