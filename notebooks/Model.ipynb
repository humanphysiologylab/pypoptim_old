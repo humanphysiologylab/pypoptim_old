{
 "cells": [
  {
   "cell_type": "code",
   "execution_count": 1,
   "metadata": {},
   "outputs": [],
   "source": [
    "import numpy as np\n",
    "import pandas as pd\n",
    "from scipy.integrate import solve_ivp\n",
    "\n",
    "from src.model.maleckar import init_states_constants, compute_rates, legend\n",
    "from src.helpers import get_value_by_key, update_array_from_kwargs\n",
    "from matplotlib import pyplot as plt"
   ]
  },
  {
   "cell_type": "code",
   "execution_count": 6,
   "metadata": {},
   "outputs": [],
   "source": [
    "def run_model(S, C, R, A, config, legend, only_last_beat=True):\n",
    "\n",
    "    stim_period = get_value_by_key(C, legend['constants'], 'stim_period')\n",
    "    t_sampling = config['t_sampling']\n",
    "    n_beats = config['n_beats']\n",
    "\n",
    "    t_space = np.linspace(0, stim_period * n_beats, int(stim_period / t_sampling) * n_beats + 1, endpoint=True)\n",
    "    t_tail = np.linspace(stim_period * (n_beats - 1), stim_period * n_beats, int(stim_period / t_sampling) + 1, endpoint=True)\n",
    "    t_span = 0, t_space[-1]\n",
    "    \n",
    "    if only_last_beat:\n",
    "        t_eval = t_tail\n",
    "    else:\n",
    "        t_eval = t_space\n",
    "\n",
    "    sol = solve_ivp(compute_rates, y0=S,\n",
    "                    t_span=t_span, t_eval=t_eval,\n",
    "                    args=(C, R, A),\n",
    "                    method='LSODA', rtol=1e-9,\n",
    "                    max_step=1. * t_sampling)\n",
    "    return sol"
   ]
  },
  {
   "cell_type": "code",
   "execution_count": 24,
   "metadata": {},
   "outputs": [],
   "source": [
    "S, C = init_states_constants()\n",
    "R = np.zeros_like(S)\n",
    "A = np.zeros(len(legend['algebraic']))\n",
    "\n",
    "n_beats = 100\n",
    "CL = 1000\n",
    "stim_period = CL/1000.\n",
    "t_sampling = 1e-3\n",
    "\n",
    "C = update_array_from_kwargs(C, legend['constants'], stim_period=stim_period)\n",
    "\n",
    "config = dict(t_sampling=t_sampling,\n",
    "              n_beats=n_beats)"
   ]
  },
  {
   "cell_type": "code",
   "execution_count": 25,
   "metadata": {},
   "outputs": [],
   "source": [
    "#np.savetxt(\"../../SVALKA/ctypes/S.txt\", S)\n",
    "#np.savetxt(\"../../SVALKA/ctypes/C.txt\", C)"
   ]
  },
  {
   "cell_type": "code",
   "execution_count": 26,
   "metadata": {},
   "outputs": [
    {
     "name": "stdout",
     "output_type": "stream",
     "text": [
      "11.7 s ± 76.5 ms per loop (mean ± std. dev. of 7 runs, 1 loop each)\n"
     ]
    }
   ],
   "source": [
    "%timeit sol = run_model(S, C, R, A, config, legend, only_last_beat=False)"
   ]
  },
  {
   "cell_type": "code",
   "execution_count": 9,
   "metadata": {},
   "outputs": [],
   "source": [
    "res = sol.y\n",
    "\n",
    "df = pd.DataFrame(res.T, columns=legend['states']['name'])"
   ]
  },
  {
   "cell_type": "code",
   "execution_count": 10,
   "metadata": {},
   "outputs": [
    {
     "data": {
      "text/plain": [
       "[<matplotlib.lines.Line2D at 0x7f3e42dfd050>]"
      ]
     },
     "execution_count": 10,
     "metadata": {},
     "output_type": "execute_result"
    },
    {
     "data": {
      "image/png": "[encoded data removed]",
      "text/plain": [
       "<Figure size 432x288 with 1 Axes>"
      ]
     },
     "metadata": {
      "needs_background": "light"
     },
     "output_type": "display_data"
    }
   ],
   "source": [
    "plt.plot(sol.y[0])"
   ]
  },
  {
   "cell_type": "code",
   "execution_count": null,
   "metadata": {},
   "outputs": [],
   "source": []
  }
 ],
 "metadata": {
  "kernelspec": {
   "display_name": "Python 3",
   "language": "python",
   "name": "python3"
  },
  "language_info": {
   "codemirror_mode": {
    "name": "ipython",
    "version": 3
   },
   "file_extension": ".py",
   "mimetype": "text/x-python",
   "name": "python",
   "nbconvert_exporter": "python",
   "pygments_lexer": "ipython3",
   "version": "3.7.7"
  }
 },
 "nbformat": 4,
 "nbformat_minor": 4
}
