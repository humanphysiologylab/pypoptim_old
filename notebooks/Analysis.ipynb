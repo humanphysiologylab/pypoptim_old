{
 "cells": [
  {
   "cell_type": "code",
   "execution_count": 6,
   "metadata": {},
   "outputs": [],
   "source": [
    "import numpy as np\n",
    "import pandas as pd\n",
    "import matplotlib.pyplot as plt\n",
    "import seaborn as sns\n",
    "\n",
    "import matplotlib\n",
    "matplotlib.rcParams['figure.facecolor'] = 'white'\n",
    "matplotlib.rcParams['savefig.dpi'] = 300\n",
    "\n",
    "import seaborn as sns\n",
    "\n",
    "from tqdm.auto import tqdm\n",
    "\n",
    "import time\n",
    "import os\n",
    "import json\n",
    "import pickle\n",
    "\n",
    "import gc\n",
    "\n",
    "import sys\n",
    "sys.path.append(\"../\")\n",
    "\n",
    "from src.helpers import calculate_RMSE_balanced, calculate_RMSE, Timer, autoscaling, \\\n",
    "                        calculate_composite_RMSE_V_CaT, update_array_from_kwargs, get_value_by_key\n",
    "\n",
    "from src.postprocessing import collect_results, create_C_S\n",
    "\n",
    "from src.visualization import plot_waveforms\n",
    "\n",
    "idx = pd.IndexSlice\n",
    "\n",
    "# cluster_name = \"pikunov.av@calc.cod.phystech.edu\"\n",
    "cluster_name = \"-o ProxyJump=\\\"visitor@dodo.inm.ras.ru\\\" pikunov@cluster2.inm.ras.ru\" "
   ]
  },
  {
   "cell_type": "markdown",
   "metadata": {},
   "source": [
    "# From cluster"
   ]
  },
  {
   "cell_type": "code",
   "execution_count": 2,
   "metadata": {},
   "outputs": [
    {
     "name": "stdin",
     "output_type": "stream",
     "text": [
      " # output_folder_name was set to /data90t/biomath/pikunov/pypoptim/results/koivumaki/syn/210413_134829 # output_folder_name was set to /data90t/biomath/pikunov/pypoptim/results/koivumaki/syn/210413_154449 # output_folder_name was set to /data90t/biomath/pikunov/pypoptim/results/koivumaki/syn/210413_174037 # output_folder_name was set to /data90t/biomath/pikunov/pypoptim/results/koivumaki/syn/210413_193747 # output_folder_name was set to /data90t/biomath/pikunov/pypoptim/results/koivumaki/syn/210413_213549 # output_folder_name was set to /data90t/biomath/pikunov/pypoptim/results/koivumaki/syn/210413_233310 # output_folder_name was set to /data90t/biomath/pikunov/pypoptim/results/koivumaki/syn/210414_013111\n"
     ]
    },
    {
     "data": {
      "text/plain": [
       "['koivumaki/syn/210413_134829',\n",
       " 'koivumaki/syn/210413_154449',\n",
       " 'koivumaki/syn/210413_174037',\n",
       " 'koivumaki/syn/210413_193747',\n",
       " 'koivumaki/syn/210413_213549',\n",
       " 'koivumaki/syn/210413_233310',\n",
       " 'koivumaki/syn/210414_013111']"
      ]
     },
     "execution_count": 2,
     "metadata": {},
     "output_type": "execute_result"
    }
   ],
   "source": [
    "s = input()\n",
    "\n",
    "['/'.join(x.split('/')[-3:]) for x in s.split() if 'results' in x]"
   ]
  },
  {
   "cell_type": "code",
   "execution_count": 14,
   "metadata": {},
   "outputs": [
    {
     "name": "stdin",
     "output_type": "stream",
     "text": [
      " # output_folder_name was set to /data90t/biomath/pikunov/pypoptim/results/koivumaki/syn/210408_193146 # output_folder_name was set to /data90t/biomath/pikunov/pypoptim/results/koivumaki/syn/210408_213459 # output_folder_name was set to /data90t/biomath/pikunov/pypoptim/results/koivumaki/syn/210408_233001 # output_folder_name was set to /data90t/biomath/pikunov/pypoptim/results/koivumaki/syn/210409_013215 # output_folder_name was set to /data90t/biomath/pikunov/pypoptim/results/koivumaki/syn/210409_032943 # output_folder_name was set to /data90t/biomath/pikunov/pypoptim/results/koivumaki/syn/210409_053423 # output_folder_name was set to /data90t/biomath/pikunov/pypoptim/results/koivumaki/syn/210409_072735\n"
     ]
    },
    {
     "data": {
      "text/plain": [
       "['210408_193146',\n",
       " '210408_213459',\n",
       " '210408_233001',\n",
       " '210409_013215',\n",
       " '210409_032943',\n",
       " '210409_053423',\n",
       " '210409_072735']"
      ]
     },
     "execution_count": 14,
     "metadata": {},
     "output_type": "execute_result"
    }
   ],
   "source": [
    "s = input()\n",
    "\n",
    "['/'.join(x.split('/')[-1:]) for x in s.split() if 'results' in x]"
   ]
  },
  {
   "cell_type": "code",
   "execution_count": null,
   "metadata": {},
   "outputs": [],
   "source": [
    "folder_name_src = \"/home/common/pikunov.av/pypoptim/results/voigt\"\n",
    "folder_name_dst = \"../results/koivumaki/voigt\"\n",
    "\n",
    "folder_name_dst = os.path.abspath(folder_name_dst)\n",
    "\n",
    "case_list = \"G1/C1/210122_051129\", \"G2/C2/210122_082053\", \"G3/C1/210121_212326\", \"G4/C8/210122_001806\"\n",
    "#case_list = \"G1/C1/210122_221831\", \"G2/C2/210123_122249\", \"G3/C1/210122_142150\", \"G4/C8/210123_031303\"\n",
    "\n",
    "case_list = \"G1/C3/210126_181937\", \"G2/C4/210127_032432\", \"G3/C2/210127_141706\"\n",
    "\n",
    "case_list = \"G1/C2/210203_181931\", \"G2/C2/210204_030703\", \n",
    "case_list += 'G3/C5/210204_094751', 'G4/C3/210204_174434', 'G4/C4/210205_013028', 'G4/C2/210205_095852'\n",
    "\n",
    "# # kernik\n",
    "# folder_name_src = \"/home/common/pikunov.av/pypoptim/results/kernik_clancy/syn\"\n",
    "# folder_name_dst = \"../results/kernik_clancy/syn\"\n",
    "case_list = \"210206_175442\", \"210206_201628\"\n",
    "\n",
    "case_list = \"210210_111426\", \"210211_064429\",# \"210209_223739\", # \"210208_185315\",# \"210208_142104\", \"210208_144953\"#\"210208_115045\", \"210208_111459\", \"210208_144953\", \n",
    "\n",
    "\n",
    "# # fluo\n",
    "# folder_name_src = \"/home/common/pikunov.av/pypoptim/results/voigt/fluo/koivumaki\"\n",
    "# folder_name_dst = \"../results/voigt/fluo/koivumaki\"\n",
    "\n",
    "case_list = \"G1/C2/210217_143655\",\n",
    "case_list = \"G1/C3/210217_160358\", \n",
    "\n",
    "case_list = \"G1/C3/210217_214917\", \"G1/C2/210218_072123\"\n",
    "\n",
    "case_list = \"G1/C3/210220_184406\", \"G1/C2/210221_032353\", \"G2/C2/210221_135226\", \"G3/C5/210222_010834\", \"G4/C3/210222_121848\"\n",
    "\n",
    "case_list = \"G1/C3/210225_002135\", \"G1/C2/210225_091843\", \"G2/C2/210225_191126\"\n",
    "\n",
    "case_list = \"G1/C3/210228_152951\", \"G1/C3/210301_044325\"\n",
    "\n",
    "case_list = \"G1/C3/210302_121858\", \"G1/C3/210302_201722\", \"G1/C3/210302_122638\", \"G1/C3/210302_211713\""
   ]
  },
  {
   "cell_type": "code",
   "execution_count": 128,
   "metadata": {},
   "outputs": [],
   "source": [
    "# koivumaki voigt fluo\n",
    "cluster_name = \"pikunov.av@calc.cod.phystech.edu\"\n",
    "folder_name_src = \"/home/common/pikunov.av/pypoptim/results/voigt/fluo/koivumaki\"\n",
    "folder_name_dst = \"../results/voigt/fluo/koivumaki\"\n",
    "\n",
    "#calc\n",
    "case_list = ['G1/C3/210330_221107']\n",
    "# case_list = ['G1/C2/210317_121042',\n",
    "#  'G2/C2/210318_064358',\n",
    "#  'G3/C5/210319_082302',\n",
    "#  'G4/C3/210320_005430']\n",
    "\n",
    "# case_list = ['G1/C2/210320_195816',\n",
    "#  'G2/C2/210321_034945',\n",
    "#  'G3/C5/210321_121346',\n",
    "#  'G4/C3/210321_200601',\n",
    "#  'G4/C4/210322_021113',\n",
    "#  'G4/C2/210322_090126']\n",
    "\n",
    "# case_list += ['G1/C1/210321_205132',\n",
    "#  'G1/C3/210322_065821',\n",
    "#  'G2/C1/210322_164908',\n",
    "#  'G2/C3/210323_101614']"
   ]
  },
  {
   "cell_type": "code",
   "execution_count": 3,
   "metadata": {},
   "outputs": [],
   "source": [
    "cluster_name = \"-o ProxyJump=\\\"visitor@dodo.inm.ras.ru\\\" pikunov@cluster2.inm.ras.ru\" \n",
    "folder_name_src = \"/data90t/biomath/pikunov/pypoptim/results/voigt/fluo/koivumaki\"\n",
    "folder_name_dst = \"../results/voigt/fluo/koivumaki\"\n",
    "\n",
    "\n",
    "# #INM\n",
    "# case_list += ['G1/C2/210317_171137',\n",
    "#  'G2/C2/210317_200111',\n",
    "#  'G3/C5/210318_000452',\n",
    "#  'G4/C3/210318_023419']\n",
    "\n",
    "# case_list += ['G1/C2/210320_135029',\n",
    "#  'G2/C2/210320_161855',\n",
    "#  'G3/C5/210320_194441',\n",
    "#  'G4/C3/210320_220329',\n",
    "#  'G4/C4/210321_001246']\n",
    "\n",
    "# case_list = ['G1/C3/210329_202403',\n",
    "#  'G1/C2/210329_213731',\n",
    "#  'G2/C2/210329_230350',\n",
    "#  'G3/C5/210330_011124',\n",
    "#  'G4/C3/210330_022607',\n",
    "#  'G4/C4/210330_034054',\n",
    "#  'G4/C2/210330_050814',\n",
    "#  'G4/C1/210330_062930']\n",
    "\n",
    "# CaT_Shared\n",
    "case_list = ['G1/C3/210330_225356',\n",
    " 'G1/C2/210331_001124',\n",
    " 'G2/C2/210331_013932',\n",
    " 'G3/C5/210331_034105',\n",
    " 'G4/C3/210331_045238',\n",
    " 'G4/C4/210331_060241',\n",
    " 'G4/C2/210331_072253',\n",
    " 'G4/C1/210331_083730']\n",
    "\n",
    "case_list += [# 'G1/C3/210331_184811',\n",
    " 'G2/C1/210331_202044',\n",
    " 'G2/C3/210331_224948',\n",
    " 'G2/C4/210401_002027',\n",
    " 'G3/C1/210401_015226',\n",
    " 'G3/C2/210401_032417',\n",
    " 'G3/C3/210401_045611',\n",
    " # 'G3/C4/210401_061854',\n",
    "             ]\n",
    "\n",
    "case_list += ['G1/C1/210404_122656',\n",
    "              'G3/C4/210404_140451',\n",
    " 'G4/C5/210404_154645',\n",
    " 'G4/C6/210404_171701',\n",
    " 'G4/C7/210404_203302',\n",
    " #'G4/C8/210404_235707',\n",
    " 'G4/C8/210405_151337']\n",
    "\n",
    "# rel\n",
    "#case_list = ['G1/C3/210331_154117', 'G4/C1/210331_181459']"
   ]
  },
  {
   "cell_type": "code",
   "execution_count": 4,
   "metadata": {},
   "outputs": [],
   "source": [
    "case_list =  ['G4/C1/210331_083730',\n",
    "              'G4/C1/210407_180923',\n",
    "              'G4/C1/210407_184929',\n",
    "              'G4/C1/210407_192955',\n",
    "              'G4/C1/210407_201034',\n",
    "              \n",
    " 'G4/C7/210404_203302',\n",
    " 'G4/C7/210407_205049',\n",
    " 'G4/C7/210407_213221',\n",
    " 'G4/C7/210407_221337',\n",
    " 'G4/C7/210407_225515']"
   ]
  },
  {
   "cell_type": "code",
   "execution_count": 5,
   "metadata": {},
   "outputs": [],
   "source": [
    "# rel vs normal\n",
    "case_list = ['G1/C3/210331_154117', 'G1/C3/210331_184811', 'G1/C3/210330_225356',\n",
    "             'G4/C1/210331_181459', 'G4/C1/210331_083730']"
   ]
  },
  {
   "cell_type": "code",
   "execution_count": 40,
   "metadata": {},
   "outputs": [],
   "source": [
    "# grandi fluo\n",
    "\n",
    "cluster_name = \"-o ProxyJump=\\\"visitor@dodo.inm.ras.ru\\\" pikunov@cluster2.inm.ras.ru\" \n",
    "folder_name_src = \"/data90t/biomath/pikunov/pypoptim/results/voigt/fluo/grandi\"\n",
    "folder_name_dst = \"../results/voigt/fluo/grandi\"\n",
    "\n",
    "case_list = ['G1/C3/210329_204654',\n",
    " 'G1/C2/210329_210003',\n",
    " 'G2/C2/210329_211358',\n",
    " 'G3/C5/210329_212600',\n",
    " 'G4/C3/210329_213920',\n",
    " 'G4/C4/210329_215233',\n",
    " 'G4/C2/210329_220545',\n",
    " 'G4/C1/210329_221844']\n",
    "\n",
    "case_list = ['G1/C3/210330_233855',\n",
    " 'G1/C2/210330_234934',\n",
    " 'G2/C2/210331_000126',\n",
    " 'G3/C5/210331_001125',\n",
    " 'G4/C3/210331_002240',\n",
    " 'G4/C4/210331_003345',\n",
    " 'G4/C2/210331_004523',\n",
    " 'G4/C1/210331_005710']"
   ]
  },
  {
   "cell_type": "code",
   "execution_count": null,
   "metadata": {},
   "outputs": [],
   "source": [
    "# rheeda\n",
    "folder_name_src = \"/home/common/pikunov.av/pypoptim/results/maleckar/voigt/\"\n",
    "\n",
    "folder_name_dst = \"../results/maleckar/voigt\"\n",
    "\n",
    "case_list = [\"G1/C1/210309_183557\", \"G1/C1/210309_184248\", \"G1/C1/210310_232739\", \"G1/C1/210310_132407\",\n",
    "             \"G2/C2/210309_185119\", \"G2/C2/210310_200410\", \"G2/C2/210310_115504\", \"G2/C2/210309_185044\",\n",
    "             \"G3/C1/210310_001850\", \"G3/C1/210310_031312\", \"G3/C1/210310_083840\", \"G3/C1/210310_155848\",\n",
    "             \"G4/C4/210310_022323\", \"G4/C4/210310_051531\", \"G4/C4/210310_070358\", \"G4/C4/210310_112458\"]"
   ]
  },
  {
   "cell_type": "code",
   "execution_count": 34,
   "metadata": {},
   "outputs": [],
   "source": [
    "# grandi syn\n",
    "folder_name_src = \"/home/common/pikunov.av/pypoptim/results/grandi/syn\"\n",
    "folder_name_dst = \"../results/grandi/syn\"\n",
    "\n",
    "true_path = \"../data/grandi/syn/phenotypes\"\n",
    "items = ['Na_i', 'Ca_sr', 'K_i']\n",
    "\n",
    "# v\n",
    "case_list = [\"210310_223451\", \"210311_000513\", \"210311_013721\", \"210311_025338\", \"210311_042913\",\\\n",
    "            \"210311_062128\", \"210311_075523\", \"210311_093706\", \"210311_110839\", \"210311_125300\"]\n",
    "\n",
    "n_v = len(case_list)\n",
    "\n",
    "# v & cai\n",
    "case_list += ['210311_201931',\n",
    " '210311_212910',\n",
    " '210311_225250',\n",
    "'210312_003349',\n",
    " '210312_015135',\n",
    " '210312_033123',\n",
    "             ]"
   ]
  },
  {
   "cell_type": "code",
   "execution_count": 79,
   "metadata": {},
   "outputs": [],
   "source": [
    "# maleckar syn\n",
    "folder_name_src = \"/home/common/pikunov.av/pypoptim/results/maleckar/syn\"\n",
    "folder_name_dst = \"../results/maleckar/syn\"\n",
    "\n",
    "true_path = \"../data/maleckar/original/phenotypes\"\n",
    "items = ['Na_i', 'Ca_rel', 'K_i']\n",
    "\n",
    "# v\n",
    "case_list = ['210310_225257',\n",
    " '210311_013640',\n",
    " '210311_032555',\n",
    " '210311_054743',\n",
    " '210311_073531',\n",
    " '210311_094906',\n",
    " '210311_115017',\n",
    " '210311_135420',\n",
    " #'210311_160744',  broken\n",
    " '210311_161211']\n",
    "\n",
    "n_v = len(case_list)\n",
    "\n",
    "# v & cai\n",
    "case_list += ['210311_202842',\n",
    " '210311_222521',\n",
    " '210312_004138',\n",
    " '210312_023219',\n",
    " '210312_051724'] + ['210313_151517',\n",
    " '210313_182307',\n",
    " '210313_214123',\n",
    " '210314_001940',\n",
    " '210314_025419',\n",
    " '210314_052745',\n",
    " '210314_082104',\n",
    " '210314_114224',\n",
    " '210314_145656',\n",
    " '210314_175726']"
   ]
  },
  {
   "cell_type": "code",
   "execution_count": 18,
   "metadata": {},
   "outputs": [],
   "source": [
    "# koivumaki syn\n",
    "folder_name_src = \"~/pypoptim/results/koivumaki/syn\"\n",
    "folder_name_dst = \"../results/koivumaki/syn\"\n",
    "\n",
    "true_path = \"../data/koivumaki/original/phenotypes\"\n",
    "items = ['Nai', 'CaSR', 'Ki']\n",
    "\n",
    "# v\n",
    "case_list = ['210311_225305',\n",
    " '210312_051614',\n",
    " '210312_113740',\n",
    " '210312_180918',\n",
    " '210313_002351',\n",
    " '210313_070541',\n",
    " '210313_130459', # broken\n",
    " ]\n",
    "\n",
    "n_v = len(case_list)\n",
    "\n",
    "# v ca\n",
    "# case_list += ['210311_225555', '210312_090417'] + ['210313_151417',\n",
    "#  '210313_213301',\n",
    "#  '210314_040130',\n",
    "#  '210314_103504',\n",
    "#  '210314_165914',\n",
    "#  '210314_235019',\n",
    "#  '210315_061328',\n",
    "#  #'210315_123458', # broken \n",
    "# ]\n",
    "\n",
    "case_list += ['210317_115717', '210317_183542', '210318_011304', '210318_075304']\n",
    "\n",
    "# fixed SERCA multiplier\n",
    "\n",
    "# AP\n",
    "case_list = ['210408_193146',\n",
    " '210408_213459',\n",
    " '210408_233001',\n",
    " '210409_013215',\n",
    " '210409_032943',\n",
    " '210409_053423',\n",
    " #'210409_072735',\n",
    "            ]\n",
    "\n",
    "# # CaT\n",
    "# case_list = ['210413_134829',\n",
    "#  '210413_154449',\n",
    "#  '210413_174037',\n",
    "#  '210413_193747',\n",
    "#  '210413_213549',\n",
    "#  '210413_233310',\n",
    "#  '210414_013111']"
   ]
  },
  {
   "cell_type": "code",
   "execution_count": 15,
   "metadata": {},
   "outputs": [],
   "source": [
    "# timofeev\n",
    "folder_name_src = \"/home/common/pikunov.av/pypoptim/results/timofeev/rec18/\"\n",
    "folder_name_dst = \"../results/timofeev/rec18\"\n",
    "\n",
    "cluster_name = \"-o ProxyJump=\\\"visitor@dodo.inm.ras.ru\\\" pikunov@cluster2.inm.ras.ru\" \n",
    "folder_name_src = \"/data90t/biomath/pikunov/pypoptim/results/timofeev/rec18/\"\n",
    "\n",
    "case_list = ['210407_233856']"
   ]
  },
  {
   "cell_type": "code",
   "execution_count": 16,
   "metadata": {},
   "outputs": [],
   "source": [
    "item_list = ['dump_last.npy',\n",
    "             # 'dump.bin',\n",
    "             'genes_best.csv',\n",
    "             'dump_elite.npy',\n",
    "             #'organism_best.pickle',\n",
    "             'phenotype/*.csv',\n",
    "             'config_backup.pickle']\n",
    "\n",
    "text = \"\"\n",
    "\n",
    "for case in case_list:\n",
    "    \n",
    "    folder_name = os.path.join(folder_name_dst, case)\n",
    "    os.makedirs(folder_name, exist_ok=True)\n",
    "    \n",
    "    for item in item_list:\n",
    "        src = os.path.join(folder_name_src, case, item)\n",
    "        head, _ = os.path.split(item)\n",
    "        if head:\n",
    "            dst = os.path.join(folder_name_dst, case, head)\n",
    "            os.makedirs(dst, exist_ok=True)\n",
    "        else:\n",
    "            dst = os.path.join(folder_name_dst, case)\n",
    "            \n",
    "        dst = os.path.abspath(dst)\n",
    "            \n",
    "        request = f\"scp -r {cluster_name}:{src} {dst}\\n\"\n",
    "        text += request\n",
    "        \n",
    "filename_script = \"../misc/from_cluster.sh\"\n",
    "with open(filename_script, 'w') as f:\n",
    "    f.write(text)"
   ]
  },
  {
   "cell_type": "raw",
   "metadata": {},
   "source": [
    "n9pWXiwN"
   ]
  },
  {
   "cell_type": "code",
   "execution_count": null,
   "metadata": {},
   "outputs": [],
   "source": [
    "!bash ../misc/from_cluster.sh"
   ]
  },
  {
   "cell_type": "markdown",
   "metadata": {},
   "source": [
    "# Data loading"
   ]
  },
  {
   "cell_type": "code",
   "execution_count": null,
   "metadata": {},
   "outputs": [],
   "source": [
    "case_list = 'G3/C1/201224_215531', 'G3/C1/201224_210103', 'G3/C1/201223_220723', \n",
    "#case_list = 'G4/C8/201223_232912',\n",
    "#case_list = 'G2/C2/201224_125711',\n",
    "#case_list = 'G1/C1/201225_092709',\n",
    "\n",
    "case_list = 'G3/C1/201223_220723', \n",
    "case_list = 'G3/C1/210113_133246',\n",
    "case_list = 'G3/C1/210114_012849',\n",
    "\n",
    "case_list = 'G3/C1/210114_153411',\n",
    "#case_list = 'G3/C1/210114_154059',\n",
    "#case_list = 'G3/C1/210114_154032',\n",
    "\n",
    "#case_list = 'G3/C1/210114_153411', 'G3/C1/210114_154059', 'G3/C1/210114_154032'\n",
    "\n",
    "# ical_ghk\n",
    "# case_list = \"G1/C1/210115_115857\", # 3D ok\n",
    "# case_list = \"G2/C2/210115_183711\", # 3D ok\n",
    "case_list = 'G3/C1/210114_153411', 'G3/C1/210115_113955',\n",
    "case_list = \"G4/C8/210116_070854\",\n",
    "\n",
    "# case_list = \"G1/C1/210115_115857\", \"G2/C2/210115_183711\", 'G3/C1/210114_153411', \"G4/C8/210116_070854\"\n",
    "\n",
    "# ical_ghk_tor\n",
    "# case_list = \"G1/C1/210118_200016\",\n",
    "# case_list = \"G2/C2/210119_054105\",\n",
    "# case_list = \"G3/C1/210118_195415\",\n",
    "# case_list = \"G4/C8/210120_003000\",\n",
    "\n",
    "# case_list = \"G1/C1/210118_200016\", \"G2/C2/210119_054105\", \"G3/C1/210118_195415\", \"G4/C8/210120_003000\"\n",
    "\n",
    "#ical_ghk + ical_gh_tor\n",
    "case_list = [\"G1/C1/210118_200016\", \"G2/C2/210119_054105\", \"G3/C1/210118_195415\", \"G4/C8/210120_003000\",\n",
    "             \"G1/C1/210115_115857\", \"G2/C2/210115_183711\", 'G3/C1/210114_153411', 'G3/C1/210115_113955', \"G4/C8/210116_070854\",\n",
    "             ]\n",
    "\n",
    "case_list = \"G3/C1/210121_202018\", \"G3/C1/210121_202452\""
   ]
  },
  {
   "cell_type": "code",
   "execution_count": null,
   "metadata": {},
   "outputs": [],
   "source": [
    "# rheeda\n",
    "\n",
    "case_list = ['G1/C1/210310_132407', \"G2/C2/210309_185119\", \"G3/C1/210310_155848\", \"G4/C4/210310_112458\"]"
   ]
  },
  {
   "cell_type": "code",
   "execution_count": null,
   "metadata": {},
   "outputs": [],
   "source": [
    "# rel\n",
    "# case_list += \"G1/C1/210122_221831\", \"G2/C2/210123_122249\", \"G3/C1/210122_142150\", \"G4/C8/210123_031303\"\n",
    "# case_list += \"G1/C3/210126_181937\", \"G2/C4/210127_032432\", \"G3/C2/210127_141706\"\n",
    "\n",
    "case_list = \"G1/C1/210122_051129\", \"G2/C2/210122_082053\", \"G3/C1/210121_212326\", \"G4/C8/210122_001806\"\n",
    "\n",
    "# case_list = \"G1/C1/210309_210820\","
   ]
  },
  {
   "cell_type": "code",
   "execution_count": null,
   "metadata": {},
   "outputs": [],
   "source": [
    "case_list = 'G3/C1/210121_212326', # Rheeda"
   ]
  },
  {
   "cell_type": "code",
   "execution_count": 15,
   "metadata": {},
   "outputs": [],
   "source": [
    "case_list = 'G1/C3/210330_223643',"
   ]
  },
  {
   "cell_type": "code",
   "execution_count": 265,
   "metadata": {},
   "outputs": [],
   "source": [
    "# koivumaki\n",
    "case_list = \"G1/C2/210203_181931\", \"G2/C2/210204_030703\", 'G3/C5/210204_094751', 'G4/C3/210204_174434', 'G4/C4/210205_013028',# 'G4/C2/210205_095852'"
   ]
  },
  {
   "cell_type": "code",
   "execution_count": null,
   "metadata": {},
   "outputs": [],
   "source": [
    "# kernik_clancy\n",
    "#case_list = ,\n",
    "case_list = \"210208_111459\", \"210208_115045\", \"210208_142104\", \"210208_144953\", \"210208_185315\"\n"
   ]
  },
  {
   "cell_type": "code",
   "execution_count": null,
   "metadata": {},
   "outputs": [],
   "source": [
    "# fluo\n",
    "case_list = \"G2/C2/210225_191126\",\n",
    "\n",
    "case_list = \"G1/C3/210302_121858\", \"G1/C3/210302_122638\", # cat only\n",
    "\n",
    "case_list = \"G1/C3/210225_002135\","
   ]
  },
  {
   "cell_type": "code",
   "execution_count": null,
   "metadata": {},
   "outputs": [],
   "source": [
    "# bondarenko\n",
    "case_list = \"210304_224859\","
   ]
  },
  {
   "cell_type": "code",
   "execution_count": null,
   "metadata": {},
   "outputs": [],
   "source": [
    "# grandi\n",
    "case_list = \"G3/C1/210328_125212\","
   ]
  },
  {
   "cell_type": "code",
   "execution_count": 45,
   "metadata": {},
   "outputs": [],
   "source": [
    "# koivumaki syn\n",
    "folder_name_dst = \"../results/koivumaki/syn\"\n",
    "\n",
    "case_list = \"210408_175045\","
   ]
  },
  {
   "cell_type": "code",
   "execution_count": null,
   "metadata": {},
   "outputs": [],
   "source": [
    "# maleckar syn\n",
    "\n",
    "case_list = \"210311_014641\","
   ]
  },
  {
   "cell_type": "code",
   "execution_count": 12,
   "metadata": {},
   "outputs": [],
   "source": [
    "# timofeev\n",
    "dirname_results = \"../results/timofeev/rec18/\"\n",
    "\n",
    "case_list = \"210402_181827\","
   ]
  },
  {
   "cell_type": "code",
   "execution_count": 6,
   "metadata": {},
   "outputs": [],
   "source": [
    "# grandi voigt fluo\n",
    "dirname_results = \"../results/voigt/fluo/grandi/\"\n",
    "\n",
    "case_list = \"G1/C3/210328_143127\","
   ]
  },
  {
   "cell_type": "code",
   "execution_count": 19,
   "metadata": {},
   "outputs": [
    {
     "data": {
      "application/vnd.jupyter.widget-view+json": {
       "model_id": "a9f2f70618fe497a9a899bdee1cbc8c3",
       "version_major": 2,
       "version_minor": 0
      },
      "text/plain": [
       "  0%|          | 0/6 [00:00<?, ?it/s]"
      ]
     },
     "metadata": {},
     "output_type": "display_data"
    },
    {
     "data": {
      "application/vnd.jupyter.widget-view+json": {
       "model_id": "5af7545058194ff49dbb5046b623191e",
       "version_major": 2,
       "version_minor": 0
      },
      "text/plain": [
       "phenotype:   0%|          | 0/5 [00:00<?, ?it/s]"
      ]
     },
     "metadata": {},
     "output_type": "display_data"
    },
    {
     "data": {
      "application/vnd.jupyter.widget-view+json": {
       "model_id": "3b813605cfa2407eb194cc1c21911aa5",
       "version_major": 2,
       "version_minor": 0
      },
      "text/plain": [
       "phenotype:   0%|          | 0/5 [00:00<?, ?it/s]"
      ]
     },
     "metadata": {},
     "output_type": "display_data"
    },
    {
     "data": {
      "application/vnd.jupyter.widget-view+json": {
       "model_id": "9dc240fdf6114c7398f64495d7116466",
       "version_major": 2,
       "version_minor": 0
      },
      "text/plain": [
       "phenotype:   0%|          | 0/5 [00:00<?, ?it/s]"
      ]
     },
     "metadata": {},
     "output_type": "display_data"
    },
    {
     "data": {
      "application/vnd.jupyter.widget-view+json": {
       "model_id": "96531e6def254072b63c7c040066a635",
       "version_major": 2,
       "version_minor": 0
      },
      "text/plain": [
       "phenotype:   0%|          | 0/5 [00:00<?, ?it/s]"
      ]
     },
     "metadata": {},
     "output_type": "display_data"
    },
    {
     "data": {
      "application/vnd.jupyter.widget-view+json": {
       "model_id": "194fbef58a3c47f48b32ca13bf7017e9",
       "version_major": 2,
       "version_minor": 0
      },
      "text/plain": [
       "phenotype:   0%|          | 0/5 [00:00<?, ?it/s]"
      ]
     },
     "metadata": {},
     "output_type": "display_data"
    },
    {
     "data": {
      "application/vnd.jupyter.widget-view+json": {
       "model_id": "ee9ab3848c194343888f4a0d72c7f080",
       "version_major": 2,
       "version_minor": 0
      },
      "text/plain": [
       "phenotype:   0%|          | 0/5 [00:00<?, ?it/s]"
      ]
     },
     "metadata": {},
     "output_type": "display_data"
    }
   ],
   "source": [
    "output_list = []\n",
    "\n",
    "# dirname_results = \"../results/maleckar/voigt\"\n",
    "# dirname_results = \"../results/koivumaki/voigt\"\n",
    "# dirname_results = \"../results/voigt\"\n",
    "# dirname_results = \"../results/voigt/fluo/koivumaki\"\n",
    "\n",
    "# dirname_results = \"../results/kernik_clancy/syn\"\n",
    "# dirname_results = \"../results/bondarenko_/syn/\"\n",
    "# dirname_results = \"../results/grandi/syn/\"\n",
    "# dirname_results = \"../results/koivumaki/syn\"\n",
    "# dirname_results = \"../results/maleckar/syn\"\n",
    "dirname_results = folder_name_dst\n",
    "\n",
    "\n",
    "for case in tqdm(case_list):\n",
    "    \n",
    "    output_dict = collect_results(case, dirname_results, load_dump=False, voigt=False)\n",
    "    #del output_dict['dump']\n",
    "    gc.collect()\n",
    "    output_list.append(output_dict)\n",
    "    \n",
    "    #break\n",
    "    \n",
    "#     dirname_report = os.path.join(\"../images/maleckar/reports/\", case)\n",
    "#     os.makedirs(dirname_report, exist_ok=True)"
   ]
  },
  {
   "cell_type": "code",
   "execution_count": 20,
   "metadata": {},
   "outputs": [
    {
     "data": {
      "text/html": [
       "<div>\n",
       "<style scoped>\n",
       "    .dataframe tbody tr th:only-of-type {\n",
       "        vertical-align: middle;\n",
       "    }\n",
       "\n",
       "    .dataframe tbody tr th {\n",
       "        vertical-align: top;\n",
       "    }\n",
       "\n",
       "    .dataframe thead tr th {\n",
       "        text-align: left;\n",
       "    }\n",
       "</style>\n",
       "<table border=\"1\" class=\"dataframe\">\n",
       "  <thead>\n",
       "    <tr>\n",
       "      <th></th>\n",
       "      <th>Group</th>\n",
       "      <th colspan=\"6\" halign=\"left\">NaN</th>\n",
       "    </tr>\n",
       "    <tr>\n",
       "      <th></th>\n",
       "      <th>Cell</th>\n",
       "      <th colspan=\"6\" halign=\"left\">NaN</th>\n",
       "    </tr>\n",
       "    <tr>\n",
       "      <th></th>\n",
       "      <th>Case</th>\n",
       "      <th>210408_193146</th>\n",
       "      <th>210408_213459</th>\n",
       "      <th>210408_233001</th>\n",
       "      <th>210409_013215</th>\n",
       "      <th>210409_032943</th>\n",
       "      <th>210409_053423</th>\n",
       "    </tr>\n",
       "  </thead>\n",
       "  <tbody>\n",
       "    <tr>\n",
       "      <th rowspan=\"17\" valign=\"top\">common</th>\n",
       "      <th>fitness</th>\n",
       "      <td>-1.200894</td>\n",
       "      <td>-1.013352</td>\n",
       "      <td>-1.509243</td>\n",
       "      <td>-0.922193</td>\n",
       "      <td>-1.475918</td>\n",
       "      <td>-1.315806</td>\n",
       "    </tr>\n",
       "    <tr>\n",
       "      <th>PNa</th>\n",
       "      <td>1.148924</td>\n",
       "      <td>0.964745</td>\n",
       "      <td>0.997223</td>\n",
       "      <td>0.967615</td>\n",
       "      <td>1.053931</td>\n",
       "      <td>0.952033</td>\n",
       "    </tr>\n",
       "    <tr>\n",
       "      <th>gCaL</th>\n",
       "      <td>0.787996</td>\n",
       "      <td>0.986572</td>\n",
       "      <td>0.840388</td>\n",
       "      <td>0.956298</td>\n",
       "      <td>0.716823</td>\n",
       "      <td>1.078886</td>\n",
       "    </tr>\n",
       "    <tr>\n",
       "      <th>gt</th>\n",
       "      <td>0.810760</td>\n",
       "      <td>1.040891</td>\n",
       "      <td>0.854852</td>\n",
       "      <td>0.962604</td>\n",
       "      <td>0.806247</td>\n",
       "      <td>1.009376</td>\n",
       "    </tr>\n",
       "    <tr>\n",
       "      <th>gKur</th>\n",
       "      <td>0.804231</td>\n",
       "      <td>0.975496</td>\n",
       "      <td>0.814452</td>\n",
       "      <td>0.875854</td>\n",
       "      <td>0.837506</td>\n",
       "      <td>1.228465</td>\n",
       "    </tr>\n",
       "    <tr>\n",
       "      <th>gK1</th>\n",
       "      <td>0.891675</td>\n",
       "      <td>0.911378</td>\n",
       "      <td>0.949170</td>\n",
       "      <td>0.946029</td>\n",
       "      <td>0.772857</td>\n",
       "      <td>0.940010</td>\n",
       "    </tr>\n",
       "    <tr>\n",
       "      <th>gKr</th>\n",
       "      <td>0.686777</td>\n",
       "      <td>0.791191</td>\n",
       "      <td>0.190481</td>\n",
       "      <td>0.563023</td>\n",
       "      <td>0.477514</td>\n",
       "      <td>0.460985</td>\n",
       "    </tr>\n",
       "    <tr>\n",
       "      <th>gKs</th>\n",
       "      <td>5.710866</td>\n",
       "      <td>3.801521</td>\n",
       "      <td>5.782039</td>\n",
       "      <td>3.681950</td>\n",
       "      <td>6.337657</td>\n",
       "      <td>5.522526</td>\n",
       "    </tr>\n",
       "    <tr>\n",
       "      <th>gNab</th>\n",
       "      <td>0.913292</td>\n",
       "      <td>0.506117</td>\n",
       "      <td>2.380167</td>\n",
       "      <td>1.029728</td>\n",
       "      <td>1.373355</td>\n",
       "      <td>0.532327</td>\n",
       "    </tr>\n",
       "    <tr>\n",
       "      <th>gCab</th>\n",
       "      <td>1.022042</td>\n",
       "      <td>1.021907</td>\n",
       "      <td>0.597810</td>\n",
       "      <td>0.918036</td>\n",
       "      <td>0.598822</td>\n",
       "      <td>1.049339</td>\n",
       "    </tr>\n",
       "    <tr>\n",
       "      <th>INaKmax</th>\n",
       "      <td>0.814651</td>\n",
       "      <td>1.030402</td>\n",
       "      <td>0.877332</td>\n",
       "      <td>0.930432</td>\n",
       "      <td>0.758888</td>\n",
       "      <td>1.110480</td>\n",
       "    </tr>\n",
       "    <tr>\n",
       "      <th>ICaPmax</th>\n",
       "      <td>1.080550</td>\n",
       "      <td>0.557559</td>\n",
       "      <td>0.205195</td>\n",
       "      <td>0.199887</td>\n",
       "      <td>0.301779</td>\n",
       "      <td>0.418085</td>\n",
       "    </tr>\n",
       "    <tr>\n",
       "      <th>gIf</th>\n",
       "      <td>1.115413</td>\n",
       "      <td>2.558537</td>\n",
       "      <td>0.394073</td>\n",
       "      <td>2.160875</td>\n",
       "      <td>1.829695</td>\n",
       "      <td>2.291648</td>\n",
       "    </tr>\n",
       "    <tr>\n",
       "      <th>kNaCa</th>\n",
       "      <td>0.874192</td>\n",
       "      <td>1.105651</td>\n",
       "      <td>0.714924</td>\n",
       "      <td>0.947063</td>\n",
       "      <td>0.900398</td>\n",
       "      <td>1.405201</td>\n",
       "    </tr>\n",
       "    <tr>\n",
       "      <th>Jrel_multiplier</th>\n",
       "      <td>1.006977</td>\n",
       "      <td>1.135811</td>\n",
       "      <td>1.057929</td>\n",
       "      <td>1.161268</td>\n",
       "      <td>2.955070</td>\n",
       "      <td>0.812539</td>\n",
       "    </tr>\n",
       "    <tr>\n",
       "      <th>cpumps</th>\n",
       "      <td>1.704357</td>\n",
       "      <td>0.978199</td>\n",
       "      <td>1.990970</td>\n",
       "      <td>1.108211</td>\n",
       "      <td>1.917614</td>\n",
       "      <td>0.733621</td>\n",
       "    </tr>\n",
       "    <tr>\n",
       "      <th>kSRleak</th>\n",
       "      <td>0.277546</td>\n",
       "      <td>0.402005</td>\n",
       "      <td>0.151695</td>\n",
       "      <td>1.096639</td>\n",
       "      <td>0.550281</td>\n",
       "      <td>0.640447</td>\n",
       "    </tr>\n",
       "    <tr>\n",
       "      <th rowspan=\"3\" valign=\"top\">2000</th>\n",
       "      <th>Nai</th>\n",
       "      <td>9.790687</td>\n",
       "      <td>8.164766</td>\n",
       "      <td>9.640507</td>\n",
       "      <td>9.155008</td>\n",
       "      <td>9.480504</td>\n",
       "      <td>7.937120</td>\n",
       "    </tr>\n",
       "    <tr>\n",
       "      <th>Ki</th>\n",
       "      <td>142.307177</td>\n",
       "      <td>137.632587</td>\n",
       "      <td>140.433233</td>\n",
       "      <td>138.294990</td>\n",
       "      <td>137.591099</td>\n",
       "      <td>136.868011</td>\n",
       "    </tr>\n",
       "    <tr>\n",
       "      <th>CaSR</th>\n",
       "      <td>1.306995</td>\n",
       "      <td>0.686571</td>\n",
       "      <td>1.142858</td>\n",
       "      <td>0.810753</td>\n",
       "      <td>0.653294</td>\n",
       "      <td>0.547846</td>\n",
       "    </tr>\n",
       "    <tr>\n",
       "      <th rowspan=\"3\" valign=\"top\">1000</th>\n",
       "      <th>Nai</th>\n",
       "      <td>11.191152</td>\n",
       "      <td>9.299643</td>\n",
       "      <td>11.046528</td>\n",
       "      <td>10.386435</td>\n",
       "      <td>10.880174</td>\n",
       "      <td>9.142460</td>\n",
       "    </tr>\n",
       "    <tr>\n",
       "      <th>Ki</th>\n",
       "      <td>139.517317</td>\n",
       "      <td>136.143685</td>\n",
       "      <td>139.037577</td>\n",
       "      <td>136.505680</td>\n",
       "      <td>135.504966</td>\n",
       "      <td>135.653578</td>\n",
       "    </tr>\n",
       "    <tr>\n",
       "      <th>CaSR</th>\n",
       "      <td>1.283150</td>\n",
       "      <td>0.629790</td>\n",
       "      <td>1.234813</td>\n",
       "      <td>0.785742</td>\n",
       "      <td>0.656692</td>\n",
       "      <td>0.532177</td>\n",
       "    </tr>\n",
       "    <tr>\n",
       "      <th rowspan=\"3\" valign=\"top\">666</th>\n",
       "      <th>Nai</th>\n",
       "      <td>13.053176</td>\n",
       "      <td>10.777977</td>\n",
       "      <td>12.995040</td>\n",
       "      <td>12.116537</td>\n",
       "      <td>12.821896</td>\n",
       "      <td>10.639499</td>\n",
       "    </tr>\n",
       "    <tr>\n",
       "      <th>Ki</th>\n",
       "      <td>137.289137</td>\n",
       "      <td>133.067380</td>\n",
       "      <td>139.887463</td>\n",
       "      <td>136.672583</td>\n",
       "      <td>133.954330</td>\n",
       "      <td>133.772184</td>\n",
       "    </tr>\n",
       "    <tr>\n",
       "      <th>CaSR</th>\n",
       "      <td>1.338998</td>\n",
       "      <td>0.638302</td>\n",
       "      <td>1.368832</td>\n",
       "      <td>0.822576</td>\n",
       "      <td>0.714543</td>\n",
       "      <td>0.552778</td>\n",
       "    </tr>\n",
       "    <tr>\n",
       "      <th rowspan=\"3\" valign=\"top\">500</th>\n",
       "      <th>Nai</th>\n",
       "      <td>14.765125</td>\n",
       "      <td>12.354264</td>\n",
       "      <td>14.737032</td>\n",
       "      <td>13.736492</td>\n",
       "      <td>14.945730</td>\n",
       "      <td>12.175116</td>\n",
       "    </tr>\n",
       "    <tr>\n",
       "      <th>Ki</th>\n",
       "      <td>135.562161</td>\n",
       "      <td>132.710573</td>\n",
       "      <td>138.470625</td>\n",
       "      <td>134.799134</td>\n",
       "      <td>131.748100</td>\n",
       "      <td>131.748609</td>\n",
       "    </tr>\n",
       "    <tr>\n",
       "      <th>CaSR</th>\n",
       "      <td>1.396121</td>\n",
       "      <td>0.682117</td>\n",
       "      <td>1.477537</td>\n",
       "      <td>0.878959</td>\n",
       "      <td>0.810472</td>\n",
       "      <td>0.598644</td>\n",
       "    </tr>\n",
       "  </tbody>\n",
       "</table>\n",
       "</div>"
      ],
      "text/plain": [
       "Group                            NaN                              \\\n",
       "Cell                             NaN                               \n",
       "Case                   210408_193146 210408_213459 210408_233001   \n",
       "common fitness             -1.200894     -1.013352     -1.509243   \n",
       "       PNa                  1.148924      0.964745      0.997223   \n",
       "       gCaL                 0.787996      0.986572      0.840388   \n",
       "       gt                   0.810760      1.040891      0.854852   \n",
       "       gKur                 0.804231      0.975496      0.814452   \n",
       "       gK1                  0.891675      0.911378      0.949170   \n",
       "       gKr                  0.686777      0.791191      0.190481   \n",
       "       gKs                  5.710866      3.801521      5.782039   \n",
       "       gNab                 0.913292      0.506117      2.380167   \n",
       "       gCab                 1.022042      1.021907      0.597810   \n",
       "       INaKmax              0.814651      1.030402      0.877332   \n",
       "       ICaPmax              1.080550      0.557559      0.205195   \n",
       "       gIf                  1.115413      2.558537      0.394073   \n",
       "       kNaCa                0.874192      1.105651      0.714924   \n",
       "       Jrel_multiplier      1.006977      1.135811      1.057929   \n",
       "       cpumps               1.704357      0.978199      1.990970   \n",
       "       kSRleak              0.277546      0.402005      0.151695   \n",
       "2000   Nai                  9.790687      8.164766      9.640507   \n",
       "       Ki                 142.307177    137.632587    140.433233   \n",
       "       CaSR                 1.306995      0.686571      1.142858   \n",
       "1000   Nai                 11.191152      9.299643     11.046528   \n",
       "       Ki                 139.517317    136.143685    139.037577   \n",
       "       CaSR                 1.283150      0.629790      1.234813   \n",
       "666    Nai                 13.053176     10.777977     12.995040   \n",
       "       Ki                 137.289137    133.067380    139.887463   \n",
       "       CaSR                 1.338998      0.638302      1.368832   \n",
       "500    Nai                 14.765125     12.354264     14.737032   \n",
       "       Ki                 135.562161    132.710573    138.470625   \n",
       "       CaSR                 1.396121      0.682117      1.477537   \n",
       "\n",
       "Group                                                             \n",
       "Cell                                                              \n",
       "Case                   210409_013215 210409_032943 210409_053423  \n",
       "common fitness             -0.922193     -1.475918     -1.315806  \n",
       "       PNa                  0.967615      1.053931      0.952033  \n",
       "       gCaL                 0.956298      0.716823      1.078886  \n",
       "       gt                   0.962604      0.806247      1.009376  \n",
       "       gKur                 0.875854      0.837506      1.228465  \n",
       "       gK1                  0.946029      0.772857      0.940010  \n",
       "       gKr                  0.563023      0.477514      0.460985  \n",
       "       gKs                  3.681950      6.337657      5.522526  \n",
       "       gNab                 1.029728      1.373355      0.532327  \n",
       "       gCab                 0.918036      0.598822      1.049339  \n",
       "       INaKmax              0.930432      0.758888      1.110480  \n",
       "       ICaPmax              0.199887      0.301779      0.418085  \n",
       "       gIf                  2.160875      1.829695      2.291648  \n",
       "       kNaCa                0.947063      0.900398      1.405201  \n",
       "       Jrel_multiplier      1.161268      2.955070      0.812539  \n",
       "       cpumps               1.108211      1.917614      0.733621  \n",
       "       kSRleak              1.096639      0.550281      0.640447  \n",
       "2000   Nai                  9.155008      9.480504      7.937120  \n",
       "       Ki                 138.294990    137.591099    136.868011  \n",
       "       CaSR                 0.810753      0.653294      0.547846  \n",
       "1000   Nai                 10.386435     10.880174      9.142460  \n",
       "       Ki                 136.505680    135.504966    135.653578  \n",
       "       CaSR                 0.785742      0.656692      0.532177  \n",
       "666    Nai                 12.116537     12.821896     10.639499  \n",
       "       Ki                 136.672583    133.954330    133.772184  \n",
       "       CaSR                 0.822576      0.714543      0.552778  \n",
       "500    Nai                 13.736492     14.945730     12.175116  \n",
       "       Ki                 134.799134    131.748100    131.748609  \n",
       "       CaSR                 0.878959      0.810472      0.598644  "
      ]
     },
     "execution_count": 20,
     "metadata": {},
     "output_type": "execute_result"
    }
   ],
   "source": [
    "columns_tuples = []\n",
    "\n",
    "for output in output_list:\n",
    "    tag, genes = output['trio'], output['genes']\n",
    "    for exp_cond in genes:\n",
    "        for gene in genes[exp_cond]:\n",
    "            t = (exp_cond, gene)\n",
    "            if t not in columns_tuples:\n",
    "                columns_tuples.append(t)\n",
    "                \n",
    "columns_tuples = [('common', 'fitness')] + columns_tuples\n",
    "                \n",
    "m_index = pd.MultiIndex.from_tuples(columns_tuples)\n",
    "\n",
    "index_tuples = [x['trio'] for x in output_list]\n",
    "m_index_index = pd.MultiIndex.from_tuples(index_tuples)\n",
    "\n",
    "df_sol = pd.DataFrame([[None for item in columns_tuples]] * len(output_list),\n",
    "                      columns=m_index, index=m_index_index)\n",
    "\n",
    "for i, output in enumerate(output_list):\n",
    "    trio, genes, values = output['trio'], output['genes'], output['dump_last'].iloc[0]\n",
    "    columns_i = [(item[0], key) for item in genes.items() for key in item[1]]\n",
    "    columns_i = [('common', 'fitness')] + columns_i\n",
    "    for j, c in enumerate(columns_i):\n",
    "        df_sol.loc[trio, c] = values[j]\n",
    "        \n",
    "df_sol.index.names = ['Group', 'Cell', 'Case']\n",
    "df_sol = df_sol.T.sort_index(axis='columns')\n",
    "\n",
    "if ('common', 'fluo_tot') in df_sol.index.to_list():\n",
    "    df_sol.loc[('common', 'fluo_tot_uM'), :] = None\n",
    "    df_sol.loc[('common', 'fluo_tot_uM'), :] = df_sol.loc[('common', 'fluo_tot')]\n",
    "    df_sol.loc[('common', 'fluo_tot_uM')].fillna(1, inplace=True)\n",
    "    df_sol.loc[('common', 'fluo_tot_uM')] *= 10  # uM\n",
    "\n",
    "# df_sol = df_sol.sort_index()\n",
    "\n",
    "df_sol"
   ]
  },
  {
   "cell_type": "code",
   "execution_count": 10,
   "metadata": {},
   "outputs": [],
   "source": [
    "df_sol.to_csv(\"../misc/table_koivumaki_duplicates.csv\")"
   ]
  },
  {
   "cell_type": "code",
   "execution_count": null,
   "metadata": {},
   "outputs": [],
   "source": [
    "df = df_sol.iloc[1:18].copy().astype(float)\n",
    "df = df_sol.iloc[1:15].copy().astype(float)\n",
    "\n",
    "\n",
    "plt.imshow(np.log10(df),\n",
    "           vmax=1, vmin=-1, cmap='RdBu_r')\n",
    "\n",
    "labels = [x[1] for x in df.index.to_list()]\n",
    "plt.yticks(np.arange(len(labels)), labels)\n",
    "plt.show()"
   ]
  },
  {
   "cell_type": "code",
   "execution_count": null,
   "metadata": {},
   "outputs": [],
   "source": [
    "df_states = []\n",
    "\n",
    "for output in output_list:\n",
    "    phenotype_model_last = output['phenotype_model_last']\n",
    "    x = pd.concat({key : value.iloc[0] for key, value in phenotype_model_last.items()}, axis=1)\n",
    "    m_index = pd.MultiIndex.from_tuples((output['trio'] + (int(CL),) for CL in phenotype_model_last.keys()))\n",
    "    m_index.names = 'Group', 'Cell', 'Case', 'CL'\n",
    "    x = pd.DataFrame(x.values, index=x.index, columns=m_index)\n",
    "    df_states.append(x)\n",
    "    \n",
    "df_states = pd.concat(df_states, axis=1).sort_index(axis='columns')\n",
    "\n",
    "#df_states"
   ]
  },
  {
   "cell_type": "code",
   "execution_count": null,
   "metadata": {},
   "outputs": [],
   "source": [
    "# df_states.to_csv(\"../misc/states_march_11.csv\")"
   ]
  },
  {
   "cell_type": "markdown",
   "metadata": {},
   "source": [
    "# Analisys"
   ]
  },
  {
   "cell_type": "code",
   "execution_count": 48,
   "metadata": {},
   "outputs": [
    {
     "name": "stderr",
     "output_type": "stream",
     "text": [
      "No handles with labels found to put in legend.\n"
     ]
    },
    {
     "name": "stdout",
     "output_type": "stream",
     "text": [
      "(None, None, '210408_175045') 10\n"
     ]
    },
    {
     "data": {
      "image/png": "[encoded data removed]",
      "text/plain": [
       "<Figure size 432x288 with 2 Axes>"
      ]
     },
     "metadata": {},
     "output_type": "display_data"
    }
   ],
   "source": [
    "fig, axes = plt.subplots(nrows=2)\n",
    "\n",
    "for i in range(len(output_list)):\n",
    "\n",
    "    #dump = output_list[i]['dump']\n",
    "    loss = -output_list[i]['dump_elite'][:, -1]\n",
    "    \n",
    "    trio = output_list[i]['trio']\n",
    "    axes[0].semilogy(loss, label=trio)\n",
    "    \n",
    "    print(trio, len(loss))\n",
    "    \n",
    "#     m_list = []\n",
    "\n",
    "#     for i in tqdm(range(0, len(loss), 100)):\n",
    "\n",
    "#         df = dump['common'].iloc[:, 1:].loc[i]\n",
    "#         #m = pairwise_distances(df[::10], n_jobs=-1)\n",
    "#         m = df.std().mean()\n",
    "#         m_list.append(m.mean())\n",
    "        \n",
    "#     axes[1].plot(m_list)\n",
    "    \n",
    "plt.grid(True, which='both')\n",
    "plt.title('Loss')\n",
    "plt.xlabel('epoch')\n",
    "plt.legend()\n",
    "plt.tight_layout()\n",
    "\n",
    "# dirname = os.path.join(\"../images/maleckar/reports/\", case,)\n",
    "# os.makedirs(dirname, exist_ok=True)     \n",
    "\n",
    "# plt.savefig(os.path.join(dirname, \"loss.png\"), dpi=600)"
   ]
  },
  {
   "cell_type": "code",
   "execution_count": 49,
   "metadata": {},
   "outputs": [
    {
     "data": {
      "image/png": "[encoded data removed]",
      "text/plain": [
       "<Figure size 523.636x288 with 8 Axes>"
      ]
     },
     "metadata": {},
     "output_type": "display_data"
    }
   ],
   "source": [
    "for i_output, output in enumerate(output_list):\n",
    "    \n",
    "    config = output['config']\n",
    "    exp_cond_dict = {key: value for key, value in config['experimental_conditions'].items() if key != 'common'}\n",
    "    phenotype_model_last = output['phenotype_model_last']\n",
    "    \n",
    "    model_name = config['filename_so'].split('/')[-2][1:]\n",
    "    \n",
    "    trio = output['trio']\n",
    "    i_group, i_cell, i_case = trio\n",
    "\n",
    "#     pairs = [(4, 4)]\n",
    "    \n",
    "#     if (i_group, i_cell) not in pairs:\n",
    "#         continue\n",
    "    \n",
    "    \n",
    "    suptitle = 'Group {} Cell {} Case {} {} model'.format(*trio, model_name)\n",
    "    \n",
    "    phenotype_model = []\n",
    "    phenotype_control = []\n",
    "    \n",
    "    columns_model = config.get('columns_model', ['V'])\n",
    "    columns_control = config.get('columns_control', ['V'])\n",
    "    \n",
    "    ylim_ca_bottom = 1e10\n",
    "    ylim_ca_top = 0\n",
    "    \n",
    "    for e_key, e_value in exp_cond_dict.items():\n",
    "        \n",
    "        y = e_value['phenotype'][columns_control].values.copy()\n",
    "        x = phenotype_model_last[e_key][columns_model].values[:len(y)].copy()\n",
    "        \n",
    "#         v_model = x[:, 0]\n",
    "#         v_control = y[:, 0]\n",
    "        \n",
    "#         v_level = 0 # 0 # mV\n",
    "#         shift_control = np.where(v_control > v_level)[0][0]\n",
    "#         shift_model = np.where(v_model > v_level)[0]\n",
    "#         if len(shift_model):\n",
    "#             shift_model = shift_model[0]\n",
    "#         else:\n",
    "#             shift_model = 0\n",
    "\n",
    "#         shift = shift_model - shift_control\n",
    "        \n",
    "#         print(shift_control, shift_model)\n",
    "\n",
    "#         y = np.roll(y, shift, axis=0)\n",
    "        \n",
    "        if 'composite_' in config['loss']:\n",
    "            y[:, 1], _, _ = autoscaling(signal_to_scale=y[:, 1],\n",
    "                                        signal_reference=x[:, 1])    \n",
    "            y[:, 1] *= 1000\n",
    "            x[:, 1] *= 1000\n",
    "            \n",
    "            ca_min = min(y[:, 1].min(), x[:, 1].min())\n",
    "            ca_max = max(y[:, 1].max(), x[:, 1].max())\n",
    "\n",
    "            ylim_ca_bottom = ca_min if ca_min < ylim_ca_bottom else ylim_ca_bottom\n",
    "            ylim_ca_top = ca_max if ca_max > ylim_ca_top else ylim_ca_top\n",
    "            \n",
    "        x = np.roll(x.T, 1, axis=1)\n",
    "        y = np.roll(y.T, 1, axis=1)\n",
    "\n",
    "        phenotype_model.append(x)\n",
    "        phenotype_control.append(y)\n",
    "        \n",
    "    if config['loss'] == 'V_CaT_shared':\n",
    "\n",
    "        phenotype_model_list = []\n",
    "        phenotype_control_list = []\n",
    "\n",
    "        for exp_cond_name, exp_cond in config['experimental_conditions'].items():\n",
    "\n",
    "            if exp_cond_name == 'common':\n",
    "                continue\n",
    "\n",
    "            phenotype_control = exp_cond['phenotype'][columns_control].copy()\n",
    "            phenotype_model   = phenotype_model_last[exp_cond_name][columns_model].values.copy()\n",
    "\n",
    "            phenotype_model   = phenotype_model[:len(phenotype_control)]\n",
    "\n",
    "            phenotype_model_list.append(phenotype_model)\n",
    "            phenotype_control_list.append(phenotype_control.values)\n",
    "\n",
    "        cat_model_concat = np.concatenate([x[:, 1] for x in phenotype_model_list])\n",
    "        cat_control_concat = np.concatenate([x[:, 1] for x in phenotype_control_list])\n",
    "\n",
    "        cat_control_concat_scaled, _, (alpha, beta) = autoscaling(signal_to_scale=cat_control_concat,\n",
    "                                                                  signal_reference=cat_model_concat)\n",
    "        \n",
    "        ylim_ca_bottom = min(*cat_model_concat, *cat_control_concat_scaled)\n",
    "        ylim_ca_top = max(*cat_model_concat, *cat_control_concat_scaled)\n",
    "        \n",
    "        cumlen = 0\n",
    "        for i, x in enumerate(phenotype_control_list):\n",
    "\n",
    "            phenotype_control_list[i][:, 1] = cat_control_concat_scaled[cumlen: cumlen + len(x)]\n",
    "            cumlen += len(x)\n",
    "\n",
    "        phenotype_model = []\n",
    "        phenotype_control = []\n",
    "\n",
    "        for i in range(len(phenotype_control_list)):\n",
    "            phenotype_model.append(np.roll(phenotype_model_list[i].T, 1, axis=1))\n",
    "            phenotype_control.append(np.roll(phenotype_control_list[i].T, 1, axis=1))\n",
    "        \n",
    "    ylim_ca = [ylim_ca_bottom - (ylim_ca_top - ylim_ca_bottom) * 0.05,\n",
    "               ylim_ca_top    + (ylim_ca_top - ylim_ca_bottom) * 0.05]\n",
    "    \n",
    "    #ylim_ca = None # [0, .2e-3]\n",
    "        \n",
    "    plot_waveforms(phenotype_model, phenotype_control,\n",
    "           xlim=[-20, 420], xticks=np.arange(0, 420, 100),\n",
    "           yticks_list=[np.arange(-100, 56, 25), None],\n",
    "           ylim_list=[[-100, 70], ylim_ca],\n",
    "           titles=list(exp_cond_dict.keys()),\n",
    "           ylabels=columns_model, xlabel='t, ms', #suptitle=suptitle, color_model=f'C{int(i_group) - 1}',\n",
    "           inset_row_indices=[0], xlim_inset=[-1, 6], xticks_inset=np.arange(0, 6));\n",
    "    \n",
    "    filename = suptitle.replace(' ', '_') + '.png'\n",
    "    #plt.savefig(os.path.join(\"../images/voigt/duplicates/\", filename))"
   ]
  },
  {
   "cell_type": "code",
   "execution_count": 30,
   "metadata": {},
   "outputs": [
    {
     "data": {
      "text/plain": [
       "[<matplotlib.lines.Line2D at 0x7f89ca6a0ac0>]"
      ]
     },
     "execution_count": 30,
     "metadata": {},
     "output_type": "execute_result"
    },
    {
     "data": {
      "image/png": "[encoded data removed]",
      "text/plain": [
       "<Figure size 432x288 with 1 Axes>"
      ]
     },
     "metadata": {},
     "output_type": "display_data"
    }
   ],
   "source": [
    "plt.plot(v_model)\n",
    "plt.plot(v_control)"
   ]
  },
  {
   "cell_type": "code",
   "execution_count": 23,
   "metadata": {},
   "outputs": [
    {
     "data": {
      "image/png": "[encoded data removed]",
      "text/plain": [
       "<Figure size 432x288 with 1 Axes>"
      ]
     },
     "metadata": {},
     "output_type": "display_data"
    }
   ],
   "source": [
    "for x in phenotype_model:\n",
    "    plt.plot(x.flatten())"
   ]
  },
  {
   "cell_type": "code",
   "execution_count": 63,
   "metadata": {},
   "outputs": [],
   "source": [
    "rescale = lambda x: (x - np.min(x)) / np.ptp(x)"
   ]
  },
  {
   "cell_type": "code",
   "execution_count": 44,
   "metadata": {},
   "outputs": [
    {
     "data": {
      "text/html": [
       "<div>\n",
       "<style scoped>\n",
       "    .dataframe tbody tr th:only-of-type {\n",
       "        vertical-align: middle;\n",
       "    }\n",
       "\n",
       "    .dataframe tbody tr th {\n",
       "        vertical-align: top;\n",
       "    }\n",
       "\n",
       "    .dataframe thead th {\n",
       "        text-align: right;\n",
       "    }\n",
       "</style>\n",
       "<table border=\"1\" class=\"dataframe\">\n",
       "  <thead>\n",
       "    <tr style=\"text-align: right;\">\n",
       "      <th></th>\n",
       "      <th>CaSR1</th>\n",
       "      <th>CaSR2</th>\n",
       "      <th>CaSR3</th>\n",
       "      <th>CaSR4</th>\n",
       "      <th>Cai1</th>\n",
       "      <th>Cai2</th>\n",
       "      <th>Cai3</th>\n",
       "      <th>Cai4</th>\n",
       "      <th>Cass</th>\n",
       "      <th>d</th>\n",
       "      <th>...</th>\n",
       "      <th>Nai</th>\n",
       "      <th>Nass</th>\n",
       "      <th>fluo_1</th>\n",
       "      <th>fluo_2</th>\n",
       "      <th>fluo_3</th>\n",
       "      <th>fluo_4</th>\n",
       "      <th>fluo_ss</th>\n",
       "      <th>CaSR</th>\n",
       "      <th>Cai</th>\n",
       "      <th>fluo</th>\n",
       "    </tr>\n",
       "  </thead>\n",
       "  <tbody>\n",
       "    <tr>\n",
       "      <th>0</th>\n",
       "      <td>5.465583</td>\n",
       "      <td>5.458878</td>\n",
       "      <td>5.449987</td>\n",
       "      <td>5.445740</td>\n",
       "      <td>0.000869</td>\n",
       "      <td>0.000861</td>\n",
       "      <td>0.000844</td>\n",
       "      <td>0.000814</td>\n",
       "      <td>0.000793</td>\n",
       "      <td>0.000014</td>\n",
       "      <td>...</td>\n",
       "      <td>9.978120</td>\n",
       "      <td>11.103346</td>\n",
       "      <td>-3.802161e-24</td>\n",
       "      <td>1.665651e-24</td>\n",
       "      <td>6.287790e-24</td>\n",
       "      <td>-4.465492e-23</td>\n",
       "      <td>1.527862e-23</td>\n",
       "      <td>5.450770</td>\n",
       "      <td>0.000836</td>\n",
       "      <td>-1.729615e-23</td>\n",
       "    </tr>\n",
       "    <tr>\n",
       "      <th>1</th>\n",
       "      <td>5.465416</td>\n",
       "      <td>5.458745</td>\n",
       "      <td>5.449922</td>\n",
       "      <td>5.445790</td>\n",
       "      <td>0.000869</td>\n",
       "      <td>0.000861</td>\n",
       "      <td>0.000844</td>\n",
       "      <td>0.000813</td>\n",
       "      <td>0.000793</td>\n",
       "      <td>0.002942</td>\n",
       "      <td>...</td>\n",
       "      <td>9.978133</td>\n",
       "      <td>11.156459</td>\n",
       "      <td>-2.599872e-24</td>\n",
       "      <td>1.141149e-24</td>\n",
       "      <td>4.325088e-24</td>\n",
       "      <td>-3.093535e-23</td>\n",
       "      <td>1.063695e-23</td>\n",
       "      <td>5.450737</td>\n",
       "      <td>0.000835</td>\n",
       "      <td>-1.199169e-23</td>\n",
       "    </tr>\n",
       "    <tr>\n",
       "      <th>2</th>\n",
       "      <td>5.465249</td>\n",
       "      <td>5.458610</td>\n",
       "      <td>5.449857</td>\n",
       "      <td>5.445838</td>\n",
       "      <td>0.000868</td>\n",
       "      <td>0.000860</td>\n",
       "      <td>0.000843</td>\n",
       "      <td>0.000816</td>\n",
       "      <td>0.000901</td>\n",
       "      <td>0.338528</td>\n",
       "      <td>...</td>\n",
       "      <td>9.978150</td>\n",
       "      <td>11.572800</td>\n",
       "      <td>-1.777946e-24</td>\n",
       "      <td>7.819000e-25</td>\n",
       "      <td>2.975442e-24</td>\n",
       "      <td>-2.142977e-23</td>\n",
       "      <td>7.340838e-24</td>\n",
       "      <td>5.450702</td>\n",
       "      <td>0.000837</td>\n",
       "      <td>-8.313732e-24</td>\n",
       "    </tr>\n",
       "    <tr>\n",
       "      <th>3</th>\n",
       "      <td>5.465081</td>\n",
       "      <td>5.458475</td>\n",
       "      <td>5.449791</td>\n",
       "      <td>5.445885</td>\n",
       "      <td>0.000868</td>\n",
       "      <td>0.000860</td>\n",
       "      <td>0.000843</td>\n",
       "      <td>0.000835</td>\n",
       "      <td>0.001091</td>\n",
       "      <td>0.598679</td>\n",
       "      <td>...</td>\n",
       "      <td>9.978168</td>\n",
       "      <td>11.576944</td>\n",
       "      <td>-1.215990e-24</td>\n",
       "      <td>5.358086e-25</td>\n",
       "      <td>2.047092e-24</td>\n",
       "      <td>-1.480950e-23</td>\n",
       "      <td>4.871632e-24</td>\n",
       "      <td>5.450666</td>\n",
       "      <td>0.000846</td>\n",
       "      <td>-5.749512e-24</td>\n",
       "    </tr>\n",
       "    <tr>\n",
       "      <th>4</th>\n",
       "      <td>5.464912</td>\n",
       "      <td>5.458339</td>\n",
       "      <td>5.449724</td>\n",
       "      <td>5.445932</td>\n",
       "      <td>0.000868</td>\n",
       "      <td>0.000859</td>\n",
       "      <td>0.000845</td>\n",
       "      <td>0.000869</td>\n",
       "      <td>0.001276</td>\n",
       "      <td>0.756567</td>\n",
       "      <td>...</td>\n",
       "      <td>9.978186</td>\n",
       "      <td>11.564185</td>\n",
       "      <td>-8.317414e-25</td>\n",
       "      <td>3.672099e-25</td>\n",
       "      <td>1.408127e-24</td>\n",
       "      <td>-1.017094e-23</td>\n",
       "      <td>-3.250049e-20</td>\n",
       "      <td>5.450630</td>\n",
       "      <td>0.000862</td>\n",
       "      <td>-2.030522e-22</td>\n",
       "    </tr>\n",
       "    <tr>\n",
       "      <th>...</th>\n",
       "      <td>...</td>\n",
       "      <td>...</td>\n",
       "      <td>...</td>\n",
       "      <td>...</td>\n",
       "      <td>...</td>\n",
       "      <td>...</td>\n",
       "      <td>...</td>\n",
       "      <td>...</td>\n",
       "      <td>...</td>\n",
       "      <td>...</td>\n",
       "      <td>...</td>\n",
       "      <td>...</td>\n",
       "      <td>...</td>\n",
       "      <td>...</td>\n",
       "      <td>...</td>\n",
       "      <td>...</td>\n",
       "      <td>...</td>\n",
       "      <td>...</td>\n",
       "      <td>...</td>\n",
       "      <td>...</td>\n",
       "      <td>...</td>\n",
       "    </tr>\n",
       "    <tr>\n",
       "      <th>496</th>\n",
       "      <td>5.732379</td>\n",
       "      <td>5.725789</td>\n",
       "      <td>5.717188</td>\n",
       "      <td>5.713495</td>\n",
       "      <td>0.000915</td>\n",
       "      <td>0.000906</td>\n",
       "      <td>0.000888</td>\n",
       "      <td>0.000856</td>\n",
       "      <td>0.000834</td>\n",
       "      <td>0.000015</td>\n",
       "      <td>...</td>\n",
       "      <td>9.984644</td>\n",
       "      <td>11.168702</td>\n",
       "      <td>7.481327e-25</td>\n",
       "      <td>5.031593e-24</td>\n",
       "      <td>-6.043224e-24</td>\n",
       "      <td>-1.845899e-24</td>\n",
       "      <td>3.881748e-24</td>\n",
       "      <td>5.718134</td>\n",
       "      <td>0.000879</td>\n",
       "      <td>-1.671679e-24</td>\n",
       "    </tr>\n",
       "    <tr>\n",
       "      <th>497</th>\n",
       "      <td>5.732204</td>\n",
       "      <td>5.725648</td>\n",
       "      <td>5.717116</td>\n",
       "      <td>5.713538</td>\n",
       "      <td>0.000914</td>\n",
       "      <td>0.000905</td>\n",
       "      <td>0.000887</td>\n",
       "      <td>0.000855</td>\n",
       "      <td>0.000833</td>\n",
       "      <td>0.000015</td>\n",
       "      <td>...</td>\n",
       "      <td>9.984657</td>\n",
       "      <td>11.168393</td>\n",
       "      <td>7.051146e-25</td>\n",
       "      <td>4.628463e-24</td>\n",
       "      <td>-5.792006e-24</td>\n",
       "      <td>-1.080711e-24</td>\n",
       "      <td>4.667854e-24</td>\n",
       "      <td>5.718093</td>\n",
       "      <td>0.000878</td>\n",
       "      <td>-1.333915e-24</td>\n",
       "    </tr>\n",
       "    <tr>\n",
       "      <th>498</th>\n",
       "      <td>5.732028</td>\n",
       "      <td>5.725505</td>\n",
       "      <td>5.717044</td>\n",
       "      <td>5.713579</td>\n",
       "      <td>0.000914</td>\n",
       "      <td>0.000905</td>\n",
       "      <td>0.000887</td>\n",
       "      <td>0.000855</td>\n",
       "      <td>0.000832</td>\n",
       "      <td>0.000015</td>\n",
       "      <td>...</td>\n",
       "      <td>9.984671</td>\n",
       "      <td>11.168081</td>\n",
       "      <td>4.397775e-25</td>\n",
       "      <td>4.294341e-24</td>\n",
       "      <td>-5.372213e-24</td>\n",
       "      <td>7.939362e-27</td>\n",
       "      <td>5.595511e-24</td>\n",
       "      <td>5.718051</td>\n",
       "      <td>0.000878</td>\n",
       "      <td>-8.032307e-25</td>\n",
       "    </tr>\n",
       "    <tr>\n",
       "      <th>499</th>\n",
       "      <td>5.731851</td>\n",
       "      <td>5.725362</td>\n",
       "      <td>5.716970</td>\n",
       "      <td>5.713619</td>\n",
       "      <td>0.000913</td>\n",
       "      <td>0.000904</td>\n",
       "      <td>0.000886</td>\n",
       "      <td>0.000854</td>\n",
       "      <td>0.000832</td>\n",
       "      <td>0.000015</td>\n",
       "      <td>...</td>\n",
       "      <td>9.984684</td>\n",
       "      <td>11.167767</td>\n",
       "      <td>-7.195295e-26</td>\n",
       "      <td>4.039745e-24</td>\n",
       "      <td>-4.766484e-24</td>\n",
       "      <td>1.450156e-24</td>\n",
       "      <td>6.675147e-24</td>\n",
       "      <td>5.718007</td>\n",
       "      <td>0.000877</td>\n",
       "      <td>-6.061327e-26</td>\n",
       "    </tr>\n",
       "    <tr>\n",
       "      <th>500</th>\n",
       "      <td>5.731673</td>\n",
       "      <td>5.725218</td>\n",
       "      <td>5.716895</td>\n",
       "      <td>5.713657</td>\n",
       "      <td>0.000913</td>\n",
       "      <td>0.000904</td>\n",
       "      <td>0.000886</td>\n",
       "      <td>0.000853</td>\n",
       "      <td>0.000831</td>\n",
       "      <td>0.000015</td>\n",
       "      <td>...</td>\n",
       "      <td>9.984697</td>\n",
       "      <td>11.167449</td>\n",
       "      <td>-1.352118e-25</td>\n",
       "      <td>3.744660e-24</td>\n",
       "      <td>-4.529886e-24</td>\n",
       "      <td>2.083818e-24</td>\n",
       "      <td>7.323201e-24</td>\n",
       "      <td>5.717963</td>\n",
       "      <td>0.000876</td>\n",
       "      <td>2.334504e-25</td>\n",
       "    </tr>\n",
       "  </tbody>\n",
       "</table>\n",
       "<p>501 rows × 51 columns</p>\n",
       "</div>"
      ],
      "text/plain": [
       "        CaSR1     CaSR2     CaSR3     CaSR4      Cai1      Cai2      Cai3  \\\n",
       "0    5.465583  5.458878  5.449987  5.445740  0.000869  0.000861  0.000844   \n",
       "1    5.465416  5.458745  5.449922  5.445790  0.000869  0.000861  0.000844   \n",
       "2    5.465249  5.458610  5.449857  5.445838  0.000868  0.000860  0.000843   \n",
       "3    5.465081  5.458475  5.449791  5.445885  0.000868  0.000860  0.000843   \n",
       "4    5.464912  5.458339  5.449724  5.445932  0.000868  0.000859  0.000845   \n",
       "..        ...       ...       ...       ...       ...       ...       ...   \n",
       "496  5.732379  5.725789  5.717188  5.713495  0.000915  0.000906  0.000888   \n",
       "497  5.732204  5.725648  5.717116  5.713538  0.000914  0.000905  0.000887   \n",
       "498  5.732028  5.725505  5.717044  5.713579  0.000914  0.000905  0.000887   \n",
       "499  5.731851  5.725362  5.716970  5.713619  0.000913  0.000904  0.000886   \n",
       "500  5.731673  5.725218  5.716895  5.713657  0.000913  0.000904  0.000886   \n",
       "\n",
       "         Cai4      Cass         d  ...       Nai       Nass        fluo_1  \\\n",
       "0    0.000814  0.000793  0.000014  ...  9.978120  11.103346 -3.802161e-24   \n",
       "1    0.000813  0.000793  0.002942  ...  9.978133  11.156459 -2.599872e-24   \n",
       "2    0.000816  0.000901  0.338528  ...  9.978150  11.572800 -1.777946e-24   \n",
       "3    0.000835  0.001091  0.598679  ...  9.978168  11.576944 -1.215990e-24   \n",
       "4    0.000869  0.001276  0.756567  ...  9.978186  11.564185 -8.317414e-25   \n",
       "..        ...       ...       ...  ...       ...        ...           ...   \n",
       "496  0.000856  0.000834  0.000015  ...  9.984644  11.168702  7.481327e-25   \n",
       "497  0.000855  0.000833  0.000015  ...  9.984657  11.168393  7.051146e-25   \n",
       "498  0.000855  0.000832  0.000015  ...  9.984671  11.168081  4.397775e-25   \n",
       "499  0.000854  0.000832  0.000015  ...  9.984684  11.167767 -7.195295e-26   \n",
       "500  0.000853  0.000831  0.000015  ...  9.984697  11.167449 -1.352118e-25   \n",
       "\n",
       "           fluo_2        fluo_3        fluo_4       fluo_ss      CaSR  \\\n",
       "0    1.665651e-24  6.287790e-24 -4.465492e-23  1.527862e-23  5.450770   \n",
       "1    1.141149e-24  4.325088e-24 -3.093535e-23  1.063695e-23  5.450737   \n",
       "2    7.819000e-25  2.975442e-24 -2.142977e-23  7.340838e-24  5.450702   \n",
       "3    5.358086e-25  2.047092e-24 -1.480950e-23  4.871632e-24  5.450666   \n",
       "4    3.672099e-25  1.408127e-24 -1.017094e-23 -3.250049e-20  5.450630   \n",
       "..            ...           ...           ...           ...       ...   \n",
       "496  5.031593e-24 -6.043224e-24 -1.845899e-24  3.881748e-24  5.718134   \n",
       "497  4.628463e-24 -5.792006e-24 -1.080711e-24  4.667854e-24  5.718093   \n",
       "498  4.294341e-24 -5.372213e-24  7.939362e-27  5.595511e-24  5.718051   \n",
       "499  4.039745e-24 -4.766484e-24  1.450156e-24  6.675147e-24  5.718007   \n",
       "500  3.744660e-24 -4.529886e-24  2.083818e-24  7.323201e-24  5.717963   \n",
       "\n",
       "          Cai          fluo  \n",
       "0    0.000836 -1.729615e-23  \n",
       "1    0.000835 -1.199169e-23  \n",
       "2    0.000837 -8.313732e-24  \n",
       "3    0.000846 -5.749512e-24  \n",
       "4    0.000862 -2.030522e-22  \n",
       "..        ...           ...  \n",
       "496  0.000879 -1.671679e-24  \n",
       "497  0.000878 -1.333915e-24  \n",
       "498  0.000878 -8.032307e-25  \n",
       "499  0.000877 -6.061327e-26  \n",
       "500  0.000876  2.334504e-25  \n",
       "\n",
       "[501 rows x 51 columns]"
      ]
     },
     "execution_count": 44,
     "metadata": {},
     "output_type": "execute_result"
    }
   ],
   "source": [
    "phenotype_model_last[e_key]"
   ]
  },
  {
   "cell_type": "code",
   "execution_count": 83,
   "metadata": {},
   "outputs": [
    {
     "data": {
      "image/png": "[encoded data removed]",
      "text/plain": [
       "<Figure size 523.636x288 with 8 Axes>"
      ]
     },
     "metadata": {},
     "output_type": "display_data"
    }
   ],
   "source": [
    "nrows, ncols = 2, 4\n",
    "\n",
    "fig, axes = plt.subplots(nrows=nrows, ncols=ncols,\n",
    "                         figsize=plt.figaspect(nrows * 1.1 / ncols),\n",
    "                         sharex='col', sharey='row',\n",
    "                         )\n",
    "\n",
    "for i_output, output in enumerate(output_list):\n",
    "        \n",
    "    if i_output < n_v:\n",
    "        continue\n",
    "    \n",
    "    config = output['config']\n",
    "    exp_cond_dict = {key: value for key, value in config['experimental_conditions'].items() if key != 'common'}\n",
    "    phenotype_model_last = output['phenotype_model_last']\n",
    "    \n",
    "    suptitle = 'Group {} Cell {} Case {}'.format(*output['trio'])\n",
    "    \n",
    "    phenotype_model = []\n",
    "    phenotype_control = []\n",
    "    \n",
    "    columns_model = config.get('columns_model', ['V'])\n",
    "    columns_control = config.get('columns_control', ['V'])\n",
    "    \n",
    "    ylim_ca_bottom = 1e10\n",
    "    ylim_ca_top = 0\n",
    "    \n",
    "    for e_key, e_value in exp_cond_dict.items():\n",
    "        \n",
    "        y = e_value['phenotype'][columns_control].values.copy()\n",
    "        x = phenotype_model_last[e_key][columns_model].values[:len(y)].copy()\n",
    "        \n",
    "        if 'composite_' in config['loss']:\n",
    "            \n",
    "            x[:, 1] *= 1000\n",
    "            \n",
    "            #x[:, 1] = rescale(x[:, 1])\n",
    "            \n",
    "            y[:, 1], _, _ = autoscaling(signal_to_scale=y[:, 1],\n",
    "                                        signal_reference=x[:, 1])    \n",
    "            \n",
    "            ca_min = min(y[:, 1].min(), x[:, 1].min())\n",
    "            ca_max = max(y[:, 1].max(), x[:, 1].max())\n",
    "\n",
    "            ylim_ca_bottom = ca_min if ca_min < ylim_ca_bottom else ylim_ca_bottom\n",
    "            ylim_ca_top = ca_max if ca_max > ylim_ca_top else ylim_ca_top\n",
    "            \n",
    "        x = np.roll(x.T, 1, axis=1)\n",
    "        y = np.roll(y.T, 1, axis=1)\n",
    "\n",
    "        phenotype_model.append(x)\n",
    "        phenotype_control.append(y)\n",
    "        \n",
    "    suptitle = 'Group {} Cell {} Case {}'.format(*output['trio'])\n",
    "    \n",
    "    ylim_ca = [ylim_ca_bottom - (ylim_ca_top - ylim_ca_bottom) * 0.05,\n",
    "               ylim_ca_top    + (ylim_ca_top - ylim_ca_bottom) * 0.05]\n",
    "    \n",
    "    #ylim_ca = [0, 0.7] # grandi\n",
    "    ylim_ca = [0, 1.5] # maleckar\n",
    "    \n",
    "    plot_waveforms(phenotype_model, phenotype_control,\n",
    "                   fig=fig, axes=axes,\n",
    "           xlim=[-20, 420], xticks=np.arange(0, 420, 100),\n",
    "           yticks_list=[np.arange(-100, 56, 25), None],\n",
    "           ylim_list=[[-90, 60], ylim_ca],\n",
    "           titles=list(exp_cond_dict.keys()),\n",
    "           ylabels=columns_model, xlabel='t, ms', suptitle=suptitle, color_model=f'C{i_output}',\n",
    "           inset_row_indices=[0], xlim_inset=[-1, 6], xticks_inset=np.arange(0, 6));\n",
    "    \n",
    "    for i, CL in enumerate(exp_cond_dict.keys()):\n",
    "        x = true[CL]['Ca_i'] * 1000\n",
    "        x = np.roll(x, 1)\n",
    "        #x = rescale(x)\n",
    "        axes[1, i].plot(x, 'k--')\n",
    "    \n",
    "    #break\n",
    "    \n",
    "# plt.savefig(\"../images/synthetic/maleckar/waveforms_3.png\")"
   ]
  },
  {
   "cell_type": "code",
   "execution_count": 81,
   "metadata": {},
   "outputs": [],
   "source": [
    "true = {CL: pd.read_csv(f\"../data/maleckar/original/phenotypes/phenotype_{CL}.csv\") for CL in exp_cond_dict.keys()}"
   ]
  },
  {
   "cell_type": "code",
   "execution_count": null,
   "metadata": {
    "scrolled": true
   },
   "outputs": [],
   "source": [
    "import pyCardiac as pc"
   ]
  },
  {
   "cell_type": "code",
   "execution_count": null,
   "metadata": {},
   "outputs": [],
   "source": [
    "exp_cond_dict = [item for item in config['experimental_conditions'].items() if item[0] != 'common']\n",
    "\n",
    "m_index = pd.MultiIndex.from_product([[x[0] for x in exp_cond_dict],\n",
    "                                      ['exp', 'model']], names=['CL', None])\n",
    "\n",
    "df = pd.DataFrame(index=m_index, columns=['RP', 'APA', 'dVdt_max', 'APD80'])\n",
    "\n",
    "for i_cond, (exp_cond_name, exp_cond) in enumerate(exp_cond_dict):\n",
    "\n",
    "    exp = exp_cond['phenotype']['V'].values\n",
    "    model = phenotype_model_last[exp_cond_name]['V'].values[:len(exp)]\n",
    "    \n",
    "    df.loc[idx[exp_cond_name, :], 'RP'] = exp[-1], model[-1]\n",
    "    df.loc[idx[exp_cond_name, :], 'APA'] = np.ptp(exp), np.ptp(model)\n",
    "    df.loc[idx[exp_cond_name, :], 'dVdt_max'] = np.max(np.diff(exp)), np.max(np.diff(model))\n",
    "    \n",
    "    t = np.arange(len(exp))\n",
    "    df.loc[idx[exp_cond_name, :], 'APD80'] = [pc.signal.analysis.calculate_APD(t, exp),\n",
    "                                              pc.signal.analysis.calculate_APD(t, model)]"
   ]
  },
  {
   "cell_type": "markdown",
   "metadata": {},
   "source": [
    "## Pairplots"
   ]
  },
  {
   "cell_type": "code",
   "execution_count": null,
   "metadata": {},
   "outputs": [],
   "source": [
    "plt.figure(figsize=plt.figaspect(1))\n",
    "\n",
    "name_x, name_y = ('common', 'g_K1_scaler'), ('common', 'g_Na_scaler')\n",
    "#name_x, name_y = ('1032', 'K_i'), ('1032', 'Na_i')\n",
    "\n",
    "epoch = 0\n",
    "\n",
    "df = dump.loc[epoch][::-1]\n",
    "#c = np.arange(len(df)) # np.log(-df['common', 'fitness'])\n",
    "\n",
    "scat = plt.scatter(df[name_x], df[name_y], c=df.index, s=16)\n",
    "line_best, = plt.plot(df[name_x].loc[0],\n",
    "                      df[name_y].loc[0], 'Xr')\n",
    "\n",
    "if genes[name_x[0]][name_x[1]].get('is_multiplier', False):\n",
    "    plt.xscale('log')\n",
    "if genes[name_y[0]][name_y[1]].get('is_multiplier', False):\n",
    "    plt.yscale('log')\n",
    "\n",
    "plt.xlabel(name_x)\n",
    "plt.ylabel(name_y)\n",
    "\n",
    "plt.xlim(genes[name_x[0]][name_x[1]]['bounds'])\n",
    "plt.ylim(genes[name_y[0]][name_y[1]]['bounds'])\n",
    "\n",
    "plt.grid(which='both')\n",
    "plt.tight_layout()\n",
    "#plt.gcf().align_labels()\n",
    "\n",
    "dirname = os.path.join(\"../images/kernik/syn/\", case, 'pairplots', \"_\".join(name_x + name_y))\n",
    "os.makedirs(dirname, exist_ok=True)\n",
    "\n",
    "for epoch in tqdm(range(0, dump.index[-1][0])):\n",
    "    df = dump.loc[epoch][::-1]\n",
    "    #c = np.arange(len(df)) # np.log(-df['common', 'fitness'])\n",
    "    scat.set_offsets(df[[name_x, name_y]])\n",
    "    scat.set_array(df.index)\n",
    "    line_best.set_data(df[name_x].loc[0], df[name_y].loc[0])\n",
    "    plt.savefig(os.path.join(os.path.join(dirname, f\"pairplot_{epoch:04d}.png\")), dpi=200)"
   ]
  },
  {
   "cell_type": "code",
   "execution_count": null,
   "metadata": {},
   "outputs": [],
   "source": [
    "df = dump.loc[idx[:, 0], 'common'].unstack().iloc[:, 1:]\n",
    "\n",
    "for key in df:\n",
    "    plt.semilogy(df[key], label=key)\n",
    "plt.legend(loc='center left', bbox_to_anchor=(1, 0.5))"
   ]
  },
  {
   "cell_type": "markdown",
   "metadata": {},
   "source": [
    "# CellML"
   ]
  },
  {
   "cell_type": "code",
   "execution_count": null,
   "metadata": {},
   "outputs": [],
   "source": [
    "df = output_list[1]['phenotype_model_last']['258']"
   ]
  },
  {
   "cell_type": "code",
   "execution_count": null,
   "metadata": {},
   "outputs": [],
   "source": [
    "df_cellml = pd.read_csv(\"../misc/cellml/maleckar_G2_C2_210309_185119_258_data.csv\")\n",
    "df_cellml.columns = [c[-1].split()[0] for c in df_cellml.columns.str.split('|')]"
   ]
  },
  {
   "cell_type": "code",
   "execution_count": null,
   "metadata": {},
   "outputs": [],
   "source": [
    "%matplotlib inline"
   ]
  },
  {
   "cell_type": "code",
   "execution_count": null,
   "metadata": {},
   "outputs": [],
   "source": [
    "for c in df:\n",
    "    \n",
    "    if c in df_cellml:\n",
    "\n",
    "        plt.plot(df[c])\n",
    "        plt.plot(df_cellml[c])\n",
    "        plt.title(c)\n",
    "        plt.show()"
   ]
  },
  {
   "cell_type": "code",
   "execution_count": null,
   "metadata": {},
   "outputs": [],
   "source": []
  },
  {
   "cell_type": "code",
   "execution_count": null,
   "metadata": {},
   "outputs": [],
   "source": [
    "plt.plot(A['ical_tor'])\n",
    "plt.plot(df_cellml['i_Ca_L_ToR_ORd'])"
   ]
  },
  {
   "cell_type": "code",
   "execution_count": null,
   "metadata": {},
   "outputs": [],
   "source": [
    "for c in A:\n",
    "    \n",
    "    if c in df_cellml:\n",
    "\n",
    "        plt.plot(A[c])\n",
    "        plt.plot(df_cellml[c])\n",
    "        plt.title(c)\n",
    "        plt.show()"
   ]
  },
  {
   "cell_type": "markdown",
   "metadata": {},
   "source": [
    "# Prepare baselines"
   ]
  },
  {
   "cell_type": "code",
   "execution_count": 16,
   "metadata": {},
   "outputs": [],
   "source": [
    "import numpy as np\n",
    "import pandas as pd\n",
    "import ctypes\n",
    "import matplotlib.pyplot as plt\n",
    "\n",
    "import time\n",
    "import os\n",
    "\n",
    "import sys\n",
    "sys.path.append(\"../\")\n",
    "\n",
    "from src.helpers import update_array_from_kwargs, get_value_by_key\n",
    "\n",
    "# dirname = '../src/model_ctypes/_maleckar_ical_ghk_tor/'\n",
    "# filename_so = os.path.join(dirname, 'maleckar.so')\n",
    "\n",
    "dirname = '../src/model_ctypes/_koivumaki/'\n",
    "filename_so = os.path.join(dirname, 'koivumaki.so')\n",
    "\n",
    "# dirname = '../src/model_ctypes/_kernik_clancy/'\n",
    "# filename_so = os.path.join(dirname, 'model.so')\n",
    "\n",
    "# dirname = '../src/model_ctypes/_grandi/'\n",
    "# filename_so = os.path.join(dirname, 'model.so')\n",
    "\n",
    "filename_so_abs = os.path.abspath(filename_so)\n",
    "\n",
    "model = ctypes.CDLL(filename_so_abs)\n",
    "\n",
    "model.initialize_states_default.argtypes = [\n",
    "    np.ctypeslib.ndpointer(dtype=np.float64, ndim=1, flags='C_CONTIGUOUS'),\n",
    "    np.ctypeslib.ndpointer(dtype=np.float64, ndim=1, flags='C_CONTIGUOUS')\n",
    "]\n",
    "\n",
    "model.initialize_states_default.restype = ctypes.c_void_p\n",
    "\n",
    "\n",
    "# model.initialize_constants_default.argtypes = [\n",
    "#     np.ctypeslib.ndpointer(dtype=np.float64, ndim=1, flags='C_CONTIGUOUS')\n",
    "# ]\n",
    "\n",
    "# model.initialize_constants_default.restype = ctypes.c_void_p\n",
    "\n",
    "\n",
    "# model.computeRates.argtypes = [\n",
    "#     ctypes.c_double,\n",
    "#     np.ctypeslib.ndpointer(dtype=np.float64, ndim=1, flags='C_CONTIGUOUS'),\n",
    "#     np.ctypeslib.ndpointer(dtype=np.float64, ndim=1, flags='C_CONTIGUOUS'),\n",
    "#     np.ctypeslib.ndpointer(dtype=np.float64, ndim=1, flags='C_CONTIGUOUS'),\n",
    "#     np.ctypeslib.ndpointer(dtype=np.float64, ndim=1, flags='C_CONTIGUOUS')\n",
    "# ]\n",
    "# model.computeRates.restype = ctypes.c_void_p\n",
    "\n",
    "\n",
    "# model.computeVariables.argtypes = [\n",
    "#     ctypes.c_double,\n",
    "#     np.ctypeslib.ndpointer(dtype=np.float64, ndim=1, flags='C_CONTIGUOUS'),\n",
    "#     np.ctypeslib.ndpointer(dtype=np.float64, ndim=1, flags='C_CONTIGUOUS'),\n",
    "#     np.ctypeslib.ndpointer(dtype=np.float64, ndim=1, flags='C_CONTIGUOUS'),\n",
    "#     np.ctypeslib.ndpointer(dtype=np.float64, ndim=1, flags='C_CONTIGUOUS')\n",
    "# ]\n",
    "# model.computeVariables.restype = ctypes.c_void_p\n",
    "\n",
    "\n",
    "model.run.argtypes = [\n",
    "    np.ctypeslib.ndpointer(dtype=np.float64, ndim=1, flags='C_CONTIGUOUS'),\n",
    "    np.ctypeslib.ndpointer(dtype=np.float64, ndim=1, flags='C_CONTIGUOUS'),\n",
    "    ctypes.c_int,\n",
    "    ctypes.c_double,\n",
    "    ctypes.c_double,\n",
    "    np.ctypeslib.ndpointer(dtype=np.float64, ndim=2, flags='C_CONTIGUOUS')#,\n",
    "    #np.ctypeslib.ndpointer(dtype=np.float64, ndim=2, flags='C_CONTIGUOUS'),\n",
    "    #np.ctypeslib.ndpointer(dtype=np.float64, ndim=1, flags='C_CONTIGUOUS')\n",
    "]\n",
    "\n",
    "model.run.restype = ctypes.c_int\n",
    "\n",
    "\n",
    "\n",
    "# model.run_chain.argtypes = [\n",
    "#     np.ctypeslib.ndpointer(dtype=np.float64, ndim=1, flags='C_CONTIGUOUS'),\n",
    "#     np.ctypeslib.ndpointer(dtype=np.float64, ndim=1, flags='C_CONTIGUOUS'),\n",
    "#     ctypes.c_int,\n",
    "#     ctypes.c_double,\n",
    "#     ctypes.c_double,\n",
    "#     ctypes.c_int,\n",
    "#     ctypes.c_double,\n",
    "#     ctypes.c_double,\n",
    "#     np.ctypeslib.ndpointer(dtype=np.float64, ndim=2, flags='C_CONTIGUOUS'),\n",
    "#     np.ctypeslib.ndpointer(dtype=np.float64, ndim=2, flags='C_CONTIGUOUS'),\n",
    "#     ctypes.c_int, # target_index\n",
    "\n",
    "# ]\n",
    "\n",
    "# model.run_chain.restype = ctypes.c_int\n",
    "\n",
    "\n",
    "legend_algebraic = pd.read_csv(os.path.join(dirname, \"legend_algebraic.csv\"), index_col='name')\n",
    "legend_algebraic = legend_algebraic.iloc[:, :0]\n",
    "legend_algebraic['value'] = 0.0\n",
    "\n",
    "legend_constants = pd.read_csv(os.path.join(dirname, \"legend_constants.csv\"), index_col='name')['value']\n",
    "legend_states = pd.read_csv(os.path.join(dirname, \"legend_states.csv\"), index_col='name')['value']"
   ]
  },
  {
   "cell_type": "code",
   "execution_count": null,
   "metadata": {},
   "outputs": [],
   "source": [
    "# S = np.zeros(len(legend_states)) #  np.loadtxt(\"S.txt\")\n",
    "# C = legend_constants.values #  np.loadtxt(\"C.txt\")\n",
    "\n",
    "model.initialize_states_default(legend_states.values, legend_constants.values)"
   ]
  },
  {
   "cell_type": "code",
   "execution_count": null,
   "metadata": {},
   "outputs": [],
   "source": [
    "# S = np.zeros(len(legend_states)) #  np.loadtxt(\"S.txt\")\n",
    "# C = np.zeros(len(legend_constants)) #  np.loadtxt(\"C.txt\")\n",
    "\n",
    "# model.initialize_states_default(S)\n",
    "# model.initialize_constants_default(C)"
   ]
  },
  {
   "cell_type": "code",
   "execution_count": null,
   "metadata": {},
   "outputs": [],
   "source": [
    "# S = legend_states.copy()\n",
    "# C = legend_constants.copy()\n",
    "\n",
    "# A = legend_algebraic.copy()\n",
    "# R = np.zeros(len(legend_states))"
   ]
  },
  {
   "cell_type": "code",
   "execution_count": 17,
   "metadata": {},
   "outputs": [],
   "source": [
    "def create_C_S(organism, config, exp_cond_name, verbose=False):\n",
    "\n",
    "    legend = config['runtime']['legend']\n",
    "    genes_dict = config['runtime']['genes_dict']\n",
    "    constants_dict = config['runtime']['constants_dict']\n",
    "    \n",
    "    print(constants_dict[exp_cond_name])\n",
    "\n",
    "    genes_current = organism['genes'][['common', exp_cond_name]]\n",
    "    constants_dict_current = {**constants_dict['common'],\n",
    "                              **constants_dict[exp_cond_name],\n",
    "                             }\n",
    "\n",
    "    C = legend['constants'].copy()\n",
    "    S = organism['state'][exp_cond_name].copy()\n",
    "\n",
    "    for i in range(len(genes_current)):\n",
    "        g_name = genes_current.index.get_level_values(1).to_list()[i]\n",
    "\n",
    "        if g_name in legend['constants'].index:\n",
    "            for ecn in ['common', exp_cond_name]:\n",
    "                if g_name in genes_dict[ecn]:\n",
    "                    if genes_dict[ecn][g_name]['is_multiplier']:\n",
    "                        C[g_name] *= genes_current[ecn, g_name]\n",
    "                    else:\n",
    "                        C[g_name] = genes_current[ecn, g_name]\n",
    "\n",
    "        if g_name in legend['states'].index:\n",
    "            for ecn in ['common', exp_cond_name]:\n",
    "                if g_name in genes_dict[ecn]:\n",
    "                    if genes_dict[ecn][g_name]['is_multiplier']:\n",
    "                        S[g_name] *= genes_current[ecn, g_name]\n",
    "                    else:\n",
    "                        S[g_name] = genes_current[ecn, g_name]\n",
    "                        \n",
    "\n",
    "    for c_name, c in constants_dict_current.items():\n",
    "        if verbose:\n",
    "            print(c_name, c)\n",
    "        if c_name in legend['constants'].index:\n",
    "            C[c_name] = c\n",
    "        if c_name in legend['states'].index:\n",
    "            S[c_name] = c\n",
    "\n",
    "    return C, S"
   ]
  },
  {
   "cell_type": "code",
   "execution_count": 18,
   "metadata": {},
   "outputs": [
    {
     "data": {
      "text/plain": [
       "{'common': {'STIM_LEVEL': 1.5, 'Na_o': 140, 'Ca_o': 2.0, 'K_o': 4},\n",
       " '2064': {'STIM_PERIOD': 2.064},\n",
       " '1032': {'STIM_PERIOD': 1.032},\n",
       " '516': {'STIM_PERIOD': 0.516},\n",
       " '344': {'STIM_PERIOD': 0.344},\n",
       " '258': {'STIM_PERIOD': 0.258}}"
      ]
     },
     "execution_count": 18,
     "metadata": {},
     "output_type": "execute_result"
    }
   ],
   "source": [
    "config['runtime']['constants_dict']"
   ]
  },
  {
   "cell_type": "code",
   "execution_count": 31,
   "metadata": {},
   "outputs": [
    {
     "name": "stdout",
     "output_type": "stream",
     "text": [
      "{'STIM_PERIOD': 0.258}\n",
      "STIM_LEVEL 1.5\n",
      "Na_o 140\n",
      "Ca_o 2.0\n",
      "K_o 4\n",
      "STIM_PERIOD 0.258\n"
     ]
    }
   ],
   "source": [
    "output = output_list[2]\n",
    "\n",
    "genes = output['dump_last'].iloc[0, 1:]\n",
    "\n",
    "phenotype_model_last = output['phenotype_model_last']\n",
    "config = output['config']\n",
    "\n",
    "state = pd.DataFrame({exp_cond_name: phenotype_model_last[exp_cond_name].iloc[-1]\n",
    "                      for exp_cond_name in config['experimental_conditions'] if exp_cond_name != 'common'})\n",
    "\n",
    "C, S = create_C_S(dict(genes=genes, state=state), config, '258', verbose=True)"
   ]
  },
  {
   "cell_type": "code",
   "execution_count": null,
   "metadata": {},
   "outputs": [],
   "source": [
    "C['g_K1'] *= 100"
   ]
  },
  {
   "cell_type": "code",
   "execution_count": null,
   "metadata": {},
   "outputs": [],
   "source": [
    "C['g_K1'] *= 0.5\n",
    "C['P_Na'] *= 0.6\n",
    "C['g_Ca_L'] *= 0.5\n",
    "#P_Ca_L_ToR_ORd*0.5"
   ]
  },
  {
   "cell_type": "code",
   "execution_count": null,
   "metadata": {
    "scrolled": true
   },
   "outputs": [],
   "source": [
    "# C['stim_amplitude'] *= 2\n",
    "# C['stim_amplitude']"
   ]
  },
  {
   "cell_type": "code",
   "execution_count": null,
   "metadata": {},
   "outputs": [],
   "source": [
    "S = legend_states.copy()\n",
    "C = legend_constants.copy()"
   ]
  },
  {
   "cell_type": "code",
   "execution_count": null,
   "metadata": {},
   "outputs": [],
   "source": [
    "C['stim_period'] = 1\n",
    "C['stim_duration'] = 0.001\n",
    "C['stim_amplitude'] = -60\n",
    "#C['pca_tor'] = 0 # 5e-5 * 4\n",
    "#C['g_Ca_L'] = 3 * 6.75"
   ]
  },
  {
   "cell_type": "code",
   "execution_count": null,
   "metadata": {},
   "outputs": [],
   "source": [
    "C['pca_tor'] = 5e-5 * 4\n"
   ]
  },
  {
   "cell_type": "code",
   "execution_count": null,
   "metadata": {},
   "outputs": [],
   "source": [
    "C['stim_period'] = 1"
   ]
  },
  {
   "cell_type": "code",
   "execution_count": null,
   "metadata": {},
   "outputs": [],
   "source": [
    "#C.to_csv(\"../../../projects/Rheeda/G3C1/andrey_constants.csv\")"
   ]
  },
  {
   "cell_type": "code",
   "execution_count": null,
   "metadata": {},
   "outputs": [],
   "source": [
    "C['fluo_k_on'] = 0\n",
    "C['fluo_k_off'] = 0"
   ]
  },
  {
   "cell_type": "code",
   "execution_count": 32,
   "metadata": {},
   "outputs": [],
   "source": [
    "t_sampling = config['t_sampling']\n",
    "# t_sampling = 1\n",
    "\n",
    "#stim_period = C['STIM_PERIOD']\n",
    "stim_period = C[config['stim_period_legend_name']] # C[config['stim_period_legend_name']]\n",
    "#stim_period = get_value_by_key(C, legend_constants, 'stim_period')\n",
    "n_samples_per_stim = int(stim_period / t_sampling)\n",
    "\n",
    "n_beats = 100\n",
    "tol = 1e-4\n",
    "\n",
    "chain_length = 50\n",
    "v_threshold = 1e-1\n",
    "t_safe = 5e-2\n",
    "\n",
    "output = np.zeros((n_samples_per_stim * n_beats + 1, len(S)))\n",
    "output_V = np.zeros((n_samples_per_stim * n_beats + 1, chain_length))\n",
    "\n",
    "output_A = np.zeros((n_samples_per_stim * n_beats + 1, len(legend_algebraic)))\n",
    "output_t = np.zeros((n_samples_per_stim * n_beats + 1))"
   ]
  },
  {
   "cell_type": "code",
   "execution_count": null,
   "metadata": {},
   "outputs": [],
   "source": [
    "C['stim_amplitude'] = -180\n",
    "status = model.run_chain(S.values.copy(), C.values.copy(),\n",
    "                         chain_length, v_threshold, t_safe,\n",
    "                         n_beats, t_sampling, tol, output, output_V, -1)\n",
    "\n",
    "print(status)"
   ]
  },
  {
   "cell_type": "code",
   "execution_count": 33,
   "metadata": {},
   "outputs": [
    {
     "name": "stdout",
     "output_type": "stream",
     "text": [
      "2\n"
     ]
    }
   ],
   "source": [
    "status = model.run(S.values.copy(), C.values.copy(),\n",
    "                   n_beats, t_sampling, tol, output)\n",
    "\n",
    "print(status)"
   ]
  },
  {
   "cell_type": "code",
   "execution_count": 34,
   "metadata": {},
   "outputs": [],
   "source": [
    "#output = np.loadtxt(os.path.join(dirname, \"output.txt\"))"
   ]
  },
  {
   "cell_type": "code",
   "execution_count": 35,
   "metadata": {},
   "outputs": [
    {
     "data": {
      "text/html": [
       "<div>\n",
       "<style scoped>\n",
       "    .dataframe tbody tr th:only-of-type {\n",
       "        vertical-align: middle;\n",
       "    }\n",
       "\n",
       "    .dataframe tbody tr th {\n",
       "        vertical-align: top;\n",
       "    }\n",
       "\n",
       "    .dataframe thead th {\n",
       "        text-align: right;\n",
       "    }\n",
       "</style>\n",
       "<table border=\"1\" class=\"dataframe\">\n",
       "  <thead>\n",
       "    <tr style=\"text-align: right;\">\n",
       "      <th>name</th>\n",
       "      <th>CaSR1</th>\n",
       "      <th>CaSR2</th>\n",
       "      <th>CaSR3</th>\n",
       "      <th>CaSR4</th>\n",
       "      <th>Cai1</th>\n",
       "      <th>Cai2</th>\n",
       "      <th>Cai3</th>\n",
       "      <th>Cai4</th>\n",
       "      <th>Cass</th>\n",
       "      <th>d</th>\n",
       "      <th>...</th>\n",
       "      <th>Nai</th>\n",
       "      <th>Nass</th>\n",
       "      <th>fluo_1</th>\n",
       "      <th>fluo_2</th>\n",
       "      <th>fluo_3</th>\n",
       "      <th>fluo_4</th>\n",
       "      <th>fluo_ss</th>\n",
       "      <th>CaSR</th>\n",
       "      <th>Cai</th>\n",
       "      <th>fluo</th>\n",
       "    </tr>\n",
       "  </thead>\n",
       "  <tbody>\n",
       "    <tr>\n",
       "      <th>0</th>\n",
       "      <td>0.3595</td>\n",
       "      <td>0.349102</td>\n",
       "      <td>0.328027</td>\n",
       "      <td>0.296031</td>\n",
       "      <td>0.000155</td>\n",
       "      <td>0.000151</td>\n",
       "      <td>0.000143</td>\n",
       "      <td>0.000125</td>\n",
       "      <td>0.000105</td>\n",
       "      <td>0.000010</td>\n",
       "      <td>...</td>\n",
       "      <td>10.211539</td>\n",
       "      <td>10.314744</td>\n",
       "      <td>0.000087</td>\n",
       "      <td>0.000086</td>\n",
       "      <td>0.000082</td>\n",
       "      <td>0.000073</td>\n",
       "      <td>0.000063</td>\n",
       "      <td>0.319947</td>\n",
       "      <td>0.000137</td>\n",
       "      <td>0.000079</td>\n",
       "    </tr>\n",
       "    <tr>\n",
       "      <th>1</th>\n",
       "      <td>0.3595</td>\n",
       "      <td>0.349101</td>\n",
       "      <td>0.328038</td>\n",
       "      <td>0.296118</td>\n",
       "      <td>0.000155</td>\n",
       "      <td>0.000151</td>\n",
       "      <td>0.000142</td>\n",
       "      <td>0.000125</td>\n",
       "      <td>0.000106</td>\n",
       "      <td>0.001799</td>\n",
       "      <td>...</td>\n",
       "      <td>10.211540</td>\n",
       "      <td>10.358592</td>\n",
       "      <td>0.000087</td>\n",
       "      <td>0.000085</td>\n",
       "      <td>0.000081</td>\n",
       "      <td>0.000073</td>\n",
       "      <td>0.000063</td>\n",
       "      <td>0.319989</td>\n",
       "      <td>0.000137</td>\n",
       "      <td>0.000079</td>\n",
       "    </tr>\n",
       "    <tr>\n",
       "      <th>2</th>\n",
       "      <td>0.3595</td>\n",
       "      <td>0.349099</td>\n",
       "      <td>0.328050</td>\n",
       "      <td>0.296205</td>\n",
       "      <td>0.000155</td>\n",
       "      <td>0.000151</td>\n",
       "      <td>0.000142</td>\n",
       "      <td>0.000125</td>\n",
       "      <td>0.000129</td>\n",
       "      <td>0.346946</td>\n",
       "      <td>...</td>\n",
       "      <td>10.211547</td>\n",
       "      <td>10.924784</td>\n",
       "      <td>0.000087</td>\n",
       "      <td>0.000085</td>\n",
       "      <td>0.000081</td>\n",
       "      <td>0.000073</td>\n",
       "      <td>0.000064</td>\n",
       "      <td>0.320030</td>\n",
       "      <td>0.000137</td>\n",
       "      <td>0.000079</td>\n",
       "    </tr>\n",
       "    <tr>\n",
       "      <th>3</th>\n",
       "      <td>0.3595</td>\n",
       "      <td>0.349098</td>\n",
       "      <td>0.328061</td>\n",
       "      <td>0.296291</td>\n",
       "      <td>0.000154</td>\n",
       "      <td>0.000150</td>\n",
       "      <td>0.000141</td>\n",
       "      <td>0.000127</td>\n",
       "      <td>0.000170</td>\n",
       "      <td>0.603363</td>\n",
       "      <td>...</td>\n",
       "      <td>10.211555</td>\n",
       "      <td>10.916298</td>\n",
       "      <td>0.000087</td>\n",
       "      <td>0.000085</td>\n",
       "      <td>0.000081</td>\n",
       "      <td>0.000073</td>\n",
       "      <td>0.000067</td>\n",
       "      <td>0.320071</td>\n",
       "      <td>0.000138</td>\n",
       "      <td>0.000078</td>\n",
       "    </tr>\n",
       "    <tr>\n",
       "      <th>4</th>\n",
       "      <td>0.3595</td>\n",
       "      <td>0.349096</td>\n",
       "      <td>0.328072</td>\n",
       "      <td>0.296377</td>\n",
       "      <td>0.000154</td>\n",
       "      <td>0.000150</td>\n",
       "      <td>0.000141</td>\n",
       "      <td>0.000131</td>\n",
       "      <td>0.000213</td>\n",
       "      <td>0.759038</td>\n",
       "      <td>...</td>\n",
       "      <td>10.211562</td>\n",
       "      <td>10.887319</td>\n",
       "      <td>0.000086</td>\n",
       "      <td>0.000085</td>\n",
       "      <td>0.000081</td>\n",
       "      <td>0.000073</td>\n",
       "      <td>0.000074</td>\n",
       "      <td>0.320112</td>\n",
       "      <td>0.000140</td>\n",
       "      <td>0.000078</td>\n",
       "    </tr>\n",
       "  </tbody>\n",
       "</table>\n",
       "<p>5 rows × 51 columns</p>\n",
       "</div>"
      ],
      "text/plain": [
       "name   CaSR1     CaSR2     CaSR3     CaSR4      Cai1      Cai2      Cai3  \\\n",
       "0     0.3595  0.349102  0.328027  0.296031  0.000155  0.000151  0.000143   \n",
       "1     0.3595  0.349101  0.328038  0.296118  0.000155  0.000151  0.000142   \n",
       "2     0.3595  0.349099  0.328050  0.296205  0.000155  0.000151  0.000142   \n",
       "3     0.3595  0.349098  0.328061  0.296291  0.000154  0.000150  0.000141   \n",
       "4     0.3595  0.349096  0.328072  0.296377  0.000154  0.000150  0.000141   \n",
       "\n",
       "name      Cai4      Cass         d  ...        Nai       Nass    fluo_1  \\\n",
       "0     0.000125  0.000105  0.000010  ...  10.211539  10.314744  0.000087   \n",
       "1     0.000125  0.000106  0.001799  ...  10.211540  10.358592  0.000087   \n",
       "2     0.000125  0.000129  0.346946  ...  10.211547  10.924784  0.000087   \n",
       "3     0.000127  0.000170  0.603363  ...  10.211555  10.916298  0.000087   \n",
       "4     0.000131  0.000213  0.759038  ...  10.211562  10.887319  0.000086   \n",
       "\n",
       "name    fluo_2    fluo_3    fluo_4   fluo_ss      CaSR       Cai      fluo  \n",
       "0     0.000086  0.000082  0.000073  0.000063  0.319947  0.000137  0.000079  \n",
       "1     0.000085  0.000081  0.000073  0.000063  0.319989  0.000137  0.000079  \n",
       "2     0.000085  0.000081  0.000073  0.000064  0.320030  0.000137  0.000079  \n",
       "3     0.000085  0.000081  0.000073  0.000067  0.320071  0.000138  0.000078  \n",
       "4     0.000085  0.000081  0.000073  0.000074  0.320112  0.000140  0.000078  \n",
       "\n",
       "[5 rows x 51 columns]"
      ]
     },
     "execution_count": 35,
     "metadata": {},
     "output_type": "execute_result"
    }
   ],
   "source": [
    "output = pd.DataFrame(output, columns=legend_states.index)\n",
    "output.head()"
   ]
  },
  {
   "cell_type": "code",
   "execution_count": 36,
   "metadata": {},
   "outputs": [
    {
     "data": {
      "text/html": [
       "<div>\n",
       "<style scoped>\n",
       "    .dataframe tbody tr th:only-of-type {\n",
       "        vertical-align: middle;\n",
       "    }\n",
       "\n",
       "    .dataframe tbody tr th {\n",
       "        vertical-align: top;\n",
       "    }\n",
       "\n",
       "    .dataframe thead th {\n",
       "        text-align: right;\n",
       "    }\n",
       "</style>\n",
       "<table border=\"1\" class=\"dataframe\">\n",
       "  <thead>\n",
       "    <tr style=\"text-align: right;\">\n",
       "      <th>name</th>\n",
       "      <th>Nai</th>\n",
       "      <th>Ki</th>\n",
       "    </tr>\n",
       "  </thead>\n",
       "  <tbody>\n",
       "    <tr>\n",
       "      <th>err_rel</th>\n",
       "      <td>0.504082</td>\n",
       "      <td>-0.034048</td>\n",
       "    </tr>\n",
       "    <tr>\n",
       "      <th>err_abs</th>\n",
       "      <td>0.051474</td>\n",
       "      <td>-0.044079</td>\n",
       "    </tr>\n",
       "  </tbody>\n",
       "</table>\n",
       "</div>"
      ],
      "text/plain": [
       "name          Nai        Ki\n",
       "err_rel  0.504082 -0.034048\n",
       "err_abs  0.051474 -0.044079"
      ]
     },
     "execution_count": 36,
     "metadata": {},
     "output_type": "execute_result"
    }
   ],
   "source": [
    "err_abs = output.iloc[-1] - output.iloc[0]\n",
    "err_rel = err_abs / output.iloc[0] * 100\n",
    "\n",
    "#items = ['Na_i', 'K_i', 'V', 'Ca_i']\n",
    "items = ['Nai', 'Ki']\n",
    "\n",
    "df_err= pd.DataFrame([err_rel[items], err_abs[items]],\n",
    "                     index=['err_rel', 'err_abs'])\n",
    "df_err"
   ]
  },
  {
   "cell_type": "code",
   "execution_count": 37,
   "metadata": {},
   "outputs": [
    {
     "data": {
      "text/plain": [
       "[<matplotlib.lines.Line2D at 0x7f7221c893a0>]"
      ]
     },
     "execution_count": 37,
     "metadata": {},
     "output_type": "execute_result"
    },
    {
     "data": {
      "image/png": "[encoded data removed]",
      "text/plain": [
       "<Figure size 432x288 with 1 Axes>"
      ]
     },
     "metadata": {},
     "output_type": "display_data"
    }
   ],
   "source": [
    "plt.plot(output.Nai)\n",
    "#plt.plot(output.Nai[-1033:])"
   ]
  },
  {
   "cell_type": "code",
   "execution_count": 38,
   "metadata": {},
   "outputs": [
    {
     "data": {
      "text/plain": [
       "[<matplotlib.lines.Line2D at 0x7f7221c565b0>]"
      ]
     },
     "execution_count": 38,
     "metadata": {},
     "output_type": "execute_result"
    },
    {
     "data": {
      "image/png": "[encoded data removed]",
      "text/plain": [
       "<Figure size 432x288 with 1 Axes>"
      ]
     },
     "metadata": {},
     "output_type": "display_data"
    }
   ],
   "source": [
    "plt.plot(output.V[-1032-1:])"
   ]
  },
  {
   "cell_type": "code",
   "execution_count": 43,
   "metadata": {},
   "outputs": [
    {
     "data": {
      "text/plain": [
       "<matplotlib.legend.Legend at 0x7f7221ae7340>"
      ]
     },
     "execution_count": 43,
     "metadata": {},
     "output_type": "execute_result"
    },
    {
     "data": {
      "image/png": "[encoded data removed]",
      "text/plain": [
       "<Figure size 432x288 with 1 Axes>"
      ]
     },
     "metadata": {},
     "output_type": "display_data"
    }
   ],
   "source": [
    "v = output_list[2]['config']['experimental_conditions']['258']['phenotype'].V.values\n",
    "plt.plot(v, color='0.6', lw=2, label='experiment')\n",
    "\n",
    "plt.plot(output.V[:1032].values, lw=2, label='beat 1')\n",
    "plt.plot(output.V[-1033:].values, lw=2, label='beat 1000')\n",
    "\n",
    "plt.legend()\n",
    "# plt.xlim(-10, 410)"
   ]
  },
  {
   "cell_type": "code",
   "execution_count": 20,
   "metadata": {},
   "outputs": [
    {
     "name": "stdout",
     "output_type": "stream",
     "text": [
      "Using matplotlib backend: Qt5Agg\n"
     ]
    }
   ],
   "source": [
    "%matplotlib"
   ]
  },
  {
   "cell_type": "code",
   "execution_count": 21,
   "metadata": {},
   "outputs": [],
   "source": [
    "for i in range(n_beats):\n",
    "    CL = 1032\n",
    "    plt.plot(output.V[CL*i: CL*(i + 1) + 1])"
   ]
  },
  {
   "cell_type": "code",
   "execution_count": null,
   "metadata": {},
   "outputs": [],
   "source": [
    "plt.plot(output.Ca_sr)"
   ]
  },
  {
   "cell_type": "code",
   "execution_count": null,
   "metadata": {},
   "outputs": [],
   "source": [
    "# plt.plot(output.Ca_up)\n",
    "# plt.plot(output.Ca_rel)"
   ]
  },
  {
   "cell_type": "code",
   "execution_count": null,
   "metadata": {},
   "outputs": [],
   "source": [
    "A = legend_algebraic.values.flatten()\n",
    "R = np.zeros(len(legend_states))\n",
    "\n",
    "#output = df.copy()\n",
    "A_list = np.zeros((len(output), len(A)))\n",
    "\n",
    "for i in range(len(output)):\n",
    "    model.computeVariables(0, C.values, R, output.iloc[i].values, A)\n",
    "    A_list[i] = A.copy()"
   ]
  },
  {
   "cell_type": "code",
   "execution_count": null,
   "metadata": {},
   "outputs": [],
   "source": [
    "A = pd.DataFrame(A_list, columns=legend_algebraic.index)"
   ]
  },
  {
   "cell_type": "code",
   "execution_count": null,
   "metadata": {},
   "outputs": [],
   "source": [
    "plt.plot(A.i_Ca_L)\n",
    "plt.plot(A.ical_tor)\n",
    "\n",
    "#plt.xlim(990, 1200)"
   ]
  },
  {
   "cell_type": "code",
   "execution_count": null,
   "metadata": {},
   "outputs": [],
   "source": [
    "#output.to_csv(\"../../../projects/Rheeda/G3C1/andrey_normal.csv\", index=False)"
   ]
  },
  {
   "cell_type": "code",
   "execution_count": null,
   "metadata": {},
   "outputs": [],
   "source": [
    "tail = output[-1000 * 10 - 1:].reset_index()"
   ]
  },
  {
   "cell_type": "code",
   "execution_count": null,
   "metadata": {},
   "outputs": [],
   "source": [
    "tail"
   ]
  },
  {
   "cell_type": "code",
   "execution_count": null,
   "metadata": {},
   "outputs": [],
   "source": [
    "plt.plot(tail.V)"
   ]
  },
  {
   "cell_type": "code",
   "execution_count": null,
   "metadata": {},
   "outputs": [],
   "source": [
    "# tail.to_csv(\"../../../projects/Rheeda/G3C1/andrey_fibrosis.csv\", index=False)"
   ]
  },
  {
   "cell_type": "code",
   "execution_count": null,
   "metadata": {},
   "outputs": [],
   "source": [
    "tail"
   ]
  },
  {
   "cell_type": "code",
   "execution_count": null,
   "metadata": {},
   "outputs": [],
   "source": []
  },
  {
   "cell_type": "markdown",
   "metadata": {},
   "source": [
    "# 3D"
   ]
  },
  {
   "cell_type": "markdown",
   "metadata": {},
   "source": [
    "spherical stimulus of radius 0.75mm\n",
    "\n",
    "stimulus[0].strength     = 3e2 units: uA/cm^3(3D current)\n",
    "\n",
    "stimulus[0].duration     = 5 [ms]\n",
    "\n",
    "$(100 um)^3 \\cdot 300 uA / cm^3 = (10^2 \\cdot 10^{-6} m)^3 \\cdot 3 \\cdot 10^{-4} \\cdot 10^6 A/m^{-3} = 10^{-12} m^3 \\cdot 3 \\cdot 10^2 A / m^3 = 3 \\cdot 10^{-10} A = 0.3 nA$\n",
    "\n",
    "Cm = 0.05 nF"
   ]
  },
  {
   "cell_type": "code",
   "execution_count": null,
   "metadata": {},
   "outputs": [],
   "source": [
    "model.computeRates.argtypes = [\n",
    "    ctypes.c_double,\n",
    "    np.ctypeslib.ndpointer(dtype=np.float64, ndim=1, flags='C_CONTIGUOUS'),\n",
    "    np.ctypeslib.ndpointer(dtype=np.float64, ndim=1, flags='C_CONTIGUOUS'),\n",
    "    np.ctypeslib.ndpointer(dtype=np.float64, ndim=1, flags='C_CONTIGUOUS'),\n",
    "    np.ctypeslib.ndpointer(dtype=np.float64, ndim=1, flags='C_CONTIGUOUS')\n",
    "]\n",
    "model.computeRates.restype = ctypes.c_void_p"
   ]
  },
  {
   "cell_type": "code",
   "execution_count": null,
   "metadata": {},
   "outputs": [],
   "source": [
    "def calculate_diffusion(V, g_gap_junc_tensor):\n",
    "        \n",
    "    I = np.zeros_like(V)\n",
    "        \n",
    "    for axis in range(V.ndim):\n",
    "\n",
    "        indices_next, indices_prev = [slice(None)] * 3, [slice(None)] * 3\n",
    "        indices_next[axis] = slice(1, None)        \n",
    "        indices_prev[axis] = slice(0, -1)\n",
    "        indices_next = tuple(indices_next)\n",
    "        indices_prev = tuple(indices_prev)\n",
    "\n",
    "        I[indices_next] = I[indices_next] - g_gap_junc_tensor[axis] * (V[indices_prev] - V[indices_next])\n",
    "        I[indices_prev] = I[indices_prev] - g_gap_junc_tensor[axis] * (V[indices_next] - V[indices_prev])\n",
    "            \n",
    "    return I\n",
    "\n",
    "\n",
    "def is_pacing_condition(t, ix, iy, iz, SIZE, stim_size):\n",
    "    \n",
    "    X_SIZE, Y_SIZE, Z_SIZE = SIZE\n",
    "\n",
    "    pacing_condition =  (X_SIZE / 2 - stim_size / 2 <= ix <= X_SIZE / 2 + stim_size / 2)\n",
    "    pacing_condition &= (Y_SIZE / 2 - stim_size / 2 <= iy <= Y_SIZE / 2 + stim_size / 2)\n",
    "    pacing_condition &= (iz == 0)\n",
    "\n",
    "    pacing_condition &= t < 5e-3\n",
    "    \n",
    "    return pacing_condition\n",
    "\n",
    "\n",
    "def is_pacing_condition_sphere(t, ix, iy, iz, SIZE, R):\n",
    "    \n",
    "    X_SIZE, Y_SIZE, Z_SIZE = SIZE\n",
    "    \n",
    "    x_center, y_center, z_center = X_SIZE / 2, Y_SIZE / 2, 0\n",
    "\n",
    "    pacing_condition =  (ix - x_center)**2 + (iy - y_center)**2 + (iz - z_center)**2 < R**2\n",
    "    pacing_condition &= t < 5e-3\n",
    "    \n",
    "    return pacing_condition"
   ]
  },
  {
   "cell_type": "code",
   "execution_count": null,
   "metadata": {},
   "outputs": [],
   "source": [
    "dt = 3.5e-5\n",
    "\n",
    "t_end = 2e-2\n",
    "t_sampling = 1e-4 # 1e-4\n",
    "\n",
    "sigma_l = 0.126 #  S/m\n",
    "h = 100  # um\n",
    "\n",
    "g_gap_junc = sigma_l * h # 5.0\n",
    "g_gap_junc_tensor = [g_gap_junc,\n",
    "                     g_gap_junc / 5,\n",
    "                     g_gap_junc / 5]\n",
    "\n",
    "N = int(t_end / dt)\n",
    "step_print = int(t_sampling / dt)\n",
    "\n",
    "\n",
    "# X_SIZE, Y_SIZE, Z_SIZE = 61, 41, 21\n",
    "\n",
    "X_SIZE, Y_SIZE, Z_SIZE = 101, 1, 1\n",
    "\n",
    "SIZE = X_SIZE, Y_SIZE, Z_SIZE\n",
    "\n",
    "\n",
    "output = output_list[3]\n",
    "\n",
    "genes = output['dump_last'].iloc[0, 1:]\n",
    "phenotype_model_last = output['phenotype_model_last']\n",
    "config = output['config']\n",
    "\n",
    "state = pd.DataFrame({exp_cond_name: phenotype_model_last[exp_cond_name].iloc[-1]\n",
    "                      for exp_cond_name in config['experimental_conditions'] if exp_cond_name != 'common'})\n",
    "\n",
    "C, S = create_C_S(dict(genes=genes, state=state), config, '344')\n",
    "#C['P_Na'] *= 4\n",
    "\n",
    "A = np.zeros(70)\n",
    "R = np.zeros_like(S)\n",
    "\n",
    "S_tissue = np.tile(S.values, (*SIZE, 1))\n",
    "C_tissue = np.tile(C.values, (*SIZE, 1))\n",
    "C_tissue[:, :, :, 7] = 0\n",
    "R_tissue = np.zeros_like(S_tissue)\n",
    "A_tissue = np.tile(A, (*SIZE, 1))\n",
    "\n",
    "timespace = []\n",
    "#result = np.zeros((*SIZE, int(t_end / t_sampling)))\n",
    "result = []\n",
    "i_print = 0\n",
    "t = 0\n",
    "\n",
    "stim_size = 1 # 10"
   ]
  },
  {
   "cell_type": "code",
   "execution_count": null,
   "metadata": {},
   "outputs": [],
   "source": [
    "IS_PARALLEL = False\n",
    "\n",
    "for it in tqdm(range(N)):\n",
    "    \n",
    "    if it % step_print == 0:\n",
    "        #result[:, :, :, i_print] = S_tissue[:, :, :, 0]\n",
    "        \n",
    "        i_print += 1\n",
    "        result.append(S_tissue[:, :, :, 0])\n",
    "        timespace.append(t)\n",
    "        \n",
    "    if IS_PARALLEL:\n",
    "\n",
    "        C_tissue[X_SIZE / 2 - stim_size / 2: X_SIZE / 2 + stim_size / 2,\n",
    "                 Y_SIZE / 2 - stim_size / 2: Y_SIZE / 2 + stim_size / 2,\n",
    "                 0, 7] = -300 if t < 5e-3 else 0 \n",
    "\n",
    "        args = zip([t] * (X_SIZE * Y_SIZE * Z_SIZE),\n",
    "                   C_tissue.reshape(-1, C_tissue.shape[-1]),\n",
    "                   R_tissue.reshape(-1, R_tissue.shape[-1]),\n",
    "                   S_tissue.reshape(-1, S_tissue.shape[-1]),\n",
    "                   A_tissue.reshape(-1, A_tissue.shape[-1]))\n",
    "\n",
    "        with Pool(2) as p:\n",
    "            R_list = p.map(f, args)\n",
    "\n",
    "        R_tissue = np.array(R_list).reshape(R_tissue.shape)\n",
    "        \n",
    "    else:\n",
    "\n",
    "        for ix in range(X_SIZE):\n",
    "            for iy in range(Y_SIZE):\n",
    "                for iz in range(Z_SIZE):\n",
    "\n",
    "                    #stim_amplitude = -120 # -10 / 0.05 # -0.3 / 0.05\n",
    "                    #C['stim_amplitude'] = stim_amplitude if is_pacing_condition(t, ix, iy, iz, SIZE, stim_size) else 0\n",
    "                    #C['stim_amplitude'] = -10 / 0.05 if is_pacing_condition_sphere(t, ix, iy, iz, SIZE, R=7.5) else 0\n",
    "                    C['stim_amplitude'] = -120 if ix == 0 and (t % 1) < 5e-3 else 0\n",
    "\n",
    "                    model.computeRates(t,\n",
    "                                       C.values,\n",
    "                                       R_tissue[ix, iy, iz],\n",
    "                                       S_tissue[ix, iy, iz],\n",
    "                                       A.copy())\n",
    "\n",
    "    V = S_tissue[:, :, :, 0]\n",
    "    assert not np.any(np.isnan(V))\n",
    "    I_gap_junc = calculate_diffusion(V, g_gap_junc_tensor)\n",
    "    \n",
    "    R_tissue[:, :, :, 0] = R_tissue[:, :, :, 0] - I_gap_junc * 1000\n",
    "    \n",
    "    S_tissue = S_tissue + dt * R_tissue            \n",
    "    t = it * dt"
   ]
  },
  {
   "cell_type": "code",
   "execution_count": null,
   "metadata": {},
   "outputs": [],
   "source": [
    "result = np.stack(result, axis=3)\n",
    "timespace = np.array(timespace)"
   ]
  },
  {
   "cell_type": "code",
   "execution_count": null,
   "metadata": {},
   "outputs": [],
   "source": [
    "i1, i2 = 30, 60\n",
    "#i1, i2 = 15, 25\n",
    "\n",
    "for i in 0, i1, i2:\n",
    "    plt.plot(timespace, result[i, 0, 0], '.-', label=str(i))\n",
    "    t = np.argmax(np.diff(result[i, 0, 0]))\n",
    "    plt.plot(timespace[t], result[i, 0, 0, t], 'ok')\n",
    "\n",
    "t1 = np.argmax(np.diff(result[i1, 0, 0]))\n",
    "t2 = np.argmax(np.diff(result[i2, 0, 0]))\n",
    "\n",
    "CV = (np.abs(i1 - i2) * h) / (np.abs(timespace[t1] - timespace[t2]))# # um / s\n",
    "CV = CV * 1e-6 * 100 # cm / s\n",
    "\n",
    "print(CV)"
   ]
  },
  {
   "cell_type": "code",
   "execution_count": null,
   "metadata": {},
   "outputs": [],
   "source": [
    "#### ixc, iyc, izc = map(lambda x: int(x // 2), SIZE)\n",
    "ic = ixc, iyc, izc"
   ]
  },
  {
   "cell_type": "code",
   "execution_count": null,
   "metadata": {},
   "outputs": [],
   "source": [
    "plt.plot(result[ixc, iyc, 0], '.-')\n",
    "plt.plot(result[ic], '.-')\n",
    "plt.plot(result[ixc, iyc, -1], '.-')"
   ]
  },
  {
   "cell_type": "code",
   "execution_count": null,
   "metadata": {},
   "outputs": [],
   "source": [
    "t = np.argmax(np.diff(result[:, 0, 0]), axis=-1)\n",
    "plt.plot(t)"
   ]
  },
  {
   "cell_type": "code",
   "execution_count": null,
   "metadata": {},
   "outputs": [],
   "source": []
  },
  {
   "cell_type": "code",
   "execution_count": null,
   "metadata": {},
   "outputs": [],
   "source": [
    "np.abs(t1 - t2)"
   ]
  },
  {
   "cell_type": "code",
   "execution_count": null,
   "metadata": {},
   "outputs": [],
   "source": [
    "a = result[:, 0, 0, :]"
   ]
  },
  {
   "cell_type": "code",
   "execution_count": null,
   "metadata": {},
   "outputs": [],
   "source": [
    "ax = np.diff(result[:, iyc, izc, :], axis=-1)\n",
    "ay = np.diff(result[ixc, :, izc, :], axis=-1)\n",
    "az = np.diff(result[ixc, iyc, :, :], axis=-1)"
   ]
  },
  {
   "cell_type": "code",
   "execution_count": null,
   "metadata": {},
   "outputs": [],
   "source": [
    "plt.plot(np.argmax(ax, axis=1))\n",
    "plt.plot(np.argmax(ay, axis=1))\n",
    "plt.plot(np.argmax(az, axis=1))\n",
    "\n",
    "plt.axhline(50, color='0.5')"
   ]
  },
  {
   "cell_type": "code",
   "execution_count": null,
   "metadata": {},
   "outputs": [],
   "source": [
    "fig, axes = plt.subplots(2, 2,\n",
    "                        #sharex='col', sharey='row',\n",
    "                        )\n",
    "\n",
    "t = 60\n",
    "\n",
    "axes[0, 0].imshow(result[:, :, 0, t],\n",
    "           vmin=-80, vmax=40,\n",
    "           #aspect=10,\n",
    "          )\n",
    "axes[0, 0].set_xlabel('y')\n",
    "axes[0, 0].set_ylabel('x')\n",
    "\n",
    "axes[0, 1].imshow(result[:, iyc, :, t],\n",
    "           vmin=-80, vmax=40,\n",
    "           #aspect=10,\n",
    "          )\n",
    "\n",
    "axes[0, 1].set_xlabel('z')\n",
    "axes[0, 1].set_ylabel('x')\n",
    "\n",
    "im = axes[1, 0].imshow(result[ixc, :, :, t].T,\n",
    "           vmin=-80, vmax=40,\n",
    "           #aspect=10,\n",
    "          )\n",
    "\n",
    "axes[1, 0].set_xlabel('y')\n",
    "axes[1, 0].set_ylabel('z')\n",
    "\n",
    "axes[1, 1].set_visible(False)\n",
    "\n",
    "plt.colorbar(im)\n",
    "\n",
    "plt.tight_layout()"
   ]
  },
  {
   "cell_type": "markdown",
   "metadata": {},
   "source": [
    "# CV"
   ]
  },
  {
   "cell_type": "code",
   "execution_count": null,
   "metadata": {},
   "outputs": [],
   "source": [
    "output = output_list[-1]\n",
    "\n",
    "genes = output['dump_last'].iloc[0, 1:]\n",
    "phenotype_model_last = output['phenotype_model_last']\n",
    "config = output['config']\n",
    "\n",
    "state = pd.DataFrame({exp_cond_name: phenotype_model_last[exp_cond_name].iloc[-1]\n",
    "                      for exp_cond_name in config['experimental_conditions'] if exp_cond_name != 'common'})\n",
    "\n",
    "result = []\n",
    "\n",
    "for CL in state: # tqdm([2000, 1000, 500, 250]): # state:\n",
    "    \n",
    "    C, S = create_C_S(dict(genes=genes, state=state), config, CL)# CL)\n",
    "    C['stim_amplitude'] = -180\n",
    "    #C['stim_period'] = CL / 1000.\n",
    "    S = state['344'].copy()\n",
    "    \n",
    "    t_sampling = 0.001\n",
    "    # t_sampling = 1\n",
    "\n",
    "    #stim_period = C['STIM_PERIOD']\n",
    "    stim_period = C[config['stim_period_legend_name']] # C[config['stim_period_legend_name']]\n",
    "    #stim_period = get_value_by_key(C, legend_constants, 'stim_period')\n",
    "    n_samples_per_stim = int(stim_period / t_sampling)\n",
    "\n",
    "    n_beats = 50\n",
    "    tol = 1e-4\n",
    "\n",
    "    chain_length = 50\n",
    "    v_threshold = 1e-1\n",
    "    t_safe = 5e-2\n",
    "\n",
    "    output = np.zeros((n_samples_per_stim * n_beats + 1, len(S)))\n",
    "    output_V = np.zeros((n_samples_per_stim * n_beats + 1, chain_length))\n",
    "\n",
    "    # output_A = np.zeros((n_samples_per_stim * n_beats + 1, len(legend_algebraic)))\n",
    "    # output_t = np.zeros((n_samples_per_stim * n_beats + 1))\n",
    "\n",
    "    status = model.run_chain(S.values.copy(), C.values.copy(),\n",
    "                             chain_length, v_threshold, t_safe,\n",
    "                             n_beats, t_sampling, tol, output, output_V, -1)\n",
    "    \n",
    "    CL = int(CL)\n",
    "    \n",
    "    i1, i2 = 20, 30\n",
    "    v1 = output_V[-CL: -CL + 50, i1]\n",
    "    v2 = output_V[-CL: -CL + 50, i2]\n",
    "\n",
    "    t1 = np.argmax(np.diff(v1))\n",
    "    t2 = np.argmax(np.diff(v2))\n",
    "\n",
    "    CV = (np.abs(i1 - i2) * 100) / (np.abs(t1 - t2) * t_sampling)# # um / s\n",
    "    CV = CV * 1e-6 * 100 # cm / s\n",
    "\n",
    "    result.append([CL, CV])\n",
    "    \n",
    "    plt.plot(output_V[-CL * 2:, i1])\n",
    "    plt.show()\n",
    "    \n",
    "    plt.plot(v1)\n",
    "    plt.plot(v2)\n",
    "    plt.show()\n",
    "    "
   ]
  },
  {
   "cell_type": "code",
   "execution_count": null,
   "metadata": {},
   "outputs": [],
   "source": [
    "result = np.array(result)\n",
    "\n",
    "plt.plot(result[:, 0], result[:, 1], '.-')"
   ]
  },
  {
   "cell_type": "code",
   "execution_count": null,
   "metadata": {},
   "outputs": [],
   "source": [
    "plt.plot(output_V[-1032:, 0])"
   ]
  },
  {
   "cell_type": "code",
   "execution_count": null,
   "metadata": {},
   "outputs": [],
   "source": [
    "plt.plot(v1)\n",
    "plt.plot(v2)"
   ]
  },
  {
   "cell_type": "markdown",
   "metadata": {},
   "source": [
    "# Euler"
   ]
  },
  {
   "cell_type": "code",
   "execution_count": null,
   "metadata": {},
   "outputs": [],
   "source": [
    "dt = 3.5e-5\n",
    "\n",
    "t_end = 1.\n",
    "t_sampling = 1e-3\n",
    "\n",
    "N = int(t_end / dt)\n",
    "step_print = int(t_sampling / dt)\n",
    "\n",
    "C, S = create_C_S(dict(genes=genes, state=state), config, '1032')\n",
    "\n",
    "A = np.zeros(70)\n",
    "R = np.zeros_like(S)\n",
    "\n",
    "result = []\n",
    "i_print = 0\n",
    "t = 0\n",
    "\n",
    "for it in tqdm(range(N)):\n",
    "    \n",
    "    if it % step_print == 0:\n",
    "        result.append(S)\n",
    "        i_print += 1\n",
    "    \n",
    "    C['stim_amplitude'] = -60 if t <= 1e-3 else 0\n",
    "\n",
    "    model.computeRates(t,\n",
    "                       C.values,\n",
    "                       R,\n",
    "                       S.values,\n",
    "                       A.copy())\n",
    "    \n",
    "    assert not S.isna().any()\n",
    "\n",
    "    S = S + dt * R           \n",
    "    t += dt"
   ]
  },
  {
   "cell_type": "code",
   "execution_count": null,
   "metadata": {},
   "outputs": [],
   "source": [
    "result = pd.concat(result, axis=1).T\n",
    "result.reset_index(inplace=True)"
   ]
  },
  {
   "cell_type": "code",
   "execution_count": null,
   "metadata": {},
   "outputs": [],
   "source": [
    "plt.plot(result.V)"
   ]
  },
  {
   "cell_type": "markdown",
   "metadata": {},
   "source": [
    "# Profiling"
   ]
  },
  {
   "cell_type": "code",
   "execution_count": null,
   "metadata": {},
   "outputs": [],
   "source": [
    "# l = []\n",
    "# for i in range(128):\n",
    "#     df = pd.read_csv(os.path.join(config_path, f\"mpi/report_{i:04d}.csv\")).iloc[1:]\n",
    "#     df['rank'] = i\n",
    "#     l.append(df)\n",
    "    \n",
    "# df = pd.concat(l)\n",
    "# #df.set_index('rank', append=True, inplace=True)"
   ]
  },
  {
   "cell_type": "code",
   "execution_count": null,
   "metadata": {},
   "outputs": [],
   "source": [
    "# sns.barplot(y='gather_allgather', data=df, x='rank', palette=\"Blues\")\n",
    "# #sns.barplot(y='calc', data=df, x='rank', palette=\"Reds\")"
   ]
  }
 ],
 "metadata": {
  "kernelspec": {
   "display_name": "py3.8_hpl",
   "language": "python",
   "name": "py3.8_hpl"
  },
  "language_info": {
   "codemirror_mode": {
    "name": "ipython",
    "version": 3
   },
   "file_extension": ".py",
   "mimetype": "text/x-python",
   "name": "python",
   "nbconvert_exporter": "python",
   "pygments_lexer": "ipython3",
   "version": "3.8.6"
  }
 },
 "nbformat": 4,
 "nbformat_minor": 4
}
