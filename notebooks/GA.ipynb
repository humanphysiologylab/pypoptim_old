{
 "cells": [
  {
   "cell_type": "code",
   "execution_count": 1,
   "metadata": {},
   "outputs": [],
   "source": [
    "from mpi4py import MPI\n",
    "import os\n",
    "import json\n",
    "import copy\n",
    "import time\n",
    "from collections import OrderedDict\n",
    "\n",
    "import numpy as np\n",
    "import pandas as pd\n",
    "from scipy.integrate import odeint, solve_ivp\n",
    "\n",
    "import sys\n",
    "#sys.path.insert(0, os.path.abspath(os.path.join(os.path.dirname(__file__), '../../')))\n",
    "from src.model.maleckar import init_states_constants, compute_rates, legend\n",
    "from src.helpers import get_value_by_key, update_array_from_kwargs,\\\n",
    "    calculate_RMSE, calculate_RMSE_balanced, flatten_list, batches_from_list, value_from_bounds\n",
    "from src.algorythm.ga import do_step\n",
    "\n",
    "from matplotlib import pyplot as plt\n",
    "from tqdm import tqdm\n",
    "\n",
    "import pickle"
   ]
  },
  {
   "cell_type": "code",
   "execution_count": 84,
   "metadata": {},
   "outputs": [],
   "source": [
    "from numba import njit"
   ]
  },
  {
   "cell_type": "code",
   "execution_count": 182,
   "metadata": {},
   "outputs": [],
   "source": [
    "def remove_invalids(population, bounds):\n",
    "    population_valid = []\n",
    "    for organism in population:\n",
    "        condition_invalid = (organism['fitness'] == np.NINF) \\\n",
    "                            or np.any(organism['genes'] <= bounds[:, 0]) \\\n",
    "                            or np.any(organism['genes'] >= bounds[:, 1])\n",
    "        if not condition_invalid:\n",
    "            population_valid.append(organism)\n",
    "    return population_valid"
   ]
  },
  {
   "cell_type": "code",
   "execution_count": 183,
   "metadata": {},
   "outputs": [],
   "source": [
    "import random\n",
    "import copy\n",
    "import numpy as np\n",
    "\n",
    "from src.helpers import cauchy_inverse_cdf, uniform_vector\n",
    "\n",
    "\n",
    "def tournament_selection(p, k=2):\n",
    "    return max(random.sample(p, k), key=lambda x: x['fitness'])\n",
    "\n",
    "\n",
    "def one_point_crossover(g1, g2):\n",
    "    assert (len(g1) == len(g2))\n",
    "    assert (len(g1) >= 2)\n",
    "\n",
    "    n = len(g1)\n",
    "    i = random.randint(0, n - 1)\n",
    "\n",
    "    g_new = list(g1[:i]) + list(g2[i:])\n",
    "    return g_new\n",
    "\n",
    "\n",
    "def two_point_crossover(g1, g2):\n",
    "    assert (len(g1) == len(g2))\n",
    "    assert (len(g1) >= 3)\n",
    "\n",
    "    n = len(g1)\n",
    "    i1 = random.randint(0, n - 2)\n",
    "    i2 = random.randint(i1, n - 1)\n",
    "\n",
    "    g_new = list(g1[:i1]) + list(g2[i1: i2]) + list(g1[i2:])\n",
    "    return g_new\n",
    "\n",
    "\n",
    "def uniform_crossover(g1, g2):\n",
    "    assert (len(g1) == len(g2))\n",
    "    r = np.random.randint(0, 1 + 1, size=len(g1)).astype(bool)\n",
    "    g_new = np.select([r, ~r], [g1, g2])\n",
    "    return g_new\n",
    "\n",
    "\n",
    "@njit\n",
    "def sbx_crossover(parent1, parent2, bounds, cross_rate=0.9):\n",
    "    # adopted realcross from NSGA-II: Non-dominated Sorting Genetic Algorithm - II\n",
    "    # Authors: Dr. Kalyanmoy Deb, Sameer Agrawal, Amrit Pratap, T Meyarivan\n",
    "    # Paper Title: A Fast and Elitist multi-objective Genetic Algorithm: NSGA-II\n",
    "    # Journal: IEEE Transactions on Evolutionary Computation (IEEE-TEC)\n",
    "    # Year: 2002\n",
    "    # Volume: 6\n",
    "    # Number: 2\n",
    "    # Pages: 182-197\n",
    "\n",
    "    assert (len(parent1) == len(parent2))\n",
    "    child1, child2 = np.empty_like(parent1), np.empty_like(parent1)\n",
    "\n",
    "    eta_c = 10  # The order of the polynomial for the SBX crossover\n",
    "\n",
    "    if np.random.random() <= cross_rate:\n",
    "        for j in range(len(parent1)):\n",
    "\n",
    "            if np.random.random() <= 0.5:\n",
    "\n",
    "                y1 = parent1[j]\n",
    "                y2 = parent2[j]\n",
    "\n",
    "                if np.abs(y1 - y2) > 1e-14:\n",
    "\n",
    "                    if y1 > y2:\n",
    "                        y1, y2 = y2, y1\n",
    "\n",
    "                    yl, yu = bounds[j]\n",
    "                    rand = np.random.random()\n",
    "                    beta = 1.0 + (2.0 * (y1 - yl) / (y2 - y1))\n",
    "                    alpha = 2.0 - np.power(beta, -(eta_c + 1.0))\n",
    "                    if rand <= (1.0 / alpha):\n",
    "                        betaq = np.power((rand * alpha), (1.0 / (eta_c + 1.0)))\n",
    "                    else:\n",
    "                        betaq = np.power((1.0 / (2.0 - rand * alpha)), (1.0 / (eta_c + 1.0)))\n",
    "                    c1 = 0.5 * ((y1 + y2) - betaq * (y2 - y1))\n",
    "                    beta = 1.0 + (2.0 * (yu - y2) / (y2 - y1))\n",
    "                    alpha = 2.0 - np.power(beta, -(eta_c + 1.0))\n",
    "                    if rand <= (1.0 / alpha):\n",
    "                        betaq = np.power((rand * alpha), (1.0 / (eta_c + 1.0)))\n",
    "                    else:\n",
    "                        betaq = np.power((1.0 / (2.0 - rand * alpha)), (1.0 / (eta_c + 1.0)))\n",
    "                    c2 = 0.5 * ((y1 + y2) + betaq * (y2 - y1))\n",
    "                    if c1 < yl:\n",
    "                        c1 = yl\n",
    "                    if c2 < yl:\n",
    "                        c2 = yl\n",
    "                    if c1 > yu:\n",
    "                        c1 = yu\n",
    "                    if c2 > yu:\n",
    "                        c2 = yu\n",
    "                    if np.random.random() <= 0.5:\n",
    "                        child1[j] = c2\n",
    "                        child2[j] = c1\n",
    "                    else:\n",
    "                        child1[j] = c1\n",
    "                        child2[j] = c2\n",
    "                else:\n",
    "                    child1[j] = y1\n",
    "                    child2[j] = y2\n",
    "\n",
    "            else:\n",
    "                child1[j] = parent1[j]\n",
    "                child2[j] = parent2[j]\n",
    "    else:\n",
    "        child1 = parent1.copy()\n",
    "        child2 = parent2.copy()\n",
    "    return child1, child2\n",
    "\n",
    "\n",
    "def cauchy_mutation(genes, gamma=1, bounds=None):  # do not change gamma=1\n",
    "\n",
    "    if bounds is None:\n",
    "        bounds = [[None, None]] * len(genes)\n",
    "    assert (len(genes) == len(bounds))\n",
    "\n",
    "    genes_new = []\n",
    "    shift = cauchy_inverse_cdf(gamma)\n",
    "    shift_vec = shift * uniform_vector(len(genes))  # vector mutation\n",
    "\n",
    "    for gene, (lb, ub), shift in zip(genes, bounds, shift_vec):\n",
    "        if lb is not None:  # bounce, TODO: rewrite for general case\n",
    "            assert (lb <= gene <= ub), f\"Violated: {lb} <= {gene} <= {ub}\"\n",
    "            b = ub - gene\n",
    "            ptp = ub - lb\n",
    "            while shift < 0:\n",
    "                shift += 2 * ptp\n",
    "            shift %= (2 * ptp)\n",
    "            shift = np.abs(np.abs(shift - b) - ptp) - (ptp - b)\n",
    "\n",
    "        gene_new = gene + shift\n",
    "        genes_new.append(gene_new)\n",
    "\n",
    "    return genes_new\n",
    "\n",
    "\n",
    "def cauchy_mutation_population(population, bounds, gamma, mutation_rate, inplace=False):\n",
    "    n_genes = len(population[0]['genes'])\n",
    "    assert (n_genes == len(bounds))\n",
    "\n",
    "    genes = np.concatenate([organism['genes'].flatten() for organism in population])\n",
    "\n",
    "    p = np.random.random(len(population))\n",
    "    shifts = gamma * np.tan(np.pi * (p - 0.5))\n",
    "\n",
    "    mut_mask = np.random.random(len(population)) <= mutation_rate\n",
    "    shifts = shifts * mut_mask\n",
    "\n",
    "    shifts = np.tile(shifts, (n_genes, 1)).T.flatten()\n",
    "\n",
    "    u = np.random.randn(n_genes * len(population)).reshape((n_genes, len(population)))\n",
    "    u = u / np.linalg.norm(u, axis=1)[:, None]\n",
    "    u = u.flatten()\n",
    "\n",
    "    shifts = shifts * u\n",
    "    lb, ub = np.tile(bounds, (len(population), 1)).T\n",
    "\n",
    "    assert (np.all(lb <= genes) and np.all(genes <= ub)), \"genes are outside bounds\"\n",
    "\n",
    "    ptp = ub - lb\n",
    "    b = ub - genes\n",
    "\n",
    "    shifts = np.remainder(shifts, 2 * ptp)\n",
    "    shifts = np.abs(np.abs(shifts - b) - ptp) - (ptp - b)\n",
    "\n",
    "    genes = genes + shifts\n",
    "    genes = np.reshape(genes, (len(population), n_genes))\n",
    "\n",
    "    if inplace:\n",
    "        mutants = population\n",
    "    else:\n",
    "        mutants = copy.deepcopy(population)\n",
    "\n",
    "    for i in range(len(mutants)):\n",
    "        mutants[i]['genes'] = genes[i]\n",
    "\n",
    "    return mutants\n",
    "\n",
    "\n",
    "def selection(population):\n",
    "    return tournament_selection(population)\n",
    "\n",
    "\n",
    "def crossover(genes1, genes2, bounds=None):\n",
    "    return sbx_crossover(genes1, genes2, bounds=bounds)\n",
    "\n",
    "\n",
    "def mutation(genes, bounds):\n",
    "    return cauchy_mutation(genes, bounds=bounds)\n",
    "\n",
    "\n",
    "def do_step(population, new_size, elite_size, bounds, **kw):\n",
    "\n",
    "    crossover_rate = kw.get('crossover_rate', 1)\n",
    "    mutation_rate = kw.get('mutation_rate', 1)\n",
    "    gamma = kw.get('gamma', 1)\n",
    "\n",
    "    if new_size is None:\n",
    "        new_size = len(population)\n",
    "    new_population = []\n",
    "\n",
    "    while len(new_population) < new_size - elite_size:\n",
    "        parent1, parent2 = population[0], population[0]\n",
    "        while parent1 is parent2:\n",
    "            parent1 = selection(population)\n",
    "            parent2 = selection(population)\n",
    "\n",
    "        if np.random.random() <= crossover_rate:\n",
    "            offspring_genes = sbx_crossover(parent1['genes'], parent2['genes'], bounds=bounds)\n",
    "            #  offspring_genes = [uniform_crossover(parent1['genes'], parent2['genes'])]\n",
    "            for genes in offspring_genes:  # TODO: rewrite for different crossover types\n",
    "                child = dict(genes=genes)\n",
    "                child['state'] = parent1['state']\n",
    "                new_population.append(copy.deepcopy(child))\n",
    "        else:  # no crossover\n",
    "            child1 = copy.deepcopy(parent1)\n",
    "            child2 = copy.deepcopy(parent2)\n",
    "            new_population += [child1, child2]\n",
    "\n",
    "    new_population = new_population[:new_size - elite_size]  # TODO: sbx_crossover safe processing\n",
    "\n",
    "    new_population = cauchy_mutation_population(new_population, bounds=bounds, gamma=gamma,\n",
    "                                                mutation_rate=mutation_rate, inplace=True)\n",
    "\n",
    "    new_population += sorted(population, key=lambda organism: organism['fitness'], reverse=True)[:elite_size]\n",
    "\n",
    "    return new_population"
   ]
  },
  {
   "cell_type": "code",
   "execution_count": 184,
   "metadata": {},
   "outputs": [],
   "source": [
    "def generate_bounds_gammas(config):\n",
    "    bounds = []\n",
    "    gammas = []\n",
    "\n",
    "    for mult in config['multipliers']:\n",
    "        bounds.append(mult['bounds'])\n",
    "        gammas.append(mult['gamma'])\n",
    "\n",
    "    for exp_cond in config['experimental_conditions']:\n",
    "        if \"params\" in exp_cond:\n",
    "            for param in exp_cond[\"params\"]:\n",
    "                condition = (\"bounds\" in param) and (\"gamma\" in param) and not (\"value\" in param)\n",
    "                if condition:\n",
    "                    bounds.append(param['bounds'])\n",
    "                    gammas.append(param['gamma'])\n",
    "\n",
    "    bounds, gammas = np.array(bounds), np.array(gammas)\n",
    "    return bounds, gammas\n",
    "\n",
    "@njit\n",
    "def transform_genes_bounds(genes, bounds, gammas, n_multipliers):\n",
    "    assert (len(genes) == len(bounds) == len(gammas))\n",
    "\n",
    "    genes_transformed = np.zeros_like(genes)\n",
    "    bounds_transformed = np.zeros_like(bounds)\n",
    "\n",
    "    scaler_dimensional = 1 / np.sqrt(len(genes))\n",
    "    for i in range(len(genes)):\n",
    "        lb, ub = bounds[i]\n",
    "        gene = genes[i]\n",
    "        if i < n_multipliers:  # log10 scale\n",
    "            bounds_transformed[i, 1] = np.log10(ub / lb) * 1 / (gammas[i] / scaler_dimensional)\n",
    "            genes_transformed[i] = np.log10(gene)\n",
    "            lb_temp = np.log10(lb)\n",
    "            ub_temp = np.log10(ub)\n",
    "        else:  # linear scale\n",
    "            genes_transformed[i] = gene\n",
    "            bounds_transformed[i, 1] = (ub - lb) * 1 / (gammas[i] / scaler_dimensional)\n",
    "            lb_temp = lb\n",
    "            ub_temp = ub\n",
    "        genes_transformed[i] = (genes_transformed[i] - lb_temp) / (ub_temp - lb_temp) * bounds_transformed[i, 1]\n",
    "\n",
    "    return genes_transformed, bounds_transformed\n",
    "\n",
    "\n",
    "@njit\n",
    "def transform_genes_bounds_back(genes_transformed, bounds_transformed, bounds_back, n_multipliers):\n",
    "    assert (len(genes_transformed) == len(bounds_transformed))\n",
    "\n",
    "    genes_back = np.zeros_like(genes_transformed)\n",
    "\n",
    "    for i in range(n_multipliers):  #log10 scale\n",
    "        lb_back, ub_back = bounds_back[i]\n",
    "        lb_tran, ub_tran = bounds_transformed[i]\n",
    "        gene = genes_transformed[i]\n",
    "        genes_back[i] = np.log10(lb_back) + (gene - lb_tran) / (ub_tran - lb_tran) * (\n",
    "                    np.log10(ub_back) - np.log10(lb_back))\n",
    "        genes_back[i] = np.power(10, genes_back[i])\n",
    "    for i in range(n_multipliers, len(genes_transformed)):  # linear scale\n",
    "        lb_back, ub_back = bounds_back[i]\n",
    "        lb_tran, ub_tran = bounds_transformed[i]\n",
    "        gene = genes_transformed[i]\n",
    "        genes_back[i] = lb_back + (gene - lb_tran) / (ub_tran - lb_tran) * (ub_back - lb_back)\n",
    "\n",
    "    return genes_back"
   ]
  },
  {
   "cell_type": "code",
   "execution_count": 185,
   "metadata": {},
   "outputs": [],
   "source": [
    "config_filename = \"cases/maleckar/v0/config_MOP_copy.json\"\n",
    "config_path = os.path.dirname(os.path.realpath(config_filename))\n",
    "\n",
    "with open(config_filename) as f:\n",
    "    config = OrderedDict(json.load(f))"
   ]
  },
  {
   "cell_type": "code",
   "execution_count": 195,
   "metadata": {},
   "outputs": [],
   "source": [
    "times = {}"
   ]
  },
  {
   "cell_type": "code",
   "execution_count": 187,
   "metadata": {},
   "outputs": [],
   "source": [
    "bounds, gammas = generate_bounds_gammas(config)"
   ]
  },
  {
   "cell_type": "code",
   "execution_count": 188,
   "metadata": {},
   "outputs": [],
   "source": [
    "comm_size = 125\n",
    "comm_rank = 42\n",
    "\n",
    "n_orgsnisms_per_process = config['n_organisms'] // comm_size"
   ]
  },
  {
   "cell_type": "code",
   "execution_count": 189,
   "metadata": {},
   "outputs": [],
   "source": [
    "kw_ga = dict(crossover_rate=config.get('crossover_rate', 1.0),\n",
    "             mutation_rate=config.get('mutation_rate', 0.1),\n",
    "             gamma=config.get('gamma', 1.0))"
   ]
  },
  {
   "cell_type": "code",
   "execution_count": 159,
   "metadata": {},
   "outputs": [
    {
     "name": "stdout",
     "output_type": "stream",
     "text": [
      "The line_profiler extension is already loaded. To reload it, use:\n",
      "  %reload_ext line_profiler\n"
     ]
    }
   ],
   "source": [
    "%load_ext line_profiler"
   ]
  },
  {
   "cell_type": "code",
   "execution_count": 190,
   "metadata": {},
   "outputs": [],
   "source": [
    "times['select'] = 0\n",
    "times['mut'] = 0\n",
    "times['cross'] = 0"
   ]
  },
  {
   "cell_type": "code",
   "execution_count": 191,
   "metadata": {},
   "outputs": [],
   "source": [
    "#%lprun -f cauchy_mutation_population  do_step(population, new_size=n_orgsnisms_per_process - n_elites, elite_size=0, bounds=bounds_transformed, **kw_ga)"
   ]
  },
  {
   "cell_type": "code",
   "execution_count": 196,
   "metadata": {},
   "outputs": [],
   "source": [
    "with open(\"cases/maleckar/output_MOP_copy_nomut/backup.pickle\", \"rb\") as f:\n",
    "    population = pickle.load(f)"
   ]
  },
  {
   "cell_type": "code",
   "execution_count": 197,
   "metadata": {},
   "outputs": [],
   "source": [
    "times['remove_invalids'] = time.time()\n",
    "population = remove_invalids(population, bounds)\n",
    "times['remove_invalids'] = time.time() - times['remove_invalids']\n",
    "\n",
    "assert(len(population) > 3), \"Not enough organisms for genetic operations\"\n",
    "\n",
    "times['elites'] = time.time()\n",
    "population.sort(key=lambda organism: organism['fitness'], reverse=True)\n",
    "elites_all = population[:config['n_elites']]\n",
    "elites_batch = elites_all[comm_rank::comm_size]\n",
    "n_elites = len(elites_batch)\n",
    "#  print(f\"# {comm_rank} has {n_elites} elites\", flush=True)\n",
    "#  elites_batch may be empty list\n",
    "times['elites'] = time.time() - times['elites']\n",
    "\n",
    "\n",
    "times['bounds'] = time.time()\n",
    "for organism in population:\n",
    "    organism['genes'], bounds_transformed = transform_genes_bounds(organism['genes'], bounds, gammas,\n",
    "                                                                   n_multipliers=len(config['multipliers']))\n",
    "times['bounds'] = time.time() - times['bounds']\n",
    "\n",
    "    \n",
    "times['ga'] = time.time()\n",
    "batch = do_step(population, new_size=n_orgsnisms_per_process - n_elites, elite_size=0, bounds=bounds_transformed, **kw_ga)\n",
    "times['ga'] = time.time() - times['ga']\n",
    "\n",
    "batch += elites_batch\n",
    "\n",
    "assert (len(batch) == n_orgsnisms_per_process)\n",
    "\n",
    "times['bounds_back'] = time.time()\n",
    "for organism in batch:\n",
    "    organism['genes'] = transform_genes_bounds_back(organism['genes'], bounds_transformed, bounds_back=bounds,\n",
    "                                                    n_multipliers=len(config['multipliers']))\n",
    "    \n",
    "times['bounds_back'] = time.time() - times['bounds_back']"
   ]
  },
  {
   "cell_type": "code",
   "execution_count": 198,
   "metadata": {},
   "outputs": [
    {
     "data": {
      "text/plain": [
       "{'remove_invalids': 0.13900017738342285,\n",
       " 'elites': 0.002125978469848633,\n",
       " 'bounds': 0.022243022918701172,\n",
       " 'ga': 0.005393266677856445,\n",
       " 'bounds_back': 0.00029659271240234375}"
      ]
     },
     "execution_count": 198,
     "metadata": {},
     "output_type": "execute_result"
    }
   ],
   "source": [
    "times"
   ]
  },
  {
   "cell_type": "code",
   "execution_count": 106,
   "metadata": {},
   "outputs": [
    {
     "name": "stdout",
     "output_type": "stream",
     "text": [
      " "
     ]
    }
   ],
   "source": [
    "#do_step(population, new_size=n_orgsnisms_per_process - n_elites, elite_size=0, bounds=bounds_transformed, **kw_ga)"
   ]
  },
  {
   "cell_type": "code",
   "execution_count": 72,
   "metadata": {},
   "outputs": [
    {
     "ename": "AssertionError",
     "evalue": "Not enough organisms for genetic operations",
     "output_type": "error",
     "traceback": [
      "\u001b[0;31m---------------------------------------------------------------------------\u001b[0m",
      "\u001b[0;31mAssertionError\u001b[0m                            Traceback (most recent call last)",
      "\u001b[0;32m<ipython-input-72-1e85a392d2b8>\u001b[0m in \u001b[0;36m<module>\u001b[0;34m\u001b[0m\n\u001b[1;32m      2\u001b[0m \u001b[0mpopulation\u001b[0m \u001b[0;34m=\u001b[0m \u001b[0mremove_invalids\u001b[0m\u001b[0;34m(\u001b[0m\u001b[0mpopulation\u001b[0m\u001b[0;34m,\u001b[0m \u001b[0mbounds\u001b[0m\u001b[0;34m)\u001b[0m\u001b[0;34m\u001b[0m\u001b[0;34m\u001b[0m\u001b[0m\n\u001b[1;32m      3\u001b[0m \u001b[0;34m\u001b[0m\u001b[0m\n\u001b[0;32m----> 4\u001b[0;31m \u001b[0;32massert\u001b[0m\u001b[0;34m(\u001b[0m\u001b[0mlen\u001b[0m\u001b[0;34m(\u001b[0m\u001b[0mpopulation\u001b[0m\u001b[0;34m)\u001b[0m \u001b[0;34m>\u001b[0m \u001b[0;36m3\u001b[0m\u001b[0;34m)\u001b[0m\u001b[0;34m,\u001b[0m \u001b[0;34m\"Not enough organisms for genetic operations\"\u001b[0m\u001b[0;34m\u001b[0m\u001b[0;34m\u001b[0m\u001b[0m\n\u001b[0m\u001b[1;32m      5\u001b[0m \u001b[0;34m\u001b[0m\u001b[0m\n\u001b[1;32m      6\u001b[0m \u001b[0mpopulation\u001b[0m\u001b[0;34m.\u001b[0m\u001b[0msort\u001b[0m\u001b[0;34m(\u001b[0m\u001b[0mkey\u001b[0m\u001b[0;34m=\u001b[0m\u001b[0;32mlambda\u001b[0m \u001b[0morganism\u001b[0m\u001b[0;34m:\u001b[0m \u001b[0morganism\u001b[0m\u001b[0;34m[\u001b[0m\u001b[0;34m'fitness'\u001b[0m\u001b[0;34m]\u001b[0m\u001b[0;34m,\u001b[0m \u001b[0mreverse\u001b[0m\u001b[0;34m=\u001b[0m\u001b[0;32mTrue\u001b[0m\u001b[0;34m)\u001b[0m\u001b[0;34m\u001b[0m\u001b[0;34m\u001b[0m\u001b[0m\n",
      "\u001b[0;31mAssertionError\u001b[0m: Not enough organisms for genetic operations"
     ]
    }
   ],
   "source": []
  },
  {
   "cell_type": "code",
   "execution_count": 70,
   "metadata": {},
   "outputs": [
    {
     "data": {
      "text/plain": [
       "48"
      ]
     },
     "execution_count": 70,
     "metadata": {},
     "output_type": "execute_result"
    }
   ],
   "source": [
    "len(batch)"
   ]
  },
  {
   "cell_type": "code",
   "execution_count": 73,
   "metadata": {},
   "outputs": [
    {
     "data": {
      "text/plain": [
       "3"
      ]
     },
     "execution_count": 73,
     "metadata": {},
     "output_type": "execute_result"
    }
   ],
   "source": [
    "len(population)"
   ]
  },
  {
   "cell_type": "code",
   "execution_count": 129,
   "metadata": {},
   "outputs": [
    {
     "name": "stdout",
     "output_type": "stream",
     "text": [
      " "
     ]
    }
   ],
   "source": [
    "%prun transform_genes_bounds(organism['genes'], bounds, gammas, n_multipliers=len(config['multipliers']))"
   ]
  },
  {
   "cell_type": "code",
   "execution_count": null,
   "metadata": {},
   "outputs": [],
   "source": []
  }
 ],
 "metadata": {
  "kernelspec": {
   "display_name": "Python 3",
   "language": "python",
   "name": "python3"
  },
  "language_info": {
   "codemirror_mode": {
    "name": "ipython",
    "version": 3
   },
   "file_extension": ".py",
   "mimetype": "text/x-python",
   "name": "python",
   "nbconvert_exporter": "python",
   "pygments_lexer": "ipython3",
   "version": "3.7.7"
  }
 },
 "nbformat": 4,
 "nbformat_minor": 4
}
