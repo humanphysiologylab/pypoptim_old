{
 "cells": [
  {
   "cell_type": "code",
   "execution_count": 1,
   "metadata": {},
   "outputs": [],
   "source": [
    "import numpy as np\n",
    "import pandas as pd\n",
    "import ctypes\n",
    "import matplotlib.pyplot as plt\n",
    "\n",
    "import time\n",
    "import os\n",
    "from scipy.integrate import solve_ivp\n",
    "import time\n",
    "\n",
    "from tqdm.auto import tqdm"
   ]
  },
  {
   "cell_type": "code",
   "execution_count": 2,
   "metadata": {},
   "outputs": [],
   "source": [
    "dirname = '../src/model_ctypes/_bondarenko/'\n",
    "filename_so = os.path.join(dirname, 'bondarenko.so')\n",
    "filename_so_abs = os.path.abspath(filename_so)\n",
    "\n",
    "model = ctypes.CDLL(filename_so_abs)\n",
    "\n",
    "model.fun.argtypes = [\n",
    "    ctypes.c_double,\n",
    "    np.ctypeslib.ndpointer(dtype=np.float64, ndim=1, flags='C_CONTIGUOUS'),\n",
    "    np.ctypeslib.ndpointer(dtype=np.float64, ndim=1, flags='C_CONTIGUOUS'),\n",
    "    np.ctypeslib.ndpointer(dtype=np.float64, ndim=1, flags='C_CONTIGUOUS')\n",
    "]\n",
    "\n",
    "# model.initialize_states_default.argtypes = [\n",
    "#     np.ctypeslib.ndpointer(dtype=np.float64, ndim=1, flags='C_CONTIGUOUS')\n",
    "# ]\n",
    "\n",
    "legend_constants = pd.read_csv(os.path.join(dirname, \"legend_constants.csv\"), index_col='name')['value']\n",
    "legend_states = pd.read_csv(os.path.join(dirname, \"legend_states.csv\"), index_col='name')['value']"
   ]
  },
  {
   "cell_type": "code",
   "execution_count": 7,
   "metadata": {},
   "outputs": [],
   "source": [
    "S = legend_states.copy()\n",
    "C = legend_constants.copy()"
   ]
  },
  {
   "cell_type": "code",
   "execution_count": 4,
   "metadata": {},
   "outputs": [],
   "source": [
    "def fun(t, y, params):\n",
    "    ydot = np.zeros_like(y)\n",
    "    model.fun(t, y, ydot, params)\n",
    "    return ydot"
   ]
  },
  {
   "cell_type": "markdown",
   "metadata": {},
   "source": [
    "# Generate synthetic  baselines"
   ]
  },
  {
   "cell_type": "code",
   "execution_count": null,
   "metadata": {},
   "outputs": [],
   "source": [
    "CL_list = [1000, 500, 250]\n",
    "\n",
    "for CL in tqdm(CL_list):\n",
    "\n",
    "    C['CL'] = CL\n",
    "    n_beats = 10\n",
    "    stim_period = CL\n",
    "    t_sampling = 1.\n",
    "\n",
    "    t_space = np.linspace(0, stim_period * n_beats, int(stim_period / t_sampling) * n_beats + 1, endpoint=True)\n",
    "    t_span = 0, t_space[-1]\n",
    "    \n",
    "    sol = solve_ivp(fun, y0=S,\n",
    "                t_span=t_span, t_eval=t_space,\n",
    "                args=(C.values.copy(),),\n",
    "                method='LSODA',# rtol=1e-9,\n",
    "                max_step=1. * t_sampling,\n",
    "                )\n",
    "    \n",
    "    t, y = sol.t, sol.y\n",
    "    v = y[1]\n",
    "    \n",
    "    v = v[-CL - 1: -CL - 1 + 250]\n",
    "    \n",
    "    folder_name = \"../data/bondarenko/syn/\"\n",
    "    \n",
    "    filename_phenotype = os.path.join(folder_name, f'phenotypes/phenotype_{CL}.csv')\n",
    "    df = pd.DataFrame(v, columns=['V'])\n",
    "    df.to_csv(filename_phenotype, index=False)\n",
    "    \n",
    "    filename_state = os.path.join(folder_name, f'states/state_{CL}.txt')\n",
    "    np.savetxt(filename_state, y[:, -1])"
   ]
  },
  {
   "cell_type": "code",
   "execution_count": null,
   "metadata": {},
   "outputs": [],
   "source": []
  },
  {
   "cell_type": "code",
   "execution_count": 5,
   "metadata": {},
   "outputs": [],
   "source": [
    "CL = 1000\n",
    "\n",
    "C['CL'] = CL\n",
    "n_beats = 10\n",
    "stim_period = CL\n",
    "t_sampling = 1.\n",
    "\n",
    "t_space = np.linspace(0, stim_period * n_beats, int(stim_period / t_sampling) * n_beats + 1, endpoint=True)\n",
    "t_span = 0, t_space[-1]"
   ]
  },
  {
   "cell_type": "code",
   "execution_count": null,
   "metadata": {},
   "outputs": [],
   "source": [
    "%%time\n",
    "sol = solve_ivp(fun, y0=S,\n",
    "                t_span=t_span,# t_eval=t_space,\n",
    "                args=(C.values.copy(),),\n",
    "                method='LSODA',# rtol=1e-9,\n",
    "                max_step=1. * t_sampling,\n",
    "                )"
   ]
  },
  {
   "cell_type": "code",
   "execution_count": 6,
   "metadata": {},
   "outputs": [
    {
     "name": "stdout",
     "output_type": "stream",
     "text": [
      "CPU times: user 1min 7s, sys: 42.1 s, total: 1min 49s\n",
      "Wall time: 35.6 s\n"
     ]
    }
   ],
   "source": [
    "%%time\n",
    "sol = solve_ivp(fun, y0=S,\n",
    "                t_span=t_span, t_eval=t_space,\n",
    "                args=(C.values.copy(),),\n",
    "                method='LSODA',\n",
    "                max_step=1. * t_sampling,\n",
    "                )"
   ]
  },
  {
   "cell_type": "code",
   "execution_count": 7,
   "metadata": {},
   "outputs": [],
   "source": [
    "t, y = sol.t, sol.y"
   ]
  },
  {
   "cell_type": "code",
   "execution_count": 8,
   "metadata": {},
   "outputs": [],
   "source": [
    "output = pd.DataFrame(y.T, columns=legend_states.index)"
   ]
  },
  {
   "cell_type": "code",
   "execution_count": 9,
   "metadata": {},
   "outputs": [
    {
     "data": {
      "text/plain": [
       "[<matplotlib.lines.Line2D at 0x7fb466cdd760>]"
      ]
     },
     "execution_count": 9,
     "metadata": {},
     "output_type": "execute_result"
    },
    {
     "data": {
      "image/png": "[encoded data removed]",
      "text/plain": [
       "<Figure size 432x288 with 1 Axes>"
      ]
     },
     "metadata": {
      "needs_background": "light"
     },
     "output_type": "display_data"
    }
   ],
   "source": [
    "plt.plot(output['V'])"
   ]
  },
  {
   "cell_type": "code",
   "execution_count": 10,
   "metadata": {},
   "outputs": [
    {
     "data": {
      "text/plain": [
       "count    1.860000e+02\n",
       "mean     3.084665e+03\n",
       "std      1.645535e+04\n",
       "min     -8.088310e+01\n",
       "25%      7.418449e-09\n",
       "50%      5.091690e-04\n",
       "75%      3.602478e-01\n",
       "max      1.418000e+05\n",
       "dtype: float64"
      ]
     },
     "execution_count": 10,
     "metadata": {},
     "output_type": "execute_result"
    }
   ],
   "source": [
    "output.min().describe()"
   ]
  },
  {
   "cell_type": "markdown",
   "metadata": {},
   "source": [
    "# tol"
   ]
  },
  {
   "cell_type": "code",
   "execution_count": null,
   "metadata": {},
   "outputs": [],
   "source": [
    "atol_list = []\n",
    "tol = 1e-6\n",
    "\n",
    "for c in output:\n",
    "    \n",
    "    x = output[c]\n",
    "    ptp = np.ptp(x)\n",
    "    \n",
    "    if ptp > 0.5:\n",
    "        atol_list.append(tol)\n",
    "        \n",
    "    elif 0 < ptp <= 0.5:\n",
    "        \n",
    "        m = np.min(np.abs(x))\n",
    "        \n",
    "        if m > 0:\n",
    "            atol_list.append(m / 10)\n",
    "            \n",
    "        else:\n",
    "            atol_list.append(np.max(np.abs(x)) / 1e3)\n",
    "            \n",
    "    else:\n",
    "        atol_list.append(42)\n",
    "        \n",
    "    continue\n",
    "    if atol_list[-1] < 1e-9:\n",
    "        atol_list[-1] = 1e-9"
   ]
  }
 ],
 "metadata": {
  "kernelspec": {
   "display_name": "py3.8_hpl",
   "language": "python",
   "name": "py3.8_hpl"
  },
  "language_info": {
   "codemirror_mode": {
    "name": "ipython",
    "version": 3
   },
   "file_extension": ".py",
   "mimetype": "text/x-python",
   "name": "python",
   "nbconvert_exporter": "python",
   "pygments_lexer": "ipython3",
   "version": "3.8.6"
  }
 },
 "nbformat": 4,
 "nbformat_minor": 4
}
