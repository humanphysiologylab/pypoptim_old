{
 "cells": [
  {
   "cell_type": "code",
   "execution_count": 1,
   "metadata": {},
   "outputs": [],
   "source": [
    "import numpy as np\n",
    "import pandas as pd\n",
    "from scipy.integrate import solve_ivp\n",
    "\n",
    "from src.model.maleckar import init_states_constants, compute_rates, legend\n",
    "from src.helpers import get_value_by_key, update_array_from_kwargs\n",
    "from matplotlib import pyplot as plt"
   ]
  },
  {
   "cell_type": "code",
   "execution_count": 2,
   "metadata": {},
   "outputs": [],
   "source": [
    "def run_model(S, C, R, A, config, legend, only_last_beat=True):\n",
    "\n",
    "    stim_period = get_value_by_key(C, legend['constants'], 'stim_period')\n",
    "    t_sampling = config['t_sampling']\n",
    "    n_beats = config['n_beats']\n",
    "\n",
    "    t_space = np.linspace(0, stim_period * n_beats, int(stim_period / t_sampling) * n_beats + 1, endpoint=True)\n",
    "    t_tail = np.linspace(stim_period * (n_beats - 1), stim_period * n_beats, int(stim_period / t_sampling) + 1, endpoint=True)\n",
    "    t_span = 0, t_space[-1]\n",
    "    \n",
    "    if only_last_beat:\n",
    "        t_eval = t_tail\n",
    "    else:\n",
    "        t_eval = t_space\n",
    "\n",
    "    sol = solve_ivp(compute_rates, y0=S,\n",
    "                    t_span=t_span, t_eval=t_eval,\n",
    "                    args=(C, R, A),\n",
    "                    method='LSODA', rtol=1e-9,\n",
    "                    max_step=1. * t_sampling)\n",
    "    return sol"
   ]
  },
  {
   "cell_type": "markdown",
   "metadata": {},
   "source": [
    "``` C\n",
    "    while (t <= ft) {\n",
    "\n",
    "        if ((t >= CL * (n_beats - beats_save) && (dt_counter % skip == 0))){\n",
    "            print_to_scv(S + target_cell_index, A + target_cell_index, file_csv);\n",
    "            // Uncomment to print potentials of the whole chain:\n",
    "            // for (int i = 0; i < chain_length; ++i) {\n",
    "            //     std::cout << S[i].V << \" \";\n",
    "            // }\n",
    "            // std::cout << std::endl;\n",
    "        }\n",
    "\n",
    "        double VOI = t / 1000.;\n",
    "\n",
    "        for (int i = 0; i < chain_length; ++i) {\n",
    "            compute_rates(VOI, S + i, R + i, A + i, C, dt / 1000.,\n",
    "                          (i) ? 0 : stim_amplitude, (i) ? 0 : stim_baseline);\n",
    "                          \n",
    "            double g_gap_junc = 5.0;\n",
    "            double I_gap_junc = 0;\n",
    "            if (i < chain_length - 1) {\n",
    "                I_gap_junc += -g_gap_junc * (S[i + 1].V - S[i].V);\n",
    "            }\n",
    "            if (i > 0) {\n",
    "                I_gap_junc += -g_gap_junc * (S[i - 1].V - S[i].V);\n",
    "            }\n",
    "            R[i].V -= I_gap_junc * 1000.00;\n",
    "        }\n",
    "        \n",
    "        for (int i = 0; i < chain_length; ++i) {\n",
    "            euler(dt / 1000., S + i, R + i);\n",
    "        }\n",
    "\n",
    "        t += dt;\n",
    "        dt_counter++;\n",
    "    }\n",
    "```"
   ]
  },
  {
   "cell_type": "code",
   "execution_count": 208,
   "metadata": {},
   "outputs": [],
   "source": [
    "S, C = init_states_constants()\n",
    "R = np.zeros_like(S)\n",
    "A = np.zeros(len(legend['algebraic']))\n",
    "\n",
    "n_beats = 1\n",
    "CL = 1000\n",
    "stim_period = CL/1000.\n",
    "t_sampling = 1e-3\n",
    "\n",
    "C = update_array_from_kwargs(C, legend['constants'], stim_period=stim_period)\n",
    "\n",
    "t_space = np.linspace(0, stim_period * n_beats, int(stim_period / t_sampling) * n_beats + 1, endpoint=True)\n",
    "t_tail = np.linspace(stim_period * (n_beats - 1), stim_period * n_beats, int(stim_period / t_sampling) + 1, endpoint=True)\n",
    "t_span = 0, t_space[-1]\n",
    "\n",
    "only_last_beat = False\n",
    "if only_last_beat:\n",
    "    t_eval = t_tail\n",
    "else:\n",
    "    t_eval = t_space\n",
    "\n",
    "sol = solve_ivp(compute_rates, y0=S,\n",
    "                t_span=t_span, t_eval=t_eval,\n",
    "                args=(C, R, A),\n",
    "                method='LSODA', rtol=1e-9,\n",
    "                max_step=1. * t_sampling)"
   ]
  },
  {
   "cell_type": "markdown",
   "metadata": {},
   "source": [
    "# Chain"
   ]
  },
  {
   "cell_type": "code",
   "execution_count": 80,
   "metadata": {},
   "outputs": [],
   "source": [
    "import time"
   ]
  },
  {
   "cell_type": "code",
   "execution_count": 194,
   "metadata": {},
   "outputs": [],
   "source": [
    "def compute_rates_chain(t, S_chain, C_chain, R_chain, A_chain,\n",
    "                        S_size, C_size, A_size,\n",
    "                        chain_length):\n",
    "    \n",
    "    g_gap_junc = 5.0\n",
    "    \n",
    "    for index_cell in range(chain_length):\n",
    "        S = S_chain[index_cell * S_size: (index_cell + 1) * S_size]\n",
    "        C = C_chain[index_cell * C_size: (index_cell + 1) * C_size]\n",
    "        R = R_chain[index_cell * S_size: (index_cell + 1) * S_size]\n",
    "        A = A_chain[index_cell * A_size: (index_cell + 1) * A_size]\n",
    "        \n",
    "        compute_rates(t, S, C, R, A)\n",
    "        \n",
    "        I_gap_junc = 0\n",
    "        \n",
    "        if index_cell < chain_length - 1:\n",
    "            I_gap_junc += -g_gap_junc * (S_chain[(index_cell + 1) * S_size] - S[0])\n",
    "            \n",
    "        if index_cell > 0:\n",
    "            I_gap_junc += -g_gap_junc * (S_chain[(index_cell - 1) * S_size] - S[0])\n",
    "            \n",
    "        R[0] -= I_gap_junc * 1000\n",
    "\n",
    "    return R_chain\n",
    "\n",
    "\n",
    "def event_break(t, S_chain, S_size, threshold=0.1, safe_time=0.001):\n",
    "    mean_abs_diff = np.mean(np.abs(np.diff(S_chain[::S_size], axis=0)), axis=0)\n",
    "    return mean_abs_diff < threshold and t > safe_time\n",
    "\n",
    "event_break.terminal = True\n",
    "event_break.direction = 1"
   ]
  },
  {
   "cell_type": "code",
   "execution_count": 219,
   "metadata": {},
   "outputs": [],
   "source": [
    "@njit\n",
    "def compute_rates_chain(t, S_chain, C_chain, R_chain, A_chain,\n",
    "                        S_size, C_size, A_size,\n",
    "                        chain_length):\n",
    "    \n",
    "    g_gap_junc = 5.0\n",
    "    \n",
    "    for index_cell in range(chain_length):\n",
    "        S = S_chain[index_cell * S_size: (index_cell + 1) * S_size]\n",
    "        C = C_chain[index_cell * C_size: (index_cell + 1) * C_size]\n",
    "        R = R_chain[index_cell * S_size: (index_cell + 1) * S_size]\n",
    "        A = A_chain[index_cell * A_size: (index_cell + 1) * A_size]\n",
    "    \n",
    "        I_gap_junc = 0\n",
    "        \n",
    "        if index_cell < chain_length - 1:\n",
    "            I_gap_junc += -g_gap_junc * (S_chain[(index_cell + 1) * S_size] - S[0])\n",
    "            \n",
    "        if index_cell > 0:\n",
    "            I_gap_junc += -g_gap_junc * (S_chain[(index_cell - 1) * S_size] - S[0])\n",
    "            \n",
    "        R[0] -= I_gap_junc * 1000\n",
    "\n",
    "    return R_chain\n",
    "\n",
    "\n",
    "def event_break(t, S_chain, S_size, threshold=0.1, safe_time=0.001):\n",
    "    mean_abs_diff = np.mean(np.abs(np.diff(S_chain[::S_size], axis=0)), axis=0)\n",
    "    return mean_abs_diff < threshold and t > safe_time\n",
    "\n",
    "event_break.terminal = True\n",
    "event_break.direction = 1"
   ]
  },
  {
   "cell_type": "code",
   "execution_count": 218,
   "metadata": {},
   "outputs": [],
   "source": [
    "from numba import njit"
   ]
  },
  {
   "cell_type": "code",
   "execution_count": 220,
   "metadata": {},
   "outputs": [],
   "source": [
    "S, C = init_states_constants()\n",
    "\n",
    "#  S = np.concatenate([S, np.array([0])])  # I_stim hack\n",
    "\n",
    "R = np.zeros_like(S)\n",
    "A = np.zeros(len(legend['algebraic']))\n",
    "\n",
    "n_beats = 1\n",
    "CL = 1000\n",
    "stim_period = CL/1000.\n",
    "t_sampling = 1e-4\n",
    "\n",
    "C = update_array_from_kwargs(C, legend['constants'], stim_period=stim_period)\n",
    "\n",
    "chain_length = 30\n",
    "\n",
    "C_stim = update_array_from_kwargs(C, legend['constants'], stim_amplitude=-40)\n",
    "C_no_stim = update_array_from_kwargs(C, legend['constants'], stim_amplitude=0)\n",
    "\n",
    "S_chain = np.tile(S, chain_length)\n",
    "\n",
    "C_chain = np.concatenate([C_stim, np.tile(C_no_stim, chain_length - 1)])\n",
    "#C_chain = np.tile(C, chain_length)\n",
    "\n",
    "R_chain = np.zeros(len(R) * chain_length)\n",
    "A_chain = np.zeros(len(A) * chain_length)"
   ]
  },
  {
   "cell_type": "code",
   "execution_count": 221,
   "metadata": {},
   "outputs": [],
   "source": [
    "R_chain = compute_rates_chain(0, S_chain, C_chain, R_chain, A_chain,\n",
    "                              len(S), len(C), len(A), chain_length)\n",
    "#S_chain += 1e-5 * R_chain"
   ]
  },
  {
   "cell_type": "code",
   "execution_count": 222,
   "metadata": {},
   "outputs": [],
   "source": [
    "from scipy.integrate import LSODA"
   ]
  },
  {
   "cell_type": "code",
   "execution_count": 223,
   "metadata": {},
   "outputs": [],
   "source": [
    "solver = LSODA(lambda t, y: compute_rates_chain(t, y, C_chain, R_chain, A_chain, len(S), len(C), len(A), chain_length),\n",
    "               t0=0, y0=S_chain, t_bound=t_span[-1], rtol=1e-9, atol=1e-6)"
   ]
  },
  {
   "cell_type": "code",
   "execution_count": 224,
   "metadata": {},
   "outputs": [
    {
     "name": "stdout",
     "output_type": "stream",
     "text": [
      "0.029400457365996887 8.297836780548096\n"
     ]
    }
   ],
   "source": [
    "#y = []\n",
    "#t = []\n",
    "\n",
    "t_chain = time.time()\n",
    "while solver.status == 'running' and not event_break(solver.t, solver.y, len(S)):\n",
    "    solver.step()\n",
    "    #y.append(solver.y[0])\n",
    "    #t.append(solver.t)\n",
    "    \n",
    "t_chain = time.time() - t_chain    \n",
    "print(solver.t, t_chain)"
   ]
  },
  {
   "cell_type": "code",
   "execution_count": 225,
   "metadata": {},
   "outputs": [],
   "source": [
    "t_single = time.time()\n",
    "\n",
    "target_cell = 0#chain_length // 2\n",
    "S = solver.y[target_cell * len(S): (target_cell + 1) * len(S)]\n",
    "\n",
    "sol = solve_ivp(compute_rates, y0=S,\n",
    "                t_span=(solver.t, t_span[-1]),# t_eval=t_eval,\n",
    "                args=(C, R, A), first_step=solver.step_size,\n",
    "                method='LSODA', rtol=1e-9,\n",
    "                max_step=1. * t_sampling)\n",
    "\n",
    "t_single = time.time() - t_single"
   ]
  },
  {
   "cell_type": "code",
   "execution_count": 227,
   "metadata": {},
   "outputs": [],
   "source": [
    "t_sum = t_chain + t_single"
   ]
  },
  {
   "cell_type": "code",
   "execution_count": 228,
   "metadata": {},
   "outputs": [
    {
     "name": "stdout",
     "output_type": "stream",
     "text": [
      "94.93866841422786 5.061331585772129 8.74020767211914\n"
     ]
    }
   ],
   "source": [
    "print(t_chain / t_sum * 100, t_single / t_sum * 100, t_sum)"
   ]
  },
  {
   "cell_type": "code",
   "execution_count": 201,
   "metadata": {},
   "outputs": [
    {
     "data": {
      "text/plain": [
       "[<matplotlib.lines.Line2D at 0x7fd13361a9d0>]"
      ]
     },
     "execution_count": 201,
     "metadata": {},
     "output_type": "execute_result"
    }
   ],
   "source": [
    "plt.plot(t, y)\n",
    "plt.plot(sol.t, sol.y[0], '.-')"
   ]
  },
  {
   "cell_type": "code",
   "execution_count": 157,
   "metadata": {},
   "outputs": [
    {
     "data": {
      "text/plain": [
       "array([-2.01616516e+01,  1.29946417e+02,  8.52708090e+00,  7.00455474e-01,\n",
       "        2.68621341e-04,  2.32499153e-04,  2.15019508e-02,  1.51156236e-01,\n",
       "        1.80267302e-01,  6.46129109e-01,  5.65497189e+00,  1.29494089e+02,\n",
       "        1.38699117e-01,  1.41433983e-01,  2.03356019e-01,  9.60587788e-01,\n",
       "        1.17217103e-02,  2.57705588e-01,  1.79290074e+00,  2.53922501e-04,\n",
       "        1.00402281e-01,  5.12036405e-02,  4.81969542e-01,  4.57127494e-01,\n",
       "        1.43525225e+00,  1.44766437e-01,  9.43174874e-01,  1.44409652e-01,\n",
       "        5.54878725e-03,  2.37347145e-02])"
      ]
     },
     "execution_count": 157,
     "metadata": {},
     "output_type": "execute_result"
    }
   ],
   "source": [
    "S"
   ]
  },
  {
   "cell_type": "code",
   "execution_count": 158,
   "metadata": {},
   "outputs": [
    {
     "data": {
      "text/plain": [
       "'running'"
      ]
     },
     "execution_count": 158,
     "metadata": {},
     "output_type": "execute_result"
    }
   ],
   "source": [
    "solver.status"
   ]
  },
  {
   "cell_type": "code",
   "execution_count": 159,
   "metadata": {},
   "outputs": [
    {
     "data": {
      "text/plain": [
       "0.0006736447172107987"
      ]
     },
     "execution_count": 159,
     "metadata": {},
     "output_type": "execute_result"
    }
   ],
   "source": [
    "solver.step_size"
   ]
  },
  {
   "cell_type": "code",
   "execution_count": 160,
   "metadata": {},
   "outputs": [
    {
     "data": {
      "text/plain": [
       "  message: 'The solver successfully reached the end of the integration interval.'\n",
       "     nfev: 25378\n",
       "     njev: 524\n",
       "      nlu: 524\n",
       "      sol: None\n",
       "   status: 0\n",
       "  success: True\n",
       "        t: array([0.05021799, 0.05022424, 0.05023049, ..., 1.        , 1.        ,\n",
       "       1.        ])\n",
       " t_events: None\n",
       "        y: array([[-2.01616516e+01, -2.01633350e+01, -2.01650181e+01, ...,\n",
       "        -7.40762071e+01, -7.40762071e+01, -7.40762065e+01],\n",
       "       [ 1.29946417e+02,  1.29946420e+02,  1.29946423e+02, ...,\n",
       "         1.30012162e+02,  1.30012162e+02,  1.30012162e+02],\n",
       "       [ 8.52708090e+00,  8.52708048e+00,  8.52708005e+00, ...,\n",
       "         8.51822797e+00,  8.51822797e+00,  8.51822797e+00],\n",
       "       ...,\n",
       "       [ 1.44409652e-01,  1.44420210e-01,  1.44430769e-01, ...,\n",
       "         4.31071334e-01,  4.31071334e-01,  4.31071334e-01],\n",
       "       [ 5.54878725e-03,  5.54922813e-03,  5.54966911e-03, ...,\n",
       "         4.70249003e-01,  4.70249003e-01,  4.70249003e-01],\n",
       "       [ 2.37347145e-02,  2.37319574e-02,  2.37292017e-02, ...,\n",
       "         2.78851761e-03,  2.78851761e-03,  2.78851761e-03]])\n",
       " y_events: None"
      ]
     },
     "execution_count": 160,
     "metadata": {},
     "output_type": "execute_result"
    }
   ],
   "source": [
    "sol"
   ]
  },
  {
   "cell_type": "code",
   "execution_count": 161,
   "metadata": {},
   "outputs": [
    {
     "data": {
      "text/plain": [
       "[<matplotlib.lines.Line2D at 0x7fd1398841d0>]"
      ]
     },
     "execution_count": 161,
     "metadata": {},
     "output_type": "execute_result"
    }
   ],
   "source": [
    "plt.plot(sol.t, sol.y[0], '.-')"
   ]
  },
  {
   "cell_type": "code",
   "execution_count": 109,
   "metadata": {},
   "outputs": [
    {
     "name": "stdout",
     "output_type": "stream",
     "text": [
      "0.029400457365996887\n"
     ]
    }
   ],
   "source": [
    "print(solver.t)"
   ]
  },
  {
   "cell_type": "code",
   "execution_count": 163,
   "metadata": {},
   "outputs": [],
   "source": [
    "t_space = np.linspace(0, stim_period * n_beats, int(stim_period / t_sampling) * n_beats + 1, endpoint=True)\n",
    "t_tail = np.linspace(stim_period * (n_beats - 1), stim_period * n_beats, int(stim_period / t_sampling) + 1, endpoint=True)\n",
    "t_span = 0, t_space[-1]\n",
    "\n",
    "only_last_beat = False\n",
    "if only_last_beat:\n",
    "    t_eval = t_tail\n",
    "else:\n",
    "    t_eval = t_space\n",
    "\n",
    "sol = solve_ivp(compute_rates_chain, y0=S_chain,\n",
    "                t_span=t_span, t_eval=t_eval,\n",
    "                args=(C_chain, R_chain, A_chain, len(S), len(C), len(A), chain_length),\n",
    "                method='LSODA', rtol=1e-9,\n",
    "                max_step=1e-3,\n",
    "                #event=[lambda t, s: event_break(s, len(S))]\n",
    "               )"
   ]
  },
  {
   "cell_type": "code",
   "execution_count": 164,
   "metadata": {},
   "outputs": [],
   "source": [
    "y = sol.y.reshape((chain_length, len(S), -1))"
   ]
  },
  {
   "cell_type": "code",
   "execution_count": 165,
   "metadata": {},
   "outputs": [
    {
     "data": {
      "text/plain": [
       "[<matplotlib.lines.Line2D at 0x7fd1397cb4d0>]"
      ]
     },
     "execution_count": 165,
     "metadata": {},
     "output_type": "execute_result"
    }
   ],
   "source": [
    "plt.plot(y[-1, 0])\n",
    "#plt.plot(sol.y[0 + 3 * len(S)])"
   ]
  },
  {
   "cell_type": "code",
   "execution_count": 47,
   "metadata": {},
   "outputs": [],
   "source": [
    "I_gap_junc = np.diff(y[:, 0], axis=0, prepend=y[:1, 0]) - np.diff(y[:, 0], axis=0, append=y[-1:, 0])"
   ]
  },
  {
   "cell_type": "code",
   "execution_count": 51,
   "metadata": {
    "scrolled": true
   },
   "outputs": [],
   "source": [
    "plt.plot(I_gap_junc[10] * 5e-4)\n",
    "#plt.xlim(-1, 200)\n",
    "plt.grid()"
   ]
  },
  {
   "cell_type": "code",
   "execution_count": 10,
   "metadata": {},
   "outputs": [],
   "source": [
    "from matplotlib import cm"
   ]
  },
  {
   "cell_type": "code",
   "execution_count": 52,
   "metadata": {},
   "outputs": [],
   "source": [
    "n = 10\n",
    "\n",
    "for i in range(10):\n",
    "    plt.plot(I_gap_junc[i], color=cm.viridis(i / n))\n",
    "    \n",
    "#plt.xlim(0, 150)"
   ]
  },
  {
   "cell_type": "code",
   "execution_count": 53,
   "metadata": {},
   "outputs": [],
   "source": [
    "dV = y[2:, 0] - y[:-2, 0]"
   ]
  },
  {
   "cell_type": "code",
   "execution_count": 67,
   "metadata": {},
   "outputs": [
    {
     "data": {
      "text/plain": [
       "[<matplotlib.lines.Line2D at 0x7fd17ea4b490>]"
      ]
     },
     "execution_count": 67,
     "metadata": {},
     "output_type": "execute_result"
    }
   ],
   "source": [
    "plt.plot(event_break(sol.y, len(S)))"
   ]
  },
  {
   "cell_type": "code",
   "execution_count": 56,
   "metadata": {},
   "outputs": [
    {
     "data": {
      "text/plain": [
       "[<matplotlib.lines.Line2D at 0x7fd17e3b4890>]"
      ]
     },
     "execution_count": 56,
     "metadata": {},
     "output_type": "execute_result"
    }
   ],
   "source": [
    "plt.plot(dV[9])"
   ]
  },
  {
   "cell_type": "code",
   "execution_count": 58,
   "metadata": {},
   "outputs": [
    {
     "data": {
      "text/plain": [
       "[<matplotlib.lines.Line2D at 0x7fd17f070610>]"
      ]
     },
     "execution_count": 58,
     "metadata": {},
     "output_type": "execute_result"
    }
   ],
   "source": [
    "n = 10\n",
    "\n",
    "for i in range(len(dV)):\n",
    "    plt.plot(dV[i], lw=0.5, color='0.8')\n",
    "    \n",
    "plt.plot(dV[0])\n",
    "plt.plot(dV[-1])"
   ]
  },
  {
   "cell_type": "code",
   "execution_count": null,
   "metadata": {},
   "outputs": [],
   "source": []
  }
 ],
 "metadata": {
  "kernelspec": {
   "display_name": "Python 3",
   "language": "python",
   "name": "python3"
  },
  "language_info": {
   "codemirror_mode": {
    "name": "ipython",
    "version": 3
   },
   "file_extension": ".py",
   "mimetype": "text/x-python",
   "name": "python",
   "nbconvert_exporter": "python",
   "pygments_lexer": "ipython3",
   "version": "3.8.5"
  }
 },
 "nbformat": 4,
 "nbformat_minor": 4
}
