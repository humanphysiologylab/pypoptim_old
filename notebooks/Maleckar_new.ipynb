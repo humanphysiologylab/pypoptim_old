{
 "cells": [
  {
   "cell_type": "code",
   "execution_count": 1,
   "metadata": {},
   "outputs": [],
   "source": [
    "import ctypes\n",
    "import os\n",
    "\n",
    "import numpy as np\n",
    "import pandas as pd\n",
    "\n",
    "import matplotlib.pyplot as plt"
   ]
  },
  {
   "cell_type": "markdown",
   "metadata": {},
   "source": [
    "# MAIN"
   ]
  },
  {
   "cell_type": "code",
   "execution_count": 2,
   "metadata": {},
   "outputs": [],
   "source": [
    "dirname = '../src/model_ctypes/_maleckar/'\n",
    "filename_so = os.path.join(dirname, 'maleckar.so')\n",
    "\n",
    "filename_so_abs = os.path.abspath(filename_so)\n",
    "\n",
    "model = ctypes.CDLL(filename_so_abs)\n",
    "\n",
    "model.run.argtypes = [\n",
    "    np.ctypeslib.ndpointer(dtype=np.float64, ndim=1, flags='C_CONTIGUOUS'),\n",
    "    np.ctypeslib.ndpointer(dtype=np.float64, ndim=1, flags='C_CONTIGUOUS'),\n",
    "    ctypes.c_int,\n",
    "    ctypes.c_double,\n",
    "    ctypes.c_double,\n",
    "    np.ctypeslib.ndpointer(dtype=np.float64, ndim=2, flags='C_CONTIGUOUS')\n",
    "]\n",
    "model.run.restype = ctypes.c_int\n",
    "\n",
    "\n",
    "legend_constants = pd.read_csv(os.path.join(dirname, \"legend_constants.csv\"), index_col='name')['value']\n",
    "legend_states = pd.read_csv(os.path.join(dirname, \"legend_states.csv\"), index_col='name')['value']\n",
    "legend_algebraic = pd.read_csv(os.path.join(dirname, \"legend_algebraic.csv\"), index_col='name')"
   ]
  },
  {
   "cell_type": "code",
   "execution_count": 3,
   "metadata": {},
   "outputs": [],
   "source": [
    "# model.initialize_states_default.argtypes = [\n",
    "#     np.ctypeslib.ndpointer(dtype=np.float64, ndim=1, flags='C_CONTIGUOUS')\n",
    "# ]\n",
    "# model.initialize_states_default.restype = ctypes.c_void_p\n",
    "\n",
    "\n",
    "# model.initialize_constants_default.argtypes = [\n",
    "#     np.ctypeslib.ndpointer(dtype=np.float64, ndim=1, flags='C_CONTIGUOUS')\n",
    "# ]\n",
    "# model.initialize_constants_default.restype = ctypes.c_void_p\n",
    "\n",
    "# values = np.zeros(len(legend_states))\n",
    "# model.initialize_states_default(values)\n",
    "# legend_states['value'] = values\n",
    "\n",
    "# values = np.zeros(len(legend_constants))\n",
    "# model.initialize_constants_default(values)\n",
    "# legend_constants['value'] = values"
   ]
  },
  {
   "cell_type": "code",
   "execution_count": 4,
   "metadata": {},
   "outputs": [],
   "source": [
    "# legend_constants[['name', 'value', 'units', 'component']].to_csv(os.path.join(dirname, \"legend_constants.csv\"), index=False)\n",
    "# legend_states[['name', 'value', 'units', 'component']].to_csv(os.path.join(dirname, \"legend_states.csv\"), index=False)\n",
    "# legend_algebraic[['name', 'value', 'units', 'component']].to_csv(os.path.join(dirname, \"legend_algebraic.csv\"), index=False)"
   ]
  },
  {
   "cell_type": "code",
   "execution_count": 5,
   "metadata": {},
   "outputs": [],
   "source": [
    "S = legend_states.copy()\n",
    "C = legend_constants.copy()\n",
    "A = legend_algebraic.copy()"
   ]
  },
  {
   "cell_type": "code",
   "execution_count": 6,
   "metadata": {},
   "outputs": [],
   "source": [
    "C['stim_duration'] = 0.001\n",
    "C['stim_amplitude'] = -60"
   ]
  },
  {
   "cell_type": "code",
   "execution_count": 7,
   "metadata": {},
   "outputs": [],
   "source": [
    "t_sampling = 0.001\n",
    "\n",
    "#C['stim_period'] = 2000\n",
    "stim_period = C['stim_period']\n",
    "n_samples_per_stim = int(stim_period / t_sampling)\n",
    "\n",
    "n_beats = 100\n",
    "tol = 1e-6\n",
    "\n",
    "output = np.zeros((n_samples_per_stim * n_beats + 1, len(S)))\n",
    "# output_A = np.zeros((n_samples_per_stim * n_beats + 1, len(A)))\n",
    "# t = np.zeros(n_samples_per_stim * n_beats + 1)"
   ]
  },
  {
   "cell_type": "code",
   "execution_count": 8,
   "metadata": {},
   "outputs": [
    {
     "name": "stdout",
     "output_type": "stream",
     "text": [
      "2\n"
     ]
    }
   ],
   "source": [
    "status = model.run(S.values.copy(), C.values.copy(),\n",
    "                   n_beats, t_sampling, tol, output)\n",
    "\n",
    "print(status)"
   ]
  },
  {
   "cell_type": "code",
   "execution_count": 9,
   "metadata": {},
   "outputs": [],
   "source": [
    "output = pd.DataFrame(output, columns=legend_states.index)\n",
    "# output_A = pd.DataFrame(output_A, columns=legend_algebraic.index)"
   ]
  },
  {
   "cell_type": "code",
   "execution_count": 10,
   "metadata": {},
   "outputs": [
    {
     "data": {
      "text/html": [
       "<div>\n",
       "<style scoped>\n",
       "    .dataframe tbody tr th:only-of-type {\n",
       "        vertical-align: middle;\n",
       "    }\n",
       "\n",
       "    .dataframe tbody tr th {\n",
       "        vertical-align: top;\n",
       "    }\n",
       "\n",
       "    .dataframe thead th {\n",
       "        text-align: right;\n",
       "    }\n",
       "</style>\n",
       "<table border=\"1\" class=\"dataframe\">\n",
       "  <thead>\n",
       "    <tr style=\"text-align: right;\">\n",
       "      <th>name</th>\n",
       "      <th>Na_i</th>\n",
       "      <th>K_i</th>\n",
       "      <th>V</th>\n",
       "      <th>Ca_i</th>\n",
       "    </tr>\n",
       "  </thead>\n",
       "  <tbody>\n",
       "    <tr>\n",
       "      <th>err_rel</th>\n",
       "      <td>-2.126157</td>\n",
       "      <td>0.148719</td>\n",
       "      <td>-0.268179</td>\n",
       "      <td>-4.814883</td>\n",
       "    </tr>\n",
       "    <tr>\n",
       "      <th>err_abs</th>\n",
       "      <td>-0.181080</td>\n",
       "      <td>0.192571</td>\n",
       "      <td>0.198538</td>\n",
       "      <td>-0.000003</td>\n",
       "    </tr>\n",
       "  </tbody>\n",
       "</table>\n",
       "</div>"
      ],
      "text/plain": [
       "name         Na_i       K_i         V      Ca_i\n",
       "err_rel -2.126157  0.148719 -0.268179 -4.814883\n",
       "err_abs -0.181080  0.192571  0.198538 -0.000003"
      ]
     },
     "execution_count": 10,
     "metadata": {},
     "output_type": "execute_result"
    }
   ],
   "source": [
    "err_abs = output.iloc[-1] - output.iloc[0]\n",
    "err_rel = err_abs / output.iloc[0] * 100\n",
    "\n",
    "items = ['Na_i', 'K_i', 'V', 'Ca_i']\n",
    "# items = ['Nai', 'Ki']\n",
    "\n",
    "df_err= pd.DataFrame([err_rel[items], err_abs[items]],\n",
    "                     index=['err_rel', 'err_abs'])\n",
    "df_err"
   ]
  },
  {
   "cell_type": "code",
   "execution_count": 11,
   "metadata": {},
   "outputs": [
    {
     "data": {
      "text/plain": [
       "[<matplotlib.lines.Line2D at 0x7f0b49d53730>]"
      ]
     },
     "execution_count": 11,
     "metadata": {},
     "output_type": "execute_result"
    },
    {
     "data": {
      "image/png": "[encoded data removed]",
      "text/plain": [
       "<Figure size 432x288 with 1 Axes>"
      ]
     },
     "metadata": {
      "needs_background": "light"
     },
     "output_type": "display_data"
    }
   ],
   "source": [
    "plt.plot(output.V)"
   ]
  },
  {
   "cell_type": "code",
   "execution_count": 12,
   "metadata": {},
   "outputs": [],
   "source": [
    "atol = (output.abs().min() / 10).clip(lower=1e-6, upper=1e-3)\n",
    "atol = np.power(10, np.log10(atol).round())\n",
    "\n",
    "s = \"\"\n",
    "for i, name in enumerate(atol.index):\n",
    "    x = f'/*{name}*/ {atol[name]}, '\n",
    "    s += x\n",
    "    s += (20 - len(x)) * ' '\n",
    "    if i % 5 == 4:\n",
    "        s += '\\n'"
   ]
  },
  {
   "cell_type": "code",
   "execution_count": 13,
   "metadata": {},
   "outputs": [
    {
     "name": "stdout",
     "output_type": "stream",
     "text": [
      "/*V*/ 0.001,        /*Na_c*/ 0.001,     /*Na_i*/ 0.001,     /*m*/ 0.001,        /*h1*/ 1e-06,       \n",
      "/*h2*/ 1e-05,       /*Ca_d*/ 1e-05,     /*d_L*/ 1e-06,      /*f_L1*/ 0.001,     /*f_L2*/ 0.001,     \n",
      "/*K_c*/ 0.001,      /*K_i*/ 0.001,      /*r*/ 0.0001,       /*s*/ 0.001,        /*a_ur*/ 0.0001,    \n",
      "/*i_ur*/ 0.001,     /*n*/ 0.001,        /*pa*/ 1e-05,       /*Ca_c*/ 0.001,     /*Ca_i*/ 1e-05,     \n",
      "/*O_C*/ 0.001,      /*O_TC*/ 0.001,     /*O_TMgC*/ 0.001,   /*O_TMgMg*/ 0.001,  /*O*/ 0.001,        \n",
      "/*Ca_rel*/ 0.001,   /*Ca_up*/ 0.001,    /*O_Calse*/ 0.001,  /*F1*/ 0.001,       /*F2*/ 0.0001,      \n",
      "\n"
     ]
    }
   ],
   "source": [
    "print(s)"
   ]
  },
  {
   "cell_type": "markdown",
   "metadata": {},
   "source": [
    "# Syn"
   ]
  },
  {
   "cell_type": "code",
   "execution_count": 20,
   "metadata": {},
   "outputs": [],
   "source": [
    "from tqdm.auto import tqdm"
   ]
  },
  {
   "cell_type": "code",
   "execution_count": 22,
   "metadata": {},
   "outputs": [
    {
     "data": {
      "application/vnd.jupyter.widget-view+json": {
       "model_id": "ffba1e00d91c435b9cc875ceda7d4cad",
       "version_major": 2,
       "version_minor": 0
      },
      "text/plain": [
       "  0%|          | 0/6 [00:00<?, ?it/s]"
      ]
     },
     "metadata": {},
     "output_type": "display_data"
    },
    {
     "name": "stdout",
     "output_type": "stream",
     "text": [
      "2\n",
      "name          Na_i       K_i         V       Ca_i\n",
      "err_rel -12.448987  0.862311 -0.913353 -22.274577\n",
      "err_abs  -1.060251  1.116572  0.676173  -0.000014\n",
      "2\n",
      "name         Na_i       K_i         V      Ca_i\n",
      "err_rel -4.150653  0.284796 -0.927499 -6.589041\n",
      "err_abs -0.353501  0.368770  0.686646 -0.000004\n",
      "2\n",
      "name         Na_i       K_i         V       Ca_i\n",
      "err_rel  3.458790 -0.248432 -1.532629  14.883991\n",
      "err_abs  0.294577 -0.321684  1.134636   0.000010\n",
      "2\n",
      "name          Na_i       K_i         V       Ca_i\n",
      "err_rel  10.128843 -0.721510 -2.804624  45.061866\n",
      "err_abs   0.862650 -0.934254  2.076318   0.000029\n",
      "2\n",
      "name          Na_i       K_i         V        Ca_i\n",
      "err_rel  18.592902 -1.341083 -7.241924  132.182790\n",
      "err_abs   1.583514 -1.736514  5.361340    0.000086\n",
      "2\n",
      "name          Na_i       K_i          V        Ca_i\n",
      "err_rel  19.820611 -1.470969 -11.755463  201.585965\n",
      "err_abs   1.688075 -1.904699   8.702802    0.000131\n"
     ]
    }
   ],
   "source": [
    "for CL in tqdm([2000, 1000, 666, 500, 333, 250]):\n",
    "    \n",
    "    stim_period = CL / 1000.\n",
    "    C['stim_period'] = stim_period\n",
    "    n_samples_per_stim = int(stim_period / t_sampling)\n",
    "\n",
    "    n_beats = 1000\n",
    "    tol = 1e-6\n",
    "\n",
    "    output = np.zeros((n_samples_per_stim * n_beats + 1, len(S)))\n",
    "    # output_A = np.zeros((n_samples_per_stim * n_beats + 1, len(A)))\n",
    "    # t = np.zeros(n_samples_per_stim * n_beats + 1)\n",
    "    \n",
    "    status = model.run(S.values.copy(), C.values.copy(),\n",
    "                   n_beats, t_sampling, tol, output)\n",
    "\n",
    "    print(status)\n",
    "    \n",
    "    output = pd.DataFrame(output, columns=legend_states.index)\n",
    "\n",
    "    phenotype = output[-CL - 1:][:1000]\n",
    "    state = phenotype.iloc[0]\n",
    "    \n",
    "    \n",
    "    err_abs = output.iloc[-1] - output.iloc[0]\n",
    "    err_rel = err_abs / output.iloc[0] * 100\n",
    "\n",
    "    items = ['Na_i', 'K_i', 'V', 'Ca_i']\n",
    "    # items = ['Nai', 'Ki']\n",
    "\n",
    "    df_err= pd.DataFrame([err_rel[items], err_abs[items]],\n",
    "                         index=['err_rel', 'err_abs'])\n",
    "    print(df_err)\n",
    "\n",
    "    \n",
    "    dirname = \"../data/maleckar/original/\"\n",
    "    \n",
    "    phenotype_filename = os.path.join(dirname, f'phenotypes/phenotype_{CL}.csv')\n",
    "    state_filename = os.path.join(dirname, f'states/state_{CL}.txt')\n",
    "    \n",
    "    phenotype.to_csv(phenotype_filename, index=False)\n",
    "    np.savetxt(state_filename, state)"
   ]
  },
  {
   "cell_type": "code",
   "execution_count": 23,
   "metadata": {},
   "outputs": [
    {
     "data": {
      "application/vnd.jupyter.widget-view+json": {
       "model_id": "73e2a7a5490d4796b0f84c4cf22aa12c",
       "version_major": 2,
       "version_minor": 0
      },
      "text/plain": [
       "  0%|          | 0/6 [00:00<?, ?it/s]"
      ]
     },
     "metadata": {},
     "output_type": "display_data"
    },
    {
     "data": {
      "image/png": "[encoded data removed]",
      "text/plain": [
       "<Figure size 288x432 with 2 Axes>"
      ]
     },
     "metadata": {
      "needs_background": "light"
     },
     "output_type": "display_data"
    }
   ],
   "source": [
    "fig, axes = plt.subplots(nrows=2, figsize=plt.figaspect(1.5))\n",
    "\n",
    "for CL in tqdm([2000, 1000, 666, 500, 333, 250]):\n",
    "    \n",
    "    phenotype_filename = os.path.join(dirname, f'phenotypes/phenotype_{CL}.csv')\n",
    "    df = pd.read_csv(phenotype_filename)\n",
    "    \n",
    "    axes[0].plot(df.V)\n",
    "    axes[1].plot(df.Ca_i)"
   ]
  },
  {
   "cell_type": "code",
   "execution_count": null,
   "metadata": {},
   "outputs": [],
   "source": []
  }
 ],
 "metadata": {
  "kernelspec": {
   "display_name": "py3.8_hpl",
   "language": "python",
   "name": "py3.8_hpl"
  },
  "language_info": {
   "codemirror_mode": {
    "name": "ipython",
    "version": 3
   },
   "file_extension": ".py",
   "mimetype": "text/x-python",
   "name": "python",
   "nbconvert_exporter": "python",
   "pygments_lexer": "ipython3",
   "version": "3.8.6"
  }
 },
 "nbformat": 4,
 "nbformat_minor": 4
}
