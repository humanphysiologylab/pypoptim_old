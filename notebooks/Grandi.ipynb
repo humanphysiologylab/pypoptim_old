{
 "cells": [
  {
   "cell_type": "code",
   "execution_count": 1,
   "metadata": {},
   "outputs": [],
   "source": [
    "import ctypes\n",
    "import os\n",
    "\n",
    "import numpy as np\n",
    "import pandas as pd\n",
    "\n",
    "import matplotlib.pyplot as plt"
   ]
  },
  {
   "cell_type": "code",
   "execution_count": null,
   "metadata": {},
   "outputs": [],
   "source": []
  },
  {
   "cell_type": "code",
   "execution_count": 11,
   "metadata": {},
   "outputs": [
    {
     "data": {
      "text/plain": [
       "[' * CONSTANTS[0] is Bmax_CaM in component buffca (mM).\\n',\n",
       " ' * CONSTANTS[128] is Bmax_SLhighj in component buffca (mM).\\n',\n",
       " ' * CONSTANTS[133] is Bmax_SLhighsl in component buffca (mM).\\n',\n",
       " ' * CONSTANTS[129] is Bmax_SLlowj in component buffca (mM).\\n',\n",
       " ' * CONSTANTS[134] is Bmax_SLlowsl in component buffca (mM).\\n']"
      ]
     },
     "execution_count": 11,
     "metadata": {},
     "output_type": "execute_result"
    }
   ],
   "source": [
    "with open(\"../src/model_ctypes/_grandi/model.c\") as f:\n",
    "    lines = f.readlines()[6:345]\n",
    "    \n",
    "lines[:5]"
   ]
  },
  {
   "cell_type": "code",
   "execution_count": 43,
   "metadata": {},
   "outputs": [],
   "source": [
    "prefixes = ['CONSTANTS', 'STATES', 'ALGEBRAIC']\n",
    "result = {p: [] for p in prefixes}\n",
    "\n",
    "for line in lines:\n",
    "    \n",
    "    line = line.split()[1:]\n",
    "    \n",
    "    x = line[0]\n",
    "    \n",
    "    for p in result:\n",
    "        if x.startswith(p):\n",
    "            n = int(x[len(p) + 1:-1])\n",
    "            what = line[2]\n",
    "            where = line[5]\n",
    "            units = line[6][1:-2]\n",
    "            result[p].append([n, what, where, units])"
   ]
  },
  {
   "cell_type": "code",
   "execution_count": 44,
   "metadata": {},
   "outputs": [],
   "source": [
    "for p, x in result.items():\n",
    "    result[p] = sorted(x, key = lambda x: x[0])"
   ]
  },
  {
   "cell_type": "code",
   "execution_count": 48,
   "metadata": {},
   "outputs": [
    {
     "data": {
      "text/html": [
       "<div>\n",
       "<style scoped>\n",
       "    .dataframe tbody tr th:only-of-type {\n",
       "        vertical-align: middle;\n",
       "    }\n",
       "\n",
       "    .dataframe tbody tr th {\n",
       "        vertical-align: top;\n",
       "    }\n",
       "\n",
       "    .dataframe thead th {\n",
       "        text-align: right;\n",
       "    }\n",
       "</style>\n",
       "<table border=\"1\" class=\"dataframe\">\n",
       "  <thead>\n",
       "    <tr style=\"text-align: right;\">\n",
       "      <th></th>\n",
       "      <th>name</th>\n",
       "      <th>component</th>\n",
       "      <th>units</th>\n",
       "      <th>value</th>\n",
       "    </tr>\n",
       "    <tr>\n",
       "      <th>index</th>\n",
       "      <th></th>\n",
       "      <th></th>\n",
       "      <th></th>\n",
       "      <th></th>\n",
       "    </tr>\n",
       "  </thead>\n",
       "  <tbody>\n",
       "    <tr>\n",
       "      <th>0</th>\n",
       "      <td>Bmax_CaM</td>\n",
       "      <td>buffca</td>\n",
       "      <td>mM</td>\n",
       "      <td>None</td>\n",
       "    </tr>\n",
       "    <tr>\n",
       "      <th>1</th>\n",
       "      <td>Bmax_SR</td>\n",
       "      <td>buffca</td>\n",
       "      <td>mM</td>\n",
       "      <td>None</td>\n",
       "    </tr>\n",
       "    <tr>\n",
       "      <th>2</th>\n",
       "      <td>Bmax_TnChigh</td>\n",
       "      <td>buffca</td>\n",
       "      <td>mM</td>\n",
       "      <td>None</td>\n",
       "    </tr>\n",
       "    <tr>\n",
       "      <th>3</th>\n",
       "      <td>Bmax_TnClow</td>\n",
       "      <td>buffca</td>\n",
       "      <td>mM</td>\n",
       "      <td>None</td>\n",
       "    </tr>\n",
       "    <tr>\n",
       "      <th>4</th>\n",
       "      <td>Bmax_myosin</td>\n",
       "      <td>buffca</td>\n",
       "      <td>mM</td>\n",
       "      <td>None</td>\n",
       "    </tr>\n",
       "  </tbody>\n",
       "</table>\n",
       "</div>"
      ],
      "text/plain": [
       "               name component units value\n",
       "index                                    \n",
       "0          Bmax_CaM    buffca    mM  None\n",
       "1           Bmax_SR    buffca    mM  None\n",
       "2      Bmax_TnChigh    buffca    mM  None\n",
       "3       Bmax_TnClow    buffca    mM  None\n",
       "4       Bmax_myosin    buffca    mM  None"
      ]
     },
     "execution_count": 48,
     "metadata": {},
     "output_type": "execute_result"
    }
   ],
   "source": [
    "legend_constants = pd.DataFrame(result['CONSTANTS'], columns=['index', 'name', 'component', 'units']).set_index('index')\n",
    "legend_constants['value'] = None\n",
    "legend_constants.head()"
   ]
  },
  {
   "cell_type": "code",
   "execution_count": 49,
   "metadata": {},
   "outputs": [
    {
     "data": {
      "text/html": [
       "<div>\n",
       "<style scoped>\n",
       "    .dataframe tbody tr th:only-of-type {\n",
       "        vertical-align: middle;\n",
       "    }\n",
       "\n",
       "    .dataframe tbody tr th {\n",
       "        vertical-align: top;\n",
       "    }\n",
       "\n",
       "    .dataframe thead th {\n",
       "        text-align: right;\n",
       "    }\n",
       "</style>\n",
       "<table border=\"1\" class=\"dataframe\">\n",
       "  <thead>\n",
       "    <tr style=\"text-align: right;\">\n",
       "      <th></th>\n",
       "      <th>name</th>\n",
       "      <th>component</th>\n",
       "      <th>units</th>\n",
       "      <th>value</th>\n",
       "    </tr>\n",
       "    <tr>\n",
       "      <th>index</th>\n",
       "      <th></th>\n",
       "      <th></th>\n",
       "      <th></th>\n",
       "      <th></th>\n",
       "    </tr>\n",
       "  </thead>\n",
       "  <tbody>\n",
       "    <tr>\n",
       "      <th>0</th>\n",
       "      <td>CaM</td>\n",
       "      <td>buffca</td>\n",
       "      <td>mM</td>\n",
       "      <td>None</td>\n",
       "    </tr>\n",
       "    <tr>\n",
       "      <th>1</th>\n",
       "      <td>Myoc</td>\n",
       "      <td>buffca</td>\n",
       "      <td>mM</td>\n",
       "      <td>None</td>\n",
       "    </tr>\n",
       "    <tr>\n",
       "      <th>2</th>\n",
       "      <td>Myom</td>\n",
       "      <td>buffca</td>\n",
       "      <td>mM</td>\n",
       "      <td>None</td>\n",
       "    </tr>\n",
       "    <tr>\n",
       "      <th>3</th>\n",
       "      <td>SLH_jn</td>\n",
       "      <td>buffca</td>\n",
       "      <td>mM</td>\n",
       "      <td>None</td>\n",
       "    </tr>\n",
       "    <tr>\n",
       "      <th>4</th>\n",
       "      <td>SLH_sl</td>\n",
       "      <td>buffca</td>\n",
       "      <td>mM</td>\n",
       "      <td>None</td>\n",
       "    </tr>\n",
       "  </tbody>\n",
       "</table>\n",
       "</div>"
      ],
      "text/plain": [
       "         name component units value\n",
       "index                              \n",
       "0         CaM    buffca    mM  None\n",
       "1        Myoc    buffca    mM  None\n",
       "2        Myom    buffca    mM  None\n",
       "3      SLH_jn    buffca    mM  None\n",
       "4      SLH_sl    buffca    mM  None"
      ]
     },
     "execution_count": 49,
     "metadata": {},
     "output_type": "execute_result"
    }
   ],
   "source": [
    "legend_states = pd.DataFrame(result['STATES'], columns=['index', 'name', 'component', 'units']).set_index('index')\n",
    "legend_states['value'] = None\n",
    "legend_states.head()"
   ]
  },
  {
   "cell_type": "code",
   "execution_count": 66,
   "metadata": {},
   "outputs": [
    {
     "data": {
      "text/html": [
       "<div>\n",
       "<style scoped>\n",
       "    .dataframe tbody tr th:only-of-type {\n",
       "        vertical-align: middle;\n",
       "    }\n",
       "\n",
       "    .dataframe tbody tr th {\n",
       "        vertical-align: top;\n",
       "    }\n",
       "\n",
       "    .dataframe thead th {\n",
       "        text-align: right;\n",
       "    }\n",
       "</style>\n",
       "<table border=\"1\" class=\"dataframe\">\n",
       "  <thead>\n",
       "    <tr style=\"text-align: right;\">\n",
       "      <th></th>\n",
       "      <th>name</th>\n",
       "      <th>component</th>\n",
       "      <th>units</th>\n",
       "      <th>value</th>\n",
       "    </tr>\n",
       "    <tr>\n",
       "      <th>index</th>\n",
       "      <th></th>\n",
       "      <th></th>\n",
       "      <th></th>\n",
       "      <th></th>\n",
       "    </tr>\n",
       "  </thead>\n",
       "  <tbody>\n",
       "    <tr>\n",
       "      <th>0</th>\n",
       "      <td>ical_d_inf</td>\n",
       "      <td>ical_d</td>\n",
       "      <td>dimensionless</td>\n",
       "      <td>0</td>\n",
       "    </tr>\n",
       "    <tr>\n",
       "      <th>1</th>\n",
       "      <td>ical_f_inf</td>\n",
       "      <td>ical_f</td>\n",
       "      <td>dimensionless</td>\n",
       "      <td>0</td>\n",
       "    </tr>\n",
       "    <tr>\n",
       "      <th>2</th>\n",
       "      <td>ikr_xr_inf</td>\n",
       "      <td>ikr_xr</td>\n",
       "      <td>dimensionless</td>\n",
       "      <td>0</td>\n",
       "    </tr>\n",
       "    <tr>\n",
       "      <th>3</th>\n",
       "      <td>iks_xs_inf</td>\n",
       "      <td>iks_xs</td>\n",
       "      <td>dimensionless</td>\n",
       "      <td>0</td>\n",
       "    </tr>\n",
       "    <tr>\n",
       "      <th>4</th>\n",
       "      <td>ikur_r_inf</td>\n",
       "      <td>ikur_ikur_r</td>\n",
       "      <td>dimensionless</td>\n",
       "      <td>0</td>\n",
       "    </tr>\n",
       "  </tbody>\n",
       "</table>\n",
       "</div>"
      ],
      "text/plain": [
       "             name    component          units  value\n",
       "index                                               \n",
       "0      ical_d_inf       ical_d  dimensionless      0\n",
       "1      ical_f_inf       ical_f  dimensionless      0\n",
       "2      ikr_xr_inf       ikr_xr  dimensionless      0\n",
       "3      iks_xs_inf       iks_xs  dimensionless      0\n",
       "4      ikur_r_inf  ikur_ikur_r  dimensionless      0"
      ]
     },
     "execution_count": 66,
     "metadata": {},
     "output_type": "execute_result"
    }
   ],
   "source": [
    "legend_algebraic = pd.DataFrame(result['ALGEBRAIC'], columns=['index', 'name', 'component', 'units']).set_index('index')\n",
    "legend_algebraic['value'] = 0\n",
    "legend_algebraic.head()"
   ]
  },
  {
   "cell_type": "markdown",
   "metadata": {},
   "source": [
    "# MAIN"
   ]
  },
  {
   "cell_type": "code",
   "execution_count": 2,
   "metadata": {},
   "outputs": [],
   "source": [
    "dirname = '../src/model_ctypes/_grandi/'\n",
    "filename_so = os.path.join(dirname, 'model.so')\n",
    "\n",
    "filename_so_abs = os.path.abspath(filename_so)\n",
    "\n",
    "model = ctypes.CDLL(filename_so_abs)\n",
    "\n",
    "model.run.argtypes = [\n",
    "    np.ctypeslib.ndpointer(dtype=np.float64, ndim=1, flags='C_CONTIGUOUS'),\n",
    "    np.ctypeslib.ndpointer(dtype=np.float64, ndim=1, flags='C_CONTIGUOUS'),\n",
    "    ctypes.c_int,\n",
    "    ctypes.c_double,\n",
    "    ctypes.c_double,\n",
    "    np.ctypeslib.ndpointer(dtype=np.float64, ndim=2, flags='C_CONTIGUOUS')\n",
    "]\n",
    "model.run.restype = ctypes.c_int\n",
    "\n",
    "\n",
    "legend_constants = pd.read_csv(os.path.join(dirname, \"legend_constants.csv\"), index_col='name')['value']\n",
    "legend_states = pd.read_csv(os.path.join(dirname, \"legend_states.csv\"), index_col='name')['value']\n",
    "legend_algebraic = pd.read_csv(os.path.join(dirname, \"legend_algebraic.csv\"), index_col='name')"
   ]
  },
  {
   "cell_type": "code",
   "execution_count": 3,
   "metadata": {},
   "outputs": [],
   "source": [
    "# model.initialize_states_default.argtypes = [\n",
    "#     np.ctypeslib.ndpointer(dtype=np.float64, ndim=1, flags='C_CONTIGUOUS')\n",
    "# ]\n",
    "# model.initialize_states_default.restype = ctypes.c_void_p\n",
    "\n",
    "\n",
    "# model.initialize_constants_default.argtypes = [\n",
    "#     np.ctypeslib.ndpointer(dtype=np.float64, ndim=1, flags='C_CONTIGUOUS')\n",
    "# ]\n",
    "# model.initialize_constants_default.restype = ctypes.c_void_p\n",
    "\n",
    "# values = np.zeros(len(legend_states))\n",
    "# model.initialize_states_default(values)\n",
    "# legend_states['value'] = values\n",
    "\n",
    "# values = np.zeros(len(legend_constants))\n",
    "# model.initialize_constants_default(values)\n",
    "# legend_constants['value'] = values"
   ]
  },
  {
   "cell_type": "code",
   "execution_count": 4,
   "metadata": {},
   "outputs": [],
   "source": [
    "# legend_constants[['name', 'value', 'units', 'component']].to_csv(os.path.join(dirname, \"legend_constants.csv\"), index=False)\n",
    "# legend_states[['name', 'value', 'units', 'component']].to_csv(os.path.join(dirname, \"legend_states.csv\"), index=False)\n",
    "# legend_algebraic[['name', 'value', 'units', 'component']].to_csv(os.path.join(dirname, \"legend_algebraic.csv\"), index=False)"
   ]
  },
  {
   "cell_type": "code",
   "execution_count": 5,
   "metadata": {},
   "outputs": [],
   "source": [
    "S = legend_states.copy()\n",
    "C = legend_constants.copy()\n",
    "A = legend_algebraic.copy()"
   ]
  },
  {
   "cell_type": "code",
   "execution_count": 6,
   "metadata": {},
   "outputs": [],
   "source": [
    "# C = legend_constants.copy()\n",
    "# C = C.reset_index()\n",
    "# C[C['name'] == 'Vmax_SRCaP']"
   ]
  },
  {
   "cell_type": "code",
   "execution_count": 7,
   "metadata": {},
   "outputs": [],
   "source": [
    "C['stim_duration'] = 1\n",
    "C['amplitude'] = -60 # legend_constants['amplitude'] * 5"
   ]
  },
  {
   "cell_type": "code",
   "execution_count": 8,
   "metadata": {},
   "outputs": [
    {
     "data": {
      "text/plain": [
       "name\n",
       "Bmax_CaM         0.0240\n",
       "Bmax_SR          0.0171\n",
       "Bmax_TnChigh     0.1400\n",
       "Bmax_TnClow      0.0700\n",
       "Bmax_myosin      0.1400\n",
       "                  ...  \n",
       "IKur_scaler      1.0000\n",
       "IClCa_scaler     1.0000\n",
       "IClB_scaler      1.0000\n",
       "Jrel_scaler      1.0000\n",
       "Jserca_scaler    1.0000\n",
       "Name: value, Length: 154, dtype: float64"
      ]
     },
     "execution_count": 8,
     "metadata": {},
     "output_type": "execute_result"
    }
   ],
   "source": [
    "C"
   ]
  },
  {
   "cell_type": "code",
   "execution_count": 9,
   "metadata": {},
   "outputs": [],
   "source": [
    "t_sampling = 1\n",
    "\n",
    "C['stim_period'] = 1000\n",
    "stim_period = C['stim_period']\n",
    "n_samples_per_stim = int(stim_period / t_sampling)\n",
    "\n",
    "n_beats = 1\n",
    "tol = 1e-3\n",
    "\n",
    "output = np.zeros((n_samples_per_stim * n_beats + 1, len(S)))\n",
    "# output_A = np.zeros((n_samples_per_stim * n_beats + 1, len(A)))\n",
    "# t = np.zeros(n_samples_per_stim * n_beats + 1)"
   ]
  },
  {
   "cell_type": "code",
   "execution_count": 10,
   "metadata": {},
   "outputs": [
    {
     "name": "stdout",
     "output_type": "stream",
     "text": [
      "2\n"
     ]
    }
   ],
   "source": [
    "status = model.run(S.values.copy(), C.values.copy(),\n",
    "                   n_beats, t_sampling, tol, output)\n",
    "\n",
    "print(status)"
   ]
  },
  {
   "cell_type": "code",
   "execution_count": 11,
   "metadata": {},
   "outputs": [],
   "source": [
    "output = pd.DataFrame(output, columns=legend_states.index)\n",
    "# output_A = pd.DataFrame(output_A, columns=legend_algebraic.index)"
   ]
  },
  {
   "cell_type": "code",
   "execution_count": 12,
   "metadata": {},
   "outputs": [
    {
     "data": {
      "text/html": [
       "<div>\n",
       "<style scoped>\n",
       "    .dataframe tbody tr th:only-of-type {\n",
       "        vertical-align: middle;\n",
       "    }\n",
       "\n",
       "    .dataframe tbody tr th {\n",
       "        vertical-align: top;\n",
       "    }\n",
       "\n",
       "    .dataframe thead th {\n",
       "        text-align: right;\n",
       "    }\n",
       "</style>\n",
       "<table border=\"1\" class=\"dataframe\">\n",
       "  <thead>\n",
       "    <tr style=\"text-align: right;\">\n",
       "      <th>name</th>\n",
       "      <th>Na_i</th>\n",
       "      <th>K_i</th>\n",
       "      <th>V</th>\n",
       "      <th>Ca_i</th>\n",
       "    </tr>\n",
       "  </thead>\n",
       "  <tbody>\n",
       "    <tr>\n",
       "      <th>err_rel</th>\n",
       "      <td>-0.013135</td>\n",
       "      <td>0.0</td>\n",
       "      <td>0.109824</td>\n",
       "      <td>-1.304738</td>\n",
       "    </tr>\n",
       "    <tr>\n",
       "      <th>err_abs</th>\n",
       "      <td>-0.001202</td>\n",
       "      <td>0.0</td>\n",
       "      <td>-0.080648</td>\n",
       "      <td>-0.000003</td>\n",
       "    </tr>\n",
       "  </tbody>\n",
       "</table>\n",
       "</div>"
      ],
      "text/plain": [
       "name         Na_i  K_i         V      Ca_i\n",
       "err_rel -0.013135  0.0  0.109824 -1.304738\n",
       "err_abs -0.001202  0.0 -0.080648 -0.000003"
      ]
     },
     "execution_count": 12,
     "metadata": {},
     "output_type": "execute_result"
    }
   ],
   "source": [
    "err_abs = output.iloc[-1] - output.iloc[0]\n",
    "err_rel = err_abs / output.iloc[0] * 100\n",
    "\n",
    "items = ['Na_i', 'K_i', 'V', 'Ca_i']\n",
    "# items = ['Nai', 'Ki']\n",
    "\n",
    "df_err= pd.DataFrame([err_rel[items], err_abs[items]],\n",
    "                     index=['err_rel', 'err_abs'])\n",
    "df_err"
   ]
  },
  {
   "cell_type": "code",
   "execution_count": 13,
   "metadata": {},
   "outputs": [
    {
     "data": {
      "text/plain": [
       "[<matplotlib.lines.Line2D at 0x7f949fad2760>]"
      ]
     },
     "execution_count": 13,
     "metadata": {},
     "output_type": "execute_result"
    },
    {
     "data": {
      "image/png": "[encoded data removed]",
      "text/plain": [
       "<Figure size 432x288 with 1 Axes>"
      ]
     },
     "metadata": {
      "needs_background": "light"
     },
     "output_type": "display_data"
    }
   ],
   "source": [
    "plt.plot(output.V)"
   ]
  },
  {
   "cell_type": "code",
   "execution_count": 14,
   "metadata": {},
   "outputs": [],
   "source": [
    "atol = (output.abs().min() / 10).clip(lower=1e-6, upper=1e-3)\n",
    "atol = np.power(10, np.log10(atol).round())\n",
    "\n",
    "s = \"\"\n",
    "for i, name in enumerate(atol.index):\n",
    "    x = f'/*{name}*/ {atol[name]}, '\n",
    "    s += x\n",
    "    s += (20 - len(x)) * ' '\n",
    "    if i % 5 == 4:\n",
    "        s += '\\n'"
   ]
  },
  {
   "cell_type": "code",
   "execution_count": 15,
   "metadata": {},
   "outputs": [
    {
     "name": "stdout",
     "output_type": "stream",
     "text": [
      "/*CaM*/ 0.0001,     /*Myoc*/ 0.001,     /*Myom*/ 0.001,     /*SLH_jn*/ 0.001,   /*SLH_sl*/ 0.001,   \n",
      "/*SLL_jn*/ 0.001,   /*SLL_sl*/ 0.001,   /*SRB*/ 0.001,      /*TnCHc*/ 0.001,    /*TnCHm*/ 0.001,    \n",
      "/*TnCL*/ 0.001,     /*Ca_i*/ 1e-05,     /*Ca_jn*/ 0.0001,   /*Ca_sl*/ 1e-05,    /*NaB_jn*/ 0.001,   \n",
      "/*NaB_sl*/ 0.001,   /*Na_jn*/ 0.001,    /*Na_sl*/ 0.001,    /*Ca_sr*/ 0.001,    /*Csqn*/ 0.001,     \n",
      "/*V*/ 0.001,        /*d*/ 1e-06,        /*f*/ 0.001,        /*fCaB_jn*/ 0.001,  /*fCaB_sl*/ 0.001,  \n",
      "/*K_i*/ 0.001,      /*xr*/ 0.0001,      /*xs*/ 0.001,       /*Na_i*/ 0.001,     /*ikur_r*/ 0.0001,  \n",
      "/*s*/ 0.001,        /*h*/ 1e-06,        /*j*/ 1e-06,        /*m*/ 0.001,        /*hl*/ 0.001,       \n",
      "/*ml*/ 0.001,       /*x*/ 0.0001,       /*y*/ 0.001,        /*i*/ 1e-06,        /*o*/ 1e-06,        \n",
      "/*ryr_r*/ 0.001,    \n"
     ]
    }
   ],
   "source": [
    "print(s)"
   ]
  },
  {
   "cell_type": "markdown",
   "metadata": {},
   "source": [
    "# Syn"
   ]
  },
  {
   "cell_type": "code",
   "execution_count": 16,
   "metadata": {},
   "outputs": [],
   "source": [
    "from tqdm.auto import tqdm"
   ]
  },
  {
   "cell_type": "code",
   "execution_count": 17,
   "metadata": {},
   "outputs": [
    {
     "data": {
      "application/vnd.jupyter.widget-view+json": {
       "model_id": "272f12c2869443db8bead52d8dd42458",
       "version_major": 2,
       "version_minor": 0
      },
      "text/plain": [
       "  0%|          | 0/5 [00:00<?, ?it/s]"
      ]
     },
     "metadata": {},
     "output_type": "display_data"
    },
    {
     "name": "stdout",
     "output_type": "stream",
     "text": [
      "2\n",
      "2\n",
      "2\n",
      "2\n",
      "2\n"
     ]
    }
   ],
   "source": [
    "t_sampling = 1\n",
    "\n",
    "\n",
    "for stim_period in tqdm([2000, 1000, 666, 500, 250]):\n",
    "    \n",
    "    C['stim_period'] = stim_period\n",
    "    n_samples_per_stim = int(stim_period / t_sampling)\n",
    "\n",
    "    n_beats = 1000\n",
    "    tol = 1e-6\n",
    "\n",
    "    output = np.zeros((n_samples_per_stim * n_beats + 1, len(S)))\n",
    "    # output_A = np.zeros((n_samples_per_stim * n_beats + 1, len(A)))\n",
    "    # t = np.zeros(n_samples_per_stim * n_beats + 1)\n",
    "    \n",
    "    status = model.run(S.values.copy(), C.values.copy(),\n",
    "                   n_beats, t_sampling, tol, output)\n",
    "\n",
    "    print(status)\n",
    "    \n",
    "    output = pd.DataFrame(output, columns=legend_states.index)\n",
    "\n",
    "    phenotype = output[-stim_period - 1:][:1000]\n",
    "    state = phenotype.iloc[0]\n",
    "    \n",
    "    dirname = \"../data/grandi/syn/\"\n",
    "    \n",
    "    phenotype_filename = os.path.join(dirname, f'phenotypes/phenotype_{stim_period}.csv')\n",
    "    state_filename = os.path.join(dirname, f'states/state_{stim_period}.txt')\n",
    "    \n",
    "    phenotype.to_csv(phenotype_filename, index=False)\n",
    "    np.savetxt(state_filename, state)"
   ]
  },
  {
   "cell_type": "code",
   "execution_count": 18,
   "metadata": {},
   "outputs": [
    {
     "data": {
      "application/vnd.jupyter.widget-view+json": {
       "model_id": "518ebbbf84c6493aa3fa44a9f3835e8f",
       "version_major": 2,
       "version_minor": 0
      },
      "text/plain": [
       "  0%|          | 0/4 [00:00<?, ?it/s]"
      ]
     },
     "metadata": {},
     "output_type": "display_data"
    },
    {
     "name": "stdout",
     "output_type": "stream",
     "text": [
      "Na_i       8.204268\n",
      "K_i      120.000000\n",
      "Ca_sr      0.491100\n",
      "Name: 999, dtype: float64\n",
      "Na_i       9.044205\n",
      "K_i      120.000000\n",
      "Ca_sr      0.504233\n",
      "Name: 999, dtype: float64\n",
      "Na_i       9.750955\n",
      "K_i      120.000000\n",
      "Ca_sr      0.510657\n",
      "Name: 666, dtype: float64\n",
      "Na_i      10.327211\n",
      "K_i      120.000000\n",
      "Ca_sr      0.518488\n",
      "Name: 500, dtype: float64\n"
     ]
    },
    {
     "data": {
      "image/png": "[encoded data removed]",
      "text/plain": [
       "<Figure size 288x432 with 2 Axes>"
      ]
     },
     "metadata": {
      "needs_background": "light"
     },
     "output_type": "display_data"
    }
   ],
   "source": [
    "fig, axes = plt.subplots(nrows=2, figsize=plt.figaspect(1.5))\n",
    "\n",
    "for stim_period in tqdm([2000, 1000, 666, 500]):\n",
    "    \n",
    "    dirname = \"../data/grandi/syn/\"\n",
    "    phenotype_filename = os.path.join(dirname, f'phenotypes/phenotype_{stim_period}.csv')\n",
    "    df = pd.read_csv(phenotype_filename)\n",
    "    \n",
    "    axes[0].plot(df.V)\n",
    "    axes[1].plot(df.Ca_i)\n",
    "    \n",
    "    print(df.iloc[-1][['Na_i', 'K_i', 'Ca_sr']])"
   ]
  },
  {
   "cell_type": "code",
   "execution_count": null,
   "metadata": {},
   "outputs": [],
   "source": []
  }
 ],
 "metadata": {
  "kernelspec": {
   "display_name": "py3.8_hpl",
   "language": "python",
   "name": "py3.8_hpl"
  },
  "language_info": {
   "codemirror_mode": {
    "name": "ipython",
    "version": 3
   },
   "file_extension": ".py",
   "mimetype": "text/x-python",
   "name": "python",
   "nbconvert_exporter": "python",
   "pygments_lexer": "ipython3",
   "version": "3.8.6"
  }
 },
 "nbformat": 4,
 "nbformat_minor": 4
}
