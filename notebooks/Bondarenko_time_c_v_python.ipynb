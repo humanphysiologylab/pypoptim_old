{
 "cells": [
  {
   "cell_type": "code",
   "execution_count": 36,
   "id": "f37fd271-c992-4b9d-9266-e582d24e9267",
   "metadata": {},
   "outputs": [],
   "source": [
    "import numpy as np\n",
    "import pandas as pd\n",
    "\n",
    "import matplotlib.pyplot as plt\n",
    "import matplotlib\n",
    "matplotlib.rcParams['figure.facecolor'] = 'white'\n",
    "matplotlib.rcParams['savefig.dpi'] = 300\n",
    "from matplotlib import cm\n",
    "from scipy.integrate import solve_ivp\n",
    "\n",
    "\n",
    "import seaborn as sns\n",
    "\n",
    "from tqdm.auto import tqdm\n",
    "\n",
    "import os\n",
    "import ctypes\n",
    "import gc"
   ]
  },
  {
   "cell_type": "code",
   "execution_count": 37,
   "id": "c9514803-f993-4385-9616-008ebf9212fc",
   "metadata": {},
   "outputs": [
    {
     "data": {
      "text/plain": [
       "<function scipy.integrate._ivp.ivp.solve_ivp(fun, t_span, y0, method='RK45', t_eval=None, dense_output=False, events=None, vectorized=False, args=None, **options)>"
      ]
     },
     "execution_count": 37,
     "metadata": {},
     "output_type": "execute_result"
    }
   ],
   "source": [
    "solve_ivp"
   ]
  },
  {
   "cell_type": "code",
   "execution_count": 38,
   "id": "92f0cb84-aeae-4c44-8187-4ba971bebca1",
   "metadata": {},
   "outputs": [],
   "source": [
    "#  https://stackoverflow.com/a/37664693/13213091\n",
    "def wrapped_ndptr(*args, **kwargs):\n",
    "    base = np.ctypeslib.ndpointer(*args, **kwargs)\n",
    "    def from_param(cls, obj):\n",
    "        if obj is None:\n",
    "            return obj\n",
    "        return base.from_param(obj)\n",
    "    return type(base.__name__, (base,), {'from_param': classmethod(from_param)})\n",
    "DoubleArrayType_1D = wrapped_ndptr(dtype=np.float64, ndim=1, flags='C_CONTIGUOUS')\n",
    "DoubleArrayType_2D = wrapped_ndptr(dtype=np.float64, ndim=2, flags='C_CONTIGUOUS')"
   ]
  },
  {
   "cell_type": "code",
   "execution_count": 39,
   "id": "130bf942-819d-4d5a-ba79-b66de379cce6",
   "metadata": {},
   "outputs": [],
   "source": [
    "dirname = '../src/model_ctypes/_bondarenko'\n",
    "filename_so = os.path.join(dirname, 'model.so')\n",
    "\n",
    "filename_so_abs = os.path.abspath(filename_so)\n",
    "\n",
    "model = ctypes.CDLL(filename_so_abs)\n",
    "\n",
    "model.run.argtypes = [\n",
    "    np.ctypeslib.ndpointer(dtype=np.float64, ndim=1, flags='C_CONTIGUOUS'), # double *S\n",
    "    np.ctypeslib.ndpointer(dtype=np.float64, ndim=1, flags='C_CONTIGUOUS'), # double *C\n",
    "    ctypes.c_int, # int n_beats\n",
    "    ctypes.c_double, # double t_sampling\n",
    "    ctypes.c_double, # double tol\n",
    "    np.ctypeslib.ndpointer(dtype=np.float64, ndim=2, flags='C_CONTIGUOUS'), # double *output\n",
    "    \n",
    "    DoubleArrayType_2D, #np.ctypeslib.ndpointer(dtype=np.float64, ndim=2, flags='C_CONTIGUOUS'), # double *output_A\n",
    "    DoubleArrayType_1D, #np.ctypeslib.ndpointer(dtype=np.float64, ndim=1, flags='C_CONTIGUOUS') # double *output_t\n",
    "    DoubleArrayType_1D, # double *stim_protocol\n",
    "]\n",
    "\n",
    "model.run.restype = ctypes.c_int\n",
    "\n",
    "model.fun.argtypes = [\n",
    "    ctypes.c_double,\n",
    "    np.ctypeslib.ndpointer(dtype=np.float64, ndim=1, flags='C_CONTIGUOUS'),\n",
    "    np.ctypeslib.ndpointer(dtype=np.float64, ndim=1, flags='C_CONTIGUOUS'),\n",
    "    np.ctypeslib.ndpointer(dtype=np.float64, ndim=1, flags='C_CONTIGUOUS'),\n",
    "    np.ctypeslib.ndpointer(dtype=np.float64, ndim=1, flags='C_CONTIGUOUS')\n",
    "]\n",
    "\n",
    "def run(S, C, n_beats, t_sampling, tol, output, *,\n",
    "        output_A=None, t=None, stim_protocol=None):\n",
    "    \n",
    "    return model.run(S, C, n_beats, t_sampling, tol, output, output_A, t, stim_protocol)\n",
    "\n",
    "\n",
    "legend_constants = pd.read_csv(os.path.join(dirname, \"legend_constants.csv\"), index_col='name')['value']\n",
    "legend_states = pd.read_csv(os.path.join(dirname, \"legend_states.csv\"), index_col='name')['value']\n",
    "# legend_algebraic = pd.read_csv(os.path.join(dirname, \"legend_algebraic.csv\"), index_col='name')\n",
    "# legend_algebraic['value'] = 0.0\n",
    "# legend_algebraic = legend_algebraic['value']\n",
    "\n",
    "# model.initialize_states_default(legend_states.values, legend_constants.values)\n",
    "# legend_states.to_csv(os.path.join(dirname, \"legend_states.csv\"))"
   ]
  },
  {
   "cell_type": "code",
   "execution_count": 40,
   "id": "a9da4d04-bac9-4092-b085-784b1288f08e",
   "metadata": {},
   "outputs": [],
   "source": [
    "S = legend_states.copy()\n",
    "C = legend_constants.copy()\n",
    "A = np.zeros(6)"
   ]
  },
  {
   "cell_type": "code",
   "execution_count": 41,
   "id": "088b0485-13df-443c-8f5f-cc81241e3651",
   "metadata": {},
   "outputs": [
    {
     "data": {
      "text/plain": [
       "array([0., 0., 0., 0., 0., 0.])"
      ]
     },
     "execution_count": 41,
     "metadata": {},
     "output_type": "execute_result"
    }
   ],
   "source": [
    "A"
   ]
  },
  {
   "cell_type": "code",
   "execution_count": 42,
   "id": "5683d461-ab30-4c8f-878c-27bb93349325",
   "metadata": {},
   "outputs": [],
   "source": [
    "ydot = np.zeros_like(S)\n",
    "y = S.values.copy()\n",
    "params = C.values.copy()\n",
    "t = 0.42"
   ]
  },
  {
   "cell_type": "code",
   "execution_count": 43,
   "id": "3df2b230-b4db-405b-aa93-8029c82222eb",
   "metadata": {},
   "outputs": [
    {
     "name": "stdout",
     "output_type": "stream",
     "text": [
      "14.5 µs ± 47.1 ns per loop (mean ± std. dev. of 7 runs, 100000 loops each)\n"
     ]
    }
   ],
   "source": [
    "%%timeit\n",
    "model.fun(t, y, ydot, A, params)"
   ]
  },
  {
   "cell_type": "code",
   "execution_count": 49,
   "id": "2f8eccd8-ce08-4108-af9c-06f345cd32b8",
   "metadata": {},
   "outputs": [],
   "source": [
    "def fun(t, y, params):\n",
    "    ydot = np.zeros_like(y)\n",
    "    model.fun(t, y, ydot, A, params)\n",
    "    # ydot[[7, 16, 19, 118]] = 0  # these are stiff guys\n",
    "    return ydot"
   ]
  },
  {
   "cell_type": "code",
   "execution_count": 45,
   "id": "477a5aa0-4388-454b-aa4d-5a794bd93073",
   "metadata": {},
   "outputs": [],
   "source": [
    "CL = 250\n",
    "\n",
    "C['CL'] = CL\n",
    "n_beats = 1\n",
    "stim_period = CL\n",
    "t_sampling = 1.\n",
    "\n",
    "t_space = np.linspace(0, stim_period * n_beats, int(stim_period / t_sampling) * n_beats + 1, endpoint=True)\n",
    "t_span = 0, t_space[-1]"
   ]
  },
  {
   "cell_type": "code",
   "execution_count": 52,
   "id": "205dcf52-3898-4259-89c0-a9394e863588",
   "metadata": {},
   "outputs": [
    {
     "name": "stdout",
     "output_type": "stream",
     "text": [
      "422 ms ± 9.89 ms per loop (mean ± std. dev. of 7 runs, 1 loop each)\n"
     ]
    }
   ],
   "source": [
    "%%timeit\n",
    "sol = solve_ivp(fun, y0=S,\n",
    "                t_span=t_span,# t_eval=t_space,\n",
    "                args=(C.values.copy(),),\n",
    "                method = 'LSODA', # atol=atol, # rtol=1e-3,\n",
    "                #max_step=1. * t_sampling,\n",
    "                )"
   ]
  }
 ],
 "metadata": {
  "kernelspec": {
   "display_name": "Python 3",
   "language": "python",
   "name": "python3"
  },
  "language_info": {
   "codemirror_mode": {
    "name": "ipython",
    "version": 3
   },
   "file_extension": ".py",
   "mimetype": "text/x-python",
   "name": "python",
   "nbconvert_exporter": "python",
   "pygments_lexer": "ipython3",
   "version": "3.8.8"
  }
 },
 "nbformat": 4,
 "nbformat_minor": 5
}
