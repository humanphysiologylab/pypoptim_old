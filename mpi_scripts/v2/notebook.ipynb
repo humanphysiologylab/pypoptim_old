{
 "cells": [
  {
   "cell_type": "code",
   "execution_count": 1,
   "id": "98119153",
   "metadata": {},
   "outputs": [],
   "source": [
    "import os\n",
    "import pandas as pd\n",
    "import numpy as np\n",
    "\n",
    "import matplotlib.pyplot as plt"
   ]
  },
  {
   "cell_type": "markdown",
   "id": "bf4bc7e1",
   "metadata": {},
   "source": [
    "# Create model"
   ]
  },
  {
   "cell_type": "code",
   "execution_count": 2,
   "id": "35cf584c",
   "metadata": {},
   "outputs": [],
   "source": [
    "from pypoptim.model import CardiacModel"
   ]
  },
  {
   "cell_type": "code",
   "execution_count": 3,
   "id": "8e998618",
   "metadata": {},
   "outputs": [],
   "source": [
    "dirname = '/home/andrey/WORK/HPL/Code/pypoptim/src/model_ctypes/_koivumaki'\n",
    "filename_so = os.path.join(dirname, 'koivumaki.so')\n",
    "\n",
    "koivumaki = CardiacModel(filename_so)"
   ]
  },
  {
   "cell_type": "markdown",
   "id": "6040cbe6",
   "metadata": {},
   "source": [
    "# Parse config"
   ]
  },
  {
   "cell_type": "code",
   "execution_count": 4,
   "id": "85888062",
   "metadata": {},
   "outputs": [],
   "source": [
    "from pypoptim.helpers import strip_comments, random_value_from_bounds\n",
    "import json"
   ]
  },
  {
   "cell_type": "code",
   "execution_count": 5,
   "id": "68e1564a",
   "metadata": {},
   "outputs": [],
   "source": [
    "from gene_utils import create_genes_dict_from_config, \\\n",
    "                       create_constants_dict_from_config, \\\n",
    "                       generate_bounds_gammas_mask_multipliers\n",
    "\n",
    "from io_utils import prepare_config"
   ]
  },
  {
   "cell_type": "code",
   "execution_count": 6,
   "id": "828950bd",
   "metadata": {},
   "outputs": [],
   "source": [
    "config_filename = \"../../configs/koivumaki/10kHz_gKb/config_G2C1_test.json\"\n",
    "\n",
    "config = prepare_config(config_filename)"
   ]
  },
  {
   "cell_type": "code",
   "execution_count": 7,
   "id": "4d0a9065",
   "metadata": {},
   "outputs": [],
   "source": [
    "genes_dict = create_genes_dict_from_config(config)\n",
    "state = config['runtime']['states_initial']\n",
    "genes_m_index = config['runtime']['m_index']\n",
    "    \n",
    "genes = [random_value_from_bounds(gene_params['bounds'], log_scale=gene_params['is_multiplier'])\n",
    "         if gene_name not in state.index else state[exp_cond_name][gene_name]\n",
    "         for exp_cond_name, exp_cond in genes_dict.items() for gene_name, gene_params in exp_cond.items()]\n",
    "\n",
    "genes = pd.Series(data=genes, index=genes_m_index)\n",
    "genes['common'] = 1."
   ]
  },
  {
   "cell_type": "code",
   "execution_count": 8,
   "id": "0e80f57b",
   "metadata": {},
   "outputs": [],
   "source": [
    "from gene_utils import update_S_C_from_genes, \\\n",
    "                       update_genes_from_state\n",
    "\n",
    "from model_utils import calculate_n_samples_per_stim"
   ]
  },
  {
   "cell_type": "code",
   "execution_count": 9,
   "id": "0777186a",
   "metadata": {},
   "outputs": [],
   "source": [
    "model = CardiacModel(filename_so)"
   ]
  },
  {
   "cell_type": "code",
   "execution_count": 10,
   "id": "54e0f085",
   "metadata": {},
   "outputs": [],
   "source": [
    "from solmodel import SolModel, calculate_loss\n",
    "\n",
    "SolModel.model = model\n",
    "SolModel.config = config"
   ]
  },
  {
   "cell_type": "code",
   "execution_count": 11,
   "id": "2de314ea",
   "metadata": {},
   "outputs": [
    {
     "data": {
      "text/plain": [
       "ec_name  g_name         \n",
       "common   STIM_LEVEL           1.000000\n",
       "         PNa                  1.000000\n",
       "         gCaL                 1.000000\n",
       "         gt                   1.000000\n",
       "         gKur                 1.000000\n",
       "         gK1                  1.000000\n",
       "         gKr                  1.000000\n",
       "         gKs                  1.000000\n",
       "         INaKmax              1.000000\n",
       "         ICaPmax              1.000000\n",
       "         gIf                  1.000000\n",
       "         kNaCa                1.000000\n",
       "         Jrel_multiplier      1.000000\n",
       "         cpumps               1.000000\n",
       "         kSRleak              1.000000\n",
       "         fluo_tot             1.000000\n",
       "         gNab                 1.000000\n",
       "         gCab                 1.000000\n",
       "         gKb                  1.000000\n",
       "2064     Nai                  8.771444\n",
       "         Ki                 135.500175\n",
       "         CaSR                 0.720163\n",
       "1032     Nai                 10.319751\n",
       "         Ki                 134.276020\n",
       "         CaSR                 0.740165\n",
       "516      Nai                 13.309832\n",
       "         Ki                 131.807066\n",
       "         CaSR                 0.837251\n",
       "344      Nai                 13.309832\n",
       "         Ki                 131.807066\n",
       "         CaSR                 0.837251\n",
       "258      Nai                 13.309832\n",
       "         Ki                 131.807066\n",
       "         CaSR                 0.837251\n",
       "dtype: float64"
      ]
     },
     "execution_count": 11,
     "metadata": {},
     "output_type": "execute_result"
    }
   ],
   "source": [
    "genes"
   ]
  },
  {
   "cell_type": "code",
   "execution_count": 13,
   "id": "8d2c326c",
   "metadata": {},
   "outputs": [],
   "source": [
    "x0 = genes.values.copy()\n",
    "x0[1] = 1\n",
    "sol = SolModel(x0, state=state.copy())"
   ]
  },
  {
   "cell_type": "code",
   "execution_count": 14,
   "id": "134c5ba9",
   "metadata": {},
   "outputs": [
    {
     "data": {
      "text/plain": [
       "113.35109176304917"
      ]
     },
     "execution_count": 14,
     "metadata": {},
     "output_type": "execute_result"
    }
   ],
   "source": [
    "sol.update()\n",
    "sol.y"
   ]
  },
  {
   "cell_type": "code",
   "execution_count": 15,
   "id": "a64327d1",
   "metadata": {},
   "outputs": [
    {
     "data": {
      "text/plain": [
       "2"
      ]
     },
     "execution_count": 15,
     "metadata": {},
     "output_type": "execute_result"
    }
   ],
   "source": [
    "sol['status']"
   ]
  },
  {
   "cell_type": "code",
   "execution_count": 16,
   "id": "c5438290",
   "metadata": {},
   "outputs": [
    {
     "data": {
      "text/plain": [
       "True"
      ]
     },
     "execution_count": 16,
     "metadata": {},
     "output_type": "execute_result"
    }
   ],
   "source": [
    "sol.is_valid()"
   ]
  },
  {
   "cell_type": "code",
   "execution_count": 17,
   "id": "87a012a7",
   "metadata": {},
   "outputs": [
    {
     "data": {
      "text/plain": [
       "[<matplotlib.lines.Line2D at 0x7f6676e8dee0>]"
      ]
     },
     "execution_count": 17,
     "metadata": {},
     "output_type": "execute_result"
    },
    {
     "data": {
      "image/png": "[encoded data removed]",
      "text/plain": [
       "<Figure size 432x288 with 1 Axes>"
      ]
     },
     "metadata": {
      "needs_background": "light"
     },
     "output_type": "display_data"
    }
   ],
   "source": [
    "plt.plot(sol['phenotype']['1032'].V)\n",
    "plt.plot(config['experimental_conditions']['1032']['phenotype'].V)"
   ]
  },
  {
   "cell_type": "code",
   "execution_count": 18,
   "id": "6ab74f16",
   "metadata": {},
   "outputs": [],
   "source": [
    "from pypoptim.algorythm.ga import GA"
   ]
  },
  {
   "cell_type": "code",
   "execution_count": 19,
   "id": "af4465fd",
   "metadata": {},
   "outputs": [],
   "source": [
    "bounds = config['runtime']['bounds']\n",
    "gammas = config['runtime']['gammas']\n",
    "mask_multipliers = config['runtime']['mask_multipliers']"
   ]
  },
  {
   "cell_type": "code",
   "execution_count": 20,
   "id": "025dc205",
   "metadata": {},
   "outputs": [],
   "source": [
    "ga_optim = GA(SolModel, bounds, gammas, mask_multipliers,\n",
    "              keys_data_transmit=['state'])"
   ]
  },
  {
   "cell_type": "code",
   "execution_count": 30,
   "id": "aec8b2ea",
   "metadata": {},
   "outputs": [],
   "source": [
    "population = ga_optim.generate_population(1)\n",
    "for sol in population:\n",
    "    sol['state'] = state.copy()"
   ]
  },
  {
   "cell_type": "code",
   "execution_count": 31,
   "id": "cb971939",
   "metadata": {},
   "outputs": [],
   "source": [
    "sol.update()"
   ]
  },
  {
   "cell_type": "code",
   "execution_count": 32,
   "id": "2b7d99b8",
   "metadata": {},
   "outputs": [],
   "source": [
    "ga_optim.update_population(population)"
   ]
  },
  {
   "cell_type": "code",
   "execution_count": 33,
   "id": "edcb4037",
   "metadata": {},
   "outputs": [
    {
     "data": {
      "text/plain": [
       "1"
      ]
     },
     "execution_count": 33,
     "metadata": {},
     "output_type": "execute_result"
    }
   ],
   "source": [
    "len(population)"
   ]
  },
  {
   "cell_type": "code",
   "execution_count": 34,
   "id": "8bc7747f",
   "metadata": {},
   "outputs": [],
   "source": [
    "population[0].x[0] = 1"
   ]
  },
  {
   "cell_type": "code",
   "execution_count": 35,
   "id": "b7f18e1c",
   "metadata": {},
   "outputs": [
    {
     "data": {
      "text/plain": [
       "True"
      ]
     },
     "execution_count": 35,
     "metadata": {},
     "output_type": "execute_result"
    }
   ],
   "source": [
    "ga_optim._is_solution_inside_bounds(population[0])"
   ]
  },
  {
   "cell_type": "code",
   "execution_count": 37,
   "id": "1d6af844",
   "metadata": {},
   "outputs": [
    {
     "data": {
      "text/plain": [
       "True"
      ]
     },
     "execution_count": 37,
     "metadata": {},
     "output_type": "execute_result"
    }
   ],
   "source": [
    "ga_optim._is_solution_inside_bounds(sol)"
   ]
  },
  {
   "cell_type": "code",
   "execution_count": 38,
   "id": "ae7c8fb8",
   "metadata": {},
   "outputs": [
    {
     "data": {
      "text/plain": [
       "1"
      ]
     },
     "execution_count": 38,
     "metadata": {},
     "output_type": "execute_result"
    }
   ],
   "source": [
    "population = ga_optim.filter_population(population)\n",
    "len(population)"
   ]
  },
  {
   "cell_type": "code",
   "execution_count": 39,
   "id": "8697e2d3",
   "metadata": {},
   "outputs": [],
   "source": [
    "from tqdm.auto import tqdm"
   ]
  },
  {
   "cell_type": "code",
   "execution_count": 40,
   "id": "81e7c606",
   "metadata": {},
   "outputs": [
    {
     "data": {
      "application/vnd.jupyter.widget-view+json": {
       "model_id": "f5ee0af8d93e4ad59f6ed4c719be8896",
       "version_major": 2,
       "version_minor": 0
      },
      "text/plain": [
       "  0%|          | 0/10 [00:00<?, ?it/s]"
      ]
     },
     "metadata": {},
     "output_type": "display_data"
    }
   ],
   "source": [
    "n_solutions = 5\n",
    "n_elites = 1\n",
    "n_epochs = 10\n",
    "\n",
    "population = ga_optim.generate_population(n_solutions)\n",
    "\n",
    "for sol in population:\n",
    "    sol['state'] = state.copy()\n",
    "\n",
    "loss = []\n",
    "\n",
    "for i in tqdm(range(n_epochs)):\n",
    "\n",
    "    for sol in population:\n",
    "        sol.update()\n",
    "        \n",
    "    population = ga_optim.filter_population(population)\n",
    "\n",
    "    loss.append(min(population).y)\n",
    "    \n",
    "    elites  = ga_optim.get_elites(population, n_elites)\n",
    "    mutants = ga_optim.get_mutants(population, n_solutions - n_elites)\n",
    "    \n",
    "    population = elites + mutants"
   ]
  },
  {
   "cell_type": "code",
   "execution_count": 41,
   "id": "c70b6540",
   "metadata": {},
   "outputs": [
    {
     "name": "stdout",
     "output_type": "stream",
     "text": [
      "61.68604818323564\n",
      "None\n",
      "None\n",
      "None\n",
      "None\n"
     ]
    }
   ],
   "source": [
    "for sol in population:\n",
    "    print(sol.y)"
   ]
  },
  {
   "cell_type": "code",
   "execution_count": 42,
   "id": "1498722d",
   "metadata": {},
   "outputs": [
    {
     "data": {
      "text/plain": [
       "5"
      ]
     },
     "execution_count": 42,
     "metadata": {},
     "output_type": "execute_result"
    }
   ],
   "source": [
    "len(population)"
   ]
  },
  {
   "cell_type": "code",
   "execution_count": 43,
   "id": "46e0bf43",
   "metadata": {},
   "outputs": [
    {
     "data": {
      "text/plain": [
       "[<matplotlib.lines.Line2D at 0x7f6675fc6d90>]"
      ]
     },
     "execution_count": 43,
     "metadata": {},
     "output_type": "execute_result"
    },
    {
     "data": {
      "image/png": "[encoded data removed]",
      "text/plain": [
       "<Figure size 432x288 with 1 Axes>"
      ]
     },
     "metadata": {
      "needs_background": "light"
     },
     "output_type": "display_data"
    }
   ],
   "source": [
    "plt.semilogy(loss)"
   ]
  },
  {
   "cell_type": "code",
   "execution_count": 44,
   "id": "1144f853",
   "metadata": {},
   "outputs": [],
   "source": [
    "ga_optim.update_population(population)"
   ]
  },
  {
   "cell_type": "code",
   "execution_count": 45,
   "id": "5f4ea91e",
   "metadata": {},
   "outputs": [
    {
     "data": {
      "text/plain": [
       "[<matplotlib.lines.Line2D at 0x7f6676244a00>]"
      ]
     },
     "execution_count": 45,
     "metadata": {},
     "output_type": "execute_result"
    },
    {
     "data": {
      "image/png": "[encoded data removed]",
      "text/plain": [
       "<Figure size 432x288 with 1 Axes>"
      ]
     },
     "metadata": {
      "needs_background": "light"
     },
     "output_type": "display_data"
    }
   ],
   "source": [
    "plt.plot(min(population)['phenotype']['1032'].V)"
   ]
  },
  {
   "cell_type": "code",
   "execution_count": null,
   "id": "532f2611",
   "metadata": {},
   "outputs": [],
   "source": []
  }
 ],
 "metadata": {
  "kernelspec": {
   "display_name": "pypoptim",
   "language": "python",
   "name": "pypoptim"
  },
  "language_info": {
   "codemirror_mode": {
    "name": "ipython",
    "version": 3
   },
   "file_extension": ".py",
   "mimetype": "text/x-python",
   "name": "python",
   "nbconvert_exporter": "python",
   "pygments_lexer": "ipython3",
   "version": "3.8.10"
  }
 },
 "nbformat": 4,
 "nbformat_minor": 5
}
