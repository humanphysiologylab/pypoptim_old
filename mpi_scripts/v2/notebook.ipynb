{
 "cells": [
  {
   "cell_type": "code",
   "execution_count": 1,
   "id": "fda927b8",
   "metadata": {},
   "outputs": [],
   "source": [
    "import matplotlib.pyplot as plt\n",
    "\n",
    "from mpi_script import mpi_script\n",
    "from io_utils import collect_results"
   ]
  },
  {
   "cell_type": "code",
   "execution_count": 2,
   "id": "99ba4ffe",
   "metadata": {},
   "outputs": [
    {
     "name": "stdout",
     "output_type": "stream",
     "text": [
      "# commit: b1131b79387de84210b1b28e9f36273b6cee5624\n",
      "# size: 1\n",
      "# folder: /home/andrey/WORK/HPL/Code/pypoptim/results/test/210705_172738\n"
     ]
    },
    {
     "data": {
      "application/vnd.jupyter.widget-view+json": {
       "model_id": "24051973aeca49de8a6fed288d19c8c0",
       "version_major": 2,
       "version_minor": 0
      },
      "text/plain": [
       "  0%|          | 0/5 [00:00<?, ?it/s]"
      ]
     },
     "metadata": {},
     "output_type": "display_data"
    }
   ],
   "source": [
    "config_filename = \"../../configs/koivumaki/10kHz_gKb/config_G2C1_test.json\"\n",
    "mpi_script(config_filename)"
   ]
  },
  {
   "cell_type": "code",
   "execution_count": 3,
   "id": "965c250f",
   "metadata": {},
   "outputs": [],
   "source": [
    "case = '210705_172738'\n",
    "dirname_results = '/home/andrey/WORK/HPL/Code/pypoptim/results/test'\n",
    "result = collect_results(case, dirname_results)"
   ]
  },
  {
   "cell_type": "code",
   "execution_count": 4,
   "id": "6eb4d157",
   "metadata": {},
   "outputs": [
    {
     "data": {
      "text/plain": [
       "ec_name  g_name    \n",
       "common   STIM_LEVEL      0.620136\n",
       "         PNa             1.378779\n",
       "         gCaL            1.520052\n",
       "2064     Nai             8.504437\n",
       "         Ki            112.890808\n",
       "         CaSR            1.494931\n",
       "1032     Nai             9.093962\n",
       "         Ki            156.637339\n",
       "         CaSR            1.482839\n",
       "516      Nai             7.564418\n",
       "         Ki            126.084927\n",
       "         CaSR            1.607007\n",
       "344      Nai            15.381557\n",
       "         Ki            134.691565\n",
       "         CaSR            2.815214\n",
       "258      Nai            10.348445\n",
       "         Ki            118.719699\n",
       "         CaSR            4.772328\n",
       "Name: 0, dtype: float64"
      ]
     },
     "execution_count": 4,
     "metadata": {},
     "output_type": "execute_result"
    }
   ],
   "source": [
    "result['sol_best']"
   ]
  },
  {
   "cell_type": "code",
   "execution_count": 5,
   "id": "90045d09",
   "metadata": {},
   "outputs": [
    {
     "data": {
      "text/plain": [
       "[<matplotlib.lines.Line2D at 0x7f57be7878e0>]"
      ]
     },
     "execution_count": 5,
     "metadata": {},
     "output_type": "execute_result"
    },
    {
     "data": {
      "image/png": "[encoded data removed]",
      "text/plain": [
       "<Figure size 432x288 with 1 Axes>"
      ]
     },
     "metadata": {
      "needs_background": "light"
     },
     "output_type": "display_data"
    }
   ],
   "source": [
    "loss = result['dump']['best']['loss']\n",
    "plt.plot(loss, '.-')"
   ]
  },
  {
   "cell_type": "code",
   "execution_count": 6,
   "id": "b6531368",
   "metadata": {},
   "outputs": [
    {
     "data": {
      "text/plain": [
       "[<matplotlib.lines.Line2D at 0x7f57be829f70>]"
      ]
     },
     "execution_count": 6,
     "metadata": {},
     "output_type": "execute_result"
    },
    {
     "data": {
      "image/png": "[encoded data removed]",
      "text/plain": [
       "<Figure size 432x288 with 1 Axes>"
      ]
     },
     "metadata": {
      "needs_background": "light"
     },
     "output_type": "display_data"
    }
   ],
   "source": [
    "df = result['phenotype_best']['1032']\n",
    "plt.plot(df.V)"
   ]
  },
  {
   "cell_type": "code",
   "execution_count": null,
   "id": "5183eecf",
   "metadata": {},
   "outputs": [],
   "source": []
  }
 ],
 "metadata": {
  "kernelspec": {
   "display_name": "pypoptim",
   "language": "python",
   "name": "pypoptim"
  },
  "language_info": {
   "codemirror_mode": {
    "name": "ipython",
    "version": 3
   },
   "file_extension": ".py",
   "mimetype": "text/x-python",
   "name": "python",
   "nbconvert_exporter": "python",
   "pygments_lexer": "ipython3",
   "version": "3.8.10"
  }
 },
 "nbformat": 4,
 "nbformat_minor": 5
}
