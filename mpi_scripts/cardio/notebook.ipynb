{
 "cells": [
  {
   "cell_type": "code",
   "execution_count": 11,
   "id": "ae1a0f3d",
   "metadata": {},
   "outputs": [],
   "source": [
    "import matplotlib.pyplot as plt\n",
    "\n",
    "from mpi_script import mpi_script\n",
    "from io_utils import collect_results"
   ]
  },
  {
   "cell_type": "code",
   "execution_count": 12,
   "id": "ac4d860e",
   "metadata": {},
   "outputs": [
    {
     "name": "stdout",
     "output_type": "stream",
     "text": [
      "# commit: bd2d899764e0b1fa3741d5f61ab1591ff0f67921\n",
      "# size: 1\n",
      "# folder: /home/andrey/WORK/HPL/Code/pypoptim/results/test/210705_202055\n"
     ]
    },
    {
     "data": {
      "application/vnd.jupyter.widget-view+json": {
       "model_id": "44d9d9b8afbe48e09d4ddc49338fbe8b",
       "version_major": 2,
       "version_minor": 0
      },
      "text/plain": [
       "  0%|          | 0/5 [00:00<?, ?it/s]"
      ]
     },
     "metadata": {},
     "output_type": "display_data"
    }
   ],
   "source": [
    "config_filename = \"./configs/config_G2C1_test.json\"\n",
    "mpi_script(config_filename)"
   ]
  },
  {
   "cell_type": "code",
   "execution_count": 13,
   "id": "0f8561ab",
   "metadata": {},
   "outputs": [],
   "source": [
    "case = '210705_202055'\n",
    "dirname_results = '/home/andrey/WORK/HPL/Code/pypoptim/results/test'\n",
    "result = collect_results(case, dirname_results)"
   ]
  },
  {
   "cell_type": "code",
   "execution_count": 14,
   "id": "694db3bd",
   "metadata": {},
   "outputs": [
    {
     "data": {
      "text/plain": [
       "ec_name  g_name    \n",
       "common   STIM_LEVEL      0.434964\n",
       "         PNa             6.509436\n",
       "         gCaL            4.062831\n",
       "2064     Nai            13.192310\n",
       "         Ki            112.730192\n",
       "         CaSR            1.537998\n",
       "1032     Nai             8.753199\n",
       "         Ki            104.120285\n",
       "         CaSR            1.541935\n",
       "516      Nai             6.406367\n",
       "         Ki            152.379473\n",
       "         CaSR            1.772945\n",
       "344      Nai             7.050619\n",
       "         Ki            106.764343\n",
       "         CaSR            3.568909\n",
       "258      Nai             5.429111\n",
       "         Ki            104.488685\n",
       "         CaSR            4.601328\n",
       "Name: 0, dtype: float64"
      ]
     },
     "execution_count": 14,
     "metadata": {},
     "output_type": "execute_result"
    }
   ],
   "source": [
    "result['sol_best']"
   ]
  },
  {
   "cell_type": "code",
   "execution_count": 15,
   "id": "cbc826be",
   "metadata": {},
   "outputs": [
    {
     "data": {
      "text/plain": [
       "[<matplotlib.lines.Line2D at 0x7f57becfbdc0>]"
      ]
     },
     "execution_count": 15,
     "metadata": {},
     "output_type": "execute_result"
    },
    {
     "data": {
      "image/png": "[encoded data removed]",
      "text/plain": [
       "<Figure size 432x288 with 1 Axes>"
      ]
     },
     "metadata": {
      "needs_background": "light"
     },
     "output_type": "display_data"
    }
   ],
   "source": [
    "loss = result['dump']['best']['loss']\n",
    "plt.plot(loss, '.-')"
   ]
  },
  {
   "cell_type": "code",
   "execution_count": 16,
   "id": "e0460871",
   "metadata": {},
   "outputs": [
    {
     "data": {
      "text/plain": [
       "[<matplotlib.lines.Line2D at 0x7f57be9b8220>]"
      ]
     },
     "execution_count": 16,
     "metadata": {},
     "output_type": "execute_result"
    },
    {
     "data": {
      "image/png": "[encoded data removed]",
      "text/plain": [
       "<Figure size 432x288 with 1 Axes>"
      ]
     },
     "metadata": {
      "needs_background": "light"
     },
     "output_type": "display_data"
    }
   ],
   "source": [
    "df = result['phenotype_best']['1032']\n",
    "plt.plot(df.V)"
   ]
  },
  {
   "cell_type": "code",
   "execution_count": null,
   "id": "76689699",
   "metadata": {},
   "outputs": [],
   "source": []
  }
 ],
 "metadata": {
  "kernelspec": {
   "display_name": "pypoptim",
   "language": "python",
   "name": "pypoptim"
  },
  "language_info": {
   "codemirror_mode": {
    "name": "ipython",
    "version": 3
   },
   "file_extension": ".py",
   "mimetype": "text/x-python",
   "name": "python",
   "nbconvert_exporter": "python",
   "pygments_lexer": "ipython3",
   "version": "3.8.10"
  }
 },
 "nbformat": 4,
 "nbformat_minor": 5
}
