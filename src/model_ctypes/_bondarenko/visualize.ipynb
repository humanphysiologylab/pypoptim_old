{
 "cells": [
  {
   "cell_type": "code",
   "execution_count": 15,
   "metadata": {},
   "outputs": [],
   "source": [
    "import numpy as np\n",
    "import pandas as pd\n",
    "import ctypes\n",
    "import matplotlib.pyplot as plt\n",
    "\n",
    "import time\n",
    "import os\n",
    "import scipy.integrate"
   ]
  },
  {
   "cell_type": "code",
   "execution_count": 16,
   "metadata": {},
   "outputs": [],
   "source": [
    "filename_so_abs = \"./model.so\"\n",
    "model = ctypes.CDLL(filename_so_abs)\n",
    "\n",
    "model.compute_rates_algebraic.argtypes = [\n",
    "    ctypes.c_double,\n",
    "    np.ctypeslib.ndpointer(dtype=np.float64, ndim=1, flags='C_CONTIGUOUS'),\n",
    "    np.ctypeslib.ndpointer(dtype=np.float64, ndim=1, flags='C_CONTIGUOUS'),\n",
    "    np.ctypeslib.ndpointer(dtype=np.float64, ndim=1, flags='C_CONTIGUOUS'),\n",
    "    np.ctypeslib.ndpointer(dtype=np.float64, ndim=1, flags='C_CONTIGUOUS')\n",
    "]\n",
    "model.initialize_states_default.argtypes = [\n",
    "    np.ctypeslib.ndpointer(dtype=np.float64, ndim=1, flags='C_CONTIGUOUS')\n",
    "]"
   ]
  },
  {
   "cell_type": "code",
   "execution_count": 18,
   "metadata": {},
   "outputs": [],
   "source": [
    "def fun(t,y):\n",
    "    algebraic = np.zeros(115)\n",
    "    constants = np.zeros(1)\n",
    "    rates = np.zeros(186)\n",
    "    model.compute_rates_algebraic(t, y, constants, algebraic, rates)\n",
    "    return rates"
   ]
  },
  {
   "cell_type": "code",
   "execution_count": 19,
   "metadata": {},
   "outputs": [],
   "source": [
    "y0 = np.zeros(186)\n",
    "t_bound = 1000\n",
    "#first_step = 1.0\n",
    "#min_step = 1.0\n",
    "model.initialize_states_default(y0)\n",
    "solver = scipy.integrate.LSODA(fun, 0.0, y0, t_bound, first_step = 1.0, min_step = 1.0)"
   ]
  },
  {
   "cell_type": "code",
   "execution_count": 20,
   "metadata": {},
   "outputs": [
    {
     "data": {
      "text/plain": [
       "-145247544"
      ]
     },
     "execution_count": 20,
     "metadata": {},
     "output_type": "execute_result"
    }
   ],
   "source": [
    "algebraic = np.zeros(115)\n",
    "constants = np.zeros(1)\n",
    "rates = np.zeros(186)\n",
    "model.compute_rates_algebraic(0, y0, constants, algebraic, rates)"
   ]
  },
  {
   "cell_type": "code",
   "execution_count": 21,
   "metadata": {
    "scrolled": true
   },
   "outputs": [
    {
     "data": {
      "text/plain": [
       "array([ 0.00000000e+00,  7.99999998e+01,  4.02694299e-11,  3.77142158e-08,\n",
       "       -1.10452248e-08, -1.72340323e-10, -7.04764177e-16,  1.08933722e-11,\n",
       "        6.14685775e-22,  0.00000000e+00,  9.85652542e-10,  2.90350007e-12,\n",
       "        2.85079450e-15,  3.27663526e-22,  1.18281196e-17, -1.31618461e-17,\n",
       "        8.85471910e-14, -1.00439257e-15,  9.85186090e-16,  1.08523118e-18,\n",
       "        0.00000000e+00, -1.81089805e-08, -2.82804830e-10, -1.17775933e-09,\n",
       "        3.52212850e+00,  4.00083999e-09, -1.63066509e-12, -5.96817324e-14,\n",
       "       -3.78132665e-11,  8.44584874e-14,  1.87249248e-09, -1.87356061e-09,\n",
       "        1.10086193e-12,  5.08552387e-13, -5.41283667e-13, -3.78132665e-11,\n",
       "        1.41797706e-13, -6.08309834e-13, -1.91492134e-10, -3.60130844e-15,\n",
       "       -8.60954922e-20, -1.21878845e-08,  1.15391377e-08, -1.92388405e-12,\n",
       "        6.10050203e-22,  6.85882394e-18, -7.35173989e-69,  6.08734450e-14,\n",
       "       -3.00737484e-13, -1.81747996e-13,  5.42152293e-16, -7.35173989e-69,\n",
       "        1.78825254e-12,  5.46576812e-13, -1.23999745e-12,  3.17008652e-17,\n",
       "       -7.35173989e-69,  3.22910851e-14,  1.27420228e-14, -1.95490623e-14,\n",
       "        2.80156025e-04,  1.22479576e-04,  5.78502157e-05,  5.39466506e-06,\n",
       "       -7.33689852e-15,  2.45278084e-15,  2.32036076e-05,  2.09981094e-04,\n",
       "        6.11040756e-05,  0.00000000e+00,  4.74951305e-15,  3.22805858e-05,\n",
       "        1.75350665e-93,  8.88323642e-05,  7.71372490e-16,  8.95745181e-16,\n",
       "        1.08606345e-05,  1.71655919e-05,  3.48574011e-05,  1.79629488e-12,\n",
       "       -2.05085601e-12,  5.04970756e-12, -4.92242707e-12, -5.08434382e-11,\n",
       "        4.59210111e-11, -5.08067633e-10,  5.08035184e-10,  1.13067406e-11,\n",
       "       -1.12905159e-11, -3.68655104e-10,  3.57364588e-10, -7.59557022e-11,\n",
       "        9.25404425e-11, -6.81644848e-12, -1.47592169e-12, -5.57218715e-11,\n",
       "        5.42459498e-11, -7.51036352e-12, -5.09277676e-10, -7.87248813e-11,\n",
       "        3.52585669e-10,  0.00000000e+00,  0.00000000e+00,  0.00000000e+00,\n",
       "       -3.48424729e-13,  1.25093830e-14,  9.30742026e-19,  1.90234494e-20,\n",
       "       -1.32966676e-10,  1.31528106e-10,  1.48574682e-12,  5.51508347e-15,\n",
       "        9.81993401e-21,  9.17548126e-17, -1.02207447e-16,  6.84261044e-18,\n",
       "       -8.85279502e-14, -2.64143059e-16,  2.62995113e-16,  2.87567651e-20,\n",
       "        5.02562750e-09, -4.73078166e-09, -7.42810868e-11, -1.59611912e-13,\n",
       "       -5.00884653e-11, -1.02992445e-15, -1.96656067e-19, -3.19778525e-09,\n",
       "        3.02750327e-09, -4.56025238e-15, -3.78132665e-11,  1.41797706e-13,\n",
       "        5.54782577e-14, -1.73688337e-14,  2.15027547e-14,  2.97656744e-09,\n",
       "        1.09301638e-12,  6.80125902e-22,  0.00000000e+00,  9.11491182e-10,\n",
       "        2.69151642e-12,  2.62738385e-15,  8.61029515e-19,  3.04345200e-22,\n",
       "        1.09497520e-17, -1.21773038e-17,  5.37441834e-20, -4.13088001e-10,\n",
       "        4.08559809e-10,  4.58526187e-12,  1.70517815e-14,  2.11798316e-17,\n",
       "        3.02309315e-20,  2.81936994e-16, -3.17023938e-16,  6.27667797e-17,\n",
       "       -1.17375917e-45,  6.66573599e-15, -1.86528669e-13, -1.36442399e-16,\n",
       "       -1.17375917e-46, -1.55860348e-15, -1.19680761e-16,  6.77852401e-09,\n",
       "       -6.56208737e-09, -3.07370278e-10, -4.78194341e-12, -2.14561751e-14,\n",
       "       -7.66103229e-15,  3.29479002e-09, -1.73624499e-09, -1.24206959e-09,\n",
       "       -2.19043190e-10, -1.50680879e-12, -1.80719175e-13,  7.82348671e-14,\n",
       "        8.71395673e-14, -7.37842222e-10,  6.95486217e-10,  8.93059433e-11,\n",
       "       -8.59183203e-12, -4.71126426e-11,  8.75453787e-12, -1.06819479e-15,\n",
       "       -3.78132665e-11,  2.58053414e-13])"
      ]
     },
     "execution_count": 21,
     "metadata": {},
     "output_type": "execute_result"
    }
   ],
   "source": [
    "rates"
   ]
  },
  {
   "cell_type": "code",
   "execution_count": 22,
   "metadata": {
    "scrolled": false
   },
   "outputs": [
    {
     "name": "stderr",
     "output_type": "stream",
     "text": [
      "/home/dmitry/.local/lib/python3.6/site-packages/scipy/integrate/_ode.py:1351: UserWarning: lsoda: Repeated convergence failures (perhaps bad Jacobian or tolerances).\n",
      "  self.messages.get(istate, unexpected_istate_msg)))\n"
     ]
    },
    {
     "data": {
      "text/plain": [
       "'Unexpected istate in LSODA.'"
      ]
     },
     "execution_count": 22,
     "metadata": {},
     "output_type": "execute_result"
    }
   ],
   "source": [
    "solver.step()"
   ]
  },
  {
   "cell_type": "code",
   "execution_count": 27,
   "metadata": {
    "scrolled": true
   },
   "outputs": [
    {
     "ename": "AttributeError",
     "evalue": "'LSODA' object has no attribute 'messages'",
     "output_type": "error",
     "traceback": [
      "\u001b[0;31m---------------------------------------------------------------------------\u001b[0m",
      "\u001b[0;31mAttributeError\u001b[0m                            Traceback (most recent call last)",
      "\u001b[0;32m<ipython-input-27-9eb0e25598d7>\u001b[0m in \u001b[0;36m<module>\u001b[0;34m()\u001b[0m\n\u001b[0;32m----> 1\u001b[0;31m \u001b[0msolver\u001b[0m\u001b[0;34m.\u001b[0m\u001b[0mmessages\u001b[0m\u001b[0;34m.\u001b[0m\u001b[0mget\u001b[0m\u001b[0;34m(\u001b[0m\u001b[0mistate\u001b[0m\u001b[0;34m,\u001b[0m \u001b[0munexpected_istate_msg\u001b[0m\u001b[0;34m)\u001b[0m\u001b[0;34m\u001b[0m\u001b[0;34m\u001b[0m\u001b[0m\n\u001b[0m",
      "\u001b[0;31mAttributeError\u001b[0m: 'LSODA' object has no attribute 'messages'"
     ]
    }
   ],
   "source": []
  },
  {
   "cell_type": "code",
   "execution_count": 23,
   "metadata": {},
   "outputs": [
    {
     "ename": "RuntimeError",
     "evalue": "Dense output is available after a successful step was made.",
     "output_type": "error",
     "traceback": [
      "\u001b[0;31m---------------------------------------------------------------------------\u001b[0m",
      "\u001b[0;31mRuntimeError\u001b[0m                              Traceback (most recent call last)",
      "\u001b[0;32m<ipython-input-23-6a33ce015635>\u001b[0m in \u001b[0;36m<module>\u001b[0;34m()\u001b[0m\n\u001b[0;32m----> 1\u001b[0;31m \u001b[0msolver\u001b[0m\u001b[0;34m.\u001b[0m\u001b[0mdense_output\u001b[0m\u001b[0;34m(\u001b[0m\u001b[0;34m)\u001b[0m\u001b[0;34m\u001b[0m\u001b[0;34m\u001b[0m\u001b[0m\n\u001b[0m",
      "\u001b[0;32m/home/dmitry/.local/lib/python3.6/site-packages/scipy/integrate/_ivp/base.py\u001b[0m in \u001b[0;36mdense_output\u001b[0;34m(self)\u001b[0m\n\u001b[1;32m    199\u001b[0m         \"\"\"\n\u001b[1;32m    200\u001b[0m         \u001b[0;32mif\u001b[0m \u001b[0mself\u001b[0m\u001b[0;34m.\u001b[0m\u001b[0mt_old\u001b[0m \u001b[0;32mis\u001b[0m \u001b[0;32mNone\u001b[0m\u001b[0;34m:\u001b[0m\u001b[0;34m\u001b[0m\u001b[0;34m\u001b[0m\u001b[0m\n\u001b[0;32m--> 201\u001b[0;31m             raise RuntimeError(\"Dense output is available after a successful \"\n\u001b[0m\u001b[1;32m    202\u001b[0m                                \"step was made.\")\n\u001b[1;32m    203\u001b[0m \u001b[0;34m\u001b[0m\u001b[0m\n",
      "\u001b[0;31mRuntimeError\u001b[0m: Dense output is available after a successful step was made."
     ]
    }
   ],
   "source": [
    "solver.dense_output()"
   ]
  }
 ],
 "metadata": {
  "kernelspec": {
   "display_name": "Python 3",
   "language": "python",
   "name": "python3"
  },
  "language_info": {
   "codemirror_mode": {
    "name": "ipython",
    "version": 3
   },
   "file_extension": ".py",
   "mimetype": "text/x-python",
   "name": "python",
   "nbconvert_exporter": "python",
   "pygments_lexer": "ipython3",
   "version": "3.6.9"
  }
 },
 "nbformat": 4,
 "nbformat_minor": 2
}
